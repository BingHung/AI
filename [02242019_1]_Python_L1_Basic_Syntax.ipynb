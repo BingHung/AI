{
  "nbformat": 4,
  "nbformat_minor": 0,
  "metadata": {
    "colab": {
      "name": "[02242019-1] Python-L1 Basic Syntax.ipynb",
      "version": "0.3.2",
      "provenance": [],
      "include_colab_link": true
    },
    "kernelspec": {
      "name": "python3",
      "display_name": "Python 3"
    },
    "accelerator": "GPU"
  },
  "cells": [
    {
      "cell_type": "markdown",
      "metadata": {
        "id": "view-in-github",
        "colab_type": "text"
      },
      "source": [
        "<a href=\"https://colab.research.google.com/github/BingHung/AI/blob/master/%5B02242019_1%5D_Python_L1_Basic_Syntax.ipynb\" target=\"_parent\"><img src=\"https://colab.research.google.com/assets/colab-badge.svg\" alt=\"Open In Colab\"/></a>"
      ]
    },
    {
      "metadata": {
        "id": "AqnTWloGE-Iy",
        "colab_type": "code",
        "colab": {
          "base_uri": "https://localhost:8080/",
          "height": 54
        },
        "outputId": "83b6312a-2c05-4031-c457-0f7ebf90aa69"
      },
      "cell_type": "code",
      "source": [
        "# first program\n",
        "print('Hello, World!')\n",
        "print(\"Hello, BingHung\")"
      ],
      "execution_count": 1,
      "outputs": [
        {
          "output_type": "stream",
          "text": [
            "Hello, World!\n",
            "Hello, BingHung\n"
          ],
          "name": "stdout"
        }
      ]
    },
    {
      "metadata": {
        "id": "74C2wXTJFQNi",
        "colab_type": "text"
      },
      "cell_type": "markdown",
      "source": [
        "## Variables\n",
        "\n",
        "Variables are reserved memory locations to store values.  <br /> \n",
        "This means that when you create a variable you reserve some space in memory. <br /> \n",
        "The equal sign (=) is used to assign values to variables. <br /> \n",
        "\n"
      ]
    },
    {
      "metadata": {
        "id": "Y4EsmHVSFMdX",
        "colab_type": "code",
        "colab": {
          "base_uri": "https://localhost:8080/",
          "height": 72
        },
        "outputId": "06cd30e3-e178-4f6e-a1f9-427727d8aa6b"
      },
      "cell_type": "code",
      "source": [
        "# assignment\n",
        "a = 1\n",
        "b = c = 5\n",
        "\n",
        "print(a)  # 1\n",
        "print(b)  # 5\n",
        "print(c)  # 5"
      ],
      "execution_count": 2,
      "outputs": [
        {
          "output_type": "stream",
          "text": [
            "1\n",
            "5\n",
            "5\n"
          ],
          "name": "stdout"
        }
      ]
    },
    {
      "metadata": {
        "id": "ZfLU4VhcFgl9",
        "colab_type": "code",
        "colab": {
          "base_uri": "https://localhost:8080/",
          "height": 72
        },
        "outputId": "b1a6b490-42ae-43e1-e7e4-970e6d1d5648"
      },
      "cell_type": "code",
      "source": [
        "# assign multiple objects to multiple variables.\n",
        "a, b, c = 1, 2, \"John\"\n",
        "\n",
        "print(a)  # 1\n",
        "print(b)  # 2\n",
        "print(c)  # John"
      ],
      "execution_count": 3,
      "outputs": [
        {
          "output_type": "stream",
          "text": [
            "1\n",
            "2\n",
            "John\n"
          ],
          "name": "stdout"
        }
      ]
    },
    {
      "metadata": {
        "id": "qggehbVDFkir",
        "colab_type": "text"
      },
      "cell_type": "markdown",
      "source": [
        "## Data Type\n",
        "\n",
        "The data stored in memory can be of many types.<br />\n",
        "Python has various standard data types that are used to define the operations possible on them and the storage method for each of them."
      ]
    },
    {
      "metadata": {
        "id": "u84CtVCbFh08",
        "colab_type": "code",
        "colab": {
          "base_uri": "https://localhost:8080/",
          "height": 72
        },
        "outputId": "c4c92e73-0b31-4173-b381-fee1e5ad0a43"
      },
      "cell_type": "code",
      "source": [
        "counter = 100          # An integer assignment\n",
        "miles   = 1000.0       # A floating point\n",
        "name    = \"John\"       # A string\n",
        "\n",
        "print(counter)  # 100\n",
        "print(miles)    # 1000.0\n",
        "print(name)     # John"
      ],
      "execution_count": 4,
      "outputs": [
        {
          "output_type": "stream",
          "text": [
            "100\n",
            "1000.0\n",
            "John\n"
          ],
          "name": "stdout"
        }
      ]
    },
    {
      "metadata": {
        "id": "u3679pvTFsJb",
        "colab_type": "code",
        "colab": {
          "base_uri": "https://localhost:8080/",
          "height": 126
        },
        "outputId": "f6983436-5aff-4a31-c06b-7675f84dc167"
      },
      "cell_type": "code",
      "source": [
        "# Type\n",
        "print(type(100))\n",
        "print(type(counter))\n",
        "      \n",
        "print(type(1000.0))\n",
        "print(type(miles))\n",
        "\n",
        "print(type(\"John\"))\n",
        "print(type(name))"
      ],
      "execution_count": 5,
      "outputs": [
        {
          "output_type": "stream",
          "text": [
            "<class 'int'>\n",
            "<class 'int'>\n",
            "<class 'float'>\n",
            "<class 'float'>\n",
            "<class 'str'>\n",
            "<class 'str'>\n"
          ],
          "name": "stdout"
        }
      ]
    },
    {
      "metadata": {
        "id": "rXDjug89Fw0f",
        "colab_type": "text"
      },
      "cell_type": "markdown",
      "source": [
        "## Keywords\n",
        "\n",
        "Keywords are the reserved words in Python.<br />\n",
        "We cannot use a keyword as variable name, function name or any other identifier.<br />\n",
        "They are used to define the syntax and structure of the Python language.\n",
        "\n",
        "| Keywords |\n",
        "|----|---|---|---|---|\n",
        "|False\t|class\t|finally\t|is\t|return\n",
        "|None\t|continue\t|for\t|lambda\t|try\n",
        "|True\t|def\t|from\t|nonlocal\t|while\n",
        "|and\t|del\t|global\t|not\t|with\n",
        "|as\t|elif\t|if\t|or\t|yield\n",
        "|assert\t|else\t|import\t|pass\t| \n",
        "|break\t|except\t|in\t|raise|"
      ]
    },
    {
      "metadata": {
        "id": "zF7hDN2YGB8x",
        "colab_type": "text"
      },
      "cell_type": "markdown",
      "source": [
        "## Operators\n",
        "\n",
        "###  Arithmetic Operators\n",
        "\n",
        "| Symbol | Task Performed |\n",
        "|----|---|\n",
        "| +  | Addition |\n",
        "| -  | Subtraction |\n",
        "| /  | division |\n",
        "| %  | mod |\n",
        "| *  | multiplication |\n",
        "| //  | floor division |\n",
        "| **  | to the power of |\n",
        "\n",
        "### Comparison Operators\n",
        "\n",
        "| Symbol | Task Performed |\n",
        "|----|---|\n",
        "| == | True, if it is equal |\n",
        "| !=  | True, if not equal to |\n",
        "| < | less than |\n",
        "| > | greater than |\n",
        "| <=  | less than or equal to |\n",
        "| >=  | greater than or equal to |"
      ]
    },
    {
      "metadata": {
        "id": "F2Xvd7xGFtu7",
        "colab_type": "code",
        "colab": {}
      },
      "cell_type": "code",
      "source": [
        "add = 1 + 1    # 2\n",
        "sub = 1 - 1    # 0\n",
        "div = 4 / 2    # 2\n",
        "mod = 4 % 3    # 1\n",
        "mul = 2 * 3    # 6\n",
        "f_div = 5 // 2 # 2\n",
        "power = 2 ** 3 # 8"
      ],
      "execution_count": 0,
      "outputs": []
    },
    {
      "metadata": {
        "id": "uK_zCtf_GP58",
        "colab_type": "code",
        "colab": {
          "base_uri": "https://localhost:8080/",
          "height": 54
        },
        "outputId": "68305aa5-2498-437a-ec5b-e58aad86edf6"
      },
      "cell_type": "code",
      "source": [
        "a, b = 10, 20\n",
        "\n",
        "a == b    # False\n",
        "a != b    # True\n",
        "a < b     # True\n",
        "a > b     # False\n",
        "a <= b    # True\n",
        "a >= b    # False\n",
        "\n",
        "# Output: False\n",
        "print(a == b)\n",
        "\n",
        "# Output: True\n",
        "print(a != b)"
      ],
      "execution_count": 7,
      "outputs": [
        {
          "output_type": "stream",
          "text": [
            "False\n",
            "True\n"
          ],
          "name": "stdout"
        }
      ]
    },
    {
      "metadata": {
        "id": "GuUUskV9GVZx",
        "colab_type": "text"
      },
      "cell_type": "markdown",
      "source": [
        "##   Built-in Functions\n",
        "\n",
        "e.g. print( ), type( ), int( ) and str( ) </br>\n",
        "\n",
        "更多的 Built-in function 請參考 https://docs.python.org/3/library/functions.html"
      ]
    },
    {
      "metadata": {
        "id": "rCbWlHNZGRTM",
        "colab_type": "code",
        "colab": {
          "base_uri": "https://localhost:8080/",
          "height": 54
        },
        "outputId": "11c2da24-37be-435c-ddfd-5c31723d1834"
      },
      "cell_type": "code",
      "source": [
        "integer = 123\n",
        "string = \"456\"\n",
        "\n",
        "s_to_i = int(string)    # int now\n",
        "i_to_s = str(integer)   # str now\n",
        "\n",
        "print(type(s_to_i))\n",
        "print(type(i_to_s))"
      ],
      "execution_count": 8,
      "outputs": [
        {
          "output_type": "stream",
          "text": [
            "<class 'int'>\n",
            "<class 'str'>\n"
          ],
          "name": "stdout"
        }
      ]
    },
    {
      "metadata": {
        "id": "vCVg8ejbGrAc",
        "colab_type": "code",
        "colab": {}
      },
      "cell_type": "code",
      "source": [
        ""
      ],
      "execution_count": 0,
      "outputs": []
    },
    {
      "metadata": {
        "id": "1Ez-2_THGeGn",
        "colab_type": "text"
      },
      "cell_type": "markdown",
      "source": [
        "## Practice"
      ]
    },
    {
      "metadata": {
        "id": "sjkCOfBzGcUb",
        "colab_type": "code",
        "colab": {
          "base_uri": "https://localhost:8080/",
          "height": 126
        },
        "outputId": "a4f028f7-9633-4ac3-9ce8-c53cbcb11b5e"
      },
      "cell_type": "code",
      "source": [
        "n1 = int(input(\"第一個數字? \"))\n",
        "n2 = int(input(\"第二個數字? \"))\n",
        "print(n1, \"+\", n2, \"=\", n1 + n2)\n",
        "print(n1, \"-\", n2, \"=\", n1 - n2)\n",
        "print(n1, \"*\", n2, \"=\", n1 * n2)\n",
        "print(n1, \"/\", n2, \"=\", n1 / n2)"
      ],
      "execution_count": 9,
      "outputs": [
        {
          "output_type": "stream",
          "text": [
            "第一個數字? 5\n",
            "第二個數字? 10\n",
            "5 + 10 = 15\n",
            "5 - 10 = -5\n",
            "5 * 10 = 50\n",
            "5 / 10 = 0.5\n"
          ],
          "name": "stdout"
        }
      ]
    },
    {
      "metadata": {
        "id": "yyYO8Jj6Gj9r",
        "colab_type": "code",
        "colab": {}
      },
      "cell_type": "code",
      "source": [
        ""
      ],
      "execution_count": 0,
      "outputs": []
    }
  ]
}