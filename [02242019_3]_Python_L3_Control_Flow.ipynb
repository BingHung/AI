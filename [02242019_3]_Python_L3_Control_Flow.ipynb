{
  "nbformat": 4,
  "nbformat_minor": 0,
  "metadata": {
    "colab": {
      "name": "[02242019-3] Python-L3 Control Flow.ipynb",
      "version": "0.3.2",
      "provenance": [],
      "collapsed_sections": [],
      "include_colab_link": true
    },
    "kernelspec": {
      "name": "python3",
      "display_name": "Python 3"
    }
  },
  "cells": [
    {
      "cell_type": "markdown",
      "metadata": {
        "id": "view-in-github",
        "colab_type": "text"
      },
      "source": [
        "<a href=\"https://colab.research.google.com/github/BingHung/AI/blob/master/%5B02242019_3%5D_Python_L3_Control_Flow.ipynb\" target=\"_parent\"><img src=\"https://colab.research.google.com/assets/colab-badge.svg\" alt=\"Open In Colab\"/></a>"
      ]
    },
    {
      "metadata": {
        "id": "949abiYKOQYP",
        "colab_type": "text"
      },
      "cell_type": "markdown",
      "source": [
        "## Decision Making\n",
        "Decision making is required when we want to execute a code only if a certain condition is satisfied."
      ]
    },
    {
      "metadata": {
        "id": "FEliUgjLOFNw",
        "colab_type": "code",
        "colab": {
          "base_uri": "https://localhost:8080/",
          "height": 35
        },
        "outputId": "d66f2bf8-8c24-4472-88bd-ac94820c2e80"
      },
      "cell_type": "code",
      "source": [
        "# if\n",
        "\n",
        "num = 3\n",
        "if num > 0:\n",
        "    print(num, \"is a positive number.\")\n",
        "\n",
        "num = -1\n",
        "if num > 0:\n",
        "    print(num, \"is a positive number.\")"
      ],
      "execution_count": 1,
      "outputs": [
        {
          "output_type": "stream",
          "text": [
            "3 is a positive number.\n"
          ],
          "name": "stdout"
        }
      ]
    },
    {
      "metadata": {
        "id": "hWM9LzHhObr_",
        "colab_type": "code",
        "colab": {
          "base_uri": "https://localhost:8080/",
          "height": 35
        },
        "outputId": "64d98a51-a230-4959-da19-3b6726490373"
      },
      "cell_type": "code",
      "source": [
        "# if...else\n",
        "\n",
        "num = -1\n",
        "if num >= 0:\n",
        "    print(num, \"Positive or Zero\")\n",
        "else:\n",
        "    print(num, \"is a Negative number\")"
      ],
      "execution_count": 3,
      "outputs": [
        {
          "output_type": "stream",
          "text": [
            "-1 is a Negative number\n"
          ],
          "name": "stdout"
        }
      ]
    },
    {
      "metadata": {
        "id": "pKBjQkmVOV01",
        "colab_type": "code",
        "colab": {
          "base_uri": "https://localhost:8080/",
          "height": 35
        },
        "outputId": "06ce093d-27d7-4e2a-e8a8-dd96e29c0150"
      },
      "cell_type": "code",
      "source": [
        " # if...elif...else\n",
        "\n",
        "num = 0\n",
        "if num > 0:\n",
        "    print(\"Positive number\")\n",
        "elif num == 0:\n",
        "    print(\"Zero\")\n",
        "else:\n",
        "    print(\"Negative number\")    "
      ],
      "execution_count": 2,
      "outputs": [
        {
          "output_type": "stream",
          "text": [
            "Zero\n"
          ],
          "name": "stdout"
        }
      ]
    },
    {
      "metadata": {
        "id": "N1bKT2OJOaGr",
        "colab_type": "code",
        "colab": {
          "base_uri": "https://localhost:8080/",
          "height": 35
        },
        "outputId": "b2703a2b-3cfa-426c-b984-196d1cdd8b81"
      },
      "cell_type": "code",
      "source": [
        "# logical - or, and\n",
        "\n",
        "num = 5\n",
        "\n",
        "if num == 0 or num == 1:\n",
        "    print(\"Zero or One\")\n",
        "elif num >= 2 and num <= 10:\n",
        "    print(\"From 2 to 10\")   \n",
        "else:\n",
        "    print('More')"
      ],
      "execution_count": 4,
      "outputs": [
        {
          "output_type": "stream",
          "text": [
            "From 2 to 10\n"
          ],
          "name": "stdout"
        }
      ]
    },
    {
      "metadata": {
        "id": "2tJO3qWxOeZD",
        "colab_type": "code",
        "colab": {
          "base_uri": "https://localhost:8080/",
          "height": 90
        },
        "outputId": "f066afee-dcba-46b3-9bef-79e47ad82b5c"
      },
      "cell_type": "code",
      "source": [
        "# is, not\n",
        "\n",
        "num = 4\n",
        "\n",
        "# num == 4\n",
        "if num is 4:\n",
        "    print(\"num is 4\")\n",
        "    \n",
        "# !(num == 5)\n",
        "if not num == 5:\n",
        "    print(\"num is not 5\")\n",
        "\n",
        "# num != 6\n",
        "if num is not 6:\n",
        "    print(\"num is not 6\")\n",
        "\n",
        "# !(num == 7)\n",
        "if not num is 7:\n",
        "    print(\"num is not 7\")"
      ],
      "execution_count": 5,
      "outputs": [
        {
          "output_type": "stream",
          "text": [
            "num is 4\n",
            "num is not 5\n",
            "num is not 6\n",
            "num is not 7\n"
          ],
          "name": "stdout"
        }
      ]
    },
    {
      "metadata": {
        "id": "-3KSPD06OhZ5",
        "colab_type": "text"
      },
      "cell_type": "markdown",
      "source": [
        "## Loop\n",
        "In general, statements are executed sequentially: The first statement in a function is executed first, followed by the second, and so on.\n",
        "A loop statement allows us to execute a statement or group of statements multiple times."
      ]
    },
    {
      "metadata": {
        "id": "38ds0mO0OmGv",
        "colab_type": "text"
      },
      "cell_type": "markdown",
      "source": [
        "## For Loop\n",
        "The for loop in Python is used to iterate over a sequence (list, tuple, string) or other iterable objects."
      ]
    },
    {
      "metadata": {
        "id": "RvC4ythOOgA7",
        "colab_type": "code",
        "colab": {
          "base_uri": "https://localhost:8080/",
          "height": 35
        },
        "outputId": "172ff3fd-9448-403a-c23b-69630735c454"
      },
      "cell_type": "code",
      "source": [
        "# for\n",
        "# Program to find the sum of all numbers stored in a list\n",
        "\n",
        "numbers = [1, 2, 3, 4, 5, 6, 7, 8, 9, 10]\n",
        "\n",
        "# iterate over the list\n",
        "# Here, val is the variable that takes the value of the item inside the sequence on each iteration.\n",
        "\n",
        "sum = 0\n",
        "for val in numbers:\n",
        "    sum = sum + val\n",
        "\n",
        "print(\"The sum is\", sum)"
      ],
      "execution_count": 6,
      "outputs": [
        {
          "output_type": "stream",
          "text": [
            "The sum is 55\n"
          ],
          "name": "stdout"
        }
      ]
    },
    {
      "metadata": {
        "id": "wAV_-PHrOuwg",
        "colab_type": "text"
      },
      "cell_type": "markdown",
      "source": [
        "### For loop with range( ) function"
      ]
    },
    {
      "metadata": {
        "id": "RZ34d5JvOqkr",
        "colab_type": "code",
        "colab": {
          "base_uri": "https://localhost:8080/",
          "height": 35
        },
        "outputId": "1d53c0c2-0b41-42bb-ffa9-693e62b2d1fc"
      },
      "cell_type": "code",
      "source": [
        "# range(stop)\n",
        "# range(start, stop[, step])\n",
        "\n",
        "# range() returns an immutable sequence object of integers between the given start integer to the stop integer.\n",
        "print(range(6))"
      ],
      "execution_count": 7,
      "outputs": [
        {
          "output_type": "stream",
          "text": [
            "range(0, 6)\n"
          ],
          "name": "stdout"
        }
      ]
    },
    {
      "metadata": {
        "id": "uOdv9eBvOwnr",
        "colab_type": "code",
        "colab": {
          "base_uri": "https://localhost:8080/",
          "height": 181
        },
        "outputId": "3e455ae0-a68c-4188-f4f6-b79931213db7"
      },
      "cell_type": "code",
      "source": [
        "# We can generate a sequence of numbers using range()  \n",
        "# We can also define the start, stop and step size as range(start,stop,step size).   \n",
        "# step size defaults to 1 if not provided.\n",
        "\n",
        "numbers = [1, 2, 3, 4, 5, 6]\n",
        "\n",
        "# iterate over the list using index\n",
        "for i in range(len(numbers)):\n",
        "    print(\"number\", numbers[i])\n",
        "    \n",
        "# iterate over the list using 2 steps\n",
        "for i in range(0, len(numbers), 2):\n",
        "    print(\"2 steps\", numbers[i])"
      ],
      "execution_count": 8,
      "outputs": [
        {
          "output_type": "stream",
          "text": [
            "number 1\n",
            "number 2\n",
            "number 3\n",
            "number 4\n",
            "number 5\n",
            "number 6\n",
            "2 steps 1\n",
            "2 steps 3\n",
            "2 steps 5\n"
          ],
          "name": "stdout"
        }
      ]
    },
    {
      "metadata": {
        "id": "1U-gm1bJO4j6",
        "colab_type": "text"
      },
      "cell_type": "markdown",
      "source": [
        "### For loop with enumerate( ) function "
      ]
    },
    {
      "metadata": {
        "id": "Ggr4zdEHOyJT",
        "colab_type": "code",
        "colab": {
          "base_uri": "https://localhost:8080/",
          "height": 90
        },
        "outputId": "dc702dfc-a371-452e-9e24-7c503edffbb6"
      },
      "cell_type": "code",
      "source": [
        "# the enumerate() function is used to iterate through a list while keeping track of the list items' indices.\n",
        "\n",
        "pets = ('Dogs', 'Cats', 'Turtles', 'Rabbits')\n",
        "\n",
        "for index, pet in enumerate(pets):\n",
        "    print(index, pet)"
      ],
      "execution_count": 9,
      "outputs": [
        {
          "output_type": "stream",
          "text": [
            "0 Dogs\n",
            "1 Cats\n",
            "2 Turtles\n",
            "3 Rabbits\n"
          ],
          "name": "stdout"
        }
      ]
    },
    {
      "metadata": {
        "id": "m70ocWNcO_Wf",
        "colab_type": "text"
      },
      "cell_type": "markdown",
      "source": [
        "## While Loop\n",
        "In while loop, test expression is checked first. The body of the loop is entered only if the test_expression evaluates to True.\n",
        "After one iteration, the test expression is checked again. This process continues until the test_expression evaluates to False."
      ]
    },
    {
      "metadata": {
        "id": "ghT3e-wgO9TC",
        "colab_type": "code",
        "colab": {
          "base_uri": "https://localhost:8080/",
          "height": 35
        },
        "outputId": "ad926325-5468-4c3d-de52-f9f3009dab83"
      },
      "cell_type": "code",
      "source": [
        "# while\n",
        "\n",
        "n = 10\n",
        "\n",
        "# initialize sum and counter\n",
        "sum = 0\n",
        "i = 1\n",
        "\n",
        "while i <= n:\n",
        "    sum = sum + i\n",
        "    i = i+1    # update counter\n",
        "\n",
        "# print the sum\n",
        "print(\"The sum is\", sum)"
      ],
      "execution_count": 10,
      "outputs": [
        {
          "output_type": "stream",
          "text": [
            "The sum is 55\n"
          ],
          "name": "stdout"
        }
      ]
    },
    {
      "metadata": {
        "id": "VPwQ1r4LPERl",
        "colab_type": "text"
      },
      "cell_type": "markdown",
      "source": [
        "## Nested Loop "
      ]
    },
    {
      "metadata": {
        "id": "7KVEQAiGPCob",
        "colab_type": "code",
        "colab": {
          "base_uri": "https://localhost:8080/",
          "height": 90
        },
        "outputId": "cc030355-cdbc-49e4-c04d-f9d17b760743"
      },
      "cell_type": "code",
      "source": [
        "for i in range(0, 2):\n",
        "    for j in range(0, 2):\n",
        "        print(\"i=\", i, \"j=\", j, \", i*j=\", i*j)"
      ],
      "execution_count": 11,
      "outputs": [
        {
          "output_type": "stream",
          "text": [
            "i= 0 j= 0 , i*j= 0\n",
            "i= 0 j= 1 , i*j= 0\n",
            "i= 1 j= 0 , i*j= 0\n",
            "i= 1 j= 1 , i*j= 1\n"
          ],
          "name": "stdout"
        }
      ]
    },
    {
      "metadata": {
        "id": "hgV54YOHPIzH",
        "colab_type": "text"
      },
      "cell_type": "markdown",
      "source": [
        "##  break and continue\n",
        "\n",
        "In Python, break and continue statements can alter the flow of a normal loop.\n",
        "\n",
        "Loops iterate over a block of code until test expression is false, but sometimes we wish to terminate the current iteration or even the whole loop without checking test expression."
      ]
    },
    {
      "metadata": {
        "id": "sUGHC3E7PGHS",
        "colab_type": "code",
        "colab": {
          "base_uri": "https://localhost:8080/",
          "height": 72
        },
        "outputId": "d4c51723-d1d4-41d6-db95-cd03737ddb27"
      },
      "cell_type": "code",
      "source": [
        "# break\n",
        "numbers = [1, 2, 3, 4, 5, 6, 7, 8, 9, 10]\n",
        "\n",
        "for val in numbers:\n",
        "    if val >= 4:\n",
        "        break\n",
        "    print(val)"
      ],
      "execution_count": 12,
      "outputs": [
        {
          "output_type": "stream",
          "text": [
            "1\n",
            "2\n",
            "3\n"
          ],
          "name": "stdout"
        }
      ]
    },
    {
      "metadata": {
        "id": "vJtCVvl-PLsK",
        "colab_type": "code",
        "colab": {
          "base_uri": "https://localhost:8080/",
          "height": 90
        },
        "outputId": "ad16891d-0b5e-4dc7-8a4a-c5024f592fcb"
      },
      "cell_type": "code",
      "source": [
        "# continue\n",
        "numbers = [1, 2, 3, 4, 5, 6, 7, 8, 9, 10]\n",
        "\n",
        "for val in numbers:\n",
        "    if val >= 3 and val <=8:\n",
        "        continue\n",
        "    print(val)"
      ],
      "execution_count": 13,
      "outputs": [
        {
          "output_type": "stream",
          "text": [
            "1\n",
            "2\n",
            "9\n",
            "10\n"
          ],
          "name": "stdout"
        }
      ]
    },
    {
      "metadata": {
        "id": "x4B-BLhSPMe6",
        "colab_type": "code",
        "colab": {}
      },
      "cell_type": "code",
      "source": [
        "# pass\n",
        "# pass is a null operation -- when it is executed, nothing happens. It is useful as a placeholder.\n",
        "numbers = [1, 2, 3, 4, 5, 6, 7, 8, 9, 10]\n",
        "\n",
        "for val in numbers:\n",
        "    pass"
      ],
      "execution_count": 0,
      "outputs": []
    },
    {
      "metadata": {
        "id": "8D0mlxrVPjcO",
        "colab_type": "text"
      },
      "cell_type": "markdown",
      "source": [
        "## List comprehension  \n",
        "List comprehensions provide a concise way to create lists.\n",
        "Common applications are to make new lists where each element is the result of some operations applied to each member of another sequence or iterable, or to create a subsequence of those elements that satisfy a certain condition."
      ]
    },
    {
      "metadata": {
        "id": "ghrrOhu8PRza",
        "colab_type": "code",
        "colab": {
          "base_uri": "https://localhost:8080/",
          "height": 35
        },
        "outputId": "2c73c938-0fbd-4092-c0f0-f71654ca8037"
      },
      "cell_type": "code",
      "source": [
        "# make new lists by using iterable\n",
        "squares = []\n",
        "for x in range(10):\n",
        "     squares.append(x**2)\n",
        "\n",
        "# Output: [0, 1, 4, 9, 16, 25, 36, 49, 64, 81]\n",
        "print(squares)"
      ],
      "execution_count": 15,
      "outputs": [
        {
          "output_type": "stream",
          "text": [
            "[0, 1, 4, 9, 16, 25, 36, 49, 64, 81]\n"
          ],
          "name": "stdout"
        }
      ]
    },
    {
      "metadata": {
        "id": "lM5d1Bg0Pp3J",
        "colab_type": "code",
        "colab": {
          "base_uri": "https://localhost:8080/",
          "height": 35
        },
        "outputId": "d9d9f7cd-d81a-4eb7-8b44-458a6ddd4266"
      },
      "cell_type": "code",
      "source": [
        "# equivalently\n",
        "squares = [x**2 for x in range(10)]\n",
        "print(squares)"
      ],
      "execution_count": 16,
      "outputs": [
        {
          "output_type": "stream",
          "text": [
            "[0, 1, 4, 9, 16, 25, 36, 49, 64, 81]\n"
          ],
          "name": "stdout"
        }
      ]
    },
    {
      "metadata": {
        "id": "DOIBlJ8TPsz9",
        "colab_type": "text"
      },
      "cell_type": "markdown",
      "source": [
        "A list comprehension consists of brackets containing an expression followed by a for clause, then zero or more for or if clauses.\n",
        "The result will be a new list resulting from evaluating the expression in the context of the for and if clauses which follow it."
      ]
    },
    {
      "metadata": {
        "id": "ctZmJqpzPrEJ",
        "colab_type": "code",
        "colab": {
          "base_uri": "https://localhost:8080/",
          "height": 54
        },
        "outputId": "9a316971-aa12-43c1-928d-021cb387a6d5"
      },
      "cell_type": "code",
      "source": [
        "# with if\n",
        "squares = [x**2 for x in range(10) if x % 2 == 0]\n",
        "print(squares)\n",
        "\n",
        "\n",
        "# equivalently\n",
        "squares = []\n",
        "for x in range(10):\n",
        "    if x % 2 == 0:\n",
        "        squares.append(x**2)\n",
        "\n",
        "print(squares)"
      ],
      "execution_count": 17,
      "outputs": [
        {
          "output_type": "stream",
          "text": [
            "[0, 4, 16, 36, 64]\n",
            "[0, 4, 16, 36, 64]\n"
          ],
          "name": "stdout"
        }
      ]
    },
    {
      "metadata": {
        "id": "vIZ4YcAVPzKH",
        "colab_type": "text"
      },
      "cell_type": "markdown",
      "source": [
        "## Practice\n",
        "\n",
        "Q1. 建立一個驗證密碼的小程式，程式內建一組字串密碼，請使用者輸入一組字串密碼，比對密碼是否輸入正確。\n",
        "\n",
        "Expected Result:\n",
        "\n",
        "請輸入密碼: Passw0rd 密碼正確\n",
        "\n",
        "或\n",
        "\n",
        "請輸入密碼: adfgg 密碼錯誤\n",
        "\n",
        "Q2. 給予一個列表，計算出列表中元素為2的倍數的和。\n",
        "\n",
        "Sample List : [1, 2, 3, 4, 5, 6, 7, 8, 9, 10] Expected Result : 30\n",
        "\n",
        "Q3. 輸入人物的身高、體重，計算出該人物的 BMI 公式：BMI = 體重(公斤) / 身高*身高 (公尺)\n",
        "\n",
        "P.S. 於2002年4月公布臺灣成人肥胖標準：BMI＜18.5 為過輕，18.5≦BMI＜24 為正常體重，24≦BMI＜27 為過重，BMI≧27 即為肥胖\n",
        "\n",
        "Q4. 印出 1 到 50，但如果是 3 的倍數就印 Fizz，如果是 5 的倍數就印 Buzz，如果同時是 3 和 5 的倍數就印 FizzBuzz。"
      ]
    },
    {
      "metadata": {
        "id": "Q2SZseNgPwbb",
        "colab_type": "code",
        "colab": {
          "base_uri": "https://localhost:8080/",
          "height": 54
        },
        "outputId": "77db7bd4-0605-4b90-8cca-7f7614d9ba48"
      },
      "cell_type": "code",
      "source": [
        "# Q1\n",
        "password = input(\"請輸入密碼: \")\n",
        "\n",
        "if password == \"Passw0rd\":\n",
        "    print(\"密碼正確\")\n",
        "else:\n",
        "    print(\"密碼錯誤\")"
      ],
      "execution_count": 18,
      "outputs": [
        {
          "output_type": "stream",
          "text": [
            "請輸入密碼: PassOrd\n",
            "密碼錯誤\n"
          ],
          "name": "stdout"
        }
      ]
    },
    {
      "metadata": {
        "id": "XLmO3IdSP3Ah",
        "colab_type": "code",
        "colab": {
          "base_uri": "https://localhost:8080/",
          "height": 35
        },
        "outputId": "43a67c7f-0179-470f-8c8e-44effda87aad"
      },
      "cell_type": "code",
      "source": [
        "# Q2. \n",
        "a_list = [1, 2, 3, 4, 5, 6, 7, 8, 9, 10]\n",
        "sum = 0\n",
        "for num in a_list:\n",
        "    if num % 2 == 0:\n",
        "        sum += num\n",
        "\n",
        "print(sum)"
      ],
      "execution_count": 19,
      "outputs": [
        {
          "output_type": "stream",
          "text": [
            "30\n"
          ],
          "name": "stdout"
        }
      ]
    },
    {
      "metadata": {
        "id": "KsmdQJY7P7XB",
        "colab_type": "code",
        "colab": {
          "base_uri": "https://localhost:8080/",
          "height": 72
        },
        "outputId": "69f6cbf6-521b-4601-9ae1-353d372296b6"
      },
      "cell_type": "code",
      "source": [
        "# Q3.\n",
        "height = float(input(\"What is your height? (公尺) : \"))\n",
        "weight = int(input(\"What is your weight? (公斤) : \"))\n",
        "\n",
        "bmi = round((weight / (height ** 2)), 2)\n",
        "print(\"Your BMI is \" + str(bmi))"
      ],
      "execution_count": 21,
      "outputs": [
        {
          "output_type": "stream",
          "text": [
            "What is your height? (公尺) : 1.78\n",
            "What is your weight? (公斤) : 82\n",
            "Your BMI is 25.88\n"
          ],
          "name": "stdout"
        }
      ]
    },
    {
      "metadata": {
        "id": "5mcqVtdtP8YZ",
        "colab_type": "code",
        "colab": {
          "base_uri": "https://localhost:8080/",
          "height": 926
        },
        "outputId": "323dba04-8e2f-4502-99bc-45e102d2cfb5"
      },
      "cell_type": "code",
      "source": [
        "# Q4.\n",
        "for num in range(1,51):\n",
        "    if num % (3 * 5) == 0:\n",
        "        print('FizzBuzz')\n",
        "    elif num % 3 == 0:\n",
        "        print('Fizz')\n",
        "    elif num % 5 == 0:\n",
        "        print('Buzz')\n",
        "    else:\n",
        "        print(str(num))"
      ],
      "execution_count": 22,
      "outputs": [
        {
          "output_type": "stream",
          "text": [
            "1\n",
            "2\n",
            "Fizz\n",
            "4\n",
            "Buzz\n",
            "Fizz\n",
            "7\n",
            "8\n",
            "Fizz\n",
            "Buzz\n",
            "11\n",
            "Fizz\n",
            "13\n",
            "14\n",
            "FizzBuzz\n",
            "16\n",
            "17\n",
            "Fizz\n",
            "19\n",
            "Buzz\n",
            "Fizz\n",
            "22\n",
            "23\n",
            "Fizz\n",
            "Buzz\n",
            "26\n",
            "Fizz\n",
            "28\n",
            "29\n",
            "FizzBuzz\n",
            "31\n",
            "32\n",
            "Fizz\n",
            "34\n",
            "Buzz\n",
            "Fizz\n",
            "37\n",
            "38\n",
            "Fizz\n",
            "Buzz\n",
            "41\n",
            "Fizz\n",
            "43\n",
            "44\n",
            "FizzBuzz\n",
            "46\n",
            "47\n",
            "Fizz\n",
            "49\n",
            "Buzz\n"
          ],
          "name": "stdout"
        }
      ]
    },
    {
      "metadata": {
        "id": "oB0kXw11QBb4",
        "colab_type": "code",
        "colab": {}
      },
      "cell_type": "code",
      "source": [
        ""
      ],
      "execution_count": 0,
      "outputs": []
    }
  ]
}