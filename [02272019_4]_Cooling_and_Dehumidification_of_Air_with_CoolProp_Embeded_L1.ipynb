{
  "nbformat": 4,
  "nbformat_minor": 0,
  "metadata": {
    "colab": {
      "name": "[02272019-4] Cooling and Dehumidification of Air with CoolProp Embeded  - L1.ipynb",
      "version": "0.3.2",
      "provenance": [],
      "collapsed_sections": [],
      "include_colab_link": true
    },
    "kernelspec": {
      "name": "python3",
      "display_name": "Python 3"
    },
    "accelerator": "GPU"
  },
  "cells": [
    {
      "cell_type": "markdown",
      "metadata": {
        "id": "view-in-github",
        "colab_type": "text"
      },
      "source": [
        "<a href=\"https://colab.research.google.com/github/BingHung/AI/blob/master/%5B02272019_4%5D_Cooling_and_Dehumidification_of_Air_with_CoolProp_Embeded_L1.ipynb\" target=\"_parent\"><img src=\"https://colab.research.google.com/assets/colab-badge.svg\" alt=\"Open In Colab\"/></a>"
      ]
    },
    {
      "metadata": {
        "id": "sHo1O0EH0k_1",
        "colab_type": "text"
      },
      "cell_type": "markdown",
      "source": [
        "* Air enters at 1 atm, 30C and 80%RH at a rate of 10m3/min.\n",
        "* It leaves as saturated air at 14C, part of the air condensed.\n",
        "\n",
        "What is the rates of heat and moisture removal from the air ?"
      ]
    },
    {
      "metadata": {
        "id": "LGRGQa6S4Bsy",
        "colab_type": "text"
      },
      "cell_type": "markdown",
      "source": [
        "### http://www.coolprop.org/fluid_properties/HumidAir.html"
      ]
    },
    {
      "metadata": {
        "id": "_DwtHOhu6NCT",
        "colab_type": "text"
      },
      "cell_type": "markdown",
      "source": [
        "* Dry air mass balance  \n",
        " * ma1 = ma2 = ma\n",
        "* Water mass balance \n",
        " * ma1*w1 = ma2*w2 + mw\n",
        "* Energy balance\n",
        " * Qout  = ma(h1-h2) - mwhw"
      ]
    },
    {
      "metadata": {
        "id": "huT3se6p2OKf",
        "colab_type": "code",
        "outputId": "ce397727-0c05-4c40-d04d-896032796b8a",
        "colab": {
          "base_uri": "https://localhost:8080/",
          "height": 122
        }
      },
      "cell_type": "code",
      "source": [
        "!pip install CoolProp"
      ],
      "execution_count": 0,
      "outputs": [
        {
          "output_type": "stream",
          "text": [
            "Collecting CoolProp\n",
            "\u001b[?25l  Downloading https://files.pythonhosted.org/packages/f4/a2/aab94f302d02d0bd53aba779b929fb5a06d48d9e63123252f7a0183f3170/CoolProp-6.2.1-cp36-cp36m-manylinux1_x86_64.whl (4.0MB)\n",
            "\u001b[K    100% |████████████████████████████████| 4.0MB 8.1MB/s \n",
            "\u001b[?25hInstalling collected packages: CoolProp\n",
            "Successfully installed CoolProp-6.2.1\n"
          ],
          "name": "stdout"
        }
      ]
    },
    {
      "metadata": {
        "id": "iWVtcvUK5J4_",
        "colab_type": "text"
      },
      "cell_type": "markdown",
      "source": [
        "## Preporcess - Properties"
      ]
    },
    {
      "metadata": {
        "id": "-m9HnqeT0RF_",
        "colab_type": "code",
        "outputId": "a6c7207c-6b72-412e-9065-cdb61ba0feac",
        "colab": {
          "base_uri": "https://localhost:8080/",
          "height": 68
        }
      },
      "cell_type": "code",
      "source": [
        "from CoolProp.HumidAirProp import HAPropsSI\n",
        "from CoolProp.CoolProp import PhaseSI, PropsSI, get_global_param_string\n",
        "\n",
        "T1 = 30+273.15 #K\n",
        "P1 = 101325 #Pa\n",
        "RH1 = 0.8\n",
        "FR1 = 10 # m3/min\n",
        "\n",
        "h1 = HAPropsSI('H','T',T1,'P',P1,'R',RH1)/1000; print(h1) #85.4 kJ/kg\n",
        "W1 = HAPropsSI(\"W\", \"T\", T1, \"P\", P1, \"R\",RH1); print(W1) #0.0216 kg H2O/kg dry air\n",
        "v1 = HAPropsSI(\"Vha\", \"T\", T1, \"P\", P1, \"R\",RH1); print(v1)\n"
      ],
      "execution_count": 0,
      "outputs": [
        {
          "output_type": "stream",
          "text": [
            "85.56484884913536\n",
            "0.021675772036644517\n",
            "0.8695227397969099\n"
          ],
          "name": "stdout"
        }
      ]
    },
    {
      "metadata": {
        "id": "pXT_aMmi2GXz",
        "colab_type": "code",
        "outputId": "a4c19fde-b729-4879-dcc4-59a9b4f41cf5",
        "colab": {
          "base_uri": "https://localhost:8080/",
          "height": 51
        }
      },
      "cell_type": "code",
      "source": [
        "T2 = 14+273.15\n",
        "P2 = 101325\n",
        "RH2 = 1\n",
        "\n",
        "h2 = HAPropsSI('H','T',T2,'P',P2,'R',RH2)/1000; print(h2)\n",
        "W2 = HAPropsSI(\"W\", \"T\", T2, \"P\", P2, \"R\",RH2); print(W2)"
      ],
      "execution_count": 0,
      "outputs": [
        {
          "output_type": "stream",
          "text": [
            "39.37130717600508\n",
            "0.01001332279608611\n"
          ],
          "name": "stdout"
        }
      ]
    },
    {
      "metadata": {
        "id": "h12Oz8oW4gkL",
        "colab_type": "code",
        "outputId": "4ba7fead-e600-447b-a19d-1edae8edb473",
        "colab": {
          "base_uri": "https://localhost:8080/",
          "height": 34
        }
      },
      "cell_type": "code",
      "source": [
        "T3 = 14+273.15\n",
        "h3 = PropsSI('H','T',T3,'Q',0,'water')/1000;print(h3)"
      ],
      "execution_count": 0,
      "outputs": [
        {
          "output_type": "stream",
          "text": [
            "58.79198513454781\n"
          ],
          "name": "stdout"
        }
      ]
    },
    {
      "metadata": {
        "id": "A4WKvywi5ORc",
        "colab_type": "text"
      },
      "cell_type": "markdown",
      "source": [
        "## Dehumidification Process"
      ]
    },
    {
      "metadata": {
        "id": "OFw7ho8m4-gk",
        "colab_type": "code",
        "outputId": "5e163bff-f3b3-42f1-adf0-8ca94a977db4",
        "colab": {
          "base_uri": "https://localhost:8080/",
          "height": 34
        }
      },
      "cell_type": "code",
      "source": [
        "ma = FR1/v1 ; print(ma) #kg/min"
      ],
      "execution_count": 0,
      "outputs": [
        {
          "output_type": "stream",
          "text": [
            "11.500561793629055\n"
          ],
          "name": "stdout"
        }
      ]
    },
    {
      "metadata": {
        "id": "krlMPw-W5eNw",
        "colab_type": "code",
        "outputId": "97799040-0e03-46f0-fed2-7e37dc9aaf08",
        "colab": {
          "base_uri": "https://localhost:8080/",
          "height": 34
        }
      },
      "cell_type": "code",
      "source": [
        "mw = ma*(W1-W2) ; print(mw) #kg/min"
      ],
      "execution_count": 0,
      "outputs": [
        {
          "output_type": "stream",
          "text": [
            "0.1341247181561042\n"
          ],
          "name": "stdout"
        }
      ]
    },
    {
      "metadata": {
        "id": "O_cHAt855oy8",
        "colab_type": "code",
        "outputId": "486987f3-7fd6-461c-d814-5832eb5ca025",
        "colab": {
          "base_uri": "https://localhost:8080/",
          "height": 34
        }
      },
      "cell_type": "code",
      "source": [
        "Qout = ma1*(h1-h2)-mw*h3 ; print(Qout) #kJ/min"
      ],
      "execution_count": 0,
      "outputs": [
        {
          "output_type": "stream",
          "text": [
            "523.3662220424045\n"
          ],
          "name": "stdout"
        }
      ]
    }
  ]
}