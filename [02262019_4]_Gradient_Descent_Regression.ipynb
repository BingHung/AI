{
  "nbformat": 4,
  "nbformat_minor": 0,
  "metadata": {
    "colab": {
      "name": "[02262019-4] Gradient Descent Regression.ipynb",
      "version": "0.3.2",
      "provenance": [],
      "include_colab_link": true
    },
    "kernelspec": {
      "name": "python3",
      "display_name": "Python 3"
    },
    "accelerator": "GPU"
  },
  "cells": [
    {
      "cell_type": "markdown",
      "metadata": {
        "id": "view-in-github",
        "colab_type": "text"
      },
      "source": [
        "<a href=\"https://colab.research.google.com/github/BingHung/AI/blob/master/%5B02262019_4%5D_Gradient_Descent_Regression.ipynb\" target=\"_parent\"><img src=\"https://colab.research.google.com/assets/colab-badge.svg\" alt=\"Open In Colab\"/></a>"
      ]
    },
    {
      "metadata": {
        "id": "COPEDCb-wcBH",
        "colab_type": "code",
        "colab": {}
      },
      "cell_type": "code",
      "source": [
        "x_data = [338,333,328,207,206,25,179,60,208,606]\n",
        "y_data = [640,633,619,393,428,27,193,66,226,1591]\n",
        "#ydata = b + w * xdata"
      ],
      "execution_count": 0,
      "outputs": []
    },
    {
      "metadata": {
        "id": "qN4HFODBwuRq",
        "colab_type": "code",
        "colab": {
          "base_uri": "https://localhost:8080/",
          "height": 404
        },
        "outputId": "265905d8-7df3-4097-e09d-67b5d31a843a"
      },
      "cell_type": "code",
      "source": [
        "import matplotlib.pyplot as plt\n",
        "import numpy as np\n",
        "\n",
        "b=-120\n",
        "w = -4 #initial\n",
        "lr = 0.0000001 #learning rate\n",
        "iteration = 1000000\n",
        "\n",
        "# Store initial values for plotting\n",
        "b_history =[b]\n",
        "w_history =[w]\n",
        "\n",
        "#Iterations\n",
        "for i in range(iteration):\n",
        "  \n",
        "  b_grad =0.0\n",
        "  w_grad =0.0\n",
        "  for n in range(len(x_data)):\n",
        "    b_grad = b_grad -2.0*(y_data[n] - b - w*x_data[n])*1.0\n",
        "    w_grad = w_grad -2.0*(y_data[n] - b - w*x_data[n]) * x_data[n]\n",
        "    \n",
        "  #Update parameters\n",
        "  b= b-lr*b_grad\n",
        "  w= w-lr*w_grad\n",
        "  \n",
        "  #Store parameters for plotting\n",
        "  b_history.append(b)\n",
        "  w_history.append(w)\n",
        "\n",
        "#plot the\n",
        "print(\"Mini point: b =\",b_history[0],\"w =\",w_history[0])\n",
        "plt.plot(b_history, w_history, 'ro')\n",
        "plt.show()\n",
        "'''\n",
        "plt.contourf(x,y,z,50,alpha=0.5,cmap=plt.get_cmap('jet'))\n",
        "plt.plot([-188.4],[2.67],'x',ms=12,markerwidth=3,color='orange')\n",
        "plt.plot(b_history,w_history,'o-',ms=3,lw=1.5,color='black')\n",
        "plt.xlim(-200,-100)\n",
        "plt.ylim(-5,5)\n",
        "plt.xlabel(r'$b$',fontsize=16)\n",
        "plt.ylabel(r'$b$',fontsize=16)\n",
        "plt.show()\n",
        "'''"
      ],
      "execution_count": 36,
      "outputs": [
        {
          "output_type": "stream",
          "text": [
            "Mini point: b = -120 w = -4\n"
          ],
          "name": "stdout"
        },
        {
          "output_type": "display_data",
          "data": {
            "image/png": "[encoded data removed]",
            "text/plain": [
              "<Figure size 576x396 with 1 Axes>"
            ]
          },
          "metadata": {
            "tags": []
          }
        },
        {
          "output_type": "execute_result",
          "data": {
            "text/plain": [
              "\"\\nplt.contourf(x,y,z,50,alpha=0.5,cmap=plt.get_cmap('jet'))\\nplt.plot([-188.4],[2.67],'x',ms=12,markerwidth=3,color='orange')\\nplt.plot(b_history,w_history,'o-',ms=3,lw=1.5,color='black')\\nplt.xlim(-200,-100)\\nplt.ylim(-5,5)\\nplt.xlabel(r'$b$',fontsize=16)\\nplt.ylabel(r'$b$',fontsize=16)\\nplt.show()\\n\""
            ]
          },
          "metadata": {
            "tags": []
          },
          "execution_count": 36
        }
      ]
    },
    {
      "metadata": {
        "id": "dySUFK54xKJk",
        "colab_type": "code",
        "colab": {
          "base_uri": "https://localhost:8080/",
          "height": 369
        },
        "outputId": "3359a1ac-56cb-40c1-d2b7-91cce4aadf73"
      },
      "cell_type": "code",
      "source": [
        "\n",
        "\n",
        "x_data=[338, 333, 328, 207, 226, \n",
        "    25, 179, 60, 208, 606]\n",
        "\n",
        "y_data=[640, 633, 619, 393, 428,\n",
        "    27, 193, 66, 226, 1591]\n",
        "\n",
        "# random initial\n",
        "b=-120\n",
        "w=-4\n",
        "lr=1                # learning rate\n",
        "iteration=100000    \n",
        "\n",
        "b_history=[b]       # Store b\n",
        "w_history=[w]       # Store w\n",
        "\n",
        "lr_b=0\n",
        "lr_w=0\n",
        "\n",
        "for i in range(iteration):\n",
        "    \n",
        "  \n",
        "    b_grad=0.0  \n",
        "    w_grad=0.0 \n",
        "\n",
        "    for n in range(len(x_data)):\n",
        "        # L(w,b) - b partial differential\n",
        "        b_grad = b_grad -2.0*(y_data[n] - b - w*x_data[n])*1.0\n",
        "\n",
        "        # L(w,b)- w partial differential\n",
        "        w_grad = w_grad -2.0*(y_data[n] - b - w*x_data[n])*x_data[n]\n",
        "\n",
        "    # Adagrad  \n",
        "    lr_b = lr_b + b_grad **2\n",
        "    lr_w = lr_w + w_grad **2\n",
        "\n",
        "    b = b - lr/np.sqrt(lr_b)*b_grad # Adagrad\n",
        "    w = w - lr/np.sqrt(lr_w)*w_grad\n",
        "\n",
        "    \n",
        "\n",
        "    b_history.append(b)\n",
        "    w_history.append(w)\n",
        "        \n",
        "print(\"Mini point: b =\",b_history[-1],\"w =\",w_history[-1])\n",
        "plt.plot(b_history, w_history, 'ro')\n",
        "plt.show()"
      ],
      "execution_count": 28,
      "outputs": [
        {
          "output_type": "stream",
          "text": [
            "Mini point: b = -188.3668387495323 w = 2.6692640713379903\n"
          ],
          "name": "stdout"
        },
        {
          "output_type": "display_data",
          "data": {
            "image/png": "[encoded data removed]",
            "text/plain": [
              "<Figure size 576x396 with 1 Axes>"
            ]
          },
          "metadata": {
            "tags": []
          }
        }
      ]
    },
    {
      "metadata": {
        "id": "9xvGSZ1Y1WP8",
        "colab_type": "code",
        "colab": {}
      },
      "cell_type": "code",
      "source": [
        ""
      ],
      "execution_count": 0,
      "outputs": []
    }
  ]
}