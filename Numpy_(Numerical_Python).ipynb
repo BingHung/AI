{
  "nbformat": 4,
  "nbformat_minor": 0,
  "metadata": {
    "colab": {
      "provenance": [],
      "authorship_tag": "ABX9TyOHZ7gPAl2LYgz/MYYIS/SR",
      "include_colab_link": true
    },
    "kernelspec": {
      "name": "python3",
      "display_name": "Python 3"
    },
    "language_info": {
      "name": "python"
    }
  },
  "cells": [
    {
      "cell_type": "markdown",
      "metadata": {
        "id": "view-in-github",
        "colab_type": "text"
      },
      "source": [
        "<a href=\"https://colab.research.google.com/github/BingHung/AI/blob/master/Numpy_(Numerical_Python).ipynb\" target=\"_parent\"><img src=\"https://colab.research.google.com/assets/colab-badge.svg\" alt=\"Open In Colab\"/></a>"
      ]
    },
    {
      "cell_type": "markdown",
      "source": [
        "**`Establish 1D ndarray with array() method`**"
      ],
      "metadata": {
        "id": "3hZfpiD0QOD2"
      }
    },
    {
      "cell_type": "code",
      "execution_count": 3,
      "metadata": {
        "colab": {
          "base_uri": "https://localhost:8080/"
        },
        "id": "HJPQDkwMPtJX",
        "outputId": "bd53e087-ab63-4265-a886-5a9c6f096a25"
      },
      "outputs": [
        {
          "output_type": "stream",
          "name": "stdout",
          "text": [
            "<class 'numpy.ndarray'>\n",
            "[1 2 3]\n",
            "1\n",
            "2 3\n",
            "[ 1 10  3]\n"
          ]
        }
      ],
      "source": [
        "import numpy as np\n",
        "x = np.array([1,2,3])\n",
        "print(type(x))\n",
        "print(x)\n",
        "\n",
        "print(x[0])\n",
        "print(x[1],x[2])\n",
        "\n",
        "x[1]=10\n",
        "print(x)"
      ]
    }
  ]
}