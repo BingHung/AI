{
  "nbformat": 4,
  "nbformat_minor": 0,
  "metadata": {
    "colab": {
      "provenance": [],
      "authorship_tag": "ABX9TyN+JkMrszSUrwhJiOw521mF",
      "include_colab_link": true
    },
    "kernelspec": {
      "name": "python3",
      "display_name": "Python 3"
    },
    "language_info": {
      "name": "python"
    }
  },
  "cells": [
    {
      "cell_type": "markdown",
      "metadata": {
        "id": "view-in-github",
        "colab_type": "text"
      },
      "source": [
        "<a href=\"https://colab.research.google.com/github/BingHung/AI/blob/master/Numpy_(Numerical_Python).ipynb\" target=\"_parent\"><img src=\"https://colab.research.google.com/assets/colab-badge.svg\" alt=\"Open In Colab\"/></a>"
      ]
    },
    {
      "cell_type": "markdown",
      "source": [
        "**<h1> 1D ndarray**"
      ],
      "metadata": {
        "id": "Y4Yz-q2eZWcK"
      }
    },
    {
      "cell_type": "markdown",
      "source": [
        "**`Establish 1D ndarray with array() method`**"
      ],
      "metadata": {
        "id": "3hZfpiD0QOD2"
      }
    },
    {
      "cell_type": "code",
      "execution_count": 3,
      "metadata": {
        "colab": {
          "base_uri": "https://localhost:8080/"
        },
        "id": "HJPQDkwMPtJX",
        "outputId": "bd53e087-ab63-4265-a886-5a9c6f096a25"
      },
      "outputs": [
        {
          "output_type": "stream",
          "name": "stdout",
          "text": [
            "<class 'numpy.ndarray'>\n",
            "[1 2 3]\n",
            "1\n",
            "2 3\n",
            "[ 1 10  3]\n"
          ]
        }
      ],
      "source": [
        "import numpy as np\n",
        "x = np.array([1,2,3])\n",
        "print(type(x))\n",
        "print(x)\n",
        "\n",
        "print(x[0])\n",
        "print(x[1],x[2])\n",
        "\n",
        "x[1]=10\n",
        "print(x)"
      ]
    },
    {
      "cell_type": "code",
      "source": [
        "print(\"x.dtype : \", x.dtype)\n",
        "print(\"x.itemsize : \", x.itemsize)\n",
        "print(\"x.ndim : \", x.ndim)\n",
        "print(\"x.shape : \", x.shape)\n",
        "print(\"x.size : \", x.size)"
      ],
      "metadata": {
        "colab": {
          "base_uri": "https://localhost:8080/"
        },
        "id": "9Gey5wJ3RD5a",
        "outputId": "aae1c076-fb55-42cf-d1f7-3548796be0ba"
      },
      "execution_count": 5,
      "outputs": [
        {
          "output_type": "stream",
          "name": "stdout",
          "text": [
            "x.dtype :  int64\n",
            "x.itemsize :  8\n",
            "x.ndim :  1\n",
            "x.shape :  (3,)\n",
            "x.size :  3\n"
          ]
        }
      ]
    },
    {
      "cell_type": "code",
      "source": [
        "x = np.array([1])\n",
        "print(\"x.dtype : \", x.dtype)\n",
        "print(\"x.itemsize : \", x.itemsize)\n",
        "print(\"x.ndim : \", x.ndim)\n",
        "print(\"x.shape : \", x.shape)\n",
        "print(\"x.size : \", x.size)"
      ],
      "metadata": {
        "colab": {
          "base_uri": "https://localhost:8080/"
        },
        "id": "kWQLg54VSxjH",
        "outputId": "0dac6ad4-8a89-47ff-f991-78a05f4a8f30"
      },
      "execution_count": 6,
      "outputs": [
        {
          "output_type": "stream",
          "name": "stdout",
          "text": [
            "x.dtype :  int64\n",
            "x.itemsize :  8\n",
            "x.ndim :  1\n",
            "x.shape :  (1,)\n",
            "x.size :  1\n"
          ]
        }
      ]
    },
    {
      "cell_type": "code",
      "source": [
        "x = np.array([2,4,6],dtype=np.int8)\n",
        "print(\"x.dtype : \", x.dtype)"
      ],
      "metadata": {
        "colab": {
          "base_uri": "https://localhost:8080/"
        },
        "id": "yqg9uQr9S7FP",
        "outputId": "d11a9e24-c82d-42d6-dc54-d160e2fdae2d"
      },
      "execution_count": 7,
      "outputs": [
        {
          "output_type": "stream",
          "name": "stdout",
          "text": [
            "x.dtype :  int8\n"
          ]
        }
      ]
    },
    {
      "cell_type": "code",
      "source": [
        "x = np.array([1.1,2.3,3.6])\n",
        "print(\"x.dtype : \", x.dtype)\n",
        "print(\"x.itemsize : \", x.itemsize)\n",
        "print(\"x.ndim : \", x.ndim)\n",
        "print(\"x.shape : \", x.shape)\n",
        "print(\"x.size : \", x.size)"
      ],
      "metadata": {
        "colab": {
          "base_uri": "https://localhost:8080/"
        },
        "id": "jARI7t_-THrF",
        "outputId": "5e1151b7-67eb-46fa-8565-347633c0490e"
      },
      "execution_count": 9,
      "outputs": [
        {
          "output_type": "stream",
          "name": "stdout",
          "text": [
            "x.dtype :  float64\n",
            "x.itemsize :  8\n",
            "x.ndim :  1\n",
            "x.shape :  (3,)\n",
            "x.size :  3\n"
          ]
        }
      ]
    },
    {
      "cell_type": "markdown",
      "source": [
        "**Establish 1D ndarray with zeros() method**"
      ],
      "metadata": {
        "id": "DTsemwSgTf8U"
      }
    },
    {
      "cell_type": "code",
      "source": [
        "import numpy as np\n",
        "x = np.zeros(5)\n",
        "print(x)\n",
        "\n",
        "x = np.zeros(5, dtype=np.int_)\n",
        "print(x)"
      ],
      "metadata": {
        "colab": {
          "base_uri": "https://localhost:8080/"
        },
        "id": "FvVKRi58Timr",
        "outputId": "dde66121-a9b0-4147-b6da-c7e611c77a40"
      },
      "execution_count": 10,
      "outputs": [
        {
          "output_type": "stream",
          "name": "stdout",
          "text": [
            "[0. 0. 0. 0. 0.]\n",
            "[0 0 0 0 0]\n"
          ]
        }
      ]
    },
    {
      "cell_type": "markdown",
      "source": [
        "**Establish 1D ndarray with ones() method**"
      ],
      "metadata": {
        "id": "kyjTMS5fTzyC"
      }
    },
    {
      "cell_type": "code",
      "source": [
        "import numpy as np\n",
        "x = np.ones(5)\n",
        "print(x)\n",
        "\n",
        "x = np.ones(5, dtype=np.int32)\n",
        "print(x)"
      ],
      "metadata": {
        "colab": {
          "base_uri": "https://localhost:8080/"
        },
        "id": "hsIMhcQvT30g",
        "outputId": "27872713-a57b-4e0d-d0af-c0825a967802"
      },
      "execution_count": 11,
      "outputs": [
        {
          "output_type": "stream",
          "name": "stdout",
          "text": [
            "[1. 1. 1. 1. 1.]\n",
            "[1 1 1 1 1]\n"
          ]
        }
      ]
    },
    {
      "cell_type": "markdown",
      "source": [
        "**Elementary arithmetic of Numpy**"
      ],
      "metadata": {
        "id": "CC0bVMR6UaJe"
      }
    },
    {
      "cell_type": "code",
      "source": [
        "import numpy as np\n",
        "x = np.array([1,2,3])\n",
        "y = x + 5\n",
        "print(y)"
      ],
      "metadata": {
        "colab": {
          "base_uri": "https://localhost:8080/"
        },
        "id": "LBxG72sLUcOG",
        "outputId": "71d6984c-91fc-42e5-afb5-b8ee61bc6468"
      },
      "execution_count": 12,
      "outputs": [
        {
          "output_type": "stream",
          "name": "stdout",
          "text": [
            "[6 7 8]\n"
          ]
        }
      ]
    },
    {
      "cell_type": "code",
      "source": [
        "import numpy as np\n",
        "x = np.array([1,2,3])\n",
        "y = np.array([4,5,6])\n",
        "z = x + y\n",
        "print(z)"
      ],
      "metadata": {
        "colab": {
          "base_uri": "https://localhost:8080/"
        },
        "id": "RlyILN98Umyl",
        "outputId": "baf29995-7744-4fb0-b7ee-770c4d59ae2d"
      },
      "execution_count": 13,
      "outputs": [
        {
          "output_type": "stream",
          "name": "stdout",
          "text": [
            "[5 7 9]\n"
          ]
        }
      ]
    },
    {
      "cell_type": "code",
      "source": [
        "z = x * y\n",
        "print(z)"
      ],
      "metadata": {
        "colab": {
          "base_uri": "https://localhost:8080/"
        },
        "id": "WynHdrEHUvoz",
        "outputId": "730ae93d-2a66-48eb-876f-a97f357b7820"
      },
      "execution_count": 14,
      "outputs": [
        {
          "output_type": "stream",
          "name": "stdout",
          "text": [
            "[ 4 10 18]\n"
          ]
        }
      ]
    },
    {
      "cell_type": "code",
      "source": [
        "z = x / y\n",
        "print(z)"
      ],
      "metadata": {
        "colab": {
          "base_uri": "https://localhost:8080/"
        },
        "id": "w00dzvUlUykL",
        "outputId": "f68e691b-105c-4092-8bef-f87953ab71d5"
      },
      "execution_count": 15,
      "outputs": [
        {
          "output_type": "stream",
          "name": "stdout",
          "text": [
            "[0.25 0.4  0.5 ]\n"
          ]
        }
      ]
    },
    {
      "cell_type": "markdown",
      "source": [
        "**Relational operator of Numpy**"
      ],
      "metadata": {
        "id": "E4urp_99U9df"
      }
    },
    {
      "cell_type": "code",
      "source": [
        "import numpy as np\n",
        "x = np.array([1,2,3])\n",
        "y = np.array([4,1,6])\n",
        "z = x > y\n",
        "print(z)"
      ],
      "metadata": {
        "colab": {
          "base_uri": "https://localhost:8080/"
        },
        "id": "7w1FoUThVI5D",
        "outputId": "4e69b6d7-0406-4c62-c527-42af379c020f"
      },
      "execution_count": 16,
      "outputs": [
        {
          "output_type": "stream",
          "name": "stdout",
          "text": [
            "[False  True False]\n"
          ]
        }
      ]
    },
    {
      "cell_type": "markdown",
      "source": [
        "**Slicing**"
      ],
      "metadata": {
        "id": "n98DtTCgVVDL"
      }
    },
    {
      "cell_type": "code",
      "source": [
        "import numpy as np\n",
        "x = np.array([1,2,3,4,5])\n",
        "\n",
        "print(x[0:3])\n",
        "print(x[1:4])\n",
        "print(x[0:5:2])\n",
        "print(x[-1])\n",
        "print(x[1:])\n",
        "print(x[:3])"
      ],
      "metadata": {
        "colab": {
          "base_uri": "https://localhost:8080/"
        },
        "id": "2LsYbJj4VX_U",
        "outputId": "6d79ca72-0d35-4d8a-9837-aa265cd2b376"
      },
      "execution_count": 17,
      "outputs": [
        {
          "output_type": "stream",
          "name": "stdout",
          "text": [
            "[1 2 3]\n",
            "[2 3 4]\n",
            "[1 3 5]\n",
            "5\n",
            "[2 3 4 5]\n",
            "[1 2 3]\n"
          ]
        }
      ]
    },
    {
      "cell_type": "markdown",
      "source": [
        "**Concatenate**"
      ],
      "metadata": {
        "id": "zXfcq9XPWAGH"
      }
    },
    {
      "cell_type": "code",
      "source": [
        "import numpy as np\n",
        "x = np.array([1,2,3])\n",
        "y = np.array([4,5])\n",
        "z = np.concatenate((x,y))\n",
        "print(z)"
      ],
      "metadata": {
        "colab": {
          "base_uri": "https://localhost:8080/"
        },
        "id": "I4tSZz0aWEVv",
        "outputId": "b5fb3821-1535-47b5-85df-52c907554c0e"
      },
      "execution_count": 18,
      "outputs": [
        {
          "output_type": "stream",
          "name": "stdout",
          "text": [
            "[1 2 3 4 5]\n"
          ]
        }
      ]
    },
    {
      "cell_type": "code",
      "source": [
        "import numpy as np\n",
        "x = np.array([1,2,3])\n",
        "z = np.concatenate((x,[4,5]))\n",
        "print(z)"
      ],
      "metadata": {
        "colab": {
          "base_uri": "https://localhost:8080/"
        },
        "id": "3sSVWLQQWPb2",
        "outputId": "f0c4aa30-e712-46e9-d214-824cff7f5ff7"
      },
      "execution_count": 19,
      "outputs": [
        {
          "output_type": "stream",
          "name": "stdout",
          "text": [
            "[1 2 3 4 5]\n"
          ]
        }
      ]
    },
    {
      "cell_type": "markdown",
      "source": [
        "**Insert**"
      ],
      "metadata": {
        "id": "S5KNUTZHWX31"
      }
    },
    {
      "cell_type": "code",
      "source": [
        "import numpy as np\n",
        "x = np.array([1,2,3])\n",
        "z = np.insert(x,2,9)\n",
        "print(z)"
      ],
      "metadata": {
        "colab": {
          "base_uri": "https://localhost:8080/"
        },
        "id": "N3yq5r0pWeNc",
        "outputId": "e0b1776d-3c73-42cc-9dac-1cf10abc8a55"
      },
      "execution_count": 20,
      "outputs": [
        {
          "output_type": "stream",
          "name": "stdout",
          "text": [
            "[1 2 9 3]\n"
          ]
        }
      ]
    },
    {
      "cell_type": "code",
      "source": [
        "import numpy as np\n",
        "x = np.array([1,2,3])\n",
        "z = np.insert(x,[0,2],[7,9])\n",
        "print(z)"
      ],
      "metadata": {
        "colab": {
          "base_uri": "https://localhost:8080/"
        },
        "id": "ylOjZ76fWuvx",
        "outputId": "319fbcce-a569-4046-a8a7-ea2aa66021c7"
      },
      "execution_count": 21,
      "outputs": [
        {
          "output_type": "stream",
          "name": "stdout",
          "text": [
            "[7 1 2 9 3]\n"
          ]
        }
      ]
    },
    {
      "cell_type": "markdown",
      "source": [
        "**Delete**"
      ],
      "metadata": {
        "id": "Dw__uk81W2KT"
      }
    },
    {
      "cell_type": "code",
      "source": [
        "import numpy as np\n",
        "x = np.array([1,2,3])\n",
        "z = np.delete(x,2)\n",
        "print(z)"
      ],
      "metadata": {
        "colab": {
          "base_uri": "https://localhost:8080/"
        },
        "id": "kP8aNOq1W306",
        "outputId": "5602737c-d871-4b88-e4de-ff4e75b542c0"
      },
      "execution_count": 23,
      "outputs": [
        {
          "output_type": "stream",
          "name": "stdout",
          "text": [
            "[1 2]\n"
          ]
        }
      ]
    },
    {
      "cell_type": "code",
      "source": [
        "import numpy as np\n",
        "x = np.array([1,2,3])\n",
        "z = np.delete(x,[0,2])\n",
        "print(z)"
      ],
      "metadata": {
        "colab": {
          "base_uri": "https://localhost:8080/"
        },
        "id": "EJcOgppFXHwq",
        "outputId": "b8762964-719b-4876-80a9-152f9727e2f1"
      },
      "execution_count": 24,
      "outputs": [
        {
          "output_type": "stream",
          "name": "stdout",
          "text": [
            "[2]\n"
          ]
        }
      ]
    },
    {
      "cell_type": "markdown",
      "source": [
        "**Inner Product**"
      ],
      "metadata": {
        "id": "_NvYiGjzXhwE"
      }
    },
    {
      "cell_type": "code",
      "source": [
        "import numpy as np\n",
        "x = np.array([1,2,3])\n",
        "y = np.array([4,1,6])\n",
        "\n",
        "z = np.inner(x,y)\n",
        "print(z)\n",
        "\n",
        "z = np.dot(x,y)\n",
        "print(z)"
      ],
      "metadata": {
        "colab": {
          "base_uri": "https://localhost:8080/"
        },
        "id": "qu5kTlTgXkTP",
        "outputId": "1144803d-c9ca-4340-a61d-7b03cba7c30c"
      },
      "execution_count": 26,
      "outputs": [
        {
          "output_type": "stream",
          "name": "stdout",
          "text": [
            "24\n",
            "24\n"
          ]
        }
      ]
    },
    {
      "cell_type": "markdown",
      "source": [
        "**Cross Product**"
      ],
      "metadata": {
        "id": "WXSNrbPKX-2P"
      }
    },
    {
      "cell_type": "code",
      "source": [
        "import numpy as np\n",
        "x = np.array([1,2,3])\n",
        "y = np.array([4,5,6])\n",
        "\n",
        "z = np.cross(x,y)\n",
        "print(z)"
      ],
      "metadata": {
        "colab": {
          "base_uri": "https://localhost:8080/"
        },
        "id": "gSLbO-VRYBXt",
        "outputId": "a9c4b02b-ae63-48e0-cf6e-3b7dfdf406ca"
      },
      "execution_count": 31,
      "outputs": [
        {
          "output_type": "stream",
          "name": "stdout",
          "text": [
            "[-3  6 -3]\n"
          ]
        }
      ]
    },
    {
      "cell_type": "markdown",
      "source": [
        "**Outer Product**"
      ],
      "metadata": {
        "id": "Cvnq1GnzYZ0e"
      }
    },
    {
      "cell_type": "code",
      "source": [
        "import numpy as np\n",
        "x = np.array([1,2,3])\n",
        "y = np.array([4,5,6])\n",
        "\n",
        "z = np.outer(x,y)\n",
        "print(z)"
      ],
      "metadata": {
        "colab": {
          "base_uri": "https://localhost:8080/"
        },
        "id": "XEw_9M1OYcXk",
        "outputId": "64664f3a-072a-481f-c17e-27311e5e46c5"
      },
      "execution_count": 32,
      "outputs": [
        {
          "output_type": "stream",
          "name": "stdout",
          "text": [
            "[[ 4  5  6]\n",
            " [ 8 10 12]\n",
            " [12 15 18]]\n"
          ]
        }
      ]
    },
    {
      "cell_type": "markdown",
      "source": [
        "**Iteration**"
      ],
      "metadata": {
        "id": "Sm0NRauKYnf2"
      }
    },
    {
      "cell_type": "code",
      "source": [
        "import numpy as np\n",
        "sum = 0\n",
        "x = np.array([88, 92, 90, 0, 0])\n",
        "for data in x:\n",
        "  sum += data\n",
        "print(sum)"
      ],
      "metadata": {
        "colab": {
          "base_uri": "https://localhost:8080/"
        },
        "id": "1gkQSIT1YqST",
        "outputId": "d419676a-ff4c-468a-ee21-e3e04e6c21ac"
      },
      "execution_count": 33,
      "outputs": [
        {
          "output_type": "stream",
          "name": "stdout",
          "text": [
            "270\n"
          ]
        }
      ]
    }
  ]
}