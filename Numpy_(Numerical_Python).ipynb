{
  "nbformat": 4,
  "nbformat_minor": 0,
  "metadata": {
    "colab": {
      "provenance": [],
      "authorship_tag": "ABX9TyO9/cbCvulhIHPJZt/aOt90",
      "include_colab_link": true
    },
    "kernelspec": {
      "name": "python3",
      "display_name": "Python 3"
    },
    "language_info": {
      "name": "python"
    }
  },
  "cells": [
    {
      "cell_type": "markdown",
      "metadata": {
        "id": "view-in-github",
        "colab_type": "text"
      },
      "source": [
        "<a href=\"https://colab.research.google.com/github/BingHung/AI/blob/master/Numpy_(Numerical_Python).ipynb\" target=\"_parent\"><img src=\"https://colab.research.google.com/assets/colab-badge.svg\" alt=\"Open In Colab\"/></a>"
      ]
    },
    {
      "cell_type": "markdown",
      "source": [
        "**`Establish 1D ndarray with array() method`**"
      ],
      "metadata": {
        "id": "3hZfpiD0QOD2"
      }
    },
    {
      "cell_type": "code",
      "execution_count": 3,
      "metadata": {
        "colab": {
          "base_uri": "https://localhost:8080/"
        },
        "id": "HJPQDkwMPtJX",
        "outputId": "bd53e087-ab63-4265-a886-5a9c6f096a25"
      },
      "outputs": [
        {
          "output_type": "stream",
          "name": "stdout",
          "text": [
            "<class 'numpy.ndarray'>\n",
            "[1 2 3]\n",
            "1\n",
            "2 3\n",
            "[ 1 10  3]\n"
          ]
        }
      ],
      "source": [
        "import numpy as np\n",
        "x = np.array([1,2,3])\n",
        "print(type(x))\n",
        "print(x)\n",
        "\n",
        "print(x[0])\n",
        "print(x[1],x[2])\n",
        "\n",
        "x[1]=10\n",
        "print(x)"
      ]
    },
    {
      "cell_type": "code",
      "source": [
        "print(\"x.dtype : \", x.dtype)\n",
        "print(\"x.itemsize : \", x.itemsize)\n",
        "print(\"x.ndim : \", x.ndim)\n",
        "print(\"x.shape : \", x.shape)\n",
        "print(\"x.size : \", x.size)"
      ],
      "metadata": {
        "colab": {
          "base_uri": "https://localhost:8080/"
        },
        "id": "9Gey5wJ3RD5a",
        "outputId": "aae1c076-fb55-42cf-d1f7-3548796be0ba"
      },
      "execution_count": 5,
      "outputs": [
        {
          "output_type": "stream",
          "name": "stdout",
          "text": [
            "x.dtype :  int64\n",
            "x.itemsize :  8\n",
            "x.ndim :  1\n",
            "x.shape :  (3,)\n",
            "x.size :  3\n"
          ]
        }
      ]
    },
    {
      "cell_type": "code",
      "source": [
        "x = np.array([1])\n",
        "print(\"x.dtype : \", x.dtype)\n",
        "print(\"x.itemsize : \", x.itemsize)\n",
        "print(\"x.ndim : \", x.ndim)\n",
        "print(\"x.shape : \", x.shape)\n",
        "print(\"x.size : \", x.size)"
      ],
      "metadata": {
        "colab": {
          "base_uri": "https://localhost:8080/"
        },
        "id": "kWQLg54VSxjH",
        "outputId": "0dac6ad4-8a89-47ff-f991-78a05f4a8f30"
      },
      "execution_count": 6,
      "outputs": [
        {
          "output_type": "stream",
          "name": "stdout",
          "text": [
            "x.dtype :  int64\n",
            "x.itemsize :  8\n",
            "x.ndim :  1\n",
            "x.shape :  (1,)\n",
            "x.size :  1\n"
          ]
        }
      ]
    },
    {
      "cell_type": "code",
      "source": [
        "x = np.array([2,4,6],dtype=np.int8)\n",
        "print(\"x.dtype : \", x.dtype)"
      ],
      "metadata": {
        "colab": {
          "base_uri": "https://localhost:8080/"
        },
        "id": "yqg9uQr9S7FP",
        "outputId": "d11a9e24-c82d-42d6-dc54-d160e2fdae2d"
      },
      "execution_count": 7,
      "outputs": [
        {
          "output_type": "stream",
          "name": "stdout",
          "text": [
            "x.dtype :  int8\n"
          ]
        }
      ]
    },
    {
      "cell_type": "code",
      "source": [
        "x = np.array([1.1,2.3,3.6])\n",
        "print(\"x.dtype : \", x.dtype)\n",
        "print(\"x.itemsize : \", x.itemsize)\n",
        "print(\"x.ndim : \", x.ndim)\n",
        "print(\"x.shape : \", x.shape)\n",
        "print(\"x.size : \", x.size)"
      ],
      "metadata": {
        "colab": {
          "base_uri": "https://localhost:8080/"
        },
        "id": "jARI7t_-THrF",
        "outputId": "5e1151b7-67eb-46fa-8565-347633c0490e"
      },
      "execution_count": 9,
      "outputs": [
        {
          "output_type": "stream",
          "name": "stdout",
          "text": [
            "x.dtype :  float64\n",
            "x.itemsize :  8\n",
            "x.ndim :  1\n",
            "x.shape :  (3,)\n",
            "x.size :  3\n"
          ]
        }
      ]
    },
    {
      "cell_type": "markdown",
      "source": [
        "Establish 1D ndarray with zeros() method"
      ],
      "metadata": {
        "id": "DTsemwSgTf8U"
      }
    },
    {
      "cell_type": "code",
      "source": [
        "import numpy as np\n",
        "x = np.zeros(5)\n",
        "print(x)\n",
        "\n",
        "x = np.zeros(5, dtype=np.int_)\n",
        "print(x)"
      ],
      "metadata": {
        "colab": {
          "base_uri": "https://localhost:8080/"
        },
        "id": "FvVKRi58Timr",
        "outputId": "dde66121-a9b0-4147-b6da-c7e611c77a40"
      },
      "execution_count": 10,
      "outputs": [
        {
          "output_type": "stream",
          "name": "stdout",
          "text": [
            "[0. 0. 0. 0. 0.]\n",
            "[0 0 0 0 0]\n"
          ]
        }
      ]
    },
    {
      "cell_type": "markdown",
      "source": [
        "Establish 1D ndarray with ones() method"
      ],
      "metadata": {
        "id": "kyjTMS5fTzyC"
      }
    },
    {
      "cell_type": "code",
      "source": [
        "import numpy as np\n",
        "x = np.ones(5)\n",
        "print(x)\n",
        "\n",
        "x = np.ones(5, dtype=np.int32)\n",
        "print(x)"
      ],
      "metadata": {
        "colab": {
          "base_uri": "https://localhost:8080/"
        },
        "id": "hsIMhcQvT30g",
        "outputId": "27872713-a57b-4e0d-d0af-c0825a967802"
      },
      "execution_count": 11,
      "outputs": [
        {
          "output_type": "stream",
          "name": "stdout",
          "text": [
            "[1. 1. 1. 1. 1.]\n",
            "[1 1 1 1 1]\n"
          ]
        }
      ]
    }
  ]
}