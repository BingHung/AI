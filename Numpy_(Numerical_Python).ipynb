{
  "nbformat": 4,
  "nbformat_minor": 0,
  "metadata": {
    "colab": {
      "provenance": [],
      "authorship_tag": "ABX9TyOEbzw4ZoAFS+ExBPJsJ+zP",
      "include_colab_link": true
    },
    "kernelspec": {
      "name": "python3",
      "display_name": "Python 3"
    },
    "language_info": {
      "name": "python"
    }
  },
  "cells": [
    {
      "cell_type": "markdown",
      "metadata": {
        "id": "view-in-github",
        "colab_type": "text"
      },
      "source": [
        "<a href=\"https://colab.research.google.com/github/BingHung/AI/blob/master/Numpy_(Numerical_Python).ipynb\" target=\"_parent\"><img src=\"https://colab.research.google.com/assets/colab-badge.svg\" alt=\"Open In Colab\"/></a>"
      ]
    },
    {
      "cell_type": "markdown",
      "source": [
        "**<h1> 1D ndarray**"
      ],
      "metadata": {
        "id": "Y4Yz-q2eZWcK"
      }
    },
    {
      "cell_type": "markdown",
      "source": [
        "**`Establish 1D ndarray with array() method`**"
      ],
      "metadata": {
        "id": "3hZfpiD0QOD2"
      }
    },
    {
      "cell_type": "code",
      "execution_count": 3,
      "metadata": {
        "colab": {
          "base_uri": "https://localhost:8080/"
        },
        "id": "HJPQDkwMPtJX",
        "outputId": "bd53e087-ab63-4265-a886-5a9c6f096a25"
      },
      "outputs": [
        {
          "output_type": "stream",
          "name": "stdout",
          "text": [
            "<class 'numpy.ndarray'>\n",
            "[1 2 3]\n",
            "1\n",
            "2 3\n",
            "[ 1 10  3]\n"
          ]
        }
      ],
      "source": [
        "import numpy as np\n",
        "x = np.array([1,2,3])\n",
        "print(type(x))\n",
        "print(x)\n",
        "\n",
        "print(x[0])\n",
        "print(x[1],x[2])\n",
        "\n",
        "x[1]=10\n",
        "print(x)"
      ]
    },
    {
      "cell_type": "code",
      "source": [
        "print(\"x.dtype : \", x.dtype)\n",
        "print(\"x.itemsize : \", x.itemsize)\n",
        "print(\"x.ndim : \", x.ndim)\n",
        "print(\"x.shape : \", x.shape)\n",
        "print(\"x.size : \", x.size)"
      ],
      "metadata": {
        "colab": {
          "base_uri": "https://localhost:8080/"
        },
        "id": "9Gey5wJ3RD5a",
        "outputId": "aae1c076-fb55-42cf-d1f7-3548796be0ba"
      },
      "execution_count": 5,
      "outputs": [
        {
          "output_type": "stream",
          "name": "stdout",
          "text": [
            "x.dtype :  int64\n",
            "x.itemsize :  8\n",
            "x.ndim :  1\n",
            "x.shape :  (3,)\n",
            "x.size :  3\n"
          ]
        }
      ]
    },
    {
      "cell_type": "code",
      "source": [
        "x = np.array([1])\n",
        "print(\"x.dtype : \", x.dtype)\n",
        "print(\"x.itemsize : \", x.itemsize)\n",
        "print(\"x.ndim : \", x.ndim)\n",
        "print(\"x.shape : \", x.shape)\n",
        "print(\"x.size : \", x.size)"
      ],
      "metadata": {
        "colab": {
          "base_uri": "https://localhost:8080/"
        },
        "id": "kWQLg54VSxjH",
        "outputId": "0dac6ad4-8a89-47ff-f991-78a05f4a8f30"
      },
      "execution_count": 6,
      "outputs": [
        {
          "output_type": "stream",
          "name": "stdout",
          "text": [
            "x.dtype :  int64\n",
            "x.itemsize :  8\n",
            "x.ndim :  1\n",
            "x.shape :  (1,)\n",
            "x.size :  1\n"
          ]
        }
      ]
    },
    {
      "cell_type": "code",
      "source": [
        "x = np.array([2,4,6],dtype=np.int8)\n",
        "print(\"x.dtype : \", x.dtype)"
      ],
      "metadata": {
        "colab": {
          "base_uri": "https://localhost:8080/"
        },
        "id": "yqg9uQr9S7FP",
        "outputId": "d11a9e24-c82d-42d6-dc54-d160e2fdae2d"
      },
      "execution_count": 7,
      "outputs": [
        {
          "output_type": "stream",
          "name": "stdout",
          "text": [
            "x.dtype :  int8\n"
          ]
        }
      ]
    },
    {
      "cell_type": "code",
      "source": [
        "x = np.array([1.1,2.3,3.6])\n",
        "print(\"x.dtype : \", x.dtype)\n",
        "print(\"x.itemsize : \", x.itemsize)\n",
        "print(\"x.ndim : \", x.ndim)\n",
        "print(\"x.shape : \", x.shape)\n",
        "print(\"x.size : \", x.size)"
      ],
      "metadata": {
        "colab": {
          "base_uri": "https://localhost:8080/"
        },
        "id": "jARI7t_-THrF",
        "outputId": "5e1151b7-67eb-46fa-8565-347633c0490e"
      },
      "execution_count": 9,
      "outputs": [
        {
          "output_type": "stream",
          "name": "stdout",
          "text": [
            "x.dtype :  float64\n",
            "x.itemsize :  8\n",
            "x.ndim :  1\n",
            "x.shape :  (3,)\n",
            "x.size :  3\n"
          ]
        }
      ]
    },
    {
      "cell_type": "markdown",
      "source": [
        "**Establish 1D ndarray with zeros() method**"
      ],
      "metadata": {
        "id": "DTsemwSgTf8U"
      }
    },
    {
      "cell_type": "code",
      "source": [
        "import numpy as np\n",
        "x = np.zeros(5)\n",
        "print(x)\n",
        "\n",
        "x = np.zeros(5, dtype=np.int_)\n",
        "print(x)"
      ],
      "metadata": {
        "colab": {
          "base_uri": "https://localhost:8080/"
        },
        "id": "FvVKRi58Timr",
        "outputId": "dde66121-a9b0-4147-b6da-c7e611c77a40"
      },
      "execution_count": 10,
      "outputs": [
        {
          "output_type": "stream",
          "name": "stdout",
          "text": [
            "[0. 0. 0. 0. 0.]\n",
            "[0 0 0 0 0]\n"
          ]
        }
      ]
    },
    {
      "cell_type": "markdown",
      "source": [
        "**Establish 1D ndarray with ones() method**"
      ],
      "metadata": {
        "id": "kyjTMS5fTzyC"
      }
    },
    {
      "cell_type": "code",
      "source": [
        "import numpy as np\n",
        "x = np.ones(5)\n",
        "print(x)\n",
        "\n",
        "x = np.ones(5, dtype=np.int32)\n",
        "print(x)"
      ],
      "metadata": {
        "colab": {
          "base_uri": "https://localhost:8080/"
        },
        "id": "hsIMhcQvT30g",
        "outputId": "27872713-a57b-4e0d-d0af-c0825a967802"
      },
      "execution_count": 11,
      "outputs": [
        {
          "output_type": "stream",
          "name": "stdout",
          "text": [
            "[1. 1. 1. 1. 1.]\n",
            "[1 1 1 1 1]\n"
          ]
        }
      ]
    },
    {
      "cell_type": "markdown",
      "source": [
        "**Elementary arithmetic of Numpy**"
      ],
      "metadata": {
        "id": "CC0bVMR6UaJe"
      }
    },
    {
      "cell_type": "code",
      "source": [
        "import numpy as np\n",
        "x = np.array([1,2,3])\n",
        "y = x + 5\n",
        "print(y)"
      ],
      "metadata": {
        "colab": {
          "base_uri": "https://localhost:8080/"
        },
        "id": "LBxG72sLUcOG",
        "outputId": "71d6984c-91fc-42e5-afb5-b8ee61bc6468"
      },
      "execution_count": 12,
      "outputs": [
        {
          "output_type": "stream",
          "name": "stdout",
          "text": [
            "[6 7 8]\n"
          ]
        }
      ]
    },
    {
      "cell_type": "code",
      "source": [
        "import numpy as np\n",
        "x = np.array([1,2,3])\n",
        "y = np.array([4,5,6])\n",
        "z = x + y\n",
        "print(z)"
      ],
      "metadata": {
        "colab": {
          "base_uri": "https://localhost:8080/"
        },
        "id": "RlyILN98Umyl",
        "outputId": "baf29995-7744-4fb0-b7ee-770c4d59ae2d"
      },
      "execution_count": 13,
      "outputs": [
        {
          "output_type": "stream",
          "name": "stdout",
          "text": [
            "[5 7 9]\n"
          ]
        }
      ]
    },
    {
      "cell_type": "code",
      "source": [
        "z = x * y\n",
        "print(z)"
      ],
      "metadata": {
        "colab": {
          "base_uri": "https://localhost:8080/"
        },
        "id": "WynHdrEHUvoz",
        "outputId": "730ae93d-2a66-48eb-876f-a97f357b7820"
      },
      "execution_count": 14,
      "outputs": [
        {
          "output_type": "stream",
          "name": "stdout",
          "text": [
            "[ 4 10 18]\n"
          ]
        }
      ]
    },
    {
      "cell_type": "code",
      "source": [
        "z = x / y\n",
        "print(z)"
      ],
      "metadata": {
        "colab": {
          "base_uri": "https://localhost:8080/"
        },
        "id": "w00dzvUlUykL",
        "outputId": "f68e691b-105c-4092-8bef-f87953ab71d5"
      },
      "execution_count": 15,
      "outputs": [
        {
          "output_type": "stream",
          "name": "stdout",
          "text": [
            "[0.25 0.4  0.5 ]\n"
          ]
        }
      ]
    },
    {
      "cell_type": "markdown",
      "source": [
        "**Relational operator of Numpy**"
      ],
      "metadata": {
        "id": "E4urp_99U9df"
      }
    },
    {
      "cell_type": "code",
      "source": [
        "import numpy as np\n",
        "x = np.array([1,2,3])\n",
        "y = np.array([4,1,6])\n",
        "z = x > y\n",
        "print(z)"
      ],
      "metadata": {
        "colab": {
          "base_uri": "https://localhost:8080/"
        },
        "id": "7w1FoUThVI5D",
        "outputId": "4e69b6d7-0406-4c62-c527-42af379c020f"
      },
      "execution_count": 16,
      "outputs": [
        {
          "output_type": "stream",
          "name": "stdout",
          "text": [
            "[False  True False]\n"
          ]
        }
      ]
    },
    {
      "cell_type": "markdown",
      "source": [
        "**Slicing**"
      ],
      "metadata": {
        "id": "n98DtTCgVVDL"
      }
    },
    {
      "cell_type": "code",
      "source": [
        "import numpy as np\n",
        "x = np.array([1,2,3,4,5])\n",
        "\n",
        "print(x[0:3])\n",
        "print(x[1:4])\n",
        "print(x[0:5:2])\n",
        "print(x[-1])\n",
        "print(x[1:])\n",
        "print(x[:3])"
      ],
      "metadata": {
        "colab": {
          "base_uri": "https://localhost:8080/"
        },
        "id": "2LsYbJj4VX_U",
        "outputId": "6d79ca72-0d35-4d8a-9837-aa265cd2b376"
      },
      "execution_count": 17,
      "outputs": [
        {
          "output_type": "stream",
          "name": "stdout",
          "text": [
            "[1 2 3]\n",
            "[2 3 4]\n",
            "[1 3 5]\n",
            "5\n",
            "[2 3 4 5]\n",
            "[1 2 3]\n"
          ]
        }
      ]
    },
    {
      "cell_type": "markdown",
      "source": [
        "**Concatenate**"
      ],
      "metadata": {
        "id": "zXfcq9XPWAGH"
      }
    },
    {
      "cell_type": "code",
      "source": [
        "import numpy as np\n",
        "x = np.array([1,2,3])\n",
        "y = np.array([4,5])\n",
        "z = np.concatenate((x,y))\n",
        "print(z)"
      ],
      "metadata": {
        "colab": {
          "base_uri": "https://localhost:8080/"
        },
        "id": "I4tSZz0aWEVv",
        "outputId": "b5fb3821-1535-47b5-85df-52c907554c0e"
      },
      "execution_count": 18,
      "outputs": [
        {
          "output_type": "stream",
          "name": "stdout",
          "text": [
            "[1 2 3 4 5]\n"
          ]
        }
      ]
    },
    {
      "cell_type": "code",
      "source": [
        "import numpy as np\n",
        "x = np.array([1,2,3])\n",
        "z = np.concatenate((x,[4,5]))\n",
        "print(z)"
      ],
      "metadata": {
        "colab": {
          "base_uri": "https://localhost:8080/"
        },
        "id": "3sSVWLQQWPb2",
        "outputId": "f0c4aa30-e712-46e9-d214-824cff7f5ff7"
      },
      "execution_count": 19,
      "outputs": [
        {
          "output_type": "stream",
          "name": "stdout",
          "text": [
            "[1 2 3 4 5]\n"
          ]
        }
      ]
    },
    {
      "cell_type": "markdown",
      "source": [
        "**Insert**"
      ],
      "metadata": {
        "id": "S5KNUTZHWX31"
      }
    },
    {
      "cell_type": "code",
      "source": [
        "import numpy as np\n",
        "x = np.array([1,2,3])\n",
        "z = np.insert(x,2,9)\n",
        "print(z)"
      ],
      "metadata": {
        "colab": {
          "base_uri": "https://localhost:8080/"
        },
        "id": "N3yq5r0pWeNc",
        "outputId": "e0b1776d-3c73-42cc-9dac-1cf10abc8a55"
      },
      "execution_count": 20,
      "outputs": [
        {
          "output_type": "stream",
          "name": "stdout",
          "text": [
            "[1 2 9 3]\n"
          ]
        }
      ]
    },
    {
      "cell_type": "code",
      "source": [
        "import numpy as np\n",
        "x = np.array([1,2,3])\n",
        "z = np.insert(x,[0,2],[7,9])\n",
        "print(z)"
      ],
      "metadata": {
        "colab": {
          "base_uri": "https://localhost:8080/"
        },
        "id": "ylOjZ76fWuvx",
        "outputId": "319fbcce-a569-4046-a8a7-ea2aa66021c7"
      },
      "execution_count": 21,
      "outputs": [
        {
          "output_type": "stream",
          "name": "stdout",
          "text": [
            "[7 1 2 9 3]\n"
          ]
        }
      ]
    },
    {
      "cell_type": "markdown",
      "source": [
        "**Delete**"
      ],
      "metadata": {
        "id": "Dw__uk81W2KT"
      }
    },
    {
      "cell_type": "code",
      "source": [
        "import numpy as np\n",
        "x = np.array([1,2,3])\n",
        "z = np.delete(x,2)\n",
        "print(z)"
      ],
      "metadata": {
        "colab": {
          "base_uri": "https://localhost:8080/"
        },
        "id": "kP8aNOq1W306",
        "outputId": "5602737c-d871-4b88-e4de-ff4e75b542c0"
      },
      "execution_count": 23,
      "outputs": [
        {
          "output_type": "stream",
          "name": "stdout",
          "text": [
            "[1 2]\n"
          ]
        }
      ]
    },
    {
      "cell_type": "code",
      "source": [
        "import numpy as np\n",
        "x = np.array([1,2,3])\n",
        "z = np.delete(x,[0,2])\n",
        "print(z)"
      ],
      "metadata": {
        "colab": {
          "base_uri": "https://localhost:8080/"
        },
        "id": "EJcOgppFXHwq",
        "outputId": "b8762964-719b-4876-80a9-152f9727e2f1"
      },
      "execution_count": 24,
      "outputs": [
        {
          "output_type": "stream",
          "name": "stdout",
          "text": [
            "[2]\n"
          ]
        }
      ]
    },
    {
      "cell_type": "markdown",
      "source": [
        "**Inner Product**"
      ],
      "metadata": {
        "id": "_NvYiGjzXhwE"
      }
    },
    {
      "cell_type": "code",
      "source": [
        "import numpy as np\n",
        "x = np.array([1,2,3])\n",
        "y = np.array([4,1,6])\n",
        "\n",
        "z = np.inner(x,y)\n",
        "print(z)\n",
        "\n",
        "z = np.dot(x,y)\n",
        "print(z)"
      ],
      "metadata": {
        "colab": {
          "base_uri": "https://localhost:8080/"
        },
        "id": "qu5kTlTgXkTP",
        "outputId": "1144803d-c9ca-4340-a61d-7b03cba7c30c"
      },
      "execution_count": 26,
      "outputs": [
        {
          "output_type": "stream",
          "name": "stdout",
          "text": [
            "24\n",
            "24\n"
          ]
        }
      ]
    },
    {
      "cell_type": "markdown",
      "source": [
        "**Cross Product**"
      ],
      "metadata": {
        "id": "WXSNrbPKX-2P"
      }
    },
    {
      "cell_type": "code",
      "source": [
        "import numpy as np\n",
        "x = np.array([1,2,3])\n",
        "y = np.array([4,5,6])\n",
        "\n",
        "z = np.cross(x,y)\n",
        "print(z)"
      ],
      "metadata": {
        "colab": {
          "base_uri": "https://localhost:8080/"
        },
        "id": "gSLbO-VRYBXt",
        "outputId": "a9c4b02b-ae63-48e0-cf6e-3b7dfdf406ca"
      },
      "execution_count": 31,
      "outputs": [
        {
          "output_type": "stream",
          "name": "stdout",
          "text": [
            "[-3  6 -3]\n"
          ]
        }
      ]
    },
    {
      "cell_type": "markdown",
      "source": [
        "**Outer Product**"
      ],
      "metadata": {
        "id": "Cvnq1GnzYZ0e"
      }
    },
    {
      "cell_type": "code",
      "source": [
        "import numpy as np\n",
        "x = np.array([1,2,3])\n",
        "y = np.array([4,5,6])\n",
        "\n",
        "z = np.outer(x,y)\n",
        "print(z)"
      ],
      "metadata": {
        "colab": {
          "base_uri": "https://localhost:8080/"
        },
        "id": "XEw_9M1OYcXk",
        "outputId": "64664f3a-072a-481f-c17e-27311e5e46c5"
      },
      "execution_count": 32,
      "outputs": [
        {
          "output_type": "stream",
          "name": "stdout",
          "text": [
            "[[ 4  5  6]\n",
            " [ 8 10 12]\n",
            " [12 15 18]]\n"
          ]
        }
      ]
    },
    {
      "cell_type": "markdown",
      "source": [
        "**Iteration**"
      ],
      "metadata": {
        "id": "Sm0NRauKYnf2"
      }
    },
    {
      "cell_type": "code",
      "source": [
        "import numpy as np\n",
        "sum = 0\n",
        "x = np.array([88, 92, 90, 0, 0])\n",
        "for data in x:\n",
        "  sum += data\n",
        "print(sum)"
      ],
      "metadata": {
        "colab": {
          "base_uri": "https://localhost:8080/"
        },
        "id": "1gkQSIT1YqST",
        "outputId": "d419676a-ff4c-468a-ee21-e3e04e6c21ac"
      },
      "execution_count": 33,
      "outputs": [
        {
          "output_type": "stream",
          "name": "stdout",
          "text": [
            "270\n"
          ]
        }
      ]
    },
    {
      "cell_type": "markdown",
      "source": [
        "**<h1> 2D ndarray**"
      ],
      "metadata": {
        "id": "eabYclXidUsB"
      }
    },
    {
      "cell_type": "code",
      "source": [
        "import numpy as np\n",
        "x = np.array([[1,2,3],[4,5,6]])\n",
        "print(type(x))\n",
        "print(x)\n",
        "\n",
        "print(\"x.dtype : \", x.dtype)\n",
        "print(\"x.itemsize : \", x.itemsize)\n",
        "print(\"x.ndim : \", x.ndim)\n",
        "print(\"x.shape : \", x.shape)\n",
        "print(\"x.size : \", x.size)"
      ],
      "metadata": {
        "colab": {
          "base_uri": "https://localhost:8080/"
        },
        "id": "NWB72aYfdZsp",
        "outputId": "af2ee595-215d-48fb-e401-08ddfc6d6653"
      },
      "execution_count": 34,
      "outputs": [
        {
          "output_type": "stream",
          "name": "stdout",
          "text": [
            "<class 'numpy.ndarray'>\n",
            "[[1 2 3]\n",
            " [4 5 6]]\n",
            "x.dtype :  int64\n",
            "x.itemsize :  8\n",
            "x.ndim :  2\n",
            "x.shape :  (2, 3)\n",
            "x.size :  6\n"
          ]
        }
      ]
    },
    {
      "cell_type": "code",
      "source": [
        "print(x[0])\n",
        "print(x[0,])\n",
        "print(x[0,:])"
      ],
      "metadata": {
        "colab": {
          "base_uri": "https://localhost:8080/"
        },
        "id": "kciuE47ReMtg",
        "outputId": "900a068a-2ec0-4750-d358-53d1e27a3d3a"
      },
      "execution_count": 35,
      "outputs": [
        {
          "output_type": "stream",
          "name": "stdout",
          "text": [
            "[1 2 3]\n",
            "[1 2 3]\n",
            "[1 2 3]\n"
          ]
        }
      ]
    },
    {
      "cell_type": "code",
      "source": [
        "print(x[:,0])"
      ],
      "metadata": {
        "colab": {
          "base_uri": "https://localhost:8080/"
        },
        "id": "RF5TapL5eXBO",
        "outputId": "3b0352ff-0715-4f1a-b1b0-006574e3287a"
      },
      "execution_count": 37,
      "outputs": [
        {
          "output_type": "stream",
          "name": "stdout",
          "text": [
            "[1 4]\n"
          ]
        }
      ]
    },
    {
      "cell_type": "markdown",
      "source": [
        "**Slicing**"
      ],
      "metadata": {
        "id": "lKEXRBSre4Ct"
      }
    },
    {
      "cell_type": "code",
      "source": [
        "import numpy as np\n",
        "x = np.array([[1,2,3,4],[2,3,4,5],[3,4,5,6]])\n",
        "\n",
        "print(x[0:3,0])\n",
        "print(\"---------------------------------------------------------\")\n",
        "\n",
        "print(x[0:2,2:4])\n",
        "print(\"---------------------------------------------------------\")\n",
        "\n",
        "print(x[:2])\n",
        "print(\"---------------------------------------------------------\")\n",
        "\n",
        "print(x[1:])\n",
        "print(\"---------------------------------------------------------\")"
      ],
      "metadata": {
        "colab": {
          "base_uri": "https://localhost:8080/"
        },
        "id": "7pPlg1xCe8V-",
        "outputId": "7c8d52a7-78fd-463a-c635-dd9defad165b"
      },
      "execution_count": 38,
      "outputs": [
        {
          "output_type": "stream",
          "name": "stdout",
          "text": [
            "[1 2 3]\n",
            "---------------------------------------------------------\n",
            "[[3 4]\n",
            " [4 5]]\n",
            "---------------------------------------------------------\n",
            "[[1 2 3 4]\n",
            " [2 3 4 5]]\n",
            "---------------------------------------------------------\n",
            "[[2 3 4 5]\n",
            " [3 4 5 6]]\n",
            "---------------------------------------------------------\n"
          ]
        }
      ]
    },
    {
      "cell_type": "markdown",
      "source": [
        "**Reshape**"
      ],
      "metadata": {
        "id": "242YFdpgfpoz"
      }
    },
    {
      "cell_type": "code",
      "source": [
        "import numpy as np\n",
        "x = np.array([1,2,3,4,5,6])\n",
        "\n",
        "y = x.reshape(2,3)\n",
        "print(y)\n",
        "\n",
        "z = x.reshape(3,2)\n",
        "print(z)"
      ],
      "metadata": {
        "colab": {
          "base_uri": "https://localhost:8080/"
        },
        "id": "0I2BoN60fq6D",
        "outputId": "386d6253-ee92-4111-9d82-ea6ed43db3dc"
      },
      "execution_count": 39,
      "outputs": [
        {
          "output_type": "stream",
          "name": "stdout",
          "text": [
            "[[1 2 3]\n",
            " [4 5 6]]\n",
            "[[1 2]\n",
            " [3 4]\n",
            " [5 6]]\n"
          ]
        }
      ]
    },
    {
      "cell_type": "markdown",
      "source": [
        "**Ravel**"
      ],
      "metadata": {
        "id": "6IuDCWWgf8qa"
      }
    },
    {
      "cell_type": "code",
      "source": [
        "import numpy as np\n",
        "x = np.array([[1,2,3,4],[2,3,4,5]])\n",
        "y = x.ravel()\n",
        "print(y)"
      ],
      "metadata": {
        "colab": {
          "base_uri": "https://localhost:8080/"
        },
        "id": "s5Z9AgDTf-Kh",
        "outputId": "34208370-8a58-47ee-913a-bf319a19660d"
      },
      "execution_count": 41,
      "outputs": [
        {
          "output_type": "stream",
          "name": "stdout",
          "text": [
            "[1 2 3 4 2 3 4 5]\n"
          ]
        }
      ]
    },
    {
      "cell_type": "markdown",
      "source": [
        "**Resize , original changed**"
      ],
      "metadata": {
        "id": "ThVT-NGcgUTZ"
      }
    },
    {
      "cell_type": "code",
      "source": [
        "import numpy as np\n",
        "x = np.array([[1,2,3,4],[2,3,4,5]])\n",
        "x.resize(3,2)\n",
        "print(x)"
      ],
      "metadata": {
        "colab": {
          "base_uri": "https://localhost:8080/"
        },
        "id": "Eiy7figEgY6A",
        "outputId": "a63d997d-16dd-49a1-c6ab-58d555526783"
      },
      "execution_count": 42,
      "outputs": [
        {
          "output_type": "stream",
          "name": "stdout",
          "text": [
            "[[1 2]\n",
            " [3 4]\n",
            " [2 3]]\n"
          ]
        }
      ]
    },
    {
      "cell_type": "markdown",
      "source": [
        "**Transpose**"
      ],
      "metadata": {
        "id": "RTVuFVllgxt7"
      }
    },
    {
      "cell_type": "code",
      "source": [
        "import numpy as np\n",
        "x = np.arange(8).reshape(4,2) #arange()\n",
        "print(x)\n",
        "\n",
        "y = x.transpose()\n",
        "print(y)\n",
        "\n",
        "y = x.T\n",
        "print(y)"
      ],
      "metadata": {
        "colab": {
          "base_uri": "https://localhost:8080/"
        },
        "id": "q73V-FI4g8Bg",
        "outputId": "1c83a501-3764-4036-b30a-233381e78ad9"
      },
      "execution_count": 47,
      "outputs": [
        {
          "output_type": "stream",
          "name": "stdout",
          "text": [
            "[[0 1]\n",
            " [2 3]\n",
            " [4 5]\n",
            " [6 7]]\n",
            "[[0 2 4 6]\n",
            " [1 3 5 7]]\n",
            "[[0 2 4 6]\n",
            " [1 3 5 7]]\n"
          ]
        }
      ]
    },
    {
      "cell_type": "markdown",
      "source": [
        "**Split - hsplit(),vsplit()**"
      ],
      "metadata": {
        "id": "KpqnJyLGhjXV"
      }
    },
    {
      "cell_type": "code",
      "source": [
        "import numpy as np\n",
        "x = np.arange(16).reshape(4,4)\n",
        "print(x)"
      ],
      "metadata": {
        "colab": {
          "base_uri": "https://localhost:8080/"
        },
        "id": "fCheIa3XhkdE",
        "outputId": "9509de93-d06c-462e-e945-bef87267babd"
      },
      "execution_count": 48,
      "outputs": [
        {
          "output_type": "stream",
          "name": "stdout",
          "text": [
            "[[ 0  1  2  3]\n",
            " [ 4  5  6  7]\n",
            " [ 8  9 10 11]\n",
            " [12 13 14 15]]\n"
          ]
        }
      ]
    },
    {
      "cell_type": "code",
      "source": [
        "y1,y2 = np.hsplit(x,2)\n",
        "print(y1)\n",
        "print(y2)"
      ],
      "metadata": {
        "colab": {
          "base_uri": "https://localhost:8080/"
        },
        "id": "u6DWz1qbhuU1",
        "outputId": "24ce589d-557c-4bf3-8d11-8a4c8abc9929"
      },
      "execution_count": 49,
      "outputs": [
        {
          "output_type": "stream",
          "name": "stdout",
          "text": [
            "[[ 0  1]\n",
            " [ 4  5]\n",
            " [ 8  9]\n",
            " [12 13]]\n",
            "[[ 2  3]\n",
            " [ 6  7]\n",
            " [10 11]\n",
            " [14 15]]\n"
          ]
        }
      ]
    },
    {
      "cell_type": "code",
      "source": [
        "y1,y2,y3,y4 = np.hsplit(x,4)\n",
        "print(y1)\n",
        "print(y2)"
      ],
      "metadata": {
        "colab": {
          "base_uri": "https://localhost:8080/"
        },
        "id": "M9ZWiOc2h3LE",
        "outputId": "7f6fad0e-bfd5-4874-8ec3-ded61923057c"
      },
      "execution_count": 52,
      "outputs": [
        {
          "output_type": "stream",
          "name": "stdout",
          "text": [
            "[[ 0]\n",
            " [ 4]\n",
            " [ 8]\n",
            " [12]]\n",
            "[[ 1]\n",
            " [ 5]\n",
            " [ 9]\n",
            " [13]]\n"
          ]
        }
      ]
    },
    {
      "cell_type": "code",
      "source": [
        "y1,y2 = np.vsplit(x,2)\n",
        "print(y1)\n",
        "print(y2)"
      ],
      "metadata": {
        "colab": {
          "base_uri": "https://localhost:8080/"
        },
        "id": "O7HMVValh_mu",
        "outputId": "c38deb38-f491-4b09-ab14-a81bd2fd1d46"
      },
      "execution_count": 53,
      "outputs": [
        {
          "output_type": "stream",
          "name": "stdout",
          "text": [
            "[[0 1 2 3]\n",
            " [4 5 6 7]]\n",
            "[[ 8  9 10 11]\n",
            " [12 13 14 15]]\n"
          ]
        }
      ]
    },
    {
      "cell_type": "markdown",
      "source": [
        "**Stack - hstack(),vstack(),column_stack(),row_stack()**"
      ],
      "metadata": {
        "id": "r6W6pHlFiHW3"
      }
    },
    {
      "cell_type": "code",
      "source": [
        "import numpy as np\n",
        "x = np.arange(4).reshape(2,2)\n",
        "print(x)\n",
        "\n",
        "y = np.arange(4,8).reshape(2,2)\n",
        "print(y)"
      ],
      "metadata": {
        "colab": {
          "base_uri": "https://localhost:8080/"
        },
        "id": "Pw7jbgCAiIsL",
        "outputId": "ad30c74c-d379-488b-df61-3c0a196ccba7"
      },
      "execution_count": 55,
      "outputs": [
        {
          "output_type": "stream",
          "name": "stdout",
          "text": [
            "[[0 1]\n",
            " [2 3]]\n",
            "[[4 5]\n",
            " [6 7]]\n"
          ]
        }
      ]
    },
    {
      "cell_type": "code",
      "source": [
        "z = np.hstack((x,y))\n",
        "print(z)"
      ],
      "metadata": {
        "colab": {
          "base_uri": "https://localhost:8080/"
        },
        "id": "JYZbOA6siz0K",
        "outputId": "7c29dde6-8d85-4711-d08a-2a4924de010d"
      },
      "execution_count": 57,
      "outputs": [
        {
          "output_type": "stream",
          "name": "stdout",
          "text": [
            "[[0 1 4 5]\n",
            " [2 3 6 7]]\n"
          ]
        }
      ]
    },
    {
      "cell_type": "code",
      "source": [
        "z = np.vstack((x,y))\n",
        "print(z)"
      ],
      "metadata": {
        "colab": {
          "base_uri": "https://localhost:8080/"
        },
        "id": "avWJ04Moi-C4",
        "outputId": "fc33ccd1-f970-469f-ef2a-e5f9112e7460"
      },
      "execution_count": 58,
      "outputs": [
        {
          "output_type": "stream",
          "name": "stdout",
          "text": [
            "[[0 1]\n",
            " [2 3]\n",
            " [4 5]\n",
            " [6 7]]\n"
          ]
        }
      ]
    },
    {
      "cell_type": "code",
      "source": [
        "z = np.column_stack((x,y))\n",
        "print(z)"
      ],
      "metadata": {
        "colab": {
          "base_uri": "https://localhost:8080/"
        },
        "id": "cf11zfn6jGqI",
        "outputId": "822f0ec1-b6b4-411c-9dc3-5216129d6fc2"
      },
      "execution_count": 59,
      "outputs": [
        {
          "output_type": "stream",
          "name": "stdout",
          "text": [
            "[[0 1 4 5]\n",
            " [2 3 6 7]]\n"
          ]
        }
      ]
    },
    {
      "cell_type": "code",
      "source": [
        "z = np.row_stack((x,y))\n",
        "print(z)"
      ],
      "metadata": {
        "colab": {
          "base_uri": "https://localhost:8080/"
        },
        "id": "K2mi93IcjJx4",
        "outputId": "d72aeb9f-80a4-498f-c7b8-ee3b8d4220a6"
      },
      "execution_count": 60,
      "outputs": [
        {
          "output_type": "stream",
          "name": "stdout",
          "text": [
            "[[0 1]\n",
            " [2 3]\n",
            " [4 5]\n",
            " [6 7]]\n"
          ]
        }
      ]
    },
    {
      "cell_type": "markdown",
      "source": [
        "**Multiplication (Inner Product)**"
      ],
      "metadata": {
        "id": "jMBaLswyjVe0"
      }
    },
    {
      "cell_type": "code",
      "source": [
        "import numpy as np\n",
        "x = np.array([[1,2],[3,4]])\n",
        "y = np.array([[5,6],[7,8]])\n",
        "z = np.dot(x,y)\n",
        "print(z)"
      ],
      "metadata": {
        "colab": {
          "base_uri": "https://localhost:8080/"
        },
        "id": "PF5o5hVWjkQ_",
        "outputId": "c8a1ee11-2c9d-4e21-fa36-398df46f5084"
      },
      "execution_count": 63,
      "outputs": [
        {
          "output_type": "stream",
          "name": "stdout",
          "text": [
            "[[19 22]\n",
            " [43 50]]\n"
          ]
        }
      ]
    },
    {
      "cell_type": "code",
      "source": [
        "import numpy as np\n",
        "x = np.array([[1,0,2],[-1,3,1]])\n",
        "y = np.array([[3,1],[2,1],[1,0]])\n",
        "z = x@y\n",
        "print(z)"
      ],
      "metadata": {
        "colab": {
          "base_uri": "https://localhost:8080/"
        },
        "id": "Wk2L4sVQjtpx",
        "outputId": "5fc32516-9a5e-4fff-a8bf-62e19796b0d5"
      },
      "execution_count": 64,
      "outputs": [
        {
          "output_type": "stream",
          "name": "stdout",
          "text": [
            "[[5 1]\n",
            " [4 2]]\n"
          ]
        }
      ]
    },
    {
      "cell_type": "markdown",
      "source": [
        "**Iteration**"
      ],
      "metadata": {
        "id": "lGsHnLz5lPfH"
      }
    },
    {
      "cell_type": "code",
      "source": [
        "import numpy as np\n",
        "\n",
        "A = 0\n",
        "X = np.arange(1,101).reshape(10,10)\n",
        "print(X)\n",
        "print(\"-------------------------------------------------\")\n",
        "\n",
        "for x in X:\n",
        "  print(x)\n",
        "  A += x\n",
        "print(type(A))\n",
        "print(\"A = \", A)\n",
        "print(\"-------------------------------------------------\")\n",
        "\n",
        "sum = 0\n",
        "for a in A:\n",
        "  sum += a\n",
        "print(type(sum))\n",
        "print(\"sum = \", sum)"
      ],
      "metadata": {
        "colab": {
          "base_uri": "https://localhost:8080/"
        },
        "id": "ZHSavwJ2lQxb",
        "outputId": "311308f0-b545-4314-8d86-0f0edac10733"
      },
      "execution_count": 67,
      "outputs": [
        {
          "output_type": "stream",
          "name": "stdout",
          "text": [
            "[[  1   2   3   4   5   6   7   8   9  10]\n",
            " [ 11  12  13  14  15  16  17  18  19  20]\n",
            " [ 21  22  23  24  25  26  27  28  29  30]\n",
            " [ 31  32  33  34  35  36  37  38  39  40]\n",
            " [ 41  42  43  44  45  46  47  48  49  50]\n",
            " [ 51  52  53  54  55  56  57  58  59  60]\n",
            " [ 61  62  63  64  65  66  67  68  69  70]\n",
            " [ 71  72  73  74  75  76  77  78  79  80]\n",
            " [ 81  82  83  84  85  86  87  88  89  90]\n",
            " [ 91  92  93  94  95  96  97  98  99 100]]\n",
            "-------------------------------------------------\n",
            "[ 1  2  3  4  5  6  7  8  9 10]\n",
            "[11 12 13 14 15 16 17 18 19 20]\n",
            "[21 22 23 24 25 26 27 28 29 30]\n",
            "[31 32 33 34 35 36 37 38 39 40]\n",
            "[41 42 43 44 45 46 47 48 49 50]\n",
            "[51 52 53 54 55 56 57 58 59 60]\n",
            "[61 62 63 64 65 66 67 68 69 70]\n",
            "[71 72 73 74 75 76 77 78 79 80]\n",
            "[81 82 83 84 85 86 87 88 89 90]\n",
            "[ 91  92  93  94  95  96  97  98  99 100]\n",
            "<class 'numpy.ndarray'>\n",
            "A =  [460 470 480 490 500 510 520 530 540 550]\n",
            "-------------------------------------------------\n",
            "<class 'numpy.int64'>\n",
            "sum =  5050\n"
          ]
        }
      ]
    },
    {
      "cell_type": "markdown",
      "source": [
        "**<h1> Linear Algebra**"
      ],
      "metadata": {
        "id": "3wkpr8Run1Rw"
      }
    },
    {
      "cell_type": "code",
      "source": [
        "#Quadratic equation\n",
        "import numpy as np\n",
        "r = np.roots([3,5,1])\n",
        "print(r)"
      ],
      "metadata": {
        "colab": {
          "base_uri": "https://localhost:8080/"
        },
        "id": "SpvEiMC0n6Ko",
        "outputId": "bf7e0185-61a6-40a2-a639-b067e216dd37"
      },
      "execution_count": 70,
      "outputs": [
        {
          "output_type": "stream",
          "name": "stdout",
          "text": [
            "[-1.43425855 -0.23240812]\n"
          ]
        }
      ]
    },
    {
      "cell_type": "code",
      "source": [
        "#Simultaneous Linear Equations\n",
        "import numpy as np\n",
        "coeff = np.array([[3,5],[2,3]])\n",
        "deps = np.array([18,11])\n",
        "ans = np.linalg.solve(coeff, deps)\n",
        "print(ans)\n",
        "\n",
        "# verify\n",
        "y = np.dot(coeff,ans)\n",
        "print(y)\n",
        "\n",
        "# allclose\n",
        "print(np.allclose(y, deps))"
      ],
      "metadata": {
        "colab": {
          "base_uri": "https://localhost:8080/"
        },
        "id": "CbUEPglVo1JD",
        "outputId": "db7b0f5f-a1b3-4234-90b0-949592fcf2c1"
      },
      "execution_count": 74,
      "outputs": [
        {
          "output_type": "stream",
          "name": "stdout",
          "text": [
            "[1. 3.]\n",
            "[18. 11.]\n",
            "True\n"
          ]
        }
      ]
    },
    {
      "cell_type": "markdown",
      "source": [
        "**<h1> Broadcast**"
      ],
      "metadata": {
        "id": "KB1KXesCwcfU"
      }
    },
    {
      "cell_type": "code",
      "source": [
        "#Broadcast\n",
        "import numpy as np\n",
        "x = np.array([1,2,3])\n",
        "y = 5\n",
        "z = x + y\n",
        "print(z)\n",
        "\n",
        "r = [5]\n",
        "s = x + r\n",
        "print(s)\n",
        "print(\"-------------------------------------------------------\")\n",
        "\n",
        "x = np.array([1,2,3])\n",
        "y = np.array([[1,2,3],[4,5,6]])\n",
        "z = x + y\n",
        "print(z)\n",
        "print(\"-------------------------------------------------------\")\n",
        "\n",
        "x = np.array([1,2,3]).reshape(3,1)\n",
        "y = np.ones(5)\n",
        "\n",
        "z = x + y\n",
        "print(z)"
      ],
      "metadata": {
        "colab": {
          "base_uri": "https://localhost:8080/"
        },
        "id": "5i1mWmPmvC3l",
        "outputId": "c57f4bb5-5c25-4d9c-aceb-1312587c7404"
      },
      "execution_count": 78,
      "outputs": [
        {
          "output_type": "stream",
          "name": "stdout",
          "text": [
            "[6 7 8]\n",
            "[6 7 8]\n",
            "-------------------------------------------------------\n",
            "[[2 4 6]\n",
            " [5 7 9]]\n",
            "-------------------------------------------------------\n",
            "[[2. 2. 2. 2. 2.]\n",
            " [3. 3. 3. 3. 3.]\n",
            " [4. 4. 4. 4. 4.]]\n"
          ]
        }
      ]
    },
    {
      "cell_type": "markdown",
      "source": [
        "**<h1> Trigonometric Functions**"
      ],
      "metadata": {
        "id": "-lqnXgdkwp3U"
      }
    },
    {
      "cell_type": "code",
      "source": [
        "#Degrees and Radians\n",
        "import numpy as np\n",
        "rad = np.arange(12)*np.pi/6\n",
        "print(\"rad : \", rad)\n",
        "\n",
        "x = np.degrees(rad)\n",
        "print(\"deg : \",x)"
      ],
      "metadata": {
        "colab": {
          "base_uri": "https://localhost:8080/"
        },
        "id": "h_d6jm0kwzXc",
        "outputId": "5d562a5a-2e0d-430b-f692-52b0f10f221d"
      },
      "execution_count": 80,
      "outputs": [
        {
          "output_type": "stream",
          "name": "stdout",
          "text": [
            "rad :  [0.         0.52359878 1.04719755 1.57079633 2.0943951  2.61799388\n",
            " 3.14159265 3.66519143 4.1887902  4.71238898 5.23598776 5.75958653]\n",
            "deg :  [  0.  30.  60.  90. 120. 150. 180. 210. 240. 270. 300. 330.]\n"
          ]
        }
      ]
    },
    {
      "cell_type": "code",
      "source": [
        "#Degrees and Radians\n",
        "import numpy as np\n",
        "deg = np.arange(12)*30\n",
        "x = np.radians(deg)\n",
        "print(\"rad : \",x )"
      ],
      "metadata": {
        "colab": {
          "base_uri": "https://localhost:8080/"
        },
        "id": "VUwiYQ7GxR2Z",
        "outputId": "67803418-80b0-42a3-eea6-ce9b9e9b64ad"
      },
      "execution_count": 82,
      "outputs": [
        {
          "output_type": "stream",
          "name": "stdout",
          "text": [
            "rad :  [0.         0.52359878 1.04719755 1.57079633 2.0943951  2.61799388\n",
            " 3.14159265 3.66519143 4.1887902  4.71238898 5.23598776 5.75958653]\n"
          ]
        }
      ]
    },
    {
      "cell_type": "markdown",
      "source": [
        "**<h1> Numpy Methods**"
      ],
      "metadata": {
        "id": "ioy8KOag4CAT"
      }
    },
    {
      "cell_type": "code",
      "source": [
        "#prod()\n",
        "print(np.prod([]))\n",
        "print(np.prod([1,2,3]))\n",
        "print(np.prod([[1,2],[3,4]]))\n",
        "print(np.prod([[1,2],[3,4]],axis=0))\n",
        "print(np.prod([[1,2],[3,4]],axis=1))\n",
        "print(np.prod([[1,2],[3,4],[5,6]],axis=0))\n",
        "print(np.prod([[1,2],[3,4],[5,6]],axis=1))"
      ],
      "metadata": {
        "colab": {
          "base_uri": "https://localhost:8080/"
        },
        "id": "9-BnOG6z1aEq",
        "outputId": "c3dd5337-740a-4c7c-d6fd-e917361dc1d6"
      },
      "execution_count": 88,
      "outputs": [
        {
          "output_type": "stream",
          "name": "stdout",
          "text": [
            "1.0\n",
            "6\n",
            "24\n",
            "[3 8]\n",
            "[ 2 12]\n",
            "[15 48]\n",
            "[ 2 12 30]\n"
          ]
        }
      ]
    },
    {
      "cell_type": "code",
      "source": [
        "#sum()\n",
        "print(np.sum([]))\n",
        "print(np.sum([1,2,3]))\n",
        "print(np.sum([1.1,2.2,3.3]))\n",
        "print(np.sum([[1,2],[3,4]],axis=0))\n",
        "print(np.sum([[1,2],[3,4]],axis=1))"
      ],
      "metadata": {
        "colab": {
          "base_uri": "https://localhost:8080/"
        },
        "id": "VZaensK72ns4",
        "outputId": "0dd37ba1-c940-481f-9d0a-9d93d607e8fb"
      },
      "execution_count": 89,
      "outputs": [
        {
          "output_type": "stream",
          "name": "stdout",
          "text": [
            "0.0\n",
            "6\n",
            "6.6\n",
            "[4 6]\n",
            "[3 7]\n"
          ]
        }
      ]
    },
    {
      "cell_type": "code",
      "source": [
        "#sum()\n",
        "import numpy as np\n",
        "X = np.arange(1,101).reshape(10,10)\n",
        "A = np.sum(X, axis=0)\n",
        "print(\"A = \",A)\n",
        "sum = np.sum(X)\n",
        "print(\"sum = \",sum)"
      ],
      "metadata": {
        "colab": {
          "base_uri": "https://localhost:8080/"
        },
        "id": "tb67-uFX28Vz",
        "outputId": "a40b434e-376e-4238-babf-8310d40e3e8f"
      },
      "execution_count": 90,
      "outputs": [
        {
          "output_type": "stream",
          "name": "stdout",
          "text": [
            "A =  [460 470 480 490 500 510 520 530 540 550]\n",
            "sum =  5050\n"
          ]
        }
      ]
    },
    {
      "cell_type": "code",
      "source": [
        "#diff\n",
        "x = np.array([1,4,7,0,5])\n",
        "print(np.diff(x))\n",
        "print(np.diff(x, n=2))\n",
        "\n",
        "y = np.array([[1,4,6,10],[0,2,5,9]])\n",
        "print(np.diff(y))\n",
        "print(np.diff(y, axis=0))"
      ],
      "metadata": {
        "colab": {
          "base_uri": "https://localhost:8080/"
        },
        "id": "u9QJ27nE3YMz",
        "outputId": "33f9c1d5-ab16-4c6d-a8f6-7ab83f7500a7"
      },
      "execution_count": 92,
      "outputs": [
        {
          "output_type": "stream",
          "name": "stdout",
          "text": [
            "[ 3  3 -7  5]\n",
            "[  0 -10  12]\n",
            "[[3 2 4]\n",
            " [2 3 4]]\n",
            "[[-1 -2 -1 -1]]\n"
          ]
        }
      ]
    },
    {
      "cell_type": "code",
      "source": [
        "#round()\n",
        "print(np.around([[0.49],[1.82]]))\n",
        "print(np.around([[0.49],[1.82]], decimals=1))"
      ],
      "metadata": {
        "colab": {
          "base_uri": "https://localhost:8080/"
        },
        "id": "Bbw6Anrw38pQ",
        "outputId": "1deb6f76-9792-4b49-8e86-8eb7e65a94df"
      },
      "execution_count": 94,
      "outputs": [
        {
          "output_type": "stream",
          "name": "stdout",
          "text": [
            "[[0.]\n",
            " [2.]]\n",
            "[[0.5]\n",
            " [1.8]]\n"
          ]
        }
      ]
    },
    {
      "cell_type": "code",
      "source": [
        "#rint()\n",
        "print(np.rint([1.4,1.5,1.6,2.5]))"
      ],
      "metadata": {
        "colab": {
          "base_uri": "https://localhost:8080/"
        },
        "id": "18RQuJ-J4aww",
        "outputId": "d24646a0-ece4-4681-8419-ed52563dcdd4"
      },
      "execution_count": 95,
      "outputs": [
        {
          "output_type": "stream",
          "name": "stdout",
          "text": [
            "[1. 2. 2. 2.]\n"
          ]
        }
      ]
    },
    {
      "cell_type": "code",
      "source": [
        "#floor()\n",
        "print(np.floor([1.4,1.5,1.6,2.5]))"
      ],
      "metadata": {
        "colab": {
          "base_uri": "https://localhost:8080/"
        },
        "id": "mvrhkJHc4yEA",
        "outputId": "286f05d9-6901-4879-dd9c-9d3a3d4b0d97"
      },
      "execution_count": 96,
      "outputs": [
        {
          "output_type": "stream",
          "name": "stdout",
          "text": [
            "[1. 1. 1. 2.]\n"
          ]
        }
      ]
    },
    {
      "cell_type": "code",
      "source": [
        "#ceil()\n",
        "print(np.ceil([1.4,1.5,1.6,2.5]))"
      ],
      "metadata": {
        "colab": {
          "base_uri": "https://localhost:8080/"
        },
        "id": "EE_J0F-y5Kca",
        "outputId": "87bc009b-3fda-4184-b930-9f397caac6c9"
      },
      "execution_count": 98,
      "outputs": [
        {
          "output_type": "stream",
          "name": "stdout",
          "text": [
            "[2. 2. 2. 3.]\n"
          ]
        }
      ]
    },
    {
      "cell_type": "code",
      "source": [
        "#trunc()\n",
        "print(np.trunc([1.4,1.5,1.6,2.5]))"
      ],
      "metadata": {
        "colab": {
          "base_uri": "https://localhost:8080/"
        },
        "id": "53i-N6Vv4xtj",
        "outputId": "5c9c5d50-d910-4cdd-cd53-fac04e78c329"
      },
      "execution_count": 97,
      "outputs": [
        {
          "output_type": "stream",
          "name": "stdout",
          "text": [
            "[1. 1. 1. 2.]\n"
          ]
        }
      ]
    },
    {
      "cell_type": "markdown",
      "source": [
        "**<h1> Greatest Common Divisor & Lowest Common Multiple**"
      ],
      "metadata": {
        "id": "hQoXM-sd5UqJ"
      }
    },
    {
      "cell_type": "code",
      "source": [
        "np.gcd(12,20)"
      ],
      "metadata": {
        "colab": {
          "base_uri": "https://localhost:8080/"
        },
        "id": "2nCA1ZYu5dgx",
        "outputId": "35a74aae-4588-4c35-ec67-bca6abd39a91"
      },
      "execution_count": 99,
      "outputs": [
        {
          "output_type": "execute_result",
          "data": {
            "text/plain": [
              "4"
            ]
          },
          "metadata": {},
          "execution_count": 99
        }
      ]
    },
    {
      "cell_type": "code",
      "source": [
        "np.lcm(12,20)"
      ],
      "metadata": {
        "colab": {
          "base_uri": "https://localhost:8080/"
        },
        "id": "uQ0vrEoZ5hWO",
        "outputId": "2edcf970-6e6e-4bd2-c29a-bee67694ebe4"
      },
      "execution_count": 100,
      "outputs": [
        {
          "output_type": "execute_result",
          "data": {
            "text/plain": [
              "60"
            ]
          },
          "metadata": {},
          "execution_count": 100
        }
      ]
    },
    {
      "cell_type": "markdown",
      "source": [
        "**<h1> Exponential Function & logarithmic Function ?**"
      ],
      "metadata": {
        "id": "gUTPmL4p5-_y"
      }
    },
    {
      "cell_type": "code",
      "source": [
        "np.negative([-3])"
      ],
      "metadata": {
        "colab": {
          "base_uri": "https://localhost:8080/"
        },
        "id": "734Iz1kp6EaV",
        "outputId": "363f37c0-c1e8-4ba8-83c8-8d4071b857ca"
      },
      "execution_count": 123,
      "outputs": [
        {
          "output_type": "execute_result",
          "data": {
            "text/plain": [
              "array([3])"
            ]
          },
          "metadata": {},
          "execution_count": 123
        }
      ]
    },
    {
      "cell_type": "code",
      "source": [
        "np.absolute([-3])"
      ],
      "metadata": {
        "colab": {
          "base_uri": "https://localhost:8080/"
        },
        "id": "pl9wf857D79L",
        "outputId": "4fcb5a7e-9e4c-4be0-b58f-7ddeddf1ef58"
      },
      "execution_count": 124,
      "outputs": [
        {
          "output_type": "execute_result",
          "data": {
            "text/plain": [
              "array([3])"
            ]
          },
          "metadata": {},
          "execution_count": 124
        }
      ]
    },
    {
      "cell_type": "code",
      "source": [
        "np.square([-3])"
      ],
      "metadata": {
        "colab": {
          "base_uri": "https://localhost:8080/"
        },
        "id": "dgTxqz-1EAQd",
        "outputId": "9d66aa67-8636-4adf-f916-6868cfc69b4e"
      },
      "execution_count": 125,
      "outputs": [
        {
          "output_type": "execute_result",
          "data": {
            "text/plain": [
              "array([9])"
            ]
          },
          "metadata": {},
          "execution_count": 125
        }
      ]
    },
    {
      "cell_type": "code",
      "source": [
        "np.sqrt([9])"
      ],
      "metadata": {
        "colab": {
          "base_uri": "https://localhost:8080/"
        },
        "id": "6TwT0d78EFWl",
        "outputId": "7b12a419-d260-475e-ef2e-6e303f72b2c8"
      },
      "execution_count": 126,
      "outputs": [
        {
          "output_type": "execute_result",
          "data": {
            "text/plain": [
              "array([3.])"
            ]
          },
          "metadata": {},
          "execution_count": 126
        }
      ]
    },
    {
      "cell_type": "code",
      "source": [
        "np.sign([-10,5,0])"
      ],
      "metadata": {
        "colab": {
          "base_uri": "https://localhost:8080/"
        },
        "id": "-R9Gs9anEMT1",
        "outputId": "fdb695da-729d-4b61-ce2c-9954fb163695"
      },
      "execution_count": 128,
      "outputs": [
        {
          "output_type": "execute_result",
          "data": {
            "text/plain": [
              "array([-1,  1,  0])"
            ]
          },
          "metadata": {},
          "execution_count": 128
        }
      ]
    },
    {
      "cell_type": "code",
      "source": [
        "np.max([1,87,5])"
      ],
      "metadata": {
        "colab": {
          "base_uri": "https://localhost:8080/"
        },
        "id": "xUKBzWqqEwVM",
        "outputId": "d3fe91bc-c6ba-41a6-e84a-dc0f09fe9292"
      },
      "execution_count": 132,
      "outputs": [
        {
          "output_type": "execute_result",
          "data": {
            "text/plain": [
              "87"
            ]
          },
          "metadata": {},
          "execution_count": 132
        }
      ]
    },
    {
      "cell_type": "code",
      "source": [
        "np.min([1,87,5])"
      ],
      "metadata": {
        "colab": {
          "base_uri": "https://localhost:8080/"
        },
        "id": "KtdzOd2hEwdo",
        "outputId": "2747e3c7-8014-4af5-8587-29252fed7c8d"
      },
      "execution_count": 133,
      "outputs": [
        {
          "output_type": "execute_result",
          "data": {
            "text/plain": [
              "1"
            ]
          },
          "metadata": {},
          "execution_count": 133
        }
      ]
    },
    {
      "cell_type": "code",
      "source": [
        "import numpy as np\n",
        "import matplotlib.pyplot as plt\n",
        "\n",
        "x = np.linspace(0, 2*np.pi, 100)\n",
        "y = np.sin(x)\n",
        "plt.plot(x,y, 'o')\n",
        "plt.show()\n",
        "\n",
        "xvals = np.linspace(0, 2*np.pi, 10)\n",
        "yinterp = np.interp(xvals, x, y)\n",
        "plt.plot(xvals, yinterp, '-x')\n",
        "plt.show()"
      ],
      "metadata": {
        "colab": {
          "base_uri": "https://localhost:8080/",
          "height": 843
        },
        "id": "G6ZgtWefWou4",
        "outputId": "ca50aa4d-587b-4c81-df9f-3110edc85a92"
      },
      "execution_count": 148,
      "outputs": [
        {
          "output_type": "display_data",
          "data": {
            "text/plain": [
              "<Figure size 640x480 with 1 Axes>"
            ],
            "image/png": "[encoded data removed]"
          },
          "metadata": {}
        },
        {
          "output_type": "display_data",
          "data": {
            "text/plain": [
              "<Figure size 640x480 with 1 Axes>"
            ],
            "image/png": "[encoded data removed]"
          },
          "metadata": {}
        }
      ]
    },
    {
      "cell_type": "markdown",
      "source": [
        "**<h1> Random**"
      ],
      "metadata": {
        "id": "4ut_3lkAZpe5"
      }
    },
    {
      "cell_type": "code",
      "source": [
        "#random\n",
        "np.random.rand(5)"
      ],
      "metadata": {
        "colab": {
          "base_uri": "https://localhost:8080/"
        },
        "id": "I7_2pEtwW3iI",
        "outputId": "0a37d5f7-cb76-41de-da43-29d5be93a7e1"
      },
      "execution_count": 149,
      "outputs": [
        {
          "output_type": "execute_result",
          "data": {
            "text/plain": [
              "array([0.69246506, 0.52784877, 0.63537124, 0.29752009, 0.65976895])"
            ]
          },
          "metadata": {},
          "execution_count": 149
        }
      ]
    },
    {
      "cell_type": "code",
      "source": [
        "np.random.rand(5,2)"
      ],
      "metadata": {
        "colab": {
          "base_uri": "https://localhost:8080/"
        },
        "id": "eE9C9Y3LYjXr",
        "outputId": "8bfea23e-fef2-4b2f-9163-6bad5f0bf210"
      },
      "execution_count": 150,
      "outputs": [
        {
          "output_type": "execute_result",
          "data": {
            "text/plain": [
              "array([[0.48551305, 0.20232993],\n",
              "       [0.69052478, 0.55115157],\n",
              "       [0.58961137, 0.11879845],\n",
              "       [0.42721792, 0.41354213],\n",
              "       [0.49890963, 0.01641784]])"
            ]
          },
          "metadata": {},
          "execution_count": 150
        }
      ]
    },
    {
      "cell_type": "code",
      "source": [
        "np.random.randn()"
      ],
      "metadata": {
        "colab": {
          "base_uri": "https://localhost:8080/"
        },
        "id": "V_Fop3ZwYnRG",
        "outputId": "87a9d8f1-68cf-4d9f-c806-a6d038a6b30c"
      },
      "execution_count": 153,
      "outputs": [
        {
          "output_type": "execute_result",
          "data": {
            "text/plain": [
              "0.3548247369740216"
            ]
          },
          "metadata": {},
          "execution_count": 153
        }
      ]
    },
    {
      "cell_type": "code",
      "source": [
        "np.random.randint(0,10, size=5)"
      ],
      "metadata": {
        "colab": {
          "base_uri": "https://localhost:8080/"
        },
        "id": "EH6xaDuLY-ku",
        "outputId": "d583230f-6e39-48ff-9700-8be370e9c045"
      },
      "execution_count": 158,
      "outputs": [
        {
          "output_type": "execute_result",
          "data": {
            "text/plain": [
              "array([7, 2, 7, 8, 0])"
            ]
          },
          "metadata": {},
          "execution_count": 158
        }
      ]
    }
  ]
}