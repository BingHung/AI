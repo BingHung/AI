{
  "nbformat": 4,
  "nbformat_minor": 0,
  "metadata": {
    "colab": {
      "name": "[02272019-3] CoolProp Embeded - L1.ipynb",
      "version": "0.3.2",
      "provenance": [],
      "include_colab_link": true
    },
    "kernelspec": {
      "name": "python3",
      "display_name": "Python 3"
    },
    "accelerator": "GPU"
  },
  "cells": [
    {
      "cell_type": "markdown",
      "metadata": {
        "id": "view-in-github",
        "colab_type": "text"
      },
      "source": [
        "<a href=\"https://colab.research.google.com/github/BingHung/AI/blob/master/%5B02272019_3%5D_CoolProp_Embeded_L1.ipynb\" target=\"_parent\"><img src=\"https://colab.research.google.com/assets/colab-badge.svg\" alt=\"Open In Colab\"/></a>"
      ]
    },
    {
      "metadata": {
        "id": "6uISySB-aIOS",
        "colab_type": "text"
      },
      "cell_type": "markdown",
      "source": [
        "## CoolProp Reference\n",
        "* http://www.coolprop.org/coolprop/wrappers/Python/index.html"
      ]
    },
    {
      "metadata": {
        "id": "w280LsDOGOAW",
        "colab_type": "code",
        "outputId": "ec4911fe-674e-49c4-db12-46414b68eb6d",
        "colab": {
          "base_uri": "https://localhost:8080/",
          "height": 6174
        }
      },
      "cell_type": "code",
      "source": [
        "!pip install -vvv --pre --trusted-host www.coolprop.dreamhosters.com --find-links http://www.coolprop.dreamhosters.com/binaries/Python/ -U --force-reinstall CoolProp"
      ],
      "execution_count": 0,
      "outputs": [
        {
          "output_type": "stream",
          "text": [
            "Created temporary directory: /tmp/pip-ephem-wheel-cache-s08wn7pt\n",
            "Created temporary directory: /tmp/pip-req-tracker-uwu2_t5w\n",
            "Created requirements tracker '/tmp/pip-req-tracker-uwu2_t5w'\n",
            "Created temporary directory: /tmp/pip-install-iahizzqp\n",
            "Looking in links: http://www.coolprop.dreamhosters.com/binaries/Python/\n",
            "Collecting CoolProp\n",
            "  2 location(s) to search for versions of CoolProp:\n",
            "  * https://pypi.org/simple/coolprop/\n",
            "  * http://www.coolprop.dreamhosters.com/binaries/Python/\n",
            "  Skipping link http://www.coolprop.dreamhosters.com/binaries/Python/ (from -f); not a file\n",
            "  Getting page https://pypi.org/simple/coolprop/\n",
            "  Looking up \"https://pypi.org/simple/coolprop/\" in the cache\n",
            "  Request header has \"max_age\" as 0, cache bypassed\n",
            "  Starting new HTTPS connection (1): pypi.org:443\n",
            "  https://pypi.org:443 \"GET /simple/coolprop/ HTTP/1.1\" 200 23440\n",
            "  Updating cache with response from \"https://pypi.org/simple/coolprop/\"\n",
            "  Caching due to etag\n",
            "  Analyzing links from page https://pypi.org/simple/coolprop/\n",
            "    Skipping link https://files.pythonhosted.org/packages/45/84/52c8d58a355f2f0b39681de7e8256f501874e6525b1851d587b69670ad9b/CoolProp-2.0.1.win32-py2.7.exe#sha256=f7071291005416e5b80c719c70c5d96f5c45db6435aad38b264bfdd3d980b179 (from https://pypi.org/simple/coolprop/); unsupported archive format: .exe\n",
            "    Found link https://files.pythonhosted.org/packages/50/e7/b351bf394110e807ef1c91ee12f2782c4dff35310a97020cc648f028358f/CoolProp-2.0.1.zip#sha256=88a55e1825fa30de85fe641a01803330e4fac90c7202bf171cd375b1bd39becc (from https://pypi.org/simple/coolprop/), version: 2.0.1\n",
            "    Found link https://files.pythonhosted.org/packages/45/8b/f739bf7c06d38dd7a592fc9098f168e82f0cd2212b5efa6fb172b72f5fa9/CoolProp-2.0.2.zip#sha256=9925fbe31585adb5f19479bb7d07767b02c67530489e39d656292211642768cb (from https://pypi.org/simple/coolprop/), version: 2.0.2\n",
            "    Found link https://files.pythonhosted.org/packages/de/68/31a732a672266ef8d85208a1d1253571fed23c671d70638ee442360b3c8a/CoolProp-2.0.4.zip#sha256=e4c7cc8c90e4da1ceb8b35ebc93310be57f1a5f3956f89a03a8aa1604492bc05 (from https://pypi.org/simple/coolprop/), version: 2.0.4\n",
            "    Found link https://files.pythonhosted.org/packages/60/e6/7a36fdfa0144f52e4bf5d4260aff0125525e69a6acb19161cdee9c5483dc/CoolProp-2.0.5.zip#sha256=edb4e25223642e2536228973a2c83dfda25ea7cf4fcc4a54c33edd3576141bcc (from https://pypi.org/simple/coolprop/), version: 2.0.5\n",
            "    Found link https://files.pythonhosted.org/packages/20/66/0855ba3c4ba3eb0047addeedeb846d878a107f5c5dfcc5efd02d05f9eeb4/CoolProp-2.0.6.zip#sha256=1518b2f68c40dff263dfca82f1834825a74275dc6120ba1a4d2ba672fb843c14 (from https://pypi.org/simple/coolprop/), version: 2.0.6\n",
            "    Found link https://files.pythonhosted.org/packages/e7/8c/f7501e602e47fe9124c258df6bea26f773aef0531b0fb8eee3b0eab0d81b/CoolProp-2.1.zip#sha256=3ca0100ac0081d464304150ea16322aa0f56954b5f3b5c4e7c5a8d2b648678f0 (from https://pypi.org/simple/coolprop/), version: 2.1\n",
            "    Found link https://files.pythonhosted.org/packages/7a/28/0ee3cbed229b4ccb5c1f1b178fdd43f9631540c2981389199b2125ac7071/CoolProp-2.2.0.zip#sha256=562bdfdb8cec13a658627e01759fca507e795d5d4e421dc4676716d85152106d (from https://pypi.org/simple/coolprop/), version: 2.2.0\n",
            "    Found link https://files.pythonhosted.org/packages/c1/19/6d929bb1a1ed3b8128b52fc680e3b556255ae58b068fdf5a9d8ce190c6f9/CoolProp-2.2.1.zip#sha256=63d2d4a2df67f685e94851489cc95b5f0ef6bac4f3e436944f03f830e2fb6470 (from https://pypi.org/simple/coolprop/), version: 2.2.1\n",
            "    Found link https://files.pythonhosted.org/packages/20/83/efd0b164592a05296f44104e9453c4200179b3da8f6d432b869cb1ed5b2d/CoolProp-2.2.2.zip#sha256=83c383e867abe4b35b55254a1f5817ec3d71773064368c21198a98d7c890aca8 (from https://pypi.org/simple/coolprop/), version: 2.2.2\n",
            "    Found link https://files.pythonhosted.org/packages/98/56/d58f3f7caab8933e2f34629eece0fe9d11dbb4120d2deb53155df163b50d/CoolProp-2.2.3.zip#sha256=661099894c2a7fb407b038d471ce591bb0792b1aaa0e15b6ba98da6f908ce146 (from https://pypi.org/simple/coolprop/), version: 2.2.3\n",
            "    Found link https://files.pythonhosted.org/packages/f6/89/c86e57afe0f2fd835e9834f911bee4a68dff563b2f2dde493ed7d64574d8/CoolProp-2.2.4.zip#sha256=188fbad27163310dec5ec64263957c17c624b581b13082a66dde10dc8f166426 (from https://pypi.org/simple/coolprop/), version: 2.2.4\n",
            "    Found link https://files.pythonhosted.org/packages/67/48/a3331caf74500dece0ca87ff2ffeacbd5d2498eda60539578a91a1d058a7/CoolProp-2.2.5.zip#sha256=73458ba5e908b6e9d8d5cebd8620f87a2738e8ea2793cf39469b7f1e20ca4e18 (from https://pypi.org/simple/coolprop/), version: 2.2.5\n",
            "    Found link https://files.pythonhosted.org/packages/86/f1/f35ea2d9e880e22d2195c416de2286e9d32e5dab76e6617156256fcfb31f/CoolProp-2.3.zip#sha256=e1eeae727ff80dfe61469ac35729c6a80a02c1193524ca20be8f72642b3d4505 (from https://pypi.org/simple/coolprop/), version: 2.3\n",
            "    Found link https://files.pythonhosted.org/packages/da/9f/e24f7d7e85b3df6779963961cc8bdc8b9c290d9881e237adef9f7bb952f4/CoolProp-2.4.zip#sha256=2bff705ae692b2f45ccd42ee11efadcccada551113e6319bd78ce8abdd9bc14f (from https://pypi.org/simple/coolprop/), version: 2.4\n",
            "    Found link https://files.pythonhosted.org/packages/aa/9e/4838cd0896377133608c6bd1390fe1976448173bc4d9922da770d24b2098/CoolProp-2.5.zip#sha256=d6fc4c4bc400cece06249147837d099034398f4f6120661b5c0dbf104a01215c (from https://pypi.org/simple/coolprop/), version: 2.5\n",
            "    Found link https://files.pythonhosted.org/packages/d6/57/86ee6f6aa86a5fa9d84cdeccdcb4dbf25f2947652869eb8866354a0b8a63/CoolProp-3.0.1.zip#sha256=ba2a99e1782b859a677006695680e6927e036a7093084dfe577ef58ca0fc86ea (from https://pypi.org/simple/coolprop/), version: 3.0.1\n",
            "    Found link https://files.pythonhosted.org/packages/e9/5b/8a7664162f79cc6d2f508f3e8939c653cb0596eaeaec7657d6e28aa3fbfe/CoolProp-3.1.zip#sha256=952720ae5a5da5ac80bbda8d97509b19b53a07c327be3a8155e17e0940685680 (from https://pypi.org/simple/coolprop/), version: 3.1\n",
            "    Found link https://files.pythonhosted.org/packages/fa/31/b08aba047593ff3460a78dc4b3e38fa0feee374e1254885edeb2f705771c/CoolProp-3.1.1.zip#sha256=bc13ef99df12e730a0c62215a6b41e036e3769a7be9419101e9c74013bf8db5c (from https://pypi.org/simple/coolprop/), version: 3.1.1\n",
            "    Found link https://files.pythonhosted.org/packages/cd/bb/27477801a89a26d474ab6b8c013e42af63a8280c0f1ffa840241250f4825/CoolProp-3.1.2.zip#sha256=88e9d621b18f6888fe2537cc35a1e4a0878d25f06f3748c5289b1fc18bd18490 (from https://pypi.org/simple/coolprop/), version: 3.1.2\n",
            "    Found link https://files.pythonhosted.org/packages/98/39/c1415bccdf4ebda09e2759a3f7aebc6aee769036bb59af19c8c616964a3a/CoolProp-3.2.0.zip#sha256=42da11df0045a81936e8d515993ebaf4eb233267a9b43d43c67bed3c9d1df031 (from https://pypi.org/simple/coolprop/), version: 3.2.0\n",
            "    Found link https://files.pythonhosted.org/packages/db/04/2c596a5699077e00732b1a784a13349a492260156e0ace8aad3f26bb18f2/CoolProp-3.3.0.zip#sha256=166a36bd22366ca0b62d2bfed03d1b206f1e00785864b5af5293db18515b1245 (from https://pypi.org/simple/coolprop/), version: 3.3.0\n",
            "    Found link https://files.pythonhosted.org/packages/ad/e6/78775cc00b0313ee03ee3f9d5e1ead66c619e17bc1eb56a30811034929b0/CoolProp-4.0.0beta.zip#sha256=4c42e9ca531c335a14146a181651082ae8ea3cc1921575c84f0411ff3f2294ff (from https://pypi.org/simple/coolprop/), version: 4.0.0beta\n",
            "    Found link https://files.pythonhosted.org/packages/6c/fa/58b7314dc153145feac5e1b1a8245d4154a8f410faa579fef85d7eb56b6f/CoolProp-4.0.0.zip#sha256=0d3bb578bf87440bfe2a46040da3c6ef29dbde8272267ca46a139a9b0cf57492 (from https://pypi.org/simple/coolprop/), version: 4.0.0\n",
            "    Found link https://files.pythonhosted.org/packages/31/c7/e21a10ac312e3a383d32546a9db7d5bbbfe15799866601ba8d7acfb3bc09/CoolProp-4.1.0.zip#sha256=11cd781b259f31e775d8a1b612db596524f67a3f5e843de433f496cd533e3695 (from https://pypi.org/simple/coolprop/), version: 4.1.0\n",
            "    Found link https://files.pythonhosted.org/packages/1b/5b/c0615a2be2ab197027651789c1378a50e743e648f07e72b54bc222a39fa4/CoolProp-4.1.1.zip#sha256=1e9bb8ee4db6aa50764e55022d67c7cec78e435b81c8342c7e0a99edda3be4d7 (from https://pypi.org/simple/coolprop/), version: 4.1.1\n",
            "    Found link https://files.pythonhosted.org/packages/ab/61/6da8a0f17dad55deb49e750a29bcee595c397c46108f38f8f5e9e8f8e077/CoolProp-4.1.2.zip#sha256=cce2a6606ef37a6138e44b0750661ec51e14ca1459fd5bf39891525f6b1ae886 (from https://pypi.org/simple/coolprop/), version: 4.1.2\n",
            "    Skipping link https://files.pythonhosted.org/packages/ca/f2/6eeca4761b4d4ed12ec22fda4d7938304c3b0c32b9beac5ba818391b993f/CoolProp-4.2.0-cp27-none-macosx_10_5_x86_64.whl#sha256=d6cdfc2ba228c1a5a1ca9102e78128041d0b058f8c63b86918d575ebda3b6642 (from https://pypi.org/simple/coolprop/); it is not compatible with this Python\n",
            "    Skipping link https://files.pythonhosted.org/packages/3e/f6/c068585a02f7c997bcb5f101acf3d84405f56efe4aba86f1275224a5db5a/CoolProp-4.2.0-cp33-cp33m-macosx_10_5_x86_64.whl#sha256=32547730168698b4150ee2774c74ef48d0ec8410f53ce603a3e56c5b3c94f0a9 (from https://pypi.org/simple/coolprop/); it is not compatible with this Python\n",
            "    Skipping link https://files.pythonhosted.org/packages/80/a0/abcb4484640833f56ca309df681876f07179beee8b64602a80d97a6eb4e5/CoolProp-4.2.0-cp34-cp34m-macosx_10_5_x86_64.whl#sha256=2708db7b6abfa1dbcecf6cc8e4c5247832916ce9983015593c30a44cf9a111ce (from https://pypi.org/simple/coolprop/); it is not compatible with this Python\n",
            "    Found link https://files.pythonhosted.org/packages/ae/5f/9e2901036cbdd5e4a0c5b5dd6e699cb28304fc240c795fb984e39b425d0b/CoolProp-4.2.0.zip#sha256=3472f1a2c8fdd194ed542dc1cdab36d97c5f71c120cab1177eacc42e3e4747fe (from https://pypi.org/simple/coolprop/), version: 4.2.0\n",
            "    Skipping link https://files.pythonhosted.org/packages/0f/8c/89756b16a6541173fb4dd0ffd16367608e2168a26faaa8538fb9a18696cd/CoolProp-4.2.1-cp27-none-macosx_10_5_x86_64.whl#sha256=b82a05b6f2f2e35b31b987413df4924605fa817221e70bd01786b40b422f001e (from https://pypi.org/simple/coolprop/); it is not compatible with this Python\n",
            "    Skipping link https://files.pythonhosted.org/packages/3f/bf/3b0ab6a0d47ba95fd55afa14b9677241a9c37703d4d5374f3787769ce509/CoolProp-4.2.1-cp33-cp33m-macosx_10_5_x86_64.whl#sha256=030db30a45044b611a86fb56676e50708d9964dda9ab92f84ea5dfd822a4f73e (from https://pypi.org/simple/coolprop/); it is not compatible with this Python\n",
            "    Skipping link https://files.pythonhosted.org/packages/80/20/2342ce56e025ab7ba6648ae00a78433ce788c962ee8d37f23636569cfb62/CoolProp-4.2.2-cp27-none-macosx_10_5_x86_64.whl#sha256=d9fdfd7ae871627649fc7e5bdca6e9c2277680f4a21064881f9fe3a124303326 (from https://pypi.org/simple/coolprop/); it is not compatible with this Python\n",
            "    Skipping link https://files.pythonhosted.org/packages/8e/1f/6c306d703e6555e1f726a2c72e9639c22ea89471b96cf9d3913c1470f607/CoolProp-4.2.2-cp33-cp33m-macosx_10_5_x86_64.whl#sha256=b4fbd8462854262b4d48fd382beec03f9c45b8bf214ff9f15b054921fd803947 (from https://pypi.org/simple/coolprop/); it is not compatible with this Python\n",
            "    Found link https://files.pythonhosted.org/packages/8c/d8/bf90baff8e390ec3bfc629536da4b719500296de14c1c271584aeca50b0d/CoolProp-4.2.2.zip#sha256=830514ac83f67ea1e79077aca35004aedac4ac5fb1260a9d6fb07d9c9f0fe859 (from https://pypi.org/simple/coolprop/), version: 4.2.2\n",
            "    Skipping link https://files.pythonhosted.org/packages/aa/70/9c38a55af314c109f4302070c3ac7ba8a64f59da9934583bd7d89dae981f/CoolProp-4.2.3-cp27-none-win32.whl#sha256=1d2f0dd34cb9020ccfce2f84165c011dfa7526bf7b7f6dcf8fde48d44edd1fd0 (from https://pypi.org/simple/coolprop/); it is not compatible with this Python\n",
            "    Skipping link https://files.pythonhosted.org/packages/1e/08/1dfddedd1e0c87ac542f3c6caccacd749db55018e12e2acfcdf393775002/CoolProp-4.2.3-cp27-none-win_amd64.whl#sha256=3c2642c93a50eef7693cafed77ad9fa0492dec341607372b7f126918361399c7 (from https://pypi.org/simple/coolprop/); it is not compatible with this Python\n",
            "    Skipping link https://files.pythonhosted.org/packages/64/c3/d0101f6c1da836b7d7c77df0ac2bb5404615de4f87e061baa9e7aacddd34/CoolProp-4.2.3-cp33-none-win32.whl#sha256=be76aa7e2bd0b731fdb1eb184628f0f46b7d30f887044ee40df3755c1dca1bba (from https://pypi.org/simple/coolprop/); it is not compatible with this Python\n",
            "    Skipping link https://files.pythonhosted.org/packages/86/1e/ba516825ef090a051f6934b598c93508511d3339a194094ff05e6c4e25de/CoolProp-4.2.3-cp33-none-win_amd64.whl#sha256=b83acf7d3b441fc99f3884733494902d1b54e11671b5e06ea34a6026e90824d2 (from https://pypi.org/simple/coolprop/); it is not compatible with this Python\n",
            "    Skipping link https://files.pythonhosted.org/packages/40/5f/1c2abd3dc594693df89aed45edb91198f9a07ff07da9d0587dea885e1b1d/CoolProp-4.2.3-cp34-none-win32.whl#sha256=d5e0b50d99cef15af536e80e3082089d462f0e8f320383f182da88ba7c1f6fdc (from https://pypi.org/simple/coolprop/); it is not compatible with this Python\n",
            "    Skipping link https://files.pythonhosted.org/packages/92/1f/d5256af88cce3e5194960fcefa07a030e1860e66d8b5004db90210956099/CoolProp-4.2.3-cp34-none-win_amd64.whl#sha256=183f3ccf4c67e67cbb25e9a28ed29ab3c2c2295d2054e44705ef9dcab1d20628 (from https://pypi.org/simple/coolprop/); it is not compatible with this Python\n",
            "    Found link https://files.pythonhosted.org/packages/22/d6/4d8ab6cad9d08024be36c4da1b6b710c01bf7d0a33fff774c8dedb1106e9/CoolProp-4.2.3.zip#sha256=f3d16381f2df2407126435d376d084d9ec9de34b029477e976914824218f92b9 (from https://pypi.org/simple/coolprop/), version: 4.2.3\n",
            "    Skipping link https://files.pythonhosted.org/packages/f5/44/f903664f19fa64f4894ad5069c904cc694a4c47318c629308ae6c4d159dd/CoolProp-4.2.4-cp27-none-win32.whl#sha256=a00779ed9c8bebe945af5c71e8c5bbaaaa2dd1d10a4b8d777c2833d4df938060 (from https://pypi.org/simple/coolprop/); it is not compatible with this Python\n",
            "    Skipping link https://files.pythonhosted.org/packages/fb/b7/9835363aaafafca735b7afcb07d8972dbf1e5fa0964781d8e3c0ad08c205/CoolProp-4.2.4-cp27-none-win_amd64.whl#sha256=b2f1a6cd53785978010c266014db8fec3a246be2a06e736349dc316cb47e2342 (from https://pypi.org/simple/coolprop/); it is not compatible with this Python\n",
            "    Skipping link https://files.pythonhosted.org/packages/7f/4f/1afe6f5731bef6fa7f1b408f70d0ec38f8b8d2d37718fb64da7f1bd5f583/CoolProp-4.2.4-cp33-none-win32.whl#sha256=e48ef364ff4f67563b2609ace7bd6c0238b76d28075359686a8e9f9bebfb35f2 (from https://pypi.org/simple/coolprop/); it is not compatible with this Python\n",
            "    Skipping link https://files.pythonhosted.org/packages/07/ec/59b474e6fe475c392b0f411e01a4838d5ed4ef81e251a8b1b26ba2a4d2f1/CoolProp-4.2.4-cp33-none-win_amd64.whl#sha256=6e7a40c40ffb2b60d4c5c49ba46d76b5918d709f7eff82ab713d5976fa5f0919 (from https://pypi.org/simple/coolprop/); it is not compatible with this Python\n",
            "    Skipping link https://files.pythonhosted.org/packages/73/6a/251e31c535968c6c6d9a832fc09ef8576e1a5012406a589c1fa113416afd/CoolProp-4.2.4-cp34-none-win32.whl#sha256=57356c3285d4ee2a314dff7abdb05422b5dc0664518c35e6614759213c28218f (from https://pypi.org/simple/coolprop/); it is not compatible with this Python\n",
            "    Skipping link https://files.pythonhosted.org/packages/3d/c8/e096f712e6ad399e9c53cf8d992394f7bbc1b87dae07f33c93fb7f3cbafa/CoolProp-4.2.4-cp34-none-win_amd64.whl#sha256=21885ecea4b58a44b6ba45bdece0f4dba456b032d1bd8f29198793ed73bacee5 (from https://pypi.org/simple/coolprop/); it is not compatible with this Python\n",
            "    Found link https://files.pythonhosted.org/packages/75/2c/3ca7b5bc41900a64bb6e49ae89e548aa2edd822818b5364feb072a9e021e/CoolProp-4.2.4.zip#sha256=8d65cafe65f754683d119c14d24fbf44258c2e1f73930e7e3c44bd764230c4fb (from https://pypi.org/simple/coolprop/), version: 4.2.4\n",
            "    Skipping link https://files.pythonhosted.org/packages/79/f7/20f4ea5bb875a7d319dccc89df76f2070f990eabf7f88b44ae29012d6c6c/CoolProp-4.2.5-cp27-cp27m-macosx_10_5_x86_64.whl#sha256=50882ad7d21b01d6f17ea9305d0c0cd4d723bb448b93cb64530d03fc1c33f562 (from https://pypi.org/simple/coolprop/); it is not compatible with this Python\n",
            "    Skipping link https://files.pythonhosted.org/packages/7f/ba/d3bd72c5685d943e7c00af1ccf5ad80f29835f01ccaf0f9cc5a9b62dc51b/CoolProp-4.2.5-cp27-none-win32.whl#sha256=d90ac057ae4b3968659c45458127790c5c9ab81f3da27e20a287eee44086a4c1 (from https://pypi.org/simple/coolprop/); it is not compatible with this Python\n",
            "    Skipping link https://files.pythonhosted.org/packages/00/cc/2837ef65d9fa331547664dda262e4bfd488c61913f92745d95efcb10e294/CoolProp-4.2.5-cp27-none-win_amd64.whl#sha256=67a4cf68c162944fa44bcbcbe811f0495c94dae342b089b66cd4bf70482cef41 (from https://pypi.org/simple/coolprop/); it is not compatible with this Python\n",
            "    Skipping link https://files.pythonhosted.org/packages/ab/bf/d4dd644e0ddcab77658587944221909dfbea9c2b3b482a589048e1e517da/CoolProp-4.2.5-cp33-none-win32.whl#sha256=45898ccdd5808f944f8cd8a7d5463d80b23ee8d654601d80d989c652a584f20e (from https://pypi.org/simple/coolprop/); it is not compatible with this Python\n",
            "    Skipping link https://files.pythonhosted.org/packages/d6/ce/61106ef9afc3850f3ec7a6c0526aac3e0c71551737ccaee72a288afb0d7d/CoolProp-4.2.5-cp33-none-win_amd64.whl#sha256=4c80819db39d3c2d84469e781e564a2e5baff23acfebaa0e0921cfa3091f2976 (from https://pypi.org/simple/coolprop/); it is not compatible with this Python\n",
            "    Skipping link https://files.pythonhosted.org/packages/b0/f9/8a54fe664d3d1e14e4228d2dcf0e016fc27fa2d1639f25842e5794a9e341/CoolProp-4.2.5-cp34-none-win32.whl#sha256=00ea34d76caca356e5475616f707e871de032e22250526da8f09846c6f48da0b (from https://pypi.org/simple/coolprop/); it is not compatible with this Python\n",
            "    Skipping link https://files.pythonhosted.org/packages/84/c0/8f1694b4124a33cae0a60a01444162d8fc2fb4ea8d4f229de96410ce95cc/CoolProp-4.2.5-cp34-none-win_amd64.whl#sha256=c1027815d0ccc32490a644259c6b47987cf0e36bdfa4f50e794aaa72855a13f4 (from https://pypi.org/simple/coolprop/); it is not compatible with this Python\n",
            "    Found link https://files.pythonhosted.org/packages/85/85/5d420b33bc1f1ae3f40efa9b62ccf7b4be96c62246eb0a0aaea35888d7d7/CoolProp-4.2.5.zip#sha256=6dc83f4fa1c63295ba6b2af7bfa31b45af8578c8f3d07983a4b941011fef4ed1 (from https://pypi.org/simple/coolprop/), version: 4.2.5\n",
            "    Skipping link https://files.pythonhosted.org/packages/39/fd/6eed98d6c0f0553604d40163f59b305c9ec08515db40e372c51fec06ba70/CoolProp-5.0.0-cp27-none-macosx_10_5_x86_64.whl#sha256=90cda0ab4c740cf2bcbee4e12fc7027a527fcdc8605286518cdfcb0749e5dbe1 (from https://pypi.org/simple/coolprop/); it is not compatible with this Python\n",
            "    Skipping link https://files.pythonhosted.org/packages/98/64/b8d1550897ed63b37155826a0c8d99be9521256bd835efde92b5f12b1747/CoolProp-5.0.0-cp27-none-win32.whl#sha256=b2157c919736665b09928e6d887efb58f5f2033009a723982d4d865a362efb87 (from https://pypi.org/simple/coolprop/); it is not compatible with this Python\n",
            "    Skipping link https://files.pythonhosted.org/packages/5b/cc/4036f80cbd607c3609d71f800b970179d5c6fb385424a832ae6561241582/CoolProp-5.0.0-cp27-none-win_amd64.whl#sha256=b640e444310b0f305e3346886d24364fbd3e9d495ec6cb3ab52ecd480796ddfc (from https://pypi.org/simple/coolprop/); it is not compatible with this Python\n",
            "    Skipping link https://files.pythonhosted.org/packages/51/68/66819bcb197d60472f501e66850a093f0f4231d440aefb4d23720ebec860/CoolProp-5.0.0-cp33-cp33m-macosx_10_5_x86_64.whl#sha256=37441f4582d6f07b339f046879e57551d2e102d6f71fb6481d1806bc31627708 (from https://pypi.org/simple/coolprop/); it is not compatible with this Python\n",
            "    Skipping link https://files.pythonhosted.org/packages/62/6a/1ec3b04dbcfa1ce07b3247737d5d186216a4dce05e39f25aeaefb5e7e9f6/CoolProp-5.0.0-cp33-none-win32.whl#sha256=16e735eda2d132b52bc250306ae2c67313f68415283bc4e28b14088e01dd3019 (from https://pypi.org/simple/coolprop/); it is not compatible with this Python\n",
            "    Skipping link https://files.pythonhosted.org/packages/f5/04/900c28beb9dc54a0638f58ed966ae188fa488e9908f41c93b2a22e49b611/CoolProp-5.0.0-cp33-none-win_amd64.whl#sha256=e21490eec4d905b55c54ea0a336541f13693cd2265f05669937d05714c7e0313 (from https://pypi.org/simple/coolprop/); it is not compatible with this Python\n",
            "    Skipping link https://files.pythonhosted.org/packages/ff/d5/888b06ed879c9f88b432137fd30e251e7a4994112f2ec7db82610e408790/CoolProp-5.0.0-cp34-cp34m-macosx_10_5_x86_64.whl#sha256=f420f53fba702c9dfed0666d25b9c8743688d83c8afc0f6597bde087a9c0779e (from https://pypi.org/simple/coolprop/); it is not compatible with this Python\n",
            "    Skipping link https://files.pythonhosted.org/packages/18/7a/68f9f4bfda60fb4a0e0483ff5073e558e15767deab8175aa954f0d3f83cd/CoolProp-5.0.0-cp34-none-win32.whl#sha256=bbbf48abb47fc95b9ef78a99fee0076cf2802e9cd895698b6893e5bc38b3d7f1 (from https://pypi.org/simple/coolprop/); it is not compatible with this Python\n",
            "    Skipping link https://files.pythonhosted.org/packages/c3/80/77ca77ea2c799c704b3ed824f47d869ab6d4652d33e9ec3de5218d419275/CoolProp-5.0.0-cp34-none-win_amd64.whl#sha256=c9f599b5239c8e57a4963f7f3946da1e85a53361976c5f508939de602098c7db (from https://pypi.org/simple/coolprop/); it is not compatible with this Python\n",
            "    Found link https://files.pythonhosted.org/packages/15/3f/b4979f5586a5cc666636a53d386f26ce35fb57eb20d3291087499d59d260/CoolProp-5.0.0.tar.gz#sha256=2711151891268b98aaf4e4c4d68191974635e012dffe5408d4f50d7cbe1849e1 (from https://pypi.org/simple/coolprop/), version: 5.0.0\n",
            "    Skipping link https://files.pythonhosted.org/packages/4a/a4/5bf6e30045167950256c25576b8f5bb8691ab6792981c6614dbb9c8814ee/CoolProp-5.0.1-cp27-none-macosx_10_5_x86_64.whl#sha256=6a81a5876cc6004684c771d58f4779fdc68773c2d303585e98820c1c70f3a113 (from https://pypi.org/simple/coolprop/); it is not compatible with this Python\n",
            "    Skipping link https://files.pythonhosted.org/packages/9b/3e/510461d40889fb1eeafb1661efc7c47f779defe700f983ee29c359aa5d6e/CoolProp-5.0.1-cp27-none-win32.whl#sha256=637c4c94118fb1362d72f66f624890a78314b404a8f8e67e1891b5d6317b733a (from https://pypi.org/simple/coolprop/); it is not compatible with this Python\n",
            "    Skipping link https://files.pythonhosted.org/packages/18/f1/cff4b2e714cb6977418c97709561d6a17ed265c2610fd27ff4a18c0271a7/CoolProp-5.0.1-cp27-none-win_amd64.whl#sha256=b46b8a725c59f79fb86be26a67fcf1a363b554c0a1d9450e8b7ac89122e38309 (from https://pypi.org/simple/coolprop/); it is not compatible with this Python\n",
            "    Skipping link https://files.pythonhosted.org/packages/df/c7/6cea6ad2605592e73c03eb512827dc63955ed6a5159d077e097eac3d8e89/CoolProp-5.0.1-cp33-cp33m-macosx_10_5_x86_64.whl#sha256=5ccc3fcdd45cf14b2263cd71652dd56a623cf2ee8db2df0d6596a4d02beb91d0 (from https://pypi.org/simple/coolprop/); it is not compatible with this Python\n",
            "    Skipping link https://files.pythonhosted.org/packages/fa/15/79a8c3bcb4fb30538f530d5518d99d7d886ea79d474b6f6c00e6540a72a9/CoolProp-5.0.1-cp33-none-win32.whl#sha256=445591454a47ecba3c43175cd0432f0eb87cf35cddd601f7685af7adf85840e4 (from https://pypi.org/simple/coolprop/); it is not compatible with this Python\n",
            "    Skipping link https://files.pythonhosted.org/packages/f9/eb/95f609cbf2a6d974c320870beb7f67c0835fc9a8c7e0ebd103aca5537d11/CoolProp-5.0.1-cp33-none-win_amd64.whl#sha256=7189d322db74ea635e0a4b0cabc0c91c975833c90b6d0a9331f2aafc6c6dc963 (from https://pypi.org/simple/coolprop/); it is not compatible with this Python\n",
            "    Skipping link https://files.pythonhosted.org/packages/79/08/f1680adb307a69adcb4fbb8084cbb2b0af03ee4cf362562ae85be2060539/CoolProp-5.0.1-cp34-cp34m-macosx_10_5_x86_64.whl#sha256=80c53c327f7e42d5917c6dc8b21707751e44d302168aed3d80ec1b9fe09ae801 (from https://pypi.org/simple/coolprop/); it is not compatible with this Python\n",
            "    Skipping link https://files.pythonhosted.org/packages/13/71/51758a88336eca31319e02b18fef1008bd218001143d1964de5a8d980e70/CoolProp-5.0.1-cp34-none-win32.whl#sha256=d979c581dad2d6c708cfc0d07dbf007eb4f414a6beb997fbaf6e2230049ab69b (from https://pypi.org/simple/coolprop/); it is not compatible with this Python\n",
            "    Skipping link https://files.pythonhosted.org/packages/b2/b6/e6fd211eaeaa325f5a173202caca3c34d107397125129f6c21af4604301d/CoolProp-5.0.1-cp34-none-win_amd64.whl#sha256=bf67001ace0e73515bf92b7a659edd7436889a4a3eae0d01eae0cd7e936de4c4 (from https://pypi.org/simple/coolprop/); it is not compatible with this Python\n",
            "    Found link https://files.pythonhosted.org/packages/1f/7b/1f46312cbe9e34931ee0d3f883f4fc13ccb5766a43a882056af62599f478/CoolProp-5.0.1.tar.gz#sha256=7f7f05b437bf87974eb67c5ab1926468008b5e23fa8abcc9532905a8d54a89d1 (from https://pypi.org/simple/coolprop/), version: 5.0.1\n",
            "    Skipping link https://files.pythonhosted.org/packages/d9/0b/0861886cb00aae4e55f0fdf6e095a180e6109566fdee93459f99554ab032/CoolProp-5.0.2-cp27-none-macosx_10_5_x86_64.whl#sha256=8972b70e524226565d85808fdcf98f77ffcf0f516c2b2524a247af5e58c9bc79 (from https://pypi.org/simple/coolprop/); it is not compatible with this Python\n",
            "    Skipping link https://files.pythonhosted.org/packages/c8/b4/d1220dc783257fbe6520e7ba2552bc0f104a113f8187cf3f0332908a9d0d/CoolProp-5.0.2-cp27-none-win32.whl#sha256=f0c702cdf88092182e6a8e80a1c84dc106ee4f29d9c1c414b87f68355e032e90 (from https://pypi.org/simple/coolprop/); it is not compatible with this Python\n",
            "    Skipping link https://files.pythonhosted.org/packages/34/c3/05a7793fbfc3dcdb1d64c33dc00ff5f374117092845991035b8ea0137927/CoolProp-5.0.2-cp27-none-win_amd64.whl#sha256=5a49da043ba13ba65f588011b56c898aeea342670a777b36ea6d119c984f2eea (from https://pypi.org/simple/coolprop/); it is not compatible with this Python\n",
            "    Skipping link https://files.pythonhosted.org/packages/20/c2/f9f117353b1db05d55e6087db80c5ec674817c22a206a543887ee8d7dfe1/CoolProp-5.0.2-cp33-cp33m-macosx_10_5_x86_64.whl#sha256=503d06ceb407244cfd56580b76243ba9719b06c8e585c030aa2260eefe643733 (from https://pypi.org/simple/coolprop/); it is not compatible with this Python\n",
            "    Skipping link https://files.pythonhosted.org/packages/c3/2c/b1dc42462da79a14f3787dc57c73132d6f10ce48fe9d3e42d68844c19bf6/CoolProp-5.0.2-cp33-none-win32.whl#sha256=b4c04a65e8a3ea5342bb0b64ddb7fe831a0722b62555c83e85e8f1d766ec5493 (from https://pypi.org/simple/coolprop/); it is not compatible with this Python\n",
            "    Skipping link https://files.pythonhosted.org/packages/96/c8/acfc8950f57f1d6f5b431d5f42f0cecce876cedf10dab87b8b9a663ea756/CoolProp-5.0.2-cp33-none-win_amd64.whl#sha256=ceed111d86cb0849e7f030ad0f1ee8ebe9bc50b17276de356426f73fbd8ae1ba (from https://pypi.org/simple/coolprop/); it is not compatible with this Python\n",
            "    Skipping link https://files.pythonhosted.org/packages/05/35/fef587773de82ba18b79e3c63790250e20926e773fbaaf3b976b860b4d19/CoolProp-5.0.2-cp34-cp34m-macosx_10_5_x86_64.whl#sha256=41ee735104109aa742c586037f63a81e59a5d1b32e0be01bf40e4ccdc35c64a0 (from https://pypi.org/simple/coolprop/); it is not compatible with this Python\n",
            "    Skipping link https://files.pythonhosted.org/packages/f3/38/5ea76589623547ac3bf686884296afc0483b3f90ba1d344c4974faa6ec54/CoolProp-5.0.2-cp34-none-win32.whl#sha256=587fc0cf529c40215f26ba01ffa276c0af2d86641f9e0876b119d68d3e207c1b (from https://pypi.org/simple/coolprop/); it is not compatible with this Python\n",
            "    Skipping link https://files.pythonhosted.org/packages/4f/5d/1d68393c394d44e5c43804c6e63e749862bbc1aaf74696091432a4d8b16e/CoolProp-5.0.2-cp34-none-win_amd64.whl#sha256=05646cdc152081323fb55ea678f4f96e0b12ee3ab71b728d82d7dce2040d5524 (from https://pypi.org/simple/coolprop/); it is not compatible with this Python\n",
            "    Found link https://files.pythonhosted.org/packages/41/05/61255c6f4407a2369875fcead0ffec336fe628e5d1d710013610d194034e/CoolProp-5.0.2.tar.gz#sha256=c6aa1c2af79134ac0f1368831d6b1dde6099bd942bec1c2d59f72146f6756743 (from https://pypi.org/simple/coolprop/), version: 5.0.2\n",
            "    Skipping link https://files.pythonhosted.org/packages/9b/a3/10fd8fcdac8e97a54a6512404bfa6b912467bfcea6f5583d82e8e1a798cf/CoolProp-5.0.3-cp27-none-macosx_10_5_x86_64.whl#sha256=0e221a01f06d804524afc127e5889b03e7bb3ec06a6280d4816da2981af0ad63 (from https://pypi.org/simple/coolprop/); it is not compatible with this Python\n",
            "    Skipping link https://files.pythonhosted.org/packages/f5/4c/7eaa855632dcb8b79ee7d0d9341db86a08a68e7690242be12c13a1aebb96/CoolProp-5.0.3-cp27-none-win32.whl#sha256=df9295fdd5873ac114b89e9a27da9f5bfd05bb72e98b6122ba632607c2808587 (from https://pypi.org/simple/coolprop/); it is not compatible with this Python\n",
            "    Skipping link https://files.pythonhosted.org/packages/77/6e/0c8a46f1325b232a5b4b5376b1e1a376b2b5d051ca412c021496071c7482/CoolProp-5.0.3-cp27-none-win_amd64.whl#sha256=7520b9a701117971915af8abdd654af6366ba8e273f897f32f7ae4fe7107a592 (from https://pypi.org/simple/coolprop/); it is not compatible with this Python\n",
            "    Skipping link https://files.pythonhosted.org/packages/d0/b3/d5b14d2bb6862bb71ff5116e00489103c01f4a6dc5cab0d93c6363d6f222/CoolProp-5.0.3-cp33-cp33m-macosx_10_5_x86_64.whl#sha256=306bf1051de1a1ea28aa07476ffec4c8942857462cb223aeff5845b68769624b (from https://pypi.org/simple/coolprop/); it is not compatible with this Python\n",
            "    Skipping link https://files.pythonhosted.org/packages/56/79/81141c51a0123d01b61e1e1344c7d69c335b7b3442f9e8e1eb889d746aa4/CoolProp-5.0.3-cp33-none-win32.whl#sha256=a4fe67ef904daf3c01c69215f87c3b1dce2585061d0bcf465bb9af832660ac25 (from https://pypi.org/simple/coolprop/); it is not compatible with this Python\n",
            "    Skipping link https://files.pythonhosted.org/packages/8a/0c/4f5720a40736a75ba5f00993afa10c244044109414211c5f4e4abf8d2ea1/CoolProp-5.0.3-cp33-none-win_amd64.whl#sha256=fbf33f20b29211fd59474c54a11e06412314867e273e1366b0b104ceb1236a83 (from https://pypi.org/simple/coolprop/); it is not compatible with this Python\n",
            "    Skipping link https://files.pythonhosted.org/packages/1b/b1/0a2a5ada91b20a99b841be75465d3bfe1b4b2e3479fe8c709159182e33d4/CoolProp-5.0.3-cp34-cp34m-macosx_10_5_x86_64.whl#sha256=f18d2b9742364c1845d5b31ac173880ab96275c68fba8d6b632923b09579a2a2 (from https://pypi.org/simple/coolprop/); it is not compatible with this Python\n",
            "    Skipping link https://files.pythonhosted.org/packages/c8/cc/79e9cfa488bc8b94ab1f99fd7ab35972624b356d3a497a004cbf3e7d2f5f/CoolProp-5.0.3-cp34-none-win32.whl#sha256=092d13f108e8f5a29f9f38ce1e862deca7551737b1c7b46e416244a1699823d2 (from https://pypi.org/simple/coolprop/); it is not compatible with this Python\n",
            "    Skipping link https://files.pythonhosted.org/packages/2a/ba/0f518b87fc6b4fdf32cdd59c91ca83ba901813f019964ad22ba951c2df03/CoolProp-5.0.3-cp34-none-win_amd64.whl#sha256=b281e1f8181f7d378c35c2cf276b5438ab463d141802708d8bc16088404af5d3 (from https://pypi.org/simple/coolprop/); it is not compatible with this Python\n",
            "    Found link https://files.pythonhosted.org/packages/1b/7b/1a5728a38b76f9ff906a5602897656d740b423e186a05ca483a8165c0603/CoolProp-5.0.3.tar.gz#sha256=6d83438f76f835c77b7b9898de86dc131edfc12ea0b8217fce4a128b053d3278 (from https://pypi.org/simple/coolprop/), version: 5.0.3\n",
            "    Skipping link https://files.pythonhosted.org/packages/ff/db/350df359e9332df0a01e45e3e84b6a28683e60cffc2283376dd04cfdfdae/CoolProp-5.0.4-cp27-none-macosx_10_5_x86_64.whl#sha256=5ba8cff8a806fc380eb97ed7cfdb87c6f59928cc22b953b9fc8affe8f61574ea (from https://pypi.org/simple/coolprop/); it is not compatible with this Python\n",
            "    Skipping link https://files.pythonhosted.org/packages/ae/b7/750f30e8422a665bef2ba3ed2ce74141aed735d7d0e231f1e13437580e28/CoolProp-5.0.4-cp27-none-win32.whl#sha256=e9b008392da0eacbf8090a5764ad95018f47806d30a38b8fb20534120dd01ba2 (from https://pypi.org/simple/coolprop/); it is not compatible with this Python\n",
            "    Skipping link https://files.pythonhosted.org/packages/a4/58/c1e81465084de86fb948c75fae78a38f31707436b67b164dffec7bd97aff/CoolProp-5.0.4-cp27-none-win_amd64.whl#sha256=163b18cfde6f580dd2f4872e28a840f595cef3cacdc87d333a13901a99e5495d (from https://pypi.org/simple/coolprop/); it is not compatible with this Python\n",
            "    Skipping link https://files.pythonhosted.org/packages/f5/e9/ce04d5d375b4bebd0a39aceca05e7ac17c10925bf777bf6f4e22971eaf03/CoolProp-5.0.4-cp33-cp33m-macosx_10_5_x86_64.whl#sha256=80867e43b7cb986a776b5bbd472f929af57a3b7c832f81e402261c2945a35b40 (from https://pypi.org/simple/coolprop/); it is not compatible with this Python\n",
            "    Skipping link https://files.pythonhosted.org/packages/28/05/fc153be3262eae96b4c2cc397f6863c447c4ef08e052e4b5ede9adb1f1f6/CoolProp-5.0.4-cp33-none-win32.whl#sha256=ec4aa608d92b3cad92968d44b611a204a1a7f6ad96dac520bd35e2ea6eadc88a (from https://pypi.org/simple/coolprop/); it is not compatible with this Python\n",
            "    Skipping link https://files.pythonhosted.org/packages/e9/c6/29936634d22f197726ba19be849a3f65ce4222bc5b19db5a276d1c1524fa/CoolProp-5.0.4-cp33-none-win_amd64.whl#sha256=95b27ec9d2b45f7c617461c329cbfcac31dcabcb33bb2ed368d02376816950a4 (from https://pypi.org/simple/coolprop/); it is not compatible with this Python\n",
            "    Skipping link https://files.pythonhosted.org/packages/68/80/4277d98a9bc78adcddd5ffa38680276dda4228256d417047735439543bbb/CoolProp-5.0.4-cp34-cp34m-macosx_10_5_x86_64.whl#sha256=a4e196872730614ad9c795c54f0f7adc77d8ad437a2cbe0ccf3fb495da70754d (from https://pypi.org/simple/coolprop/); it is not compatible with this Python\n",
            "    Skipping link https://files.pythonhosted.org/packages/e0/c3/649a20c61ecdb65103519d693d80372e9aeeaa6c62c1e40fae5e6dc8d50f/CoolProp-5.0.4-cp34-none-win32.whl#sha256=2de789326ca98ebc54748e0af4b56257840e1717a1b3a593a27c8c90530a99b3 (from https://pypi.org/simple/coolprop/); it is not compatible with this Python\n",
            "    Skipping link https://files.pythonhosted.org/packages/68/c5/89a4de26f9e716cbe4ca99c49f419f714d202d588b4d03f28bc17eb268c8/CoolProp-5.0.4-cp34-none-win_amd64.whl#sha256=392082f6e4b45e7d6f2904a2f6458394c42bb7076cbe0a1607dd952aecfcc0d9 (from https://pypi.org/simple/coolprop/); it is not compatible with this Python\n",
            "    Found link https://files.pythonhosted.org/packages/e8/c5/7c27ef27f98c43e60b986103ddee508b120cc95ba31bb2497bacda082d5a/CoolProp-5.0.4.tar.gz#sha256=963a274c2b082c7d8fea3ff32edf8da179a16c0f8d7ce69661ce7dbba955dc1a (from https://pypi.org/simple/coolprop/), version: 5.0.4\n",
            "    Skipping link https://files.pythonhosted.org/packages/37/a9/5298ba508b494cab787592e860dc0fa325466cf6f01b20f73836e36c45ae/CoolProp-5.0.5-cp27-none-macosx_10_5_x86_64.whl#sha256=5c8c93a54160223cf776f480dbb747baed5ea4a4c5c57625ce390ddd1fe00997 (from https://pypi.org/simple/coolprop/); it is not compatible with this Python\n",
            "    Skipping link https://files.pythonhosted.org/packages/a6/e3/0703f265899260000216896c7c5985facd3e2c6454817cc921e2a35e1533/CoolProp-5.0.5-cp27-none-win32.whl#sha256=5c9d1f831f71b176b5d8a40d939ca419c747b521838401beef61ea15bbd02fe8 (from https://pypi.org/simple/coolprop/); it is not compatible with this Python\n",
            "    Skipping link https://files.pythonhosted.org/packages/9b/73/2eed31060a89d25d48af14725a7e1b167eb5cf1da3b691670cf4e34c71d1/CoolProp-5.0.5-cp27-none-win_amd64.whl#sha256=b504d85a59ba4e06478094b9d482be782cf97c0bfc37756e491562c520d28645 (from https://pypi.org/simple/coolprop/); it is not compatible with this Python\n",
            "    Skipping link https://files.pythonhosted.org/packages/d7/7a/b8a75081f2eb9e91899c7e77beb7aa1062e80ff8b06822d0cf7914c5bc22/CoolProp-5.0.5-cp33-cp33m-macosx_10_5_x86_64.whl#sha256=7689b45c6b7956eea35caeb2f7f922719bcfb912f221e53c0f4fe4a5814ca42b (from https://pypi.org/simple/coolprop/); it is not compatible with this Python\n",
            "    Skipping link https://files.pythonhosted.org/packages/bf/cc/454b02f01764750b56c8612afbdfce9d266a7bb4b9d14adbd515cd529ca0/CoolProp-5.0.5-cp33-none-win32.whl#sha256=eb74a30bbf909271a9eabfe823291208deec9c08ea2237f461e1a1b94f0987d0 (from https://pypi.org/simple/coolprop/); it is not compatible with this Python\n",
            "    Skipping link https://files.pythonhosted.org/packages/63/17/c9eddc16c3a21b9528761dba8a8e8a26932fd012c3250aaf94b6da71b4b6/CoolProp-5.0.5-cp33-none-win_amd64.whl#sha256=d6ab0c06af6b69f769e5f99a906929c524bdc0a23b431a67d7a6a42dca279ca9 (from https://pypi.org/simple/coolprop/); it is not compatible with this Python\n",
            "    Skipping link https://files.pythonhosted.org/packages/dc/82/69ea77f3da64171adca80e0386e01b67555fa92f91c11b39750aadefcf48/CoolProp-5.0.5-cp34-cp34m-macosx_10_5_x86_64.whl#sha256=8950228561a9f719b12f4b2d64d8cd06ac6a1368fc5185f24afb9c0648ad1c8f (from https://pypi.org/simple/coolprop/); it is not compatible with this Python\n",
            "    Skipping link https://files.pythonhosted.org/packages/4f/c7/7d7de54f0b2fdb3a72e58de90914b061975db474f302e6ae59f630a4263e/CoolProp-5.0.5-cp34-none-win32.whl#sha256=e57a7a8566846ef08566d202f1f08eaa8ea908cb5ee1ef24771a2da92aaf7186 (from https://pypi.org/simple/coolprop/); it is not compatible with this Python\n",
            "    Skipping link https://files.pythonhosted.org/packages/dd/88/446cc8536f9a13dd7c84c3b343dad2f0334242c315c030962253cb02b547/CoolProp-5.0.5-cp34-none-win_amd64.whl#sha256=9a221ea58f4903c19d0b378a344726c6a4e04fef6abae9f02a6a5687a327bbc9 (from https://pypi.org/simple/coolprop/); it is not compatible with this Python\n",
            "    Found link https://files.pythonhosted.org/packages/c2/1f/7184895800feefdaaaef9234581814bf3f9cce927c0a8f2802546d750900/CoolProp-5.0.5.tar.gz#sha256=902380ed97a78ddc5e66c5cdf14bb8d355491a758a93f8c761d35e1af04f5ca5 (from https://pypi.org/simple/coolprop/), version: 5.0.5\n",
            "    Skipping link https://files.pythonhosted.org/packages/61/3e/f366102700b6904773cfe24a99b820c3f0e606d01a8a2572b0fbe3537537/CoolProp-5.0.6-cp27-none-macosx_10_5_x86_64.whl#sha256=17a4cc5e14f5b678a9dc5c8862345421bbfc5302db7147c8d2f577baaffd4980 (from https://pypi.org/simple/coolprop/); it is not compatible with this Python\n",
            "    Skipping link https://files.pythonhosted.org/packages/d9/1b/ad765d26491aef8949d87fe7fb821f9099f283a9da026a70558daced1f3b/CoolProp-5.0.6-cp27-none-win32.whl#sha256=120ffab7351e31b9582db968a3dd973c6f9f4041256cc18886e4abbaee50b55d (from https://pypi.org/simple/coolprop/); it is not compatible with this Python\n",
            "    Skipping link https://files.pythonhosted.org/packages/59/8d/21972ecb59addfe3c515578bcb498252f7fe9d92304fd6b65ea3438d475d/CoolProp-5.0.6-cp27-none-win_amd64.whl#sha256=9e75c1bc6c79eb3118539137c1fd9878b6b30225a4cc2f627566955bce4a9b72 (from https://pypi.org/simple/coolprop/); it is not compatible with this Python\n",
            "    Skipping link https://files.pythonhosted.org/packages/b1/13/a137c5b93cdfb901b2c2a548bcbbd03b6b1ef1115d3287597ff929aeb1c1/CoolProp-5.0.6-cp33-cp33m-macosx_10_5_x86_64.whl#sha256=7a84aef7e24d89507b0d2d4399869ab9eec12ff3e9bb071563d80e6d3d07a45d (from https://pypi.org/simple/coolprop/); it is not compatible with this Python\n",
            "    Skipping link https://files.pythonhosted.org/packages/cf/1a/9beaac0d63193692a66bb7cd08fd4b21bd26ccb34ff3a0749c7c21504b72/CoolProp-5.0.6-cp33-none-win32.whl#sha256=67d18634695733bfd0c6b5a30c161dafb7845136bfdedf875868d58719d76713 (from https://pypi.org/simple/coolprop/); it is not compatible with this Python\n",
            "    Skipping link https://files.pythonhosted.org/packages/60/8e/029bb557deeb921e30964270d62f8bd373e120d8c156052b5eff161dbadd/CoolProp-5.0.6-cp33-none-win_amd64.whl#sha256=3aabf1e79b0cd0bf3452d7927067e844dcdeffdf8bd68a7cf52e2d2f4228cdfe (from https://pypi.org/simple/coolprop/); it is not compatible with this Python\n",
            "    Skipping link https://files.pythonhosted.org/packages/37/a1/892ca3b9ba4caf76ea6e7c1d45ef425b036d2d8f99d0c124b179ea4778eb/CoolProp-5.0.6-cp34-cp34m-macosx_10_5_x86_64.whl#sha256=f8f25f2483de098a5f4f590191991e4894e1403aab0124b35eb5e3fd24be9ea5 (from https://pypi.org/simple/coolprop/); it is not compatible with this Python\n",
            "    Skipping link https://files.pythonhosted.org/packages/04/fe/4aff4f256720436dbbfb668b7ebe3d9479d23bac9c327a5d204c5fb48450/CoolProp-5.0.6-cp34-none-win32.whl#sha256=acfb25cbc67178276e5703b7c255ba77c3a20626884a6115359c1fa9fa8820d5 (from https://pypi.org/simple/coolprop/); it is not compatible with this Python\n",
            "    Skipping link https://files.pythonhosted.org/packages/a5/1d/753ab135e4263eb82b0995301cb75d6a7782e100e95e78b95e62a36f83c6/CoolProp-5.0.6-cp34-none-win_amd64.whl#sha256=ac7d900585ccc76883b18622aff125763a1f8b6c0148c9a0a1e076a75ff1acbe (from https://pypi.org/simple/coolprop/); it is not compatible with this Python\n",
            "    Found link https://files.pythonhosted.org/packages/66/37/7fdf4ad6cbc895837c3f0562a3dc07166a91cd0148150d5e70530777abc1/CoolProp-5.0.6.tar.gz#sha256=ec3eeb111a7a51e03ad09fa350427da93fcc486f9c7ff20e2f6fcb628af7d385 (from https://pypi.org/simple/coolprop/), version: 5.0.6\n",
            "    Skipping link https://files.pythonhosted.org/packages/80/40/8b282886fc9c99d3696af86059f5615ee44f78baba67c84e31ce921eaf07/CoolProp-5.0.7-cp27-none-macosx_10_5_x86_64.whl#sha256=ead2bc6e9db768c1c2c6b5293402bf77fc52ccb79a8172645aedbc6a3f756dbc (from https://pypi.org/simple/coolprop/); it is not compatible with this Python\n",
            "    Skipping link https://files.pythonhosted.org/packages/e9/e6/3c8ece995647e7f2e8d4b5b59a11fa0a3ed62b390b9f0ec3141b4496474d/CoolProp-5.0.7-cp27-none-win32.whl#sha256=bc884f58ba18fd2ae81b1b8adfecedabfcd579ad3c3a2c7938e62195023cb189 (from https://pypi.org/simple/coolprop/); it is not compatible with this Python\n",
            "    Skipping link https://files.pythonhosted.org/packages/87/5d/308dd360ee04f0bf3b2d76bd2171a8a031519d14167fd76cff51c2079997/CoolProp-5.0.7-cp27-none-win_amd64.whl#sha256=f67764939fbdb9881b5f4744e81c788132e780fe86cd67fd80597a611abb56b0 (from https://pypi.org/simple/coolprop/); it is not compatible with this Python\n",
            "    Skipping link https://files.pythonhosted.org/packages/23/24/11aec0f687d6f98cda00254e1604f297f8d6aa0207b84d4e5474f53266bf/CoolProp-5.0.7-cp33-cp33m-macosx_10_5_x86_64.whl#sha256=fe624ea9dd9f3d0b6cb5478e04bab3b5145469ed3b261a66d6954cd77ed85481 (from https://pypi.org/simple/coolprop/); it is not compatible with this Python\n",
            "    Skipping link https://files.pythonhosted.org/packages/f9/b7/f076e0ba99703f4d680546e6cb554e8611b47917101d9bd778b60f0ad133/CoolProp-5.0.7-cp33-none-win32.whl#sha256=6ad4927c66860ec1f8d3e01f7a78f740af61afc2589cf2396ac2f352d44d5950 (from https://pypi.org/simple/coolprop/); it is not compatible with this Python\n",
            "    Skipping link https://files.pythonhosted.org/packages/93/3f/73d6219e44c5da0b969b8b1cca990acb741c44e99f26d3dc19b5f8cd739f/CoolProp-5.0.7-cp33-none-win_amd64.whl#sha256=868ee6f24ccfb92710124aa301a8fa48a87da437be9cb6fc22c427f5092e4170 (from https://pypi.org/simple/coolprop/); it is not compatible with this Python\n",
            "    Skipping link https://files.pythonhosted.org/packages/43/a5/94be030964401db2ae9ff861a835bea1e49f4ad0daccae3a4f6f5c36d7dd/CoolProp-5.0.7-cp34-cp34m-macosx_10_5_x86_64.whl#sha256=10c074dfb9f981ee5c002bcdf414423bf6f675f1266f5d5b4cbceebd29a58d01 (from https://pypi.org/simple/coolprop/); it is not compatible with this Python\n",
            "    Skipping link https://files.pythonhosted.org/packages/2a/1b/cde4f1cb2fa92827490b3159c354ae8d78ee01edff742c3f9e35fd09389c/CoolProp-5.0.7-cp34-none-win32.whl#sha256=02ee874421ae816fbccec656ee34bf11a056705365ed7cedbd8b65134c7fde9d (from https://pypi.org/simple/coolprop/); it is not compatible with this Python\n",
            "    Skipping link https://files.pythonhosted.org/packages/f4/86/9dd22b03df38fd1f807f0b23042ae0c6f2e7750e5ae699b2843694ab76be/CoolProp-5.0.7-cp34-none-win_amd64.whl#sha256=27b4fa4b4b4c3ce7e6cd2fd3a9e2c10e67e135951819ee912ba1386d5b07508c (from https://pypi.org/simple/coolprop/); it is not compatible with this Python\n",
            "    Found link https://files.pythonhosted.org/packages/cc/1b/32067d432047b8118a7437a56402ee20535fe932d611c7a98c75841de356/CoolProp-5.0.7.tar.gz#sha256=31c7711a32645996f28d779b49c2c62b186da21f85c7c1964bec970c40207311 (from https://pypi.org/simple/coolprop/), version: 5.0.7\n",
            "    Skipping link https://files.pythonhosted.org/packages/f8/29/01d3648ba1caef4fb7137393ef7541475770b2802926d3a1307d6dfa7d0b/CoolProp-5.0.8-cp27-none-macosx_10_5_x86_64.whl#sha256=164640c39c29c19f7ec333230e6e19eb7c8449e7b9fb2cc6440fc371247b10a4 (from https://pypi.org/simple/coolprop/); it is not compatible with this Python\n",
            "    Skipping link https://files.pythonhosted.org/packages/50/65/0a9bde046890527ca74ffd40f5a6d2260265fe1eb9d3a427a93853e51c45/CoolProp-5.0.8-cp27-none-win32.whl#sha256=9ee31f836a085caf2d5df64add8c82ff97c9f396a158e1b2b66bd8ee8ff733cb (from https://pypi.org/simple/coolprop/); it is not compatible with this Python\n",
            "    Skipping link https://files.pythonhosted.org/packages/b3/61/3051eabd70349b9381434ab37712ca0705f5ad5a336e9a7f9037bd48b3fe/CoolProp-5.0.8-cp27-none-win_amd64.whl#sha256=56ed2bdf8b2cb21e22b5e00cbcb2241de5895fc7bdd5a184171c6d48c7f0a177 (from https://pypi.org/simple/coolprop/); it is not compatible with this Python\n",
            "    Skipping link https://files.pythonhosted.org/packages/a6/2c/cfea2ff308b5dc12d0e88bd7cce63f4f06514b797357e4466f60ac44d6d8/CoolProp-5.0.8-cp33-cp33m-macosx_10_5_x86_64.whl#sha256=b6ac873c5bb50a58c9dbfa0fc63083d2240da2f1b59963e84e683837cd4d92a1 (from https://pypi.org/simple/coolprop/); it is not compatible with this Python\n",
            "    Skipping link https://files.pythonhosted.org/packages/89/98/fb37e407128312a3844376028389c1a2e27a998828a091dacebe7eb1afb5/CoolProp-5.0.8-cp33-none-win32.whl#sha256=9b18a808c10a554de8160f74d73dcf64be1d2e17a765ba20732819f53751510b (from https://pypi.org/simple/coolprop/); it is not compatible with this Python\n",
            "    Skipping link https://files.pythonhosted.org/packages/97/18/0f5e75c6fa2ea312ab0e684a8b15aac94aa26c7eb3c9cd727561aca04074/CoolProp-5.0.8-cp33-none-win_amd64.whl#sha256=b23f6393018f994e6cd300a272873375bba53c9f8da2e4d601873e1d22f6f958 (from https://pypi.org/simple/coolprop/); it is not compatible with this Python\n",
            "    Skipping link https://files.pythonhosted.org/packages/2d/f9/c5ae0d97af4e5be6649a4c1ee929db9d3ebcd4dd5d877b09acafc13bd372/CoolProp-5.0.8-cp34-cp34m-macosx_10_5_x86_64.whl#sha256=986ae5be50b22328c9903e47b666f0c741749c51b590a23f51fbc168060d8fcc (from https://pypi.org/simple/coolprop/); it is not compatible with this Python\n",
            "    Skipping link https://files.pythonhosted.org/packages/64/59/dfb7ca49b9edbe00a953240813034d1d613c19981dc8d3825ac41ab09749/CoolProp-5.0.8-cp34-none-win32.whl#sha256=268d4f93ac29a7d80eac32e9e3f1340ac33c6bef8d96a30eb2999993190fdcda (from https://pypi.org/simple/coolprop/); it is not compatible with this Python\n",
            "    Skipping link https://files.pythonhosted.org/packages/22/35/16584b15d93b03d7d87c956e72cb03ac49fce38e7a68e7d989e6d1bccb1b/CoolProp-5.0.8-cp34-none-win_amd64.whl#sha256=30cf8135f29caa84364a5aecb322259e333ea7c4946d45913d4379d62aaa7b3e (from https://pypi.org/simple/coolprop/); it is not compatible with this Python\n",
            "    Found link https://files.pythonhosted.org/packages/cc/1e/38e1b28a3e58abb8e067b21c26443490c8f98f7a6af4fd4087a8d56279ca/CoolProp-5.0.8.tar.gz#sha256=a1002492bb6e987f956eb41e31c989f1e891cbd7ca17a001e4c935edd386cadc (from https://pypi.org/simple/coolprop/), version: 5.0.8\n",
            "    Skipping link https://files.pythonhosted.org/packages/b4/46/ba7907c8f28f373d4282b1bfb5da829b6fb35b7d84529899317e45c8c042/CoolProp-5.1.0-cp27-none-macosx_10_5_x86_64.whl#sha256=12e320e20170ff45429b07b4a4144d688518f0bfa13cc560dcd136ccd1680931 (from https://pypi.org/simple/coolprop/); it is not compatible with this Python\n",
            "    Skipping link https://files.pythonhosted.org/packages/73/7a/5f991d263dd42c8353874330533c3b21c8579f9b7f57311580732fe8d6df/CoolProp-5.1.0-cp27-none-win32.whl#sha256=e07072559625d094767f6af9ece6c65fed38424d854da85c9b091aec85161ca4 (from https://pypi.org/simple/coolprop/); it is not compatible with this Python\n",
            "    Skipping link https://files.pythonhosted.org/packages/f6/13/cde69d6e9521466c8121c0fe1c8c8e3eee8edec9b8802d1be557cee5f381/CoolProp-5.1.0-cp27-none-win_amd64.whl#sha256=020dfd6b9534c0c89992995f75a7b50b1a376ad4e6854ae470f5365e216518f5 (from https://pypi.org/simple/coolprop/); it is not compatible with this Python\n",
            "    Skipping link https://files.pythonhosted.org/packages/29/7a/828e629eae8d789646a5484c3bae297fe6b60532a33f0df1d6505f374ce3/CoolProp-5.1.0-cp33-cp33m-macosx_10_5_x86_64.whl#sha256=5ad29793c2dc99e7ad8848039e1394f9d66c474481017da9ee354464c0351bd1 (from https://pypi.org/simple/coolprop/); it is not compatible with this Python\n",
            "    Skipping link https://files.pythonhosted.org/packages/e8/4f/0ad313ccc943e3fa466a3b0f31f44543cfc6be33458829ae1c4938f74795/CoolProp-5.1.0-cp33-none-win32.whl#sha256=d05454afb15999d9cc884ad4fbea46de0a0124e8facae3ba97446700c51b2ff6 (from https://pypi.org/simple/coolprop/); it is not compatible with this Python\n",
            "    Skipping link https://files.pythonhosted.org/packages/61/bb/e78871f942395786fc4bcb61d28845de649d0f56ff571006920c28c2442e/CoolProp-5.1.0-cp33-none-win_amd64.whl#sha256=b326b48825af6bc74cd0b04ffbdb5643ca6834cef417cf3cd91e702fa27117db (from https://pypi.org/simple/coolprop/); it is not compatible with this Python\n",
            "    Skipping link https://files.pythonhosted.org/packages/b0/50/45e3f87001839ca72038b7ae8811f80579d35b5b5ad65919c6226e527162/CoolProp-5.1.0-cp34-cp34m-macosx_10_5_x86_64.whl#sha256=5e885d4cabd11102edbac308bbb5ba4b4e65fb6edbc53e459d893cbcdec66450 (from https://pypi.org/simple/coolprop/); it is not compatible with this Python\n",
            "    Skipping link https://files.pythonhosted.org/packages/3c/af/4ea7e1f58752221f5184c91ca3f99f3125489fcac2a7912d212a13973e85/CoolProp-5.1.0-cp34-none-win32.whl#sha256=98b93ed9228bdecd4cc3fd3f03197b6b5f08b25e316ca289824111c0ec8f4821 (from https://pypi.org/simple/coolprop/); it is not compatible with this Python\n",
            "    Skipping link https://files.pythonhosted.org/packages/25/46/a0b10f47ed181a9e0240b97c57515c8cee27a1b272adf86d3663e578a906/CoolProp-5.1.0-cp34-none-win_amd64.whl#sha256=57dd616776a93ccb4576e8e59114c6a16b4c34436a8e95be1b649df9929c2a1d (from https://pypi.org/simple/coolprop/); it is not compatible with this Python\n",
            "    Found link https://files.pythonhosted.org/packages/46/3a/bea6bfa87092bfd4f8b4d90de267c82b9e68b5c7645d3c44d87e841132d4/CoolProp-5.1.0.tar.gz#sha256=9d9b1082dc2ddfc9fc7c76bfa9c8cf0861862428844aadaab456a1246d3518cd (from https://pypi.org/simple/coolprop/), version: 5.1.0\n",
            "    Skipping link https://files.pythonhosted.org/packages/2d/d1/e6f433db68e4ba2cc6d4fbbc6755ae1e7424624c4adc9c32423e3966d9a6/CoolProp-5.1.1-cp27-none-macosx_10_5_x86_64.whl#sha256=1b0c6fcadea1048d2f88641dff05a25028fd0571f9d41302a2aa49ed080cb239 (from https://pypi.org/simple/coolprop/); it is not compatible with this Python\n",
            "    Skipping link https://files.pythonhosted.org/packages/ab/fd/5203db07a701db94b2365d31c988564e9b87a8291753dcb76d582051da5b/CoolProp-5.1.1-cp27-none-win32.whl#sha256=440d28e05d16f157e834d9a4a14b2a2e9920960c68682313569db9d7fdd696a8 (from https://pypi.org/simple/coolprop/); it is not compatible with this Python\n",
            "    Skipping link https://files.pythonhosted.org/packages/5a/47/c02ebe265d24cd5b69e46f0d99a5430e93ca0d9e900da3f5cac5838849c2/CoolProp-5.1.1-cp27-none-win_amd64.whl#sha256=a64c0b8a366340dc95c73448c99375b8f66d4980a07bf37bb4a678e36bba9d38 (from https://pypi.org/simple/coolprop/); it is not compatible with this Python\n",
            "    Skipping link https://files.pythonhosted.org/packages/0c/41/a6374d0be87a9445609a4690e13214d5333960b29c4584305fdeea4971d5/CoolProp-5.1.1-cp33-cp33m-macosx_10_5_x86_64.whl#sha256=f11279a5f1cf1e522c670f8e9706843b2ef5654d51a58078b2c1ecf038f2d444 (from https://pypi.org/simple/coolprop/); it is not compatible with this Python\n",
            "    Skipping link https://files.pythonhosted.org/packages/07/a4/5a6c6abefd5ccee49f0baf340a840fea80cec59c22711d2e39d0993c7b11/CoolProp-5.1.1-cp33-none-win32.whl#sha256=5a590e4a79710b6c3211c639d873e89335fc43ff99d5a8bac7615929a882f79e (from https://pypi.org/simple/coolprop/); it is not compatible with this Python\n",
            "    Skipping link https://files.pythonhosted.org/packages/0c/a9/a9be73799d63677d286479b3cb39fea4892e3c7c974f60bcfdbc9ba02697/CoolProp-5.1.1-cp33-none-win_amd64.whl#sha256=e90b8fa225e1ded6e363aeb65d3f03285e68585842581a64fa580d9f366c51d9 (from https://pypi.org/simple/coolprop/); it is not compatible with this Python\n",
            "    Skipping link https://files.pythonhosted.org/packages/10/55/7513df04d56a8cb4292324dbc54069e432ced172226746d3ff0a8af503d6/CoolProp-5.1.1-cp34-cp34m-macosx_10_5_x86_64.whl#sha256=538e7b590fd13d2c608704babbea337f37eb8c4b97c9039a79c11177d8312d87 (from https://pypi.org/simple/coolprop/); it is not compatible with this Python\n",
            "    Skipping link https://files.pythonhosted.org/packages/cf/3b/2c148e6eb98c5206cce2a177f173329a825c772b5f7b862a41e2e0bdcb94/CoolProp-5.1.1-cp34-none-win32.whl#sha256=2facffa542e25ed9044a838bfa41da985d4d5f706fa7b572c203c0e8a14536a7 (from https://pypi.org/simple/coolprop/); it is not compatible with this Python\n",
            "    Skipping link https://files.pythonhosted.org/packages/39/cf/43731c39aa90ae68aa5d678945ebd7866239cfc38b751ef929a40fe40121/CoolProp-5.1.1-cp34-none-win_amd64.whl#sha256=a015d5f81a3349779636d13e69ba139142f6866c2a2704fd821384e02b6fb0b1 (from https://pypi.org/simple/coolprop/); it is not compatible with this Python\n",
            "    Found link https://files.pythonhosted.org/packages/65/48/df83846da6abf104432f143d10934d588ca3698dd4068b51deb86f440176/CoolProp-5.1.1.tar.gz#sha256=c2a76a779b9b76230fbc02fc8504cb079f4fbb8ad6649cd542f48f909e4f5a10 (from https://pypi.org/simple/coolprop/), version: 5.1.1\n",
            "    Skipping link https://files.pythonhosted.org/packages/7d/e0/e66715e44a5fb5a1d8f3d51045d1cc50dcd3c83ba5e3eb048495bb3fe95b/CoolProp-5.1.2-cp27-none-macosx_10_5_x86_64.whl#sha256=67b935917e6233867c741c8c96edc35a58a60721fb0b8906e460b1f62bc76391 (from https://pypi.org/simple/coolprop/); it is not compatible with this Python\n",
            "    Skipping link https://files.pythonhosted.org/packages/2d/91/162fd8305e582073d708c9e4c773a9cd0fade2ac14cc58774575dc654391/CoolProp-5.1.2-cp27-none-win32.whl#sha256=3b4af2abb787abcb9cf78edacdbd9620c87249fd2282d5ce341fa2d4f49ea824 (from https://pypi.org/simple/coolprop/); it is not compatible with this Python\n",
            "    Skipping link https://files.pythonhosted.org/packages/17/02/5f6389f709664eefbc90f413fdddc8e881caa196776649729045b0b09035/CoolProp-5.1.2-cp27-none-win_amd64.whl#sha256=a9a3f0305de74d1865df96d07ac8bf3a544f1dc5b77d3f497996ea0754de5831 (from https://pypi.org/simple/coolprop/); it is not compatible with this Python\n",
            "    Skipping link https://files.pythonhosted.org/packages/0f/5b/e3c8b5a41e57b70803a1780833b2f8989c076e6c86d16556790a439d1421/CoolProp-5.1.2-cp33-cp33m-macosx_10_5_x86_64.whl#sha256=4d1dfaebf44f4078767074be2a0daa9f3940fba08859d963fdc20224d0f94142 (from https://pypi.org/simple/coolprop/); it is not compatible with this Python\n",
            "    Skipping link https://files.pythonhosted.org/packages/9a/06/552ee035939ea4991186857667dcde8d97d77594d4657a07eff80c36f33e/CoolProp-5.1.2-cp33-none-win32.whl#sha256=4b193d8310e607a3408798a80cb45bd46429df263dec8b641981dc5fc98f51fd (from https://pypi.org/simple/coolprop/); it is not compatible with this Python\n",
            "    Skipping link https://files.pythonhosted.org/packages/2a/0a/43103f6a0ba01e4293ad9a6e4da8c7f4341d24e3a8c6b374bd9f8b571ef0/CoolProp-5.1.2-cp33-none-win_amd64.whl#sha256=dcaa079a7c43d7e2f77eadfd31b33ee59815161fef86947e2595202b88f4cb76 (from https://pypi.org/simple/coolprop/); it is not compatible with this Python\n",
            "    Skipping link https://files.pythonhosted.org/packages/6c/ae/9b531679a000520cc1fed9bad3a011b78e6040c4c1033cdaa0b7a309ef0b/CoolProp-5.1.2-cp34-cp34m-macosx_10_5_x86_64.whl#sha256=4d8e5edf98c8e507879574c291da0021388b48273459689f92ed5743171bb73d (from https://pypi.org/simple/coolprop/); it is not compatible with this Python\n",
            "    Skipping link https://files.pythonhosted.org/packages/ec/4a/a1a6dad8524a249ae7308b3371de98d935202132fcc218c9a43c80b09de9/CoolProp-5.1.2-cp34-none-win32.whl#sha256=27797c6e023e514695e6e27f6a6666659da626f31d60a70686a2fd7f8bd5d2c2 (from https://pypi.org/simple/coolprop/); it is not compatible with this Python\n",
            "    Skipping link https://files.pythonhosted.org/packages/b4/d2/745b967da8da162928a481209643ab7402be9c4f089cf0dae4f9fad61a02/CoolProp-5.1.2-cp34-none-win_amd64.whl#sha256=6bf08454b2d41373ddff2e6640b751270fe466e133e183676641429aeedad931 (from https://pypi.org/simple/coolprop/); it is not compatible with this Python\n",
            "    Found link https://files.pythonhosted.org/packages/1e/23/1dd5cab8a22779b42f9c28b6b7a6b299d28ecf5bc18db43aa3ae95d49375/CoolProp-5.1.2.tar.gz#sha256=2ff5d8e2a70dae8714e9f54f297c185b303b2854f094d5b8e502ff51cff646b4 (from https://pypi.org/simple/coolprop/), version: 5.1.2\n",
            "    Skipping link https://files.pythonhosted.org/packages/c9/60/53090aca88a3f45805507ab985182ca6575401cca486a4d78a4290ade9f1/CoolProp-6.0.0-cp27-cp27m-macosx_10_5_x86_64.whl#sha256=d2766e44b9306a45bf07048ef7341d27a37d575bba008eb3d10a4106ddf10904 (from https://pypi.org/simple/coolprop/); it is not compatible with this Python\n",
            "    Skipping link https://files.pythonhosted.org/packages/2e/10/e02bfa25f2974e51b5e020233d03431b87966eeaabe5e76fc29bfa9bf75a/CoolProp-6.0.0-cp27-cp27m-manylinux1_x86_64.whl#sha256=f77a50488d14e4b5c1ca728cbb163f51f6df6962e380f1ec7a8fdbdf352f02eb (from https://pypi.org/simple/coolprop/); it is not compatible with this Python\n",
            "    Skipping link https://files.pythonhosted.org/packages/5d/9d/7fb12e7e90be520a4ce9017968c2a7b42f3c1a77b84142949bed7676a181/CoolProp-6.0.0-cp27-cp27m-win32.whl#sha256=4e36fa2157298ed2488775db38d8e7f4bae7265ee29f96987f8ac2c66b6a3200 (from https://pypi.org/simple/coolprop/); it is not compatible with this Python\n",
            "    Skipping link https://files.pythonhosted.org/packages/b8/fb/230b38bb6e93f17a0852f1e523ea4380ffc987e520fbd9e9971b939e5ace/CoolProp-6.0.0-cp27-cp27m-win_amd64.whl#sha256=967d396c9b51d5b0b82800115db4a94712ee4ad7973106e968bcaa749372ae95 (from https://pypi.org/simple/coolprop/); it is not compatible with this Python\n",
            "    Skipping link https://files.pythonhosted.org/packages/17/71/0bfbaed4d1eeb0fd339827e203e8abfbb1b29c82e65bd25a87473fa275a0/CoolProp-6.0.0-cp27-cp27mu-manylinux1_x86_64.whl#sha256=23eeb7baeed101c04faa383ffdc0cab535b0b5d23801a9451eba568217c932a9 (from https://pypi.org/simple/coolprop/); it is not compatible with this Python\n",
            "    Skipping link https://files.pythonhosted.org/packages/28/56/c144532c015dac4b755d76564f40e7b5b360d3a6ecdc39396d928a74764e/CoolProp-6.0.0-cp33-cp33m-macosx_10_5_x86_64.whl#sha256=5d0e7a72e32f95133d2b62ef742c0282d6bb268e61d4bbe602208d00aeab2f14 (from https://pypi.org/simple/coolprop/); it is not compatible with this Python\n",
            "    Skipping link https://files.pythonhosted.org/packages/44/83/d0b46ea54042fbff61957eac81d082160f9c147563be955b0dc805580e18/CoolProp-6.0.0-cp33-cp33m-manylinux1_x86_64.whl#sha256=f0a805b0c2f046ac1142510fe4899757d28f6a898e4376d809960d4bd707496d (from https://pypi.org/simple/coolprop/); it is not compatible with this Python\n",
            "    Skipping link https://files.pythonhosted.org/packages/7e/1a/fdfb51e07fd769a225f951419c679aead036c2e209df0e861e67bf8570c5/CoolProp-6.0.0-cp33-cp33m-win32.whl#sha256=89d14cefa3cda47774fd88e89c6260bc004a063e69b11e1c7bc1f6af9be7f590 (from https://pypi.org/simple/coolprop/); it is not compatible with this Python\n",
            "    Skipping link https://files.pythonhosted.org/packages/4c/05/d9085e6248d91f42ace592ebd95108614c0bf1f5b222f833cd2951c72593/CoolProp-6.0.0-cp33-cp33m-win_amd64.whl#sha256=0f1af3801a724a8eab4f53b5c66a74608d27b7308f5cd7a7fb74be47b1810ffb (from https://pypi.org/simple/coolprop/); it is not compatible with this Python\n",
            "    Skipping link https://files.pythonhosted.org/packages/11/2c/65c1f4f1f7a3594071d09ab54fab19cd9411abe15dcc092efe79c7f3aa6b/CoolProp-6.0.0-cp34-cp34m-macosx_10_5_x86_64.whl#sha256=ef2fac6e0b0966bc75f4e23c03f053ee6c1f554d54215a72fc960f373536ce4a (from https://pypi.org/simple/coolprop/); it is not compatible with this Python\n",
            "    Skipping link https://files.pythonhosted.org/packages/4a/4d/812828a4ac6d5df38438995af1f725ef54a879e8b122c2f5bca6d39c704b/CoolProp-6.0.0-cp34-cp34m-manylinux1_x86_64.whl#sha256=03d9822bb84a690fc5188b80b236c821b240c70ba09baa77fd1274a17915b776 (from https://pypi.org/simple/coolprop/); it is not compatible with this Python\n",
            "    Skipping link https://files.pythonhosted.org/packages/92/1f/aee5622e3808fdee0ef76a98138326c7689f4f053513faefcb5a71f21567/CoolProp-6.0.0-cp34-cp34m-win32.whl#sha256=cda8d4e05419f858e19c5a234887684537ff41734c216973b298c4315a84dcc2 (from https://pypi.org/simple/coolprop/); it is not compatible with this Python\n",
            "    Skipping link https://files.pythonhosted.org/packages/db/ce/5cfbcda80ea5446d657f3b78e737bd41b0ae0a0bd939d24af9cb101b56e6/CoolProp-6.0.0-cp34-cp34m-win_amd64.whl#sha256=fca49a7906596ae38d01463d85f9f390e0b17a3d5626280066c8f2b2e79adc3d (from https://pypi.org/simple/coolprop/); it is not compatible with this Python\n",
            "    Skipping link https://files.pythonhosted.org/packages/d4/b2/70e002c7ebce4536f01c3427ea5fb625117a5c4969179cfbb7502a972887/CoolProp-6.0.0-cp35-cp35m-macosx_10_5_x86_64.whl#sha256=a83ba9a8df9e785c8eed15d15bbb00fa5d2d80682f72daa20ca012d913614f02 (from https://pypi.org/simple/coolprop/); it is not compatible with this Python\n",
            "    Skipping link https://files.pythonhosted.org/packages/2d/51/d9ebf86c808264891ee6785839811d0059a1c51fdb063e1ca487152b72a2/CoolProp-6.0.0-cp35-cp35m-manylinux1_x86_64.whl#sha256=6180895aa6d217a87881cb265cbf88ce945c6e5c20ef73d41f646d21c14b1684 (from https://pypi.org/simple/coolprop/); it is not compatible with this Python\n",
            "    Skipping link https://files.pythonhosted.org/packages/e4/64/96582a7a2e34505bca96c5a26ae0d01664c4000d804a893f3defab022a02/CoolProp-6.0.0-cp35-cp35m-win32.whl#sha256=26eb8ef6df7d67ea4b27507bf33c91505f5ba3ded3f5ca4533086c507586254a (from https://pypi.org/simple/coolprop/); it is not compatible with this Python\n",
            "    Skipping link https://files.pythonhosted.org/packages/d4/48/76a9f8ad309a225f197b322b18b7dfadd5633923262fe7b6d2390c9a8781/CoolProp-6.0.0-cp35-cp35m-win_amd64.whl#sha256=eff06949143404c36038854024e6afbe9f8212ec626c707ecf72ec029f8b7454 (from https://pypi.org/simple/coolprop/); it is not compatible with this Python\n",
            "    Found link https://files.pythonhosted.org/packages/e6/c8/a206a2cc3cb189b2b84c13e6fcea97a9faafacaa9866dd0e49b42f1b5608/CoolProp-6.0.0.tar.gz#sha256=f3c8b57a2f5cd6dc4816623a460defe3bdc0639bd1f709c2cfeb5776486d4ba3 (from https://pypi.org/simple/coolprop/), version: 6.0.0\n",
            "    Skipping link https://files.pythonhosted.org/packages/a9/ec/d9d25779cf57afc843327a22282cab7ccc2386b5556acd41d8147a2d6149/CoolProp-6.1.0-cp27-cp27m-macosx_10_5_x86_64.whl#sha256=f6715d69c5fa797b8975a8fbc433971a35386d3d772bcf53ee7d580fe32135d6 (from https://pypi.org/simple/coolprop/); it is not compatible with this Python\n",
            "    Skipping link https://files.pythonhosted.org/packages/54/2c/c91150b72f4a6adb786cd94e86b4bb36446cc39e4225228519b4aa568dac/CoolProp-6.1.0-cp27-cp27m-manylinux1_x86_64.whl#sha256=4a4594b86d7950a8bd6069aeff0c9987a78092db4b28b7c956b7fcf93e1d643b (from https://pypi.org/simple/coolprop/); it is not compatible with this Python\n",
            "    Skipping link https://files.pythonhosted.org/packages/be/32/830577bbf307feb1baaa1bffa190c3bbdcea251214f0c8f710fba4db1f40/CoolProp-6.1.0-cp27-cp27m-win32.whl#sha256=635b79116fc79849a4e2cd9a3dc666ad889c68efb8e7476841fb53f11c74d1c7 (from https://pypi.org/simple/coolprop/); it is not compatible with this Python\n",
            "    Skipping link https://files.pythonhosted.org/packages/5a/75/c7630df21e2f5f2d6494e123428964ed9f892d4c1b7d2e4c59632dc72a3c/CoolProp-6.1.0-cp27-cp27m-win_amd64.whl#sha256=a21543d590823e61b1ae5b3ccab66b4a4730af515877cf8e6094f171d7e2b3d5 (from https://pypi.org/simple/coolprop/); it is not compatible with this Python\n",
            "    Skipping link https://files.pythonhosted.org/packages/a4/0b/a103da88f1c17c22e8d4a822ac10d1ca69cc01cebb5605ab2807db93c83f/CoolProp-6.1.0-cp27-cp27mu-manylinux1_x86_64.whl#sha256=2268aba8be2861bf4e12483e61208cd9d9d995a59f3549446b983da3154a3ca1 (from https://pypi.org/simple/coolprop/); it is not compatible with this Python\n",
            "    Skipping link https://files.pythonhosted.org/packages/8c/1d/20af39e67dd6391cf99855a7e2b8ea0e837a1ec1116a5aca8ba1ac0d1a41/CoolProp-6.1.0-cp33-cp33m-macosx_10_5_x86_64.whl#sha256=813803403b2b9a920158b8a98b61bc50a4625aa18e21183d5c85791f1744c3f4 (from https://pypi.org/simple/coolprop/); it is not compatible with this Python\n",
            "    Skipping link https://files.pythonhosted.org/packages/49/80/1383549574cae818d700db6c74b97494968c2cfec14d8ead2962b023bdb4/CoolProp-6.1.0-cp33-cp33m-manylinux1_x86_64.whl#sha256=b49e9095a4439687f7dca64e1283259072d6d3e0f24af88c575a6605b7fb58ae (from https://pypi.org/simple/coolprop/); it is not compatible with this Python\n",
            "    Skipping link https://files.pythonhosted.org/packages/f6/e3/92471b87cb04ab5b10bb631faa84af2e209e2d6402c31bd08491078a9b10/CoolProp-6.1.0-cp33-cp33m-win32.whl#sha256=0b25b89ac4a9d0e5e7ca38843449341c6343f1c32d7810619957a1f57212e325 (from https://pypi.org/simple/coolprop/); it is not compatible with this Python\n",
            "    Skipping link https://files.pythonhosted.org/packages/41/1c/a61b0ccfed045e79df083a69de7031f5f9474ff202945dfba3d9c3c65ecb/CoolProp-6.1.0-cp33-cp33m-win_amd64.whl#sha256=96b95b8fb8437b47290d8ca1435fa6a9996f0f7aa5ef19a98b44a513f38a95af (from https://pypi.org/simple/coolprop/); it is not compatible with this Python\n",
            "    Skipping link https://files.pythonhosted.org/packages/be/57/6d24f3880383756b15e52423dab076fde5e8984323034885bdbee7038cdd/CoolProp-6.1.0-cp34-cp34m-macosx_10_5_x86_64.whl#sha256=19fa4a973a6bdf197f8aba0cab94ccb4254915b8c7e772eb93379e7aab6e787a (from https://pypi.org/simple/coolprop/); it is not compatible with this Python\n",
            "    Skipping link https://files.pythonhosted.org/packages/a1/d0/6a45a98e9449fff975915684a762e01b8822b9136d8c48e42045e408fb6e/CoolProp-6.1.0-cp34-cp34m-manylinux1_x86_64.whl#sha256=2d37039c1912430256c528e4ce5b62af6d36c43394f227de3dcad7165cc902bc (from https://pypi.org/simple/coolprop/); it is not compatible with this Python\n",
            "    Skipping link https://files.pythonhosted.org/packages/09/ad/c97e1ba891191e1c822d7708e1309d27f5f215edc9d2bfc15968b70d4cd8/CoolProp-6.1.0-cp34-cp34m-win32.whl#sha256=1013625c56ac053ff32072c644609d391411ecfea5b613bc806547ddb6dffa43 (from https://pypi.org/simple/coolprop/); it is not compatible with this Python\n",
            "    Skipping link https://files.pythonhosted.org/packages/6e/9c/e0522afd448bbc903726155c05e5782fa823f019bff5ab1c63882f97ad9e/CoolProp-6.1.0-cp34-cp34m-win_amd64.whl#sha256=cc7f494851d05c1d9643fae778000348b5131a4247794c47a46cb826a2fd4107 (from https://pypi.org/simple/coolprop/); it is not compatible with this Python\n",
            "    Skipping link https://files.pythonhosted.org/packages/89/ce/46b1c0f5a2a6822e6e36b53a37a560f4d4ac98c18e876e62b60d34555250/CoolProp-6.1.0-cp35-cp35m-macosx_10_5_x86_64.whl#sha256=5e548f5747ea9b95a67dd973d50c18ff90bc00329e3cc327da481dc4a9a1a1fc (from https://pypi.org/simple/coolprop/); it is not compatible with this Python\n",
            "    Skipping link https://files.pythonhosted.org/packages/3e/eb/efa2ecaf011e7e16267fa4950f08cce4b5681b178503a69a911517a856e1/CoolProp-6.1.0-cp35-cp35m-manylinux1_x86_64.whl#sha256=579cf3891d083744b6a48d8be3252332eed639dcd1bcb6401728844e43ef7d6c (from https://pypi.org/simple/coolprop/); it is not compatible with this Python\n",
            "    Skipping link https://files.pythonhosted.org/packages/ce/b5/28167411493c6846a9982c4b7d924c7ecdc041511ec68cecada6994e7a58/CoolProp-6.1.0-cp35-cp35m-win32.whl#sha256=9e6da01be8e387f057446cc0a0f286d7bf1df4bdf7cd752fa684bb0a0b4aa7ef (from https://pypi.org/simple/coolprop/); it is not compatible with this Python\n",
            "    Skipping link https://files.pythonhosted.org/packages/c5/d2/66d60f003374833948e8120e766456da9c4d29602655c0ed7db43acd6eea/CoolProp-6.1.0-cp35-cp35m-win_amd64.whl#sha256=bfc29b95f74318b9c64853a57055f433f733fa39545152e2f053badf6bba6238 (from https://pypi.org/simple/coolprop/); it is not compatible with this Python\n",
            "    Skipping link https://files.pythonhosted.org/packages/1b/ca/e2fe87a3580a2dbd721f13539df0379d5e6f35a478fb5d405d03eafd0b06/CoolProp-6.2.0-cp27-cp27m-macosx_10_7_x86_64.whl#sha256=12369849bea1a80fc92b76a9e12855cd80f149ab4745f0f56f549c186ee5bb81 (from https://pypi.org/simple/coolprop/); it is not compatible with this Python\n",
            "    Skipping link https://files.pythonhosted.org/packages/8f/95/866d042ee5eb5a703381ad031fb329a600e3c7fefe086339c6c61fbe2493/CoolProp-6.2.0-cp27-cp27m-manylinux1_x86_64.whl#sha256=fad18c8cb2f88007d1ced020b2a5b5e16290f42300c66c7fa079823ac0e90753 (from https://pypi.org/simple/coolprop/); it is not compatible with this Python\n",
            "    Skipping link https://files.pythonhosted.org/packages/f7/ed/3c70026569f600c6f90fbc1373a3ca3fe53bdf459c8c71861c0746d3c026/CoolProp-6.2.0-cp27-cp27m-win32.whl#sha256=a4e46c766a795c0912a209fe964fd44677ea82c3ffd8de581bca9b174f929e7d (from https://pypi.org/simple/coolprop/); it is not compatible with this Python\n",
            "    Skipping link https://files.pythonhosted.org/packages/94/10/f61c041fa17d96396ac809dfbfc6b81b97039d04111a31a3850f47988fc3/CoolProp-6.2.0-cp27-cp27m-win_amd64.whl#sha256=d30e2af0aac8df83cfd5fc99b742d6f5f1658b33cecf48fee6a3b21bd324075a (from https://pypi.org/simple/coolprop/); it is not compatible with this Python\n",
            "    Skipping link https://files.pythonhosted.org/packages/82/e9/b950bdc82650ff5948fac38730846a0c7e2a194eb1485667b8ef313f61bd/CoolProp-6.2.0-cp27-cp27mu-manylinux1_x86_64.whl#sha256=3c2205fb5caf613ce510691d6846c07117a4725422337b00fd28b7e51bc002e6 (from https://pypi.org/simple/coolprop/); it is not compatible with this Python\n",
            "    Skipping link https://files.pythonhosted.org/packages/73/0c/66c602407840113f7c6940af1eb12fbce50a0b69e0e4177edabea18324fb/CoolProp-6.2.0-cp34-cp34m-macosx_10_6_x86_64.whl#sha256=ba237e4c9577db8e32a1637469e564122636d483556813224eb3a9c0fc66478f (from https://pypi.org/simple/coolprop/); it is not compatible with this Python\n",
            "    Skipping link https://files.pythonhosted.org/packages/76/08/18c5c44f4737810d006df2126993564c0313f208925165f55ca50f717a95/CoolProp-6.2.0-cp34-cp34m-manylinux1_x86_64.whl#sha256=0b656cedfcab7f97e9e2e8c0e98bacb27a309dc151786ba0ba49d73c89e9b6bc (from https://pypi.org/simple/coolprop/); it is not compatible with this Python\n",
            "    Skipping link https://files.pythonhosted.org/packages/2e/c3/698bd19c9a50d5fb41b277a855d3cd019d26b7ffaa7ad3e84f13a14fd683/CoolProp-6.2.0-cp34-cp34m-win32.whl#sha256=b50d6eb2ec3b80fab52452a8356f85fe459ce3c48c4806ecf96123adb7c9a150 (from https://pypi.org/simple/coolprop/); it is not compatible with this Python\n",
            "    Skipping link https://files.pythonhosted.org/packages/b6/4c/bdae73b620f411ff6652ce80b770c3b82c7f1f3d002f92f7009bc93f65ab/CoolProp-6.2.0-cp34-cp34m-win_amd64.whl#sha256=ffbc83dbd550b1831f4311aeadbd0724e4885eac7f2a33ad5dd15d2b06915ed1 (from https://pypi.org/simple/coolprop/); it is not compatible with this Python\n",
            "    Skipping link https://files.pythonhosted.org/packages/5f/97/6392508dcdf4d93f6d81c79a9ae4f816a123050d0f39c5e14b03603536be/CoolProp-6.2.0-cp35-cp35m-macosx_10_7_x86_64.whl#sha256=604d31c73f0b768801b292ee9773741691331875927fa67969638e671438988d (from https://pypi.org/simple/coolprop/); it is not compatible with this Python\n",
            "    Skipping link https://files.pythonhosted.org/packages/1d/c4/90950e01a33a87f04f16bccfd1285529470c894742063a2d2dab1129e548/CoolProp-6.2.0-cp35-cp35m-manylinux1_x86_64.whl#sha256=e94daa2e8d8bae7b2259e19212c317c98533a0f5222d5006e7d17cef03f98de6 (from https://pypi.org/simple/coolprop/); it is not compatible with this Python\n",
            "    Skipping link https://files.pythonhosted.org/packages/3d/8e/85655d05cea3a1873bdc6d8cb7d1d2c6c890c03f6cdb8b62ca5abd831926/CoolProp-6.2.0-cp35-cp35m-win32.whl#sha256=f7ba713fca5ef0462eda6b6b189a721408626ada3069891128924831b60ddb44 (from https://pypi.org/simple/coolprop/); it is not compatible with this Python\n",
            "    Skipping link https://files.pythonhosted.org/packages/91/8a/34119dab284979951493b0f9321993f8d2c8f0f5c7dd4b445f50d2cdcc91/CoolProp-6.2.0-cp35-cp35m-win_amd64.whl#sha256=06c3ba9b3abe8c067509daba1420357fdf8359de04bb703581eec24334a54fed (from https://pypi.org/simple/coolprop/); it is not compatible with this Python\n",
            "    Skipping link https://files.pythonhosted.org/packages/f7/a6/0bfa0605298a14c1a339c6dee0875dcc050f97560e2c9e2cf82b31db3d25/CoolProp-6.2.0-cp36-cp36m-macosx_10_7_x86_64.whl#sha256=e1d96f47a7fbcc349caa27b8356d52598b551f09ce92fb4fda7ffee49e510b33 (from https://pypi.org/simple/coolprop/); it is not compatible with this Python\n",
            "    Found link https://files.pythonhosted.org/packages/4c/20/e2cd73c88c19532300beb6c53c538dc8091bfc8800adb06e4d89e1cc0d83/CoolProp-6.2.0-cp36-cp36m-manylinux1_x86_64.whl#sha256=884b6cd3e2df57c53fa757e53a14f2aa89aa26015c3d09fed315cc1bec1d574a (from https://pypi.org/simple/coolprop/), version: 6.2.0\n",
            "    Skipping link https://files.pythonhosted.org/packages/44/d0/71ba7859088ad9de517cd3573cfe3aeb1695f290deac64712786086b11c2/CoolProp-6.2.0-cp36-cp36m-win32.whl#sha256=8a87f9b8ddf6191621906ae0e213d52248575a3cffa10bb7a134b3bafd22062c (from https://pypi.org/simple/coolprop/); it is not compatible with this Python\n",
            "    Skipping link https://files.pythonhosted.org/packages/f7/79/8c4bbcd0839071aea6f939a7d15dc425c30304674a89905fd1ad36b21de4/CoolProp-6.2.0-cp36-cp36m-win_amd64.whl#sha256=c89ce120ac71cd395c264287a4a366d459046571d9c17a167d801128860b144a (from https://pypi.org/simple/coolprop/); it is not compatible with this Python\n",
            "    Skipping link https://files.pythonhosted.org/packages/67/29/1357d9f645e1cf0a9dbc0c991181038c6511cffa1b0532c779ca6a25d5bd/CoolProp-6.2.0-cp37-cp37m-macosx_10_7_x86_64.whl#sha256=9a17df4793b2699488b94ea42f9c64f928a287728d8f0a8c2cab0e0858feeff1 (from https://pypi.org/simple/coolprop/); it is not compatible with this Python\n",
            "    Skipping link https://files.pythonhosted.org/packages/56/5e/b93a4d09a3b5a5236f24c55f297d8e46c3c3ec800a9be28b517081d11883/CoolProp-6.2.0-cp37-cp37m-manylinux1_x86_64.whl#sha256=210c4c4f8d146911bee6f2bd401e6363c2d7e6f0fad485939c6c7a31c339ce6e (from https://pypi.org/simple/coolprop/); it is not compatible with this Python\n",
            "    Skipping link https://files.pythonhosted.org/packages/f8/16/e3d90958e103b0669a81c528a913710d78f31b198618d2d0105ab48b4bea/CoolProp-6.2.0-cp37-cp37m-win32.whl#sha256=b83293c0b6701d30ee4f6a88d0b7470c0aeae18c721eed56afb171fa134a1cb7 (from https://pypi.org/simple/coolprop/); it is not compatible with this Python\n",
            "    Skipping link https://files.pythonhosted.org/packages/34/68/173e0a67dd530b4ff192f4684a64cf0d8b0f81a837f481a28956ba7d28ba/CoolProp-6.2.0-cp37-cp37m-win_amd64.whl#sha256=6a1a69a9f8f192b9bce31d00e493f65a1a92bbbe74371e00b6d57a2be98e422d (from https://pypi.org/simple/coolprop/); it is not compatible with this Python\n",
            "    Found link https://files.pythonhosted.org/packages/18/39/43753b23586ae32647859519f6c63f3340fe0a19ec7d40de36b8423c680f/CoolProp-6.2.0.tar.gz#sha256=55d4693c4bab911ac086d11366d8b42550ccb718e09eecf9adf1937c125bf066 (from https://pypi.org/simple/coolprop/), version: 6.2.0\n",
            "    Skipping link https://files.pythonhosted.org/packages/96/e7/f930c9193a9cd9834dc1c652da4d3b33929740f679fc2a8b2941ab89913d/CoolProp-6.2.1-cp27-cp27m-macosx_10_7_x86_64.whl#sha256=e3c43858ad7427effcb4043fcb5e5fbd8998d184ffad053f8c753abe1454fae1 (from https://pypi.org/simple/coolprop/); it is not compatible with this Python\n",
            "    Skipping link https://files.pythonhosted.org/packages/95/27/166f65560a23c4dfd35a35786a1b3db34238135e9025dc74f9fca29e7d02/CoolProp-6.2.1-cp27-cp27m-manylinux1_x86_64.whl#sha256=8dc03203832983b2f506688bf4d31496371e26ce22854c7c90b32625872d73ed (from https://pypi.org/simple/coolprop/); it is not compatible with this Python\n",
            "    Skipping link https://files.pythonhosted.org/packages/d8/ae/2d67df499f9ec015419eeee961b050842a01c3f4c2f757dbb37897d970a5/CoolProp-6.2.1-cp27-cp27m-win32.whl#sha256=1268afb90e98acbac2984a133b3ff7ecc302ae75417ee5b22477c46040d78189 (from https://pypi.org/simple/coolprop/); it is not compatible with this Python\n",
            "    Skipping link https://files.pythonhosted.org/packages/3c/1d/24687f79f706ea9dc84b25cadba43d64a74768149e29c2eb5465150e3070/CoolProp-6.2.1-cp27-cp27m-win_amd64.whl#sha256=e29be4cc99f3fe82b7ea185b5fcab41b91ec2c227c62476f3b24a5d50944fd7d (from https://pypi.org/simple/coolprop/); it is not compatible with this Python\n",
            "    Skipping link https://files.pythonhosted.org/packages/6d/82/30be6392976370969fdd50319f041275a1124df74d28fb6e07e15b4d4ca9/CoolProp-6.2.1-cp27-cp27mu-manylinux1_x86_64.whl#sha256=99660b8366c8c2bcd02492b2472e3744b1813509038a28bbf1bc772fd2c66fc7 (from https://pypi.org/simple/coolprop/); it is not compatible with this Python\n",
            "    Skipping link https://files.pythonhosted.org/packages/b5/5b/e7998b65bbce0f94aa6f1891a30a9a3344a1967ec5fd9fd78725024f1afd/CoolProp-6.2.1-cp34-cp34m-macosx_10_6_x86_64.whl#sha256=4254a4efb258f306a0ec4ad2fad6e6bd956ab794f8f1facfd01bb6b21135500f (from https://pypi.org/simple/coolprop/); it is not compatible with this Python\n",
            "    Skipping link https://files.pythonhosted.org/packages/06/d9/ad12b99f4dc923570f503410ea0941c07d2aee057d10e33aa65aeeaa3115/CoolProp-6.2.1-cp34-cp34m-manylinux1_x86_64.whl#sha256=f3f98e70b06b9df32f3d51c53220eae54c9437e4d9d541afc783e4de6cf42864 (from https://pypi.org/simple/coolprop/); it is not compatible with this Python\n",
            "    Skipping link https://files.pythonhosted.org/packages/b0/ac/fac6cffbc6deea529076bcdfdf59d952421e3782047848098e1346467ed2/CoolProp-6.2.1-cp34-cp34m-win32.whl#sha256=3fd07c68012abb892609d887825c9ef5c05a58466aa2d96505c0fc15f4e0b34e (from https://pypi.org/simple/coolprop/); it is not compatible with this Python\n",
            "    Skipping link https://files.pythonhosted.org/packages/fd/d7/b8c1e12325d0d42bb63a1a24bec1d578b8e508894eda3c5c7f78d02f72c9/CoolProp-6.2.1-cp34-cp34m-win_amd64.whl#sha256=0a5bfd118df467bb3d35eda4970cc24d042b7e6bbdaf46d1ee13ea78f2ffb035 (from https://pypi.org/simple/coolprop/); it is not compatible with this Python\n",
            "    Skipping link https://files.pythonhosted.org/packages/0d/97/a687050a7dece485677b3ef802d758fda062f766e8a3caf7216f8b8b4c40/CoolProp-6.2.1-cp35-cp35m-macosx_10_7_x86_64.whl#sha256=10f3da2fc30f226f99d451161dfabf2ecd822d0c8e097da00c3a073b1dfb933c (from https://pypi.org/simple/coolprop/); it is not compatible with this Python\n",
            "    Skipping link https://files.pythonhosted.org/packages/d5/7e/78fc1f1e9399ac39ddb4c4a663e155d8b727c985557ed09a63ea1ab7fe00/CoolProp-6.2.1-cp35-cp35m-manylinux1_x86_64.whl#sha256=81ee2dadbff9dcedd068de8edaba6e969c7cb034c94929ce9195dcefd06c28d9 (from https://pypi.org/simple/coolprop/); it is not compatible with this Python\n",
            "    Skipping link https://files.pythonhosted.org/packages/5f/e9/15616def1e370312a22de739d8677b0076f40ae2f90877b2f9227a9e789b/CoolProp-6.2.1-cp35-cp35m-win32.whl#sha256=4359764eeaf45168d91d5bf3ccd7e759ff2c75b644ec1c103ae2c8e428db66ba (from https://pypi.org/simple/coolprop/); it is not compatible with this Python\n",
            "    Skipping link https://files.pythonhosted.org/packages/49/e6/202f407cc1a0b1f398c0dccc10c91b11c845212b7c4ae0ff68fa073a1912/CoolProp-6.2.1-cp35-cp35m-win_amd64.whl#sha256=372dd9a12075d408ddd66211831f85c0a30280920939260a14b9c642cb59e08f (from https://pypi.org/simple/coolprop/); it is not compatible with this Python\n",
            "    Skipping link https://files.pythonhosted.org/packages/24/79/d879397798082db5510083fa72c799d260e1a3fcb29a837f379e334bdb0b/CoolProp-6.2.1-cp36-cp36m-macosx_10_7_x86_64.whl#sha256=f028dca536e446e019ded8822b481a9ce5d10a347c13980d8ef59c77a582c94e (from https://pypi.org/simple/coolprop/); it is not compatible with this Python\n",
            "    Found link https://files.pythonhosted.org/packages/f4/a2/aab94f302d02d0bd53aba779b929fb5a06d48d9e63123252f7a0183f3170/CoolProp-6.2.1-cp36-cp36m-manylinux1_x86_64.whl#sha256=b8579ef1d4801c09ca89856af21f3233c671b0975e3708439ea1f7bb0688e8fd (from https://pypi.org/simple/coolprop/), version: 6.2.1\n",
            "    Skipping link https://files.pythonhosted.org/packages/aa/23/a8c77fc6857df4c604d02f7abb5a169364e9b3837f3590be0530bca57936/CoolProp-6.2.1-cp36-cp36m-win32.whl#sha256=354e0e35fddf0b669e258c6df4cb935b444b5ba197a95cf7f30b145df5f923e2 (from https://pypi.org/simple/coolprop/); it is not compatible with this Python\n",
            "    Skipping link https://files.pythonhosted.org/packages/34/e9/1999afa3a398e9752792e69eaf52e0d2aaff1e91444544e3165e64655ff7/CoolProp-6.2.1-cp36-cp36m-win_amd64.whl#sha256=998686be5458e43f76c8ea989ae3dc29307462f0117abc5aa026283296487eab (from https://pypi.org/simple/coolprop/); it is not compatible with this Python\n",
            "    Skipping link https://files.pythonhosted.org/packages/c2/ef/db4e99b77411a668f8cd31787ba661faf94bd3de209e603eafcabd9765e1/CoolProp-6.2.1-cp37-cp37m-macosx_10_7_x86_64.whl#sha256=f12299d2df7ad23aef00173910ff9a00516b86335f2c1419ae2e0d6b627dea93 (from https://pypi.org/simple/coolprop/); it is not compatible with this Python\n",
            "    Skipping link https://files.pythonhosted.org/packages/e8/d1/d7230c638c5f80f1645d12879675d4485909ac92425765525de55e6488bf/CoolProp-6.2.1-cp37-cp37m-manylinux1_x86_64.whl#sha256=47b601a4766dc2714fc45a5eb44c44644830f230961fe73651907781536d1f2a (from https://pypi.org/simple/coolprop/); it is not compatible with this Python\n",
            "    Skipping link https://files.pythonhosted.org/packages/15/d6/124992136b623540b80f05de8540a55073cb58079b77e5ad9746139db792/CoolProp-6.2.1-cp37-cp37m-win32.whl#sha256=560f6c6dfde8774a9f6b5ff7c93904a899ae7f9e6fe9f78921995f6618bae66b (from https://pypi.org/simple/coolprop/); it is not compatible with this Python\n",
            "    Skipping link https://files.pythonhosted.org/packages/7d/8c/23343dc3e32d19d5d10593e3ac44023859938f3c8aa7a87b6d82f6e762e8/CoolProp-6.2.1-cp37-cp37m-win_amd64.whl#sha256=ccc14df71f6fe4ccb69fc439e916d03962c522bc51fe731f91dfc0c80ca30e81 (from https://pypi.org/simple/coolprop/); it is not compatible with this Python\n",
            "    Found link https://files.pythonhosted.org/packages/a0/bb/d3b0e14168017a6f77e4b97358c299b733a74da1691c0b4b47eb02ccee19/CoolProp-6.2.1.tar.gz#sha256=d5b85af023ffc93d3f85770dee571712f3858f72579e89a7d13b2f796d933732 (from https://pypi.org/simple/coolprop/), version: 6.2.1\n",
            "  Getting page http://www.coolprop.dreamhosters.com/binaries/Python/\n",
            "  Starting new HTTP connection (1): www.coolprop.dreamhosters.com:80\n",
            "  http://www.coolprop.dreamhosters.com:80 \"GET /binaries/Python/ HTTP/1.1\" 200 959\n",
            "  Analyzing links from page http://www.coolprop.dreamhosters.com/binaries/Python/\n",
            "    Skipping link http://www.coolprop.dreamhosters.com/binaries/Python/?C=N;O=D (from http://www.coolprop.dreamhosters.com/binaries/Python/); not a file\n",
            "    Skipping link http://www.coolprop.dreamhosters.com/binaries/Python/?C=M;O=A (from http://www.coolprop.dreamhosters.com/binaries/Python/); not a file\n",
            "    Skipping link http://www.coolprop.dreamhosters.com/binaries/Python/?C=S;O=A (from http://www.coolprop.dreamhosters.com/binaries/Python/); not a file\n",
            "    Skipping link http://www.coolprop.dreamhosters.com/binaries/Python/?C=D;O=A (from http://www.coolprop.dreamhosters.com/binaries/Python/); not a file\n",
            "    Skipping link http://www.coolprop.dreamhosters.com/binaries/ (from http://www.coolprop.dreamhosters.com/binaries/Python/); not a file\n",
            "    Skipping link http://www.coolprop.dreamhosters.com/binaries/Python/CoolProp-6.2.2.dev0-cp27-cp27m-macosx_10_7_x86_64.whl (from http://www.coolprop.dreamhosters.com/binaries/Python/); it is not compatible with this Python\n",
            "    Skipping link http://www.coolprop.dreamhosters.com/binaries/Python/CoolProp-6.2.2.dev0-cp27-cp27m-manylinux1_x86_64.whl (from http://www.coolprop.dreamhosters.com/binaries/Python/); it is not compatible with this Python\n",
            "    Skipping link http://www.coolprop.dreamhosters.com/binaries/Python/CoolProp-6.2.2.dev0-cp27-cp27m-win32.whl (from http://www.coolprop.dreamhosters.com/binaries/Python/); it is not compatible with this Python\n",
            "    Skipping link http://www.coolprop.dreamhosters.com/binaries/Python/CoolProp-6.2.2.dev0-cp27-cp27m-win_amd64.whl (from http://www.coolprop.dreamhosters.com/binaries/Python/); it is not compatible with this Python\n",
            "    Skipping link http://www.coolprop.dreamhosters.com/binaries/Python/CoolProp-6.2.2.dev0-cp27-cp27mu-manylinux1_x86_64.whl (from http://www.coolprop.dreamhosters.com/binaries/Python/); it is not compatible with this Python\n",
            "    Skipping link http://www.coolprop.dreamhosters.com/binaries/Python/CoolProp-6.2.2.dev0-cp34-cp34m-macosx_10_6_x86_64.whl (from http://www.coolprop.dreamhosters.com/binaries/Python/); it is not compatible with this Python\n",
            "    Skipping link http://www.coolprop.dreamhosters.com/binaries/Python/CoolProp-6.2.2.dev0-cp34-cp34m-manylinux1_x86_64.whl (from http://www.coolprop.dreamhosters.com/binaries/Python/); it is not compatible with this Python\n",
            "    Skipping link http://www.coolprop.dreamhosters.com/binaries/Python/CoolProp-6.2.2.dev0-cp34-cp34m-win32.whl (from http://www.coolprop.dreamhosters.com/binaries/Python/); it is not compatible with this Python\n",
            "    Skipping link http://www.coolprop.dreamhosters.com/binaries/Python/CoolProp-6.2.2.dev0-cp34-cp34m-win_amd64.whl (from http://www.coolprop.dreamhosters.com/binaries/Python/); it is not compatible with this Python\n",
            "    Skipping link http://www.coolprop.dreamhosters.com/binaries/Python/CoolProp-6.2.2.dev0-cp35-cp35m-macosx_10_7_x86_64.whl (from http://www.coolprop.dreamhosters.com/binaries/Python/); it is not compatible with this Python\n",
            "    Skipping link http://www.coolprop.dreamhosters.com/binaries/Python/CoolProp-6.2.2.dev0-cp35-cp35m-manylinux1_x86_64.whl (from http://www.coolprop.dreamhosters.com/binaries/Python/); it is not compatible with this Python\n",
            "    Skipping link http://www.coolprop.dreamhosters.com/binaries/Python/CoolProp-6.2.2.dev0-cp35-cp35m-win32.whl (from http://www.coolprop.dreamhosters.com/binaries/Python/); it is not compatible with this Python\n",
            "    Skipping link http://www.coolprop.dreamhosters.com/binaries/Python/CoolProp-6.2.2.dev0-cp35-cp35m-win_amd64.whl (from http://www.coolprop.dreamhosters.com/binaries/Python/); it is not compatible with this Python\n",
            "    Skipping link http://www.coolprop.dreamhosters.com/binaries/Python/CoolProp-6.2.2.dev0-cp36-cp36m-macosx_10_7_x86_64.whl (from http://www.coolprop.dreamhosters.com/binaries/Python/); it is not compatible with this Python\n",
            "    Found link http://www.coolprop.dreamhosters.com/binaries/Python/CoolProp-6.2.2.dev0-cp36-cp36m-manylinux1_x86_64.whl (from http://www.coolprop.dreamhosters.com/binaries/Python/), version: 6.2.2.dev0\n",
            "    Skipping link http://www.coolprop.dreamhosters.com/binaries/Python/CoolProp-6.2.2.dev0-cp36-cp36m-win32.whl (from http://www.coolprop.dreamhosters.com/binaries/Python/); it is not compatible with this Python\n",
            "    Skipping link http://www.coolprop.dreamhosters.com/binaries/Python/CoolProp-6.2.2.dev0-cp36-cp36m-win_amd64.whl (from http://www.coolprop.dreamhosters.com/binaries/Python/); it is not compatible with this Python\n",
            "    Skipping link http://www.coolprop.dreamhosters.com/binaries/Python/CoolProp-6.2.2.dev0-cp37-cp37m-macosx_10_7_x86_64.whl (from http://www.coolprop.dreamhosters.com/binaries/Python/); it is not compatible with this Python\n",
            "    Skipping link http://www.coolprop.dreamhosters.com/binaries/Python/CoolProp-6.2.2.dev0-cp37-cp37m-manylinux1_x86_64.whl (from http://www.coolprop.dreamhosters.com/binaries/Python/); it is not compatible with this Python\n",
            "    Skipping link http://www.coolprop.dreamhosters.com/binaries/Python/CoolProp-6.2.2.dev0-cp37-cp37m-win32.whl (from http://www.coolprop.dreamhosters.com/binaries/Python/); it is not compatible with this Python\n",
            "    Skipping link http://www.coolprop.dreamhosters.com/binaries/Python/CoolProp-6.2.2.dev0-cp37-cp37m-win_amd64.whl (from http://www.coolprop.dreamhosters.com/binaries/Python/); it is not compatible with this Python\n",
            "    Found link http://www.coolprop.dreamhosters.com/binaries/Python/CoolProp-6.2.2.dev0.tar.gz (from http://www.coolprop.dreamhosters.com/binaries/Python/), version: 6.2.2.dev0\n",
            "    Skipping link http://www.coolprop.dreamhosters.com/binaries/Python/CoolProp-6.2.2.dev0.win-amd64-py2.7.exe (from http://www.coolprop.dreamhosters.com/binaries/Python/); unsupported archive format: .exe\n",
            "    Skipping link http://www.coolprop.dreamhosters.com/binaries/Python/CoolProp-6.2.2.dev0.win-amd64-py3.4.exe (from http://www.coolprop.dreamhosters.com/binaries/Python/); unsupported archive format: .exe\n",
            "    Skipping link http://www.coolprop.dreamhosters.com/binaries/Python/CoolProp-6.2.2.dev0.win-amd64-py3.5.exe (from http://www.coolprop.dreamhosters.com/binaries/Python/); unsupported archive format: .exe\n",
            "    Skipping link http://www.coolprop.dreamhosters.com/binaries/Python/CoolProp-6.2.2.dev0.win-amd64-py3.6.exe (from http://www.coolprop.dreamhosters.com/binaries/Python/); unsupported archive format: .exe\n",
            "    Skipping link http://www.coolprop.dreamhosters.com/binaries/Python/CoolProp-6.2.2.dev0.win-amd64-py3.7.exe (from http://www.coolprop.dreamhosters.com/binaries/Python/); unsupported archive format: .exe\n",
            "    Skipping link http://www.coolprop.dreamhosters.com/binaries/Python/CoolProp-6.2.2.dev0.win32-py2.7.exe (from http://www.coolprop.dreamhosters.com/binaries/Python/); unsupported archive format: .exe\n",
            "    Skipping link http://www.coolprop.dreamhosters.com/binaries/Python/CoolProp-6.2.2.dev0.win32-py3.4.exe (from http://www.coolprop.dreamhosters.com/binaries/Python/); unsupported archive format: .exe\n",
            "    Skipping link http://www.coolprop.dreamhosters.com/binaries/Python/CoolProp-6.2.2.dev0.win32-py3.5.exe (from http://www.coolprop.dreamhosters.com/binaries/Python/); unsupported archive format: .exe\n",
            "    Skipping link http://www.coolprop.dreamhosters.com/binaries/Python/CoolProp-6.2.2.dev0.win32-py3.6.exe (from http://www.coolprop.dreamhosters.com/binaries/Python/); unsupported archive format: .exe\n",
            "    Skipping link http://www.coolprop.dreamhosters.com/binaries/Python/CoolProp-6.2.2.dev0.win32-py3.7.exe (from http://www.coolprop.dreamhosters.com/binaries/Python/); unsupported archive format: .exe\n",
            "    Skipping link http://www.coolprop.dreamhosters.com/binaries/Python/CoolProp-6.2.999-cp27-cp27m-macosx_10_7_x86_64.whl (from http://www.coolprop.dreamhosters.com/binaries/Python/); it is not compatible with this Python\n",
            "    Skipping link http://www.coolprop.dreamhosters.com/binaries/Python/CoolProp-6.2.999-cp27-cp27m-manylinux1_x86_64.whl (from http://www.coolprop.dreamhosters.com/binaries/Python/); it is not compatible with this Python\n",
            "    Skipping link http://www.coolprop.dreamhosters.com/binaries/Python/CoolProp-6.2.999-cp27-cp27m-win32.whl (from http://www.coolprop.dreamhosters.com/binaries/Python/); it is not compatible with this Python\n",
            "    Skipping link http://www.coolprop.dreamhosters.com/binaries/Python/CoolProp-6.2.999-cp27-cp27m-win_amd64.whl (from http://www.coolprop.dreamhosters.com/binaries/Python/); it is not compatible with this Python\n",
            "    Skipping link http://www.coolprop.dreamhosters.com/binaries/Python/CoolProp-6.2.999-cp27-cp27mu-manylinux1_x86_64.whl (from http://www.coolprop.dreamhosters.com/binaries/Python/); it is not compatible with this Python\n",
            "    Skipping link http://www.coolprop.dreamhosters.com/binaries/Python/CoolProp-6.2.999-cp34-cp34m-macosx_10_6_x86_64.whl (from http://www.coolprop.dreamhosters.com/binaries/Python/); it is not compatible with this Python\n",
            "    Skipping link http://www.coolprop.dreamhosters.com/binaries/Python/CoolProp-6.2.999-cp34-cp34m-manylinux1_x86_64.whl (from http://www.coolprop.dreamhosters.com/binaries/Python/); it is not compatible with this Python\n",
            "    Skipping link http://www.coolprop.dreamhosters.com/binaries/Python/CoolProp-6.2.999-cp34-cp34m-win32.whl (from http://www.coolprop.dreamhosters.com/binaries/Python/); it is not compatible with this Python\n",
            "    Skipping link http://www.coolprop.dreamhosters.com/binaries/Python/CoolProp-6.2.999-cp34-cp34m-win_amd64.whl (from http://www.coolprop.dreamhosters.com/binaries/Python/); it is not compatible with this Python\n",
            "    Skipping link http://www.coolprop.dreamhosters.com/binaries/Python/CoolProp-6.2.999-cp35-cp35m-macosx_10_7_x86_64.whl (from http://www.coolprop.dreamhosters.com/binaries/Python/); it is not compatible with this Python\n",
            "    Skipping link http://www.coolprop.dreamhosters.com/binaries/Python/CoolProp-6.2.999-cp35-cp35m-manylinux1_x86_64.whl (from http://www.coolprop.dreamhosters.com/binaries/Python/); it is not compatible with this Python\n",
            "    Skipping link http://www.coolprop.dreamhosters.com/binaries/Python/CoolProp-6.2.999-cp35-cp35m-win32.whl (from http://www.coolprop.dreamhosters.com/binaries/Python/); it is not compatible with this Python\n",
            "    Skipping link http://www.coolprop.dreamhosters.com/binaries/Python/CoolProp-6.2.999-cp35-cp35m-win_amd64.whl (from http://www.coolprop.dreamhosters.com/binaries/Python/); it is not compatible with this Python\n",
            "    Skipping link http://www.coolprop.dreamhosters.com/binaries/Python/CoolProp-6.2.999-cp36-cp36m-macosx_10_7_x86_64.whl (from http://www.coolprop.dreamhosters.com/binaries/Python/); it is not compatible with this Python\n",
            "    Found link http://www.coolprop.dreamhosters.com/binaries/Python/CoolProp-6.2.999-cp36-cp36m-manylinux1_x86_64.whl (from http://www.coolprop.dreamhosters.com/binaries/Python/), version: 6.2.999\n",
            "    Skipping link http://www.coolprop.dreamhosters.com/binaries/Python/CoolProp-6.2.999-cp36-cp36m-win32.whl (from http://www.coolprop.dreamhosters.com/binaries/Python/); it is not compatible with this Python\n",
            "    Skipping link http://www.coolprop.dreamhosters.com/binaries/Python/CoolProp-6.2.999-cp36-cp36m-win_amd64.whl (from http://www.coolprop.dreamhosters.com/binaries/Python/); it is not compatible with this Python\n",
            "    Skipping link http://www.coolprop.dreamhosters.com/binaries/Python/CoolProp-6.2.999-cp37-cp37m-macosx_10_7_x86_64.whl (from http://www.coolprop.dreamhosters.com/binaries/Python/); it is not compatible with this Python\n",
            "    Skipping link http://www.coolprop.dreamhosters.com/binaries/Python/CoolProp-6.2.999-cp37-cp37m-manylinux1_x86_64.whl (from http://www.coolprop.dreamhosters.com/binaries/Python/); it is not compatible with this Python\n",
            "    Skipping link http://www.coolprop.dreamhosters.com/binaries/Python/CoolProp-6.2.999-cp37-cp37m-win32.whl (from http://www.coolprop.dreamhosters.com/binaries/Python/); it is not compatible with this Python\n",
            "    Skipping link http://www.coolprop.dreamhosters.com/binaries/Python/CoolProp-6.2.999-cp37-cp37m-win_amd64.whl (from http://www.coolprop.dreamhosters.com/binaries/Python/); it is not compatible with this Python\n",
            "    Found link http://www.coolprop.dreamhosters.com/binaries/Python/CoolProp-6.2.999.tar.gz (from http://www.coolprop.dreamhosters.com/binaries/Python/), version: 6.2.999\n",
            "    Skipping link http://www.coolprop.dreamhosters.com/binaries/Python/CoolProp-6.2.999.win-amd64-py2.7.exe (from http://www.coolprop.dreamhosters.com/binaries/Python/); unsupported archive format: .exe\n",
            "    Skipping link http://www.coolprop.dreamhosters.com/binaries/Python/CoolProp-6.2.999.win-amd64-py3.4.exe (from http://www.coolprop.dreamhosters.com/binaries/Python/); unsupported archive format: .exe\n",
            "    Skipping link http://www.coolprop.dreamhosters.com/binaries/Python/CoolProp-6.2.999.win-amd64-py3.5.exe (from http://www.coolprop.dreamhosters.com/binaries/Python/); unsupported archive format: .exe\n",
            "    Skipping link http://www.coolprop.dreamhosters.com/binaries/Python/CoolProp-6.2.999.win-amd64-py3.6.exe (from http://www.coolprop.dreamhosters.com/binaries/Python/); unsupported archive format: .exe\n",
            "    Skipping link http://www.coolprop.dreamhosters.com/binaries/Python/CoolProp-6.2.999.win-amd64-py3.7.exe (from http://www.coolprop.dreamhosters.com/binaries/Python/); unsupported archive format: .exe\n",
            "    Skipping link http://www.coolprop.dreamhosters.com/binaries/Python/CoolProp-6.2.999.win32-py2.7.exe (from http://www.coolprop.dreamhosters.com/binaries/Python/); unsupported archive format: .exe\n",
            "    Skipping link http://www.coolprop.dreamhosters.com/binaries/Python/CoolProp-6.2.999.win32-py3.4.exe (from http://www.coolprop.dreamhosters.com/binaries/Python/); unsupported archive format: .exe\n",
            "    Skipping link http://www.coolprop.dreamhosters.com/binaries/Python/CoolProp-6.2.999.win32-py3.5.exe (from http://www.coolprop.dreamhosters.com/binaries/Python/); unsupported archive format: .exe\n",
            "    Skipping link http://www.coolprop.dreamhosters.com/binaries/Python/CoolProp-6.2.999.win32-py3.6.exe (from http://www.coolprop.dreamhosters.com/binaries/Python/); unsupported archive format: .exe\n",
            "    Skipping link http://www.coolprop.dreamhosters.com/binaries/Python/CoolProp-6.2.999.win32-py3.7.exe (from http://www.coolprop.dreamhosters.com/binaries/Python/); unsupported archive format: .exe\n",
            "  Using version 6.2.999 (newest of versions: 2.0.1, 2.0.2, 2.0.4, 2.0.5, 2.0.6, 2.1, 2.2.0, 2.2.1, 2.2.2, 2.2.3, 2.2.4, 2.2.5, 2.3, 2.4, 2.5, 3.0.1, 3.1, 3.1.1, 3.1.2, 3.2.0, 3.3.0, 4.0.0b0, 4.0.0, 4.1.0, 4.1.1, 4.1.2, 4.2.0, 4.2.2, 4.2.3, 4.2.4, 4.2.5, 5.0.0, 5.0.1, 5.0.2, 5.0.3, 5.0.4, 5.0.5, 5.0.6, 5.0.7, 5.0.8, 5.1.0, 5.1.1, 5.1.2, 6.0.0, 6.2.0, 6.2.1, 6.2.2.dev0, 6.2.999)\n",
            "  Created temporary directory: /tmp/pip-unpack-030x49f3\n",
            "  http://www.coolprop.dreamhosters.com:80 \"GET /binaries/Python/CoolProp-6.2.999-cp36-cp36m-manylinux1_x86_64.whl HTTP/1.1\" 200 4005518\n",
            "\u001b[?25l  Downloading http://www.coolprop.dreamhosters.com/binaries/Python/CoolProp-6.2.999-cp36-cp36m-manylinux1_x86_64.whl (4.0MB)\n",
            "  Downloading from URL http://www.coolprop.dreamhosters.com/binaries/Python/CoolProp-6.2.999-cp36-cp36m-manylinux1_x86_64.whl (from http://www.coolprop.dreamhosters.com/binaries/Python/)\n",
            "\u001b[K    100% |████████████████████████████████| 4.0MB 74.9MB/s \n",
            "\u001b[?25h  Added CoolProp from http://www.coolprop.dreamhosters.com/binaries/Python/CoolProp-6.2.999-cp36-cp36m-manylinux1_x86_64.whl to build tracker '/tmp/pip-req-tracker-uwu2_t5w'\n",
            "  Removed CoolProp from http://www.coolprop.dreamhosters.com/binaries/Python/CoolProp-6.2.999-cp36-cp36m-manylinux1_x86_64.whl from build tracker '/tmp/pip-req-tracker-uwu2_t5w'\n",
            "Installing collected packages: CoolProp\n",
            "\n",
            "Successfully installed CoolProp-6.2.999\n",
            "Cleaning up...\n",
            "Removed build tracker '/tmp/pip-req-tracker-uwu2_t5w'\n"
          ],
          "name": "stdout"
        }
      ]
    },
    {
      "metadata": {
        "id": "iuvIslZtGV7x",
        "colab_type": "code",
        "outputId": "0e0d6c0b-8924-4853-ebbc-4110367b47f2",
        "colab": {
          "base_uri": "https://localhost:8080/",
          "height": 51
        }
      },
      "cell_type": "code",
      "source": [
        "import CoolProp.CoolProp as CP\n",
        "fluid = 'Water'\n",
        "pressure_at_critical_point = CP.PropsSI(fluid,'pcrit')\n",
        "# Massic volume (in m^3/kg) is the inverse of density\n",
        "# (or volumic mass in kg/m^3). Let's compute the massic volume of liquid\n",
        "# at 1bar (1e5 Pa) of pressure\n",
        "vL = 1/CP.PropsSI('D','P',1e5,'Q',0,fluid)\n",
        "print(vL)\n",
        "# Same for saturated vapor\n",
        "vG = 1/CP.PropsSI('D','P',1e5,'Q',1,fluid)\n",
        "print(vG)"
      ],
      "execution_count": 0,
      "outputs": [
        {
          "output_type": "stream",
          "text": [
            "0.0010431536977168567\n",
            "1.6939276653849265\n"
          ],
          "name": "stdout"
        }
      ]
    },
    {
      "metadata": {
        "id": "1O4GeSIvGnvf",
        "colab_type": "code",
        "outputId": "c8eff48b-aae8-4073-f714-342096640432",
        "colab": {
          "base_uri": "https://localhost:8080/",
          "height": 326
        }
      },
      "cell_type": "code",
      "source": [
        "from __future__ import print_function\n",
        "from CoolProp import AbstractState\n",
        "from CoolProp.CoolProp import PhaseSI, PropsSI, get_global_param_string\n",
        "import CoolProp.CoolProp as CoolProp\n",
        "from CoolProp.HumidAirProp import HAPropsSI\n",
        "from math import sin\n",
        "print(\"**************** INFORMATION ***************\")\n",
        "print(\"This example was auto-generated by the language-agnostic dev/scripts/example_generator.py script written by Ian Bell\")\n",
        "print(\"CoolProp version:\", get_global_param_string(\"version\"))\n",
        "print(\"CoolProp gitrevision:\", get_global_param_string(\"gitrevision\"))\n",
        "print(\"CoolProp Fluids:\", get_global_param_string(\"FluidsList\"))\n",
        "# See http://www.coolprop.org/coolprop/HighLevelAPI.html#table-of-string-inputs-to-propssi-function for a list of inputs to high-level interface\n",
        "\n",
        "print(\"*********** HIGH LEVEL INTERFACE *****************\")\n",
        "print(\"Critical temperature of water:\", PropsSI(\"Water\", \"Tcrit\"), \"K\")\n",
        "print(\"Boiling temperature of water at 101325 Pa:\", PropsSI(\"T\", \"P\", 101325, \"Q\", 0, \"Water\"), \"K\")\n",
        "print(\"Phase of water at 101325 Pa and 300 K:\", PhaseSI(\"P\", 101325, \"T\", 300, \"Water\"))\n",
        "\n",
        "print(\"c_p of water at 101325 Pa and 300 K:\", PropsSI(\"C\", \"P\", 101325, \"T\", 300, \"Water\"), \"J/kg/K\")\n",
        "print(\"c_p of water (using derivatives) at 101325 Pa and 300 K:\", PropsSI(\"d(H)/d(T)|P\", \"P\", 101325, \"T\", 300, \"Water\"), \"J/kg/K\")\n",
        "\n",
        "print(\"*********** HUMID AIR PROPERTIES *****************\")\n",
        "print(\"Humidity ratio of 50% rel. hum. air at 300 K, 101325 Pa:\", HAPropsSI(\"W\", \"T\", 300, \"P\", 101325, \"R\", 0.5), \"kg_w/kg_da\")\n",
        "print(\"Relative humidity from last calculation:\", HAPropsSI(\"R\", \"T\", 300, \"P\", 101325, \"W\", HAPropsSI(\"W\", \"T\", 300, \"P\", 101325, \"R\", 0.5)), \"(fractional)\")\n",
        "\n",
        "print(\"*********** INCOMPRESSIBLE FLUID AND BRINES *****************\")\n",
        "print(\"Density of 50% (mass) ethylene glycol/water at 300 K, 101325 Pa:\", PropsSI(\"D\", \"T\", 300, \"P\", 101325, \"INCOMP::MEG-50%\"), \"kg/m^3\")\n",
        "print(\"Viscosity of Therminol D12 at 350 K, 101325 Pa:\", PropsSI(\"V\", \"T\", 350, \"P\", 101325, \"INCOMP::TD12\"), \"Pa-s\")"
      ],
      "execution_count": 0,
      "outputs": [
        {
          "output_type": "stream",
          "text": [
            "**************** INFORMATION ***************\n",
            "This example was auto-generated by the language-agnostic dev/scripts/example_generator.py script written by Ian Bell\n",
            "CoolProp version: 6.2.999\n",
            "CoolProp gitrevision: 3748093806ae801b43a42681cc666754936c89cf\n",
            "CoolProp Fluids: 1-Butene,Acetone,Air,Ammonia,Argon,Benzene,CarbonDioxide,CarbonMonoxide,CarbonylSulfide,CycloHexane,CycloPropane,Cyclopentane,D4,D5,D6,Deuterium,Dichloroethane,DiethylEther,DimethylCarbonate,DimethylEther,Ethane,Ethanol,EthylBenzene,Ethylene,EthyleneOxide,Fluorine,HFE143m,HeavyWater,Helium,Hydrogen,HydrogenChloride,HydrogenSulfide,IsoButane,IsoButene,Isohexane,Isopentane,Krypton,MD2M,MD3M,MD4M,MDM,MM,Methane,Methanol,MethylLinoleate,MethylLinolenate,MethylOleate,MethylPalmitate,MethylStearate,Neon,Neopentane,Nitrogen,NitrousOxide,Novec649,OrthoDeuterium,OrthoHydrogen,Oxygen,ParaDeuterium,ParaHydrogen,Propylene,Propyne,R11,R113,R114,R115,R116,R12,R123,R1233zd(E),R1234yf,R1234ze(E),R1234ze(Z),R124,R1243zf,R125,R13,R134a,R13I1,R14,R141b,R142b,R143a,R152A,R161,R21,R218,R22,R227EA,R23,R236EA,R236FA,R245ca,R245fa,R32,R365MFC,R40,R404A,R407C,R41,R410A,R507A,RC318,SES36,SulfurDioxide,SulfurHexafluoride,Toluene,Water,Xenon,cis-2-Butene,m-Xylene,n-Butane,n-Decane,n-Dodecane,n-Heptane,n-Hexane,n-Nonane,n-Octane,n-Pentane,n-Propane,n-Undecane,o-Xylene,p-Xylene,trans-2-Butene\n",
            "*********** HIGH LEVEL INTERFACE *****************\n",
            "Critical temperature of water: 647.096 K\n",
            "Boiling temperature of water at 101325 Pa: 373.1242958476844 K\n",
            "Phase of water at 101325 Pa and 300 K: liquid\n",
            "c_p of water at 101325 Pa and 300 K: 4180.6357765560715 J/kg/K\n",
            "c_p of water (using derivatives) at 101325 Pa and 300 K: 4180.6357765560715 J/kg/K\n",
            "*********** HUMID AIR PROPERTIES *****************\n",
            "Humidity ratio of 50% rel. hum. air at 300 K, 101325 Pa: 0.011095529705199761 kg_w/kg_da\n",
            "Relative humidity from last calculation: 0.5 (fractional)\n",
            "*********** INCOMPRESSIBLE FLUID AND BRINES *****************\n",
            "Density of 50% (mass) ethylene glycol/water at 300 K, 101325 Pa: 1061.1793077204613 kg/m^3\n",
            "Viscosity of Therminol D12 at 350 K, 101325 Pa: 0.0005228837990955358 Pa-s\n"
          ],
          "name": "stdout"
        }
      ]
    },
    {
      "metadata": {
        "id": "f-m-YuVPa-pm",
        "colab_type": "code",
        "outputId": "49a00e0e-e20e-4192-c5af-61139fa96ef9",
        "colab": {
          "base_uri": "https://localhost:8080/",
          "height": 68
        }
      },
      "cell_type": "code",
      "source": [
        "print(\"enthalpy of water at 101325 Pa and 350 K:\", PropsSI(\"U\", \"P\", 101325, \"T\", 350, \"Water\"), \"J/kg\") \n",
        "print(\"enthalpy of air at 101325 Pa and 350 K:\", PropsSI(\"U\", \"P\", 101325, \"T\", 350, \"Air\"), \"J/kg\") #Wrong\n",
        "print(\"enthalpy of air at 101325 Pa and 350 K:\", PropsSI(\"U\", \"P\", 101325, \"T\", 300, \"Air\"), \"J/kg\") #Wrong"
      ],
      "execution_count": 0,
      "outputs": [
        {
          "output_type": "stream",
          "text": [
            "enthalpy of water at 101325 Pa and 350 K: 321735.0773576861 J/kg\n",
            "enthalpy of air at 101325 Pa and 350 K: 376210.3223327846 J/kg\n",
            "enthalpy of air at 101325 Pa and 350 K: 340209.941098455 J/kg\n"
          ],
          "name": "stdout"
        }
      ]
    },
    {
      "metadata": {
        "id": "V3nmkboKVwZh",
        "colab_type": "code",
        "outputId": "cd322f03-91ac-49b9-8e0e-777449956a13",
        "colab": {
          "base_uri": "https://localhost:8080/",
          "height": 54
        }
      },
      "cell_type": "code",
      "source": [
        "'''\n",
        "# If you don't have REFPROP installed, disable the following lines\n",
        "print(\"*********** REFPROP *****************\")\n",
        "print(\"REFPROP version:\", get_global_param_string(\"REFPROP_version\"))\n",
        "print(\"Critical temperature of water:\", PropsSI(\"REFPROP::Water\",\"Tcrit\"), \"K\")\n",
        "print(\"Boiling temperature of water at 101325 Pa:\", PropsSI(\"T\", \"P\", 101325, \"Q\", 0, \"REFPROP::Water\"), \"K\")\n",
        "print(\"c_p of water at 101325 Pa and 300 K:\", PropsSI(\"C\", \"P\", 101325, \"T\", 300, \"REFPROP::Water\"), \"J/kg/K\")\n",
        "print(\"*********** TABULAR BACKENDS *****************\")\n",
        "TAB = AbstractState(\"BICUBIC&HEOS\", \"R245fa\")\n",
        "TAB.update(CoolProp.PT_INPUTS, 101325, 300)\n",
        "print(\"Mass density of refrigerant R245fa at 300 K, 101325 Pa:\", TAB.rhomass(), \"kg/m^3\")\n",
        "print(\"*********** SATURATION DERIVATIVES (LOW-LEVEL INTERFACE) ***************\")\n",
        "AS_SAT = AbstractState(\"HEOS\", \"R245fa\")\n",
        "AS_SAT.update(CoolProp.PQ_INPUTS, 101325, 0)\n",
        "print(\"First saturation derivative:\", AS_SAT.first_saturation_deriv(CoolProp.iP, CoolProp.iT), \"Pa/K\")\n",
        "print(\"*********** LOW-LEVEL INTERFACE *****************\")\n",
        "AS = AbstractState(\"HEOS\", \"Water&Ethanol\")\n",
        "z = [0.5, 0.5]\n",
        "AS.set_mole_fractions(z)\n",
        "AS.update(CoolProp.PQ_INPUTS, 101325, 1)\n",
        "print(\"Normal boiling point temperature of water and ethanol:\", AS.T(), \"K\")\n",
        "# If you don't have REFPROP installed, disable the following block\n",
        "print(\"*********** LOW-LEVEL INTERFACE (REFPROP) *****************\")\n",
        "AS2 = AbstractState(\"REFPROP\", \"Methane&Ethane\")\n",
        "z2 = [0.2, 0.8]\n",
        "AS2.set_mole_fractions(z2)\n",
        "AS2.update(CoolProp.QT_INPUTS, 1, 120)\n",
        "print(\"Vapor molar density:\", AS2.keyed_output(CoolProp.iDmolar), \"mol/m^3\")\n",
        "'''"
      ],
      "execution_count": 0,
      "outputs": [
        {
          "output_type": "execute_result",
          "data": {
            "text/plain": [
              "'\\n# If you don\\'t have REFPROP installed, disable the following lines\\nprint(\"*********** REFPROP *****************\")\\nprint(\"REFPROP version:\", get_global_param_string(\"REFPROP_version\"))\\nprint(\"Critical temperature of water:\", PropsSI(\"REFPROP::Water\",\"Tcrit\"), \"K\")\\nprint(\"Boiling temperature of water at 101325 Pa:\", PropsSI(\"T\", \"P\", 101325, \"Q\", 0, \"REFPROP::Water\"), \"K\")\\nprint(\"c_p of water at 101325 Pa and 300 K:\", PropsSI(\"C\", \"P\", 101325, \"T\", 300, \"REFPROP::Water\"), \"J/kg/K\")\\nprint(\"*********** TABULAR BACKENDS *****************\")\\nTAB = AbstractState(\"BICUBIC&HEOS\", \"R245fa\")\\nTAB.update(CoolProp.PT_INPUTS, 101325, 300)\\nprint(\"Mass density of refrigerant R245fa at 300 K, 101325 Pa:\", TAB.rhomass(), \"kg/m^3\")\\nprint(\"*********** SATURATION DERIVATIVES (LOW-LEVEL INTERFACE) ***************\")\\nAS_SAT = AbstractState(\"HEOS\", \"R245fa\")\\nAS_SAT.update(CoolProp.PQ_INPUTS, 101325, 0)\\nprint(\"First saturation derivative:\", AS_SAT.first_saturation_deriv(CoolProp.iP, CoolProp.iT), \"Pa/K\")\\nprint(\"*********** LOW-LEVEL INTERFACE *****************\")\\nAS = AbstractState(\"HEOS\", \"Water&Ethanol\")\\nz = [0.5, 0.5]\\nAS.set_mole_fractions(z)\\nAS.update(CoolProp.PQ_INPUTS, 101325, 1)\\nprint(\"Normal boiling point temperature of water and ethanol:\", AS.T(), \"K\")\\n# If you don\\'t have REFPROP installed, disable the following block\\nprint(\"*********** LOW-LEVEL INTERFACE (REFPROP) *****************\")\\nAS2 = AbstractState(\"REFPROP\", \"Methane&Ethane\")\\nz2 = [0.2, 0.8]\\nAS2.set_mole_fractions(z2)\\nAS2.update(CoolProp.QT_INPUTS, 1, 120)\\nprint(\"Vapor molar density:\", AS2.keyed_output(CoolProp.iDmolar), \"mol/m^3\")\\n'"
            ]
          },
          "metadata": {
            "tags": []
          },
          "execution_count": 15
        }
      ]
    },
    {
      "metadata": {
        "id": "NUEM158cGzDa",
        "colab_type": "code",
        "outputId": "6d45a25e-a900-48b4-f346-21eb519cbd79",
        "colab": {
          "base_uri": "https://localhost:8080/",
          "height": 54
        }
      },
      "cell_type": "code",
      "source": [
        "'''\n",
        "**************** INFORMATION ***************\n",
        "This example was auto-generated by the language-agnostic dev/scripts/example_generator.py script written by Ian Bell\n",
        "CoolProp version: 6.2.1\n",
        "CoolProp gitrevision: 81dbcb71c512b5d57cdfe197e59ae87f0221e4e6\n",
        "CoolProp Fluids: 1-Butene,Acetone,Air,Ammonia,Argon,Benzene,CarbonDioxide,CarbonMonoxide,CarbonylSulfide,cis-2-Butene,CycloHexane,Cyclopentane,CycloPropane,D4,D5,D6,Deuterium,Dichloroethane,DiethylEther,DimethylCarbonate,DimethylEther,Ethane,Ethanol,EthylBenzene,Ethylene,EthyleneOxide,Fluorine,HeavyWater,Helium,HFE143m,Hydrogen,HydrogenChloride,HydrogenSulfide,IsoButane,IsoButene,Isohexane,Isopentane,Krypton,m-Xylene,MD2M,MD3M,MD4M,MDM,Methane,Methanol,MethylLinoleate,MethylLinolenate,MethylOleate,MethylPalmitate,MethylStearate,MM,n-Butane,n-Decane,n-Dodecane,n-Heptane,n-Hexane,n-Nonane,n-Octane,n-Pentane,n-Propane,n-Undecane,Neon,Neopentane,Nitrogen,NitrousOxide,Novec649,o-Xylene,OrthoDeuterium,OrthoHydrogen,Oxygen,p-Xylene,ParaDeuterium,ParaHydrogen,Propylene,Propyne,R11,R113,R114,R115,R116,R12,R123,R1233zd(E),R1234yf,R1234ze(E),R1234ze(Z),R124,R125,R13,R134a,R13I1,R14,R141b,R142b,R143a,R152A,R161,R21,R218,R22,R227EA,R23,R236EA,R236FA,R245ca,R245fa,R32,R365MFC,R40,R404A,R407C,R41,R410A,R507A,RC318,SES36,SulfurDioxide,SulfurHexafluoride,Toluene,trans-2-Butene,Water,Xenon\n",
        "*********** HIGH LEVEL INTERFACE *****************\n",
        "Critical temperature of water: 647.096 K\n",
        "Boiling temperature of water at 101325 Pa: 373.124295848 K\n",
        "Phase of water at 101325 Pa and 300 K: liquid\n",
        "c_p of water at 101325 Pa and 300 K: 4180.63577656 J/kg/K\n",
        "c_p of water (using derivatives) at 101325 Pa and 300 K: 4180.63577656 J/kg/K\n",
        "*********** HUMID AIR PROPERTIES *****************\n",
        "Humidity ratio of 50% rel. hum. air at 300 K, 101325 Pa: 0.0110955297052 kg_w/kg_da\n",
        "Relative humidity from last calculation: 0.5 (fractional)\n",
        "*********** INCOMPRESSIBLE FLUID AND BRINES *****************\n",
        "Density of 50% (mass) ethylene glycol/water at 300 K, 101325 Pa: 1061.17930772 kg/m^3\n",
        "Viscosity of Therminol D12 at 350 K, 101325 Pa: 0.000522883799096 Pa-s\n",
        "*********** REFPROP *****************\n",
        "REFPROP version: 9.1.1.10\n",
        "Critical temperature of water: 647.096 K\n",
        "Boiling temperature of water at 101325 Pa: 373.124295848 K\n",
        "c_p of water at 101325 Pa and 300 K: 4180.63577658 J/kg/K\n",
        "*********** TABULAR BACKENDS *****************\n",
        "Mass density of refrigerant R245fa at 300 K, 101325 Pa: 5.64812825705 kg/m^3\n",
        "*********** SATURATION DERIVATIVES (LOW-LEVEL INTERFACE) ***************\n",
        "First saturation derivative: 4058.51975505 Pa/K\n",
        "*********** LOW-LEVEL INTERFACE *****************\n",
        "Normal boiling point temperature of water and ethanol: 357.272980172 K\n",
        "*********** LOW-LEVEL INTERFACE (REFPROP) *****************\n",
        "Vapor molar density: 0.441465625159 mol/m^3\n",
        "'''"
      ],
      "execution_count": 0,
      "outputs": [
        {
          "output_type": "execute_result",
          "data": {
            "text/plain": [
              "'\\n**************** INFORMATION ***************\\nThis example was auto-generated by the language-agnostic dev/scripts/example_generator.py script written by Ian Bell\\nCoolProp version: 6.2.1\\nCoolProp gitrevision: 81dbcb71c512b5d57cdfe197e59ae87f0221e4e6\\nCoolProp Fluids: 1-Butene,Acetone,Air,Ammonia,Argon,Benzene,CarbonDioxide,CarbonMonoxide,CarbonylSulfide,cis-2-Butene,CycloHexane,Cyclopentane,CycloPropane,D4,D5,D6,Deuterium,Dichloroethane,DiethylEther,DimethylCarbonate,DimethylEther,Ethane,Ethanol,EthylBenzene,Ethylene,EthyleneOxide,Fluorine,HeavyWater,Helium,HFE143m,Hydrogen,HydrogenChloride,HydrogenSulfide,IsoButane,IsoButene,Isohexane,Isopentane,Krypton,m-Xylene,MD2M,MD3M,MD4M,MDM,Methane,Methanol,MethylLinoleate,MethylLinolenate,MethylOleate,MethylPalmitate,MethylStearate,MM,n-Butane,n-Decane,n-Dodecane,n-Heptane,n-Hexane,n-Nonane,n-Octane,n-Pentane,n-Propane,n-Undecane,Neon,Neopentane,Nitrogen,NitrousOxide,Novec649,o-Xylene,OrthoDeuterium,OrthoHydrogen,Oxygen,p-Xylene,ParaDeuterium,ParaHydrogen,Propylene,Propyne,R11,R113,R114,R115,R116,R12,R123,R1233zd(E),R1234yf,R1234ze(E),R1234ze(Z),R124,R125,R13,R134a,R13I1,R14,R141b,R142b,R143a,R152A,R161,R21,R218,R22,R227EA,R23,R236EA,R236FA,R245ca,R245fa,R32,R365MFC,R40,R404A,R407C,R41,R410A,R507A,RC318,SES36,SulfurDioxide,SulfurHexafluoride,Toluene,trans-2-Butene,Water,Xenon\\n*********** HIGH LEVEL INTERFACE *****************\\nCritical temperature of water: 647.096 K\\nBoiling temperature of water at 101325 Pa: 373.124295848 K\\nPhase of water at 101325 Pa and 300 K: liquid\\nc_p of water at 101325 Pa and 300 K: 4180.63577656 J/kg/K\\nc_p of water (using derivatives) at 101325 Pa and 300 K: 4180.63577656 J/kg/K\\n*********** HUMID AIR PROPERTIES *****************\\nHumidity ratio of 50% rel. hum. air at 300 K, 101325 Pa: 0.0110955297052 kg_w/kg_da\\nRelative humidity from last calculation: 0.5 (fractional)\\n*********** INCOMPRESSIBLE FLUID AND BRINES *****************\\nDensity of 50% (mass) ethylene glycol/water at 300 K, 101325 Pa: 1061.17930772 kg/m^3\\nViscosity of Therminol D12 at 350 K, 101325 Pa: 0.000522883799096 Pa-s\\n*********** REFPROP *****************\\nREFPROP version: 9.1.1.10\\nCritical temperature of water: 647.096 K\\nBoiling temperature of water at 101325 Pa: 373.124295848 K\\nc_p of water at 101325 Pa and 300 K: 4180.63577658 J/kg/K\\n*********** TABULAR BACKENDS *****************\\nMass density of refrigerant R245fa at 300 K, 101325 Pa: 5.64812825705 kg/m^3\\n*********** SATURATION DERIVATIVES (LOW-LEVEL INTERFACE) ***************\\nFirst saturation derivative: 4058.51975505 Pa/K\\n*********** LOW-LEVEL INTERFACE *****************\\nNormal boiling point temperature of water and ethanol: 357.272980172 K\\n*********** LOW-LEVEL INTERFACE (REFPROP) *****************\\nVapor molar density: 0.441465625159 mol/m^3\\n'"
            ]
          },
          "metadata": {
            "tags": []
          },
          "execution_count": 14
        }
      ]
    },
    {
      "metadata": {
        "id": "hBaueprjVt5l",
        "colab_type": "code",
        "outputId": "eb656579-51d3-4f32-a682-4a4027a90110",
        "colab": {
          "base_uri": "https://localhost:8080/",
          "height": 34
        }
      },
      "cell_type": "code",
      "source": [
        "# Density of Air at standard atmosphere in kg/m^3\n",
        "PropsSI('D','T',298.15,'P',101325,'Air')"
      ],
      "execution_count": 0,
      "outputs": [
        {
          "output_type": "execute_result",
          "data": {
            "text/plain": [
              "1.1843184839089664"
            ]
          },
          "metadata": {
            "tags": []
          },
          "execution_count": 27
        }
      ]
    },
    {
      "metadata": {
        "id": "pi0PCoOmdv5j",
        "colab_type": "code",
        "outputId": "01aa6ff3-fd2c-4ac9-c917-de9b6d13c8f2",
        "colab": {
          "base_uri": "https://localhost:8080/",
          "height": 34
        }
      },
      "cell_type": "code",
      "source": [
        "# Saturation temperature of Water at 1 atm\n",
        "PropsSI('T','P',101325,'Q',0,'Water')"
      ],
      "execution_count": 0,
      "outputs": [
        {
          "output_type": "execute_result",
          "data": {
            "text/plain": [
              "373.1242958476844"
            ]
          },
          "metadata": {
            "tags": []
          },
          "execution_count": 28
        }
      ]
    },
    {
      "metadata": {
        "id": "0uxrB_JKdzuq",
        "colab_type": "code",
        "outputId": "19ef394a-5a14-45cc-d0e0-4ad522506f2c",
        "colab": {
          "base_uri": "https://localhost:8080/",
          "height": 34
        }
      },
      "cell_type": "code",
      "source": [
        "# Saturated vapor enthalpy of R134a at 0C (Q=1)\n",
        "PropsSI('H','T',273.15,'Q',1,'R134a')"
      ],
      "execution_count": 0,
      "outputs": [
        {
          "output_type": "execute_result",
          "data": {
            "text/plain": [
              "398603.45362765493"
            ]
          },
          "metadata": {
            "tags": []
          },
          "execution_count": 29
        }
      ]
    },
    {
      "metadata": {
        "id": "ID0PJNvod6nr",
        "colab_type": "code",
        "outputId": "3b5699d0-f275-4f28-b4af-2fe973790700",
        "colab": {
          "base_uri": "https://localhost:8080/",
          "height": 34
        }
      },
      "cell_type": "code",
      "source": [
        "# Saturated liquid enthalpy of R134a at 0C (Q=0)\n",
        "PropsSI('H','T',273.15,'Q',0,'R134a')"
      ],
      "execution_count": 0,
      "outputs": [
        {
          "output_type": "execute_result",
          "data": {
            "text/plain": [
              "199999.98852614488"
            ]
          },
          "metadata": {
            "tags": []
          },
          "execution_count": 30
        }
      ]
    },
    {
      "metadata": {
        "id": "835kadlfd9Uh",
        "colab_type": "code",
        "outputId": "e726dd8d-0315-4765-a2b8-4eeebd131105",
        "colab": {
          "base_uri": "https://localhost:8080/",
          "height": 34
        }
      },
      "cell_type": "code",
      "source": [
        "# Using properties from CoolProp to get R410A density\n",
        "PropsSI('D','T',300,'P',101325,'HEOS::R32[0.697615]&R125[0.302385]')"
      ],
      "execution_count": 0,
      "outputs": [
        {
          "output_type": "execute_result",
          "data": {
            "text/plain": [
              "2.986886779635724"
            ]
          },
          "metadata": {
            "tags": []
          },
          "execution_count": 31
        }
      ]
    },
    {
      "metadata": {
        "id": "cQ0IWhnneDQr",
        "colab_type": "code",
        "outputId": "cb430128-47a0-457e-d372-24ba39ab47ab",
        "colab": {
          "base_uri": "https://localhost:8080/",
          "height": 119
        }
      },
      "cell_type": "code",
      "source": [
        "'''\n",
        "A number of predefined mixtures are included in CoolProp.\n",
        "You can retrieve the list of predefined mixtures by calling get_global_param_string(\"predefined_mixtures\") which will return a comma-separated list of predefined mixtures. \n",
        "In Python, to get the first 6 mixtures, you would do\n",
        "'''\n",
        "CP.get_global_param_string('predefined_mixtures').split(',')[0:6]"
      ],
      "execution_count": 0,
      "outputs": [
        {
          "output_type": "execute_result",
          "data": {
            "text/plain": [
              "['AIR.MIX',\n",
              " 'AMARILLO.MIX',\n",
              " 'Air.mix',\n",
              " 'Amarillo.mix',\n",
              " 'EKOFISK.MIX',\n",
              " 'Ekofisk.mix']"
            ]
          },
          "metadata": {
            "tags": []
          },
          "execution_count": 35
        }
      ]
    },
    {
      "metadata": {
        "id": "q0t9nwu-eU1A",
        "colab_type": "code",
        "outputId": "8d3ab8b1-d147-43cf-bd79-5b9005f96957",
        "colab": {
          "base_uri": "https://localhost:8080/",
          "height": 34
        }
      },
      "cell_type": "code",
      "source": [
        "#to calculate the density of air using the mixture model at 1 atmosphere (=101325 Pa) and 300 K, you could do\n",
        "CP.PropsSI('D','P',101325,'T',300,'Air.mix')"
      ],
      "execution_count": 0,
      "outputs": [
        {
          "output_type": "execute_result",
          "data": {
            "text/plain": [
              "1.1766922904316655"
            ]
          },
          "metadata": {
            "tags": []
          },
          "execution_count": 37
        }
      ]
    },
    {
      "metadata": {
        "id": "3NQyOUlrefYa",
        "colab_type": "code",
        "outputId": "d64a0dcf-2559-462a-c135-dd4c0684b686",
        "colab": {
          "base_uri": "https://localhost:8080/",
          "height": 34
        }
      },
      "cell_type": "code",
      "source": [
        "PropsSI('H','P',101325,'T',300,'Air.mix')"
      ],
      "execution_count": 0,
      "outputs": [
        {
          "output_type": "execute_result",
          "data": {
            "text/plain": [
              "300308.7087866569"
            ]
          },
          "metadata": {
            "tags": []
          },
          "execution_count": 53
        }
      ]
    },
    {
      "metadata": {
        "id": "YlnV__P1erHX",
        "colab_type": "code",
        "outputId": "15dc006b-36a0-4170-9ff1-6de7d4c93ca9",
        "colab": {
          "base_uri": "https://localhost:8080/",
          "height": 34
        }
      },
      "cell_type": "code",
      "source": [
        "PropsSI('H','P',101325,'T',340,'Air.mix')"
      ],
      "execution_count": 0,
      "outputs": [
        {
          "output_type": "execute_result",
          "data": {
            "text/plain": [
              "340611.31590665627"
            ]
          },
          "metadata": {
            "tags": []
          },
          "execution_count": 60
        }
      ]
    },
    {
      "metadata": {
        "id": "w0ey43uzhycs",
        "colab_type": "code",
        "outputId": "d9149a60-82c9-4cf9-a828-8e4ac86e91e6",
        "colab": {
          "base_uri": "https://localhost:8080/",
          "height": 85
        }
      },
      "cell_type": "code",
      "source": [
        "# import the things you need\n",
        "from CoolProp.HumidAirProp import HAPropsSI\n",
        "\n",
        "# Enthalpy (J per kg dry air) as a function of temperature, pressure,\n",
        "#    and relative humidity at STP\n",
        "h = HAPropsSI('H','T',298.15,'P',101325,'R',0.5); print(h)\n",
        "50423.4503908\n",
        "\n",
        "# Temperature of saturated air at the previous enthalpy\n",
        "T = HAPropsSI('T','P',101325,'H',h,'R',1.0); print(T)\n",
        "290.962089195\n",
        "\n",
        "# Temperature of saturated air - order of inputs doesn't matter\n",
        "T = HAPropsSI('T','H',h,'R',1.0,'P',101325); print(T)\n",
        "290.962089195"
      ],
      "execution_count": 0,
      "outputs": [
        {
          "output_type": "stream",
          "text": [
            "50423.45039076901\n",
            "290.9620891952524\n",
            "290.9620891952524\n"
          ],
          "name": "stdout"
        },
        {
          "output_type": "execute_result",
          "data": {
            "text/plain": [
              "290.962089195"
            ]
          },
          "metadata": {
            "tags": []
          },
          "execution_count": 61
        }
      ]
    },
    {
      "metadata": {
        "id": "ew3UmIhaiav1",
        "colab_type": "code",
        "outputId": "2084f439-c699-46c0-fa96-453311bdf6a4",
        "colab": {
          "base_uri": "https://localhost:8080/",
          "height": 34
        }
      },
      "cell_type": "code",
      "source": [
        "h = HAPropsSI('H','T',298.15,'P',101325,'R',0.8); print(h)"
      ],
      "execution_count": 0,
      "outputs": [
        {
          "output_type": "stream",
          "text": [
            "65972.88448156008\n"
          ],
          "name": "stdout"
        }
      ]
    },
    {
      "metadata": {
        "id": "5wrThhW0ipxH",
        "colab_type": "code",
        "outputId": "e1b9315a-1926-4362-fccc-36a25d712f2d",
        "colab": {
          "base_uri": "https://localhost:8080/",
          "height": 51
        }
      },
      "cell_type": "code",
      "source": [
        "print(\"Humidity ratio of 50% rel. hum. air at 300 K, 101325 Pa:\", HAPropsSI(\"W\", \"T\", 300, \"P\", 101325, \"R\", 0.5), \"kg_w/kg_da\")\n",
        "print(\"Relative humidity from last calculation:\", HAPropsSI(\"R\", \"T\", 300, \"P\", 101325, \"W\", HAPropsSI(\"W\", \"T\", 300, \"P\", 101325, \"R\", 0.5)), \"(fractional)\")"
      ],
      "execution_count": 0,
      "outputs": [
        {
          "output_type": "stream",
          "text": [
            "Humidity ratio of 50% rel. hum. air at 300 K, 101325 Pa: 0.011095529705199761 kg_w/kg_da\n",
            "Relative humidity from last calculation: 0.5 (fractional)\n"
          ],
          "name": "stdout"
        }
      ]
    },
    {
      "metadata": {
        "id": "fZoQ6iyClasV",
        "colab_type": "code",
        "outputId": "3b70a7c4-38bb-49ac-a755-3d2a9de39bc6",
        "colab": {
          "base_uri": "https://localhost:8080/",
          "height": 34
        }
      },
      "cell_type": "code",
      "source": [
        "PropsSI('H','P',101325,'T',350,'Water')"
      ],
      "execution_count": 0,
      "outputs": [
        {
          "output_type": "execute_result",
          "data": {
            "text/plain": [
              "321839.1361438748"
            ]
          },
          "metadata": {
            "tags": []
          },
          "execution_count": 67
        }
      ]
    },
    {
      "metadata": {
        "id": "iOH8yW4Nlgl2",
        "colab_type": "code",
        "outputId": "70fe50b1-7c16-4815-c908-05cd297c6523",
        "colab": {
          "base_uri": "https://localhost:8080/",
          "height": 34
        }
      },
      "cell_type": "code",
      "source": [
        "PropsSI('H','P',101325,'T',380,'Water')"
      ],
      "execution_count": 0,
      "outputs": [
        {
          "output_type": "execute_result",
          "data": {
            "text/plain": [
              "2689732.3718529516"
            ]
          },
          "metadata": {
            "tags": []
          },
          "execution_count": 68
        }
      ]
    },
    {
      "metadata": {
        "id": "lyl-UIjsmClk",
        "colab_type": "code",
        "outputId": "386f00ae-d9d5-46ed-9c77-6693908e919a",
        "colab": {
          "base_uri": "https://localhost:8080/",
          "height": 34
        }
      },
      "cell_type": "code",
      "source": [
        "PropsSI('H','P',101325,'T',340,'Air.mix')"
      ],
      "execution_count": 0,
      "outputs": [
        {
          "output_type": "execute_result",
          "data": {
            "text/plain": [
              "340611.31590665627"
            ]
          },
          "metadata": {
            "tags": []
          },
          "execution_count": 69
        }
      ]
    },
    {
      "metadata": {
        "id": "B5QloOS5mI0D",
        "colab_type": "code",
        "outputId": "bda1bdfc-e94a-4d64-eeed-ef1b80c561ba",
        "colab": {
          "base_uri": "https://localhost:8080/",
          "height": 34
        }
      },
      "cell_type": "code",
      "source": [
        "PropsSI('H','P',101325,'T',340,'Air')"
      ],
      "execution_count": 0,
      "outputs": [
        {
          "output_type": "execute_result",
          "data": {
            "text/plain": [
              "466590.41040037153"
            ]
          },
          "metadata": {
            "tags": []
          },
          "execution_count": 70
        }
      ]
    },
    {
      "metadata": {
        "id": "j1j7oQhSmJsb",
        "colab_type": "code",
        "outputId": "08181915-7eb3-4be4-a9f9-fbe4df412df6",
        "colab": {
          "base_uri": "https://localhost:8080/",
          "height": 34
        }
      },
      "cell_type": "code",
      "source": [
        "PropsSI('H','P',101325,'T',350,'Air')"
      ],
      "execution_count": 0,
      "outputs": [
        {
          "output_type": "execute_result",
          "data": {
            "text/plain": [
              "476678.77837386186"
            ]
          },
          "metadata": {
            "tags": []
          },
          "execution_count": 71
        }
      ]
    },
    {
      "metadata": {
        "id": "J_ziDA8XmNK4",
        "colab_type": "code",
        "colab": {}
      },
      "cell_type": "code",
      "source": [
        ""
      ],
      "execution_count": 0,
      "outputs": []
    }
  ]
}