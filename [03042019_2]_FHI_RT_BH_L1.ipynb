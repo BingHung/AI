{
  "nbformat": 4,
  "nbformat_minor": 0,
  "metadata": {
    "colab": {
      "name": "[03042019-2] FHI RT BH L1.ipynb",
      "version": "0.3.2",
      "provenance": [],
      "collapsed_sections": [],
      "include_colab_link": true
    },
    "kernelspec": {
      "name": "python3",
      "display_name": "Python 3"
    },
    "accelerator": "GPU"
  },
  "cells": [
    {
      "cell_type": "markdown",
      "metadata": {
        "id": "view-in-github",
        "colab_type": "text"
      },
      "source": [
        "<a href=\"https://colab.research.google.com/github/BingHung/AI/blob/master/%5B03042019_2%5D_FHI_RT_BH_L1.ipynb\" target=\"_parent\"><img src=\"https://colab.research.google.com/assets/colab-badge.svg\" alt=\"Open In Colab\"/></a>"
      ]
    },
    {
      "metadata": {
        "id": "xlRCWNov_dhR",
        "colab_type": "text"
      },
      "cell_type": "markdown",
      "source": [
        "## Preprocess"
      ]
    },
    {
      "metadata": {
        "id": "rnE-H2-c2u2r",
        "colab_type": "code",
        "colab": {
          "base_uri": "https://localhost:8080/",
          "height": 128
        },
        "outputId": "156601b0-5635-492a-a20a-a50577c66d22"
      },
      "cell_type": "code",
      "source": [
        "from google.colab import drive\n",
        "drive.mount('/content/gdrive')"
      ],
      "execution_count": 1,
      "outputs": [
        {
          "output_type": "stream",
          "text": [
            "Go to this URL in a browser: https://accounts.google.com/o/oauth2/auth?client_id=947318989803-6bn6qk8qdgf4n4g3pfee6491hc0brc4i.apps.googleusercontent.com&redirect_uri=urn%3Aietf%3Awg%3Aoauth%3A2.0%3Aoob&scope=email%20https%3A%2F%2Fwww.googleapis.com%2Fauth%2Fdocs.test%20https%3A%2F%2Fwww.googleapis.com%2Fauth%2Fdrive%20https%3A%2F%2Fwww.googleapis.com%2Fauth%2Fdrive.photos.readonly%20https%3A%2F%2Fwww.googleapis.com%2Fauth%2Fpeopleapi.readonly&response_type=code\n",
            "\n",
            "Enter your authorization code:\n",
            "··········\n",
            "Mounted at /content/gdrive\n"
          ],
          "name": "stdout"
        }
      ]
    },
    {
      "metadata": {
        "id": "7QW1PtAc4E5j",
        "colab_type": "code",
        "colab": {}
      },
      "cell_type": "code",
      "source": [
        "import os\n",
        "import zipfile\n",
        "\n",
        "# 將下載到的資料集解壓縮至/tmp\n",
        "local_zip = '/content/gdrive/My Drive/Keras/RTFILM.zip'\n",
        "zip_ref = zipfile.ZipFile(local_zip, 'r')\n",
        "zip_ref.extractall('/content/RTFILM')\n",
        "zip_ref.close()"
      ],
      "execution_count": 0,
      "outputs": []
    },
    {
      "metadata": {
        "id": "09RHedJK4T0B",
        "colab_type": "code",
        "colab": {}
      },
      "cell_type": "code",
      "source": [
        "import numpy as np\n",
        "import cv2\n",
        "\n",
        "ok_img_list=[]\n",
        "ok_label_list=[]\n",
        "ng_img_list=[]\n",
        "ng_label_list=[]\n",
        "base_path = r'/content/RTFILM'\n",
        "\n",
        "for root, dirs, files in os.walk(base_path):\n",
        "    for file in files:\n",
        "        if file.endswith(\".jpg\"):\n",
        "            filename = os.path.join(root, file)\n",
        "            category_name = os.path.basename(root)  \n",
        "            imarray = cv2.imread(filename,3)\n",
        "            if category_name == 'OK':\n",
        "              ok_img_list.append(imarray)\n",
        "              ok_label_list.append(category_name)\n",
        "            elif category_name == \"NG\":\n",
        "              ng_img_list.append(imarray)\n",
        "              ng_label_list.append(category_name)"
      ],
      "execution_count": 0,
      "outputs": []
    },
    {
      "metadata": {
        "id": "uy1yIErd643V",
        "colab_type": "code",
        "colab": {
          "base_uri": "https://localhost:8080/",
          "height": 963
        },
        "outputId": "85de5c20-6962-437e-a574-9b834e4d208f"
      },
      "cell_type": "code",
      "source": [
        "print(\"ok_img_list - length \",len(ok_img_list))\n",
        "print(\"ok_label_list - length\",len(ok_label_list))\n",
        "print(\"ok_img_list - contents \",ok_img_list[0])\n",
        "print(\"ok_label_list - contents\",ok_label_list[0])"
      ],
      "execution_count": 5,
      "outputs": [
        {
          "output_type": "stream",
          "text": [
            "ok_img_list - length  100\n",
            "ok_label_list - length 100\n",
            "ok_img_list - contents  [[[0 0 0]\n",
            "  [0 0 0]\n",
            "  [0 0 0]\n",
            "  ...\n",
            "  [0 0 0]\n",
            "  [0 0 0]\n",
            "  [0 0 0]]\n",
            "\n",
            " [[0 0 0]\n",
            "  [0 0 0]\n",
            "  [0 0 0]\n",
            "  ...\n",
            "  [0 0 0]\n",
            "  [0 0 0]\n",
            "  [0 0 0]]\n",
            "\n",
            " [[0 0 0]\n",
            "  [0 0 0]\n",
            "  [0 0 0]\n",
            "  ...\n",
            "  [0 0 0]\n",
            "  [0 0 0]\n",
            "  [0 0 0]]\n",
            "\n",
            " ...\n",
            "\n",
            " [[0 0 0]\n",
            "  [0 0 0]\n",
            "  [0 0 0]\n",
            "  ...\n",
            "  [0 0 0]\n",
            "  [0 0 0]\n",
            "  [0 0 0]]\n",
            "\n",
            " [[0 0 0]\n",
            "  [0 0 0]\n",
            "  [0 0 0]\n",
            "  ...\n",
            "  [0 0 0]\n",
            "  [0 0 0]\n",
            "  [0 0 0]]\n",
            "\n",
            " [[0 0 0]\n",
            "  [0 0 0]\n",
            "  [0 0 0]\n",
            "  ...\n",
            "  [0 0 0]\n",
            "  [0 0 0]\n",
            "  [0 0 0]]]\n",
            "ok_label_list - contents OK\n"
          ],
          "name": "stdout"
        }
      ]
    },
    {
      "metadata": {
        "id": "txQ53RJk7Ied",
        "colab_type": "code",
        "colab": {
          "base_uri": "https://localhost:8080/",
          "height": 351
        },
        "outputId": "dc26c458-e01a-4d6c-d451-c9d1ce084d22"
      },
      "cell_type": "code",
      "source": [
        "import matplotlib.pyplot as plt\n",
        "plt.imshow(ok_img_list[0])\n",
        "plt.show()"
      ],
      "execution_count": 6,
      "outputs": [
        {
          "output_type": "display_data",
          "data": {
            "image/png": "[encoded data removed]",
            "text/plain": [
              "<Figure size 576x396 with 1 Axes>"
            ]
          },
          "metadata": {
            "tags": []
          }
        }
      ]
    },
    {
      "metadata": {
        "id": "h6vwRLH87Vqk",
        "colab_type": "code",
        "colab": {}
      },
      "cell_type": "code",
      "source": [
        "img_arr   = np.concatenate((ok_img_list, ng_img_list), axis = 0)\n",
        "img_label = np.concatenate((ok_label_list, ng_label_list), axis = 0) "
      ],
      "execution_count": 0,
      "outputs": []
    },
    {
      "metadata": {
        "id": "xTvvtTL1ADoj",
        "colab_type": "code",
        "colab": {}
      },
      "cell_type": "code",
      "source": [
        "from PIL import Image\n",
        "\n",
        "for i in range(len(img_arr)):\n",
        "  \n"
      ],
      "execution_count": 0,
      "outputs": []
    },
    {
      "metadata": {
        "id": "r7C4UuON8Gq7",
        "colab_type": "code",
        "colab": {
          "base_uri": "https://localhost:8080/",
          "height": 308
        },
        "outputId": "ebc99d4a-7842-4576-c6f2-d3d7252ee57e"
      },
      "cell_type": "code",
      "source": [
        "print(img_label)\n",
        "print(type(img_label))"
      ],
      "execution_count": 21,
      "outputs": [
        {
          "output_type": "stream",
          "text": [
            "['OK' 'OK' 'OK' 'OK' 'OK' 'OK' 'OK' 'OK' 'OK' 'OK' 'OK' 'OK' 'OK' 'OK'\n",
            " 'OK' 'OK' 'OK' 'OK' 'OK' 'OK' 'OK' 'OK' 'OK' 'OK' 'OK' 'OK' 'OK' 'OK'\n",
            " 'OK' 'OK' 'OK' 'OK' 'OK' 'OK' 'OK' 'OK' 'OK' 'OK' 'OK' 'OK' 'OK' 'OK'\n",
            " 'OK' 'OK' 'OK' 'OK' 'OK' 'OK' 'OK' 'OK' 'OK' 'OK' 'OK' 'OK' 'OK' 'OK'\n",
            " 'OK' 'OK' 'OK' 'OK' 'OK' 'OK' 'OK' 'OK' 'OK' 'OK' 'OK' 'OK' 'OK' 'OK'\n",
            " 'OK' 'OK' 'OK' 'OK' 'OK' 'OK' 'OK' 'OK' 'OK' 'OK' 'OK' 'OK' 'OK' 'OK'\n",
            " 'OK' 'OK' 'OK' 'OK' 'OK' 'OK' 'OK' 'OK' 'OK' 'OK' 'OK' 'OK' 'OK' 'OK'\n",
            " 'OK' 'OK' 'NG' 'NG' 'NG' 'NG' 'NG' 'NG' 'NG' 'NG' 'NG' 'NG' 'NG' 'NG'\n",
            " 'NG' 'NG' 'NG' 'NG' 'NG' 'NG' 'NG' 'NG' 'NG' 'NG' 'NG' 'NG' 'NG' 'NG'\n",
            " 'NG' 'NG' 'NG' 'NG' 'NG' 'NG' 'NG' 'NG' 'NG' 'NG' 'NG' 'NG' 'NG' 'NG'\n",
            " 'NG' 'NG' 'NG' 'NG' 'NG' 'NG' 'NG' 'NG' 'NG' 'NG' 'NG' 'NG' 'NG' 'NG'\n",
            " 'NG' 'NG' 'NG' 'NG' 'NG' 'NG' 'NG' 'NG' 'NG' 'NG' 'NG' 'NG' 'NG' 'NG'\n",
            " 'NG' 'NG' 'NG' 'NG' 'NG' 'NG' 'NG' 'NG' 'NG' 'NG' 'NG' 'NG' 'NG' 'NG'\n",
            " 'NG' 'NG' 'NG' 'NG' 'NG' 'NG' 'NG' 'NG' 'NG' 'NG' 'NG' 'NG' 'NG' 'NG'\n",
            " 'NG' 'NG' 'NG' 'NG']\n",
            "<class 'numpy.ndarray'>\n"
          ],
          "name": "stdout"
        }
      ]
    },
    {
      "metadata": {
        "id": "NF0xU2gg8XIi",
        "colab_type": "code",
        "colab": {}
      },
      "cell_type": "code",
      "source": [
        "for i in range(len(img_label)):\n",
        "  if img_label[i] == 'OK':\n",
        "    img_label[i] = 1\n",
        "  elif img_label[i] == 'NG':\n",
        "    img_label[i] = 0"
      ],
      "execution_count": 0,
      "outputs": []
    },
    {
      "metadata": {
        "id": "eW1afBuz89QJ",
        "colab_type": "code",
        "colab": {
          "base_uri": "https://localhost:8080/",
          "height": 235
        },
        "outputId": "b8489d3a-66fc-4bbf-e9e7-3b429e88aecd"
      },
      "cell_type": "code",
      "source": [
        "print(img_label)"
      ],
      "execution_count": 25,
      "outputs": [
        {
          "output_type": "stream",
          "text": [
            "['1' '1' '1' '1' '1' '1' '1' '1' '1' '1' '1' '1' '1' '1' '1' '1' '1' '1'\n",
            " '1' '1' '1' '1' '1' '1' '1' '1' '1' '1' '1' '1' '1' '1' '1' '1' '1' '1'\n",
            " '1' '1' '1' '1' '1' '1' '1' '1' '1' '1' '1' '1' '1' '1' '1' '1' '1' '1'\n",
            " '1' '1' '1' '1' '1' '1' '1' '1' '1' '1' '1' '1' '1' '1' '1' '1' '1' '1'\n",
            " '1' '1' '1' '1' '1' '1' '1' '1' '1' '1' '1' '1' '1' '1' '1' '1' '1' '1'\n",
            " '1' '1' '1' '1' '1' '1' '1' '1' '1' '1' '0' '0' '0' '0' '0' '0' '0' '0'\n",
            " '0' '0' '0' '0' '0' '0' '0' '0' '0' '0' '0' '0' '0' '0' '0' '0' '0' '0'\n",
            " '0' '0' '0' '0' '0' '0' '0' '0' '0' '0' '0' '0' '0' '0' '0' '0' '0' '0'\n",
            " '0' '0' '0' '0' '0' '0' '0' '0' '0' '0' '0' '0' '0' '0' '0' '0' '0' '0'\n",
            " '0' '0' '0' '0' '0' '0' '0' '0' '0' '0' '0' '0' '0' '0' '0' '0' '0' '0'\n",
            " '0' '0' '0' '0' '0' '0' '0' '0' '0' '0' '0' '0' '0' '0' '0' '0' '0' '0'\n",
            " '0' '0']\n"
          ],
          "name": "stdout"
        }
      ]
    },
    {
      "metadata": {
        "id": "4pwUFlgu--8G",
        "colab_type": "code",
        "colab": {}
      },
      "cell_type": "code",
      "source": [
        "import random\n",
        "temp = list(zip(img_arr, img_label))\n",
        "random.shuffle(temp)\n",
        "img_arr, img_label = zip(*temp)\n",
        "img_arr=np.asarray(img_arr)\n",
        "img_label=np.asarray(img_label)"
      ],
      "execution_count": 0,
      "outputs": []
    },
    {
      "metadata": {
        "id": "3TA5E8HL_Jym",
        "colab_type": "code",
        "colab": {
          "base_uri": "https://localhost:8080/",
          "height": 1126
        },
        "outputId": "c5bb13f3-777a-4c62-e9d1-9ea22d3e1096"
      },
      "cell_type": "code",
      "source": [
        "print(img_label)\n",
        "print(temp[0])"
      ],
      "execution_count": 36,
      "outputs": [
        {
          "output_type": "stream",
          "text": [
            "['1' '1' '1' '0' '1' '1' '1' '1' '1' '0' '0' '1' '0' '1' '0' '0' '0' '0'\n",
            " '0' '0' '1' '0' '0' '1' '1' '1' '1' '1' '0' '1' '1' '1' '1' '0' '0' '1'\n",
            " '0' '0' '1' '1' '0' '1' '0' '1' '0' '1' '0' '1' '0' '0' '1' '1' '1' '1'\n",
            " '0' '0' '0' '1' '1' '0' '1' '1' '0' '1' '0' '0' '0' '0' '1' '0' '1' '1'\n",
            " '1' '0' '0' '1' '1' '0' '0' '1' '0' '1' '1' '1' '1' '0' '1' '1' '1' '1'\n",
            " '0' '0' '1' '1' '0' '0' '1' '1' '0' '0' '1' '1' '0' '0' '1' '1' '1' '1'\n",
            " '0' '0' '0' '1' '1' '1' '1' '0' '0' '0' '0' '0' '0' '1' '1' '0' '0' '0'\n",
            " '0' '0' '1' '0' '1' '0' '1' '0' '0' '1' '1' '0' '0' '1' '0' '1' '0' '0'\n",
            " '0' '0' '1' '0' '1' '0' '1' '0' '1' '1' '1' '1' '1' '0' '0' '0' '0' '1'\n",
            " '1' '1' '1' '0' '1' '0' '1' '0' '0' '0' '1' '0' '0' '1' '0' '0' '1' '1'\n",
            " '0' '1' '0' '1' '0' '1' '1' '0' '0' '0' '1' '0' '1' '0' '0' '0' '0' '1'\n",
            " '1' '0']\n",
            "(array([[[0, 0, 0],\n",
            "        [0, 0, 0],\n",
            "        [0, 0, 0],\n",
            "        ...,\n",
            "        [0, 0, 0],\n",
            "        [0, 0, 0],\n",
            "        [0, 0, 0]],\n",
            "\n",
            "       [[0, 0, 0],\n",
            "        [0, 0, 0],\n",
            "        [0, 0, 0],\n",
            "        ...,\n",
            "        [0, 0, 0],\n",
            "        [0, 0, 0],\n",
            "        [0, 0, 0]],\n",
            "\n",
            "       [[0, 0, 0],\n",
            "        [0, 0, 0],\n",
            "        [0, 0, 0],\n",
            "        ...,\n",
            "        [0, 0, 0],\n",
            "        [0, 0, 0],\n",
            "        [0, 0, 0]],\n",
            "\n",
            "       ...,\n",
            "\n",
            "       [[0, 0, 0],\n",
            "        [0, 0, 0],\n",
            "        [0, 0, 0],\n",
            "        ...,\n",
            "        [0, 0, 0],\n",
            "        [0, 0, 0],\n",
            "        [0, 0, 0]],\n",
            "\n",
            "       [[0, 0, 0],\n",
            "        [0, 0, 0],\n",
            "        [0, 0, 0],\n",
            "        ...,\n",
            "        [0, 0, 0],\n",
            "        [0, 0, 0],\n",
            "        [0, 0, 0]],\n",
            "\n",
            "       [[0, 0, 0],\n",
            "        [0, 0, 0],\n",
            "        [0, 0, 0],\n",
            "        ...,\n",
            "        [0, 0, 0],\n",
            "        [0, 0, 0],\n",
            "        [0, 0, 0]]], dtype=uint8), '1')\n"
          ],
          "name": "stdout"
        }
      ]
    },
    {
      "metadata": {
        "id": "F1Dvd4Xr_LYO",
        "colab_type": "code",
        "colab": {}
      },
      "cell_type": "code",
      "source": [
        "from sklearn.model_selection import train_test_split\n",
        "train_data, test_data, train_label, test_label = train_test_split(img_arr, img_label, test_size=0.2, random_state=42)"
      ],
      "execution_count": 0,
      "outputs": []
    },
    {
      "metadata": {
        "id": "IyYfcqhN_Y-S",
        "colab_type": "text"
      },
      "cell_type": "markdown",
      "source": [
        "## Model Construction"
      ]
    },
    {
      "metadata": {
        "id": "DLE1U5cB_Twt",
        "colab_type": "code",
        "colab": {
          "base_uri": "https://localhost:8080/",
          "height": 165
        },
        "outputId": "8ccafc79-a3e8-4c35-b5ad-00eb14b504d5"
      },
      "cell_type": "code",
      "source": [
        "#%% Create Model\n",
        "from keras.models import Sequential\n",
        "from keras.layers import Dense, SpatialDropout2D, Dropout, Flatten\n",
        "from keras.layers import Conv2D, MaxPooling2D\n",
        "from keras.optimizers import SGD,RMSprop\n",
        "from keras.callbacks import EarlyStopping\n",
        "\n",
        "# Generate model\n",
        "model = Sequential()\n",
        "\n",
        "model.add(Conv2D(64, (3, 3), activation='relu', input_shape=(128,128,3),padding='same',name='block1_conv2_1'))\n",
        "model.add(Conv2D(64, (3, 3), activation='relu',padding='same',name='block1_conv2_2'))\n",
        "model.add(MaxPooling2D(pool_size=(2, 2),name='block1_MaxPooling'))\n",
        "model.add(SpatialDropout2D(0.25))\n",
        "\n",
        "model.add(Conv2D(128, (3, 3), activation='relu',padding='same',name='block2_conv2_1'))\n",
        "model.add(Conv2D(128, (3, 3), activation='relu',padding='same',name='block2_conv2_2'))\n",
        "model.add(MaxPooling2D(pool_size=(2, 2),name='block2_MaxPooling'))\n",
        "model.add(SpatialDropout2D(0.25))\n",
        "\n",
        "model.add(Flatten())\n",
        "model.add(Dense(128, activation='relu',name='final_output_1'))\n",
        "model.add(Dropout(0.5))\n",
        "model.add(Dense(128, activation='relu',name='final_output_2'))\n",
        "model.add(Dropout(0.5))\n",
        "model.add(Dense(2, activation='sigmoid',name='class_output'))\n",
        "optimizer = RMSprop(lr=1e-4)\n",
        "objective = 'binary_crossentropy'\n",
        "model.compile(loss=objective, optimizer=optimizer, metrics=['accuracy'])\n",
        "EStop = EarlyStopping(monitor='val_acc', min_delta=0, \n",
        "                      patience=10, verbose=1, mode='auto')\n"
      ],
      "execution_count": 34,
      "outputs": [
        {
          "output_type": "stream",
          "text": [
            "Using TensorFlow backend.\n"
          ],
          "name": "stderr"
        },
        {
          "output_type": "stream",
          "text": [
            "WARNING:tensorflow:From /usr/local/lib/python3.6/dist-packages/tensorflow/python/framework/op_def_library.py:263: colocate_with (from tensorflow.python.framework.ops) is deprecated and will be removed in a future version.\n",
            "Instructions for updating:\n",
            "Colocations handled automatically by placer.\n",
            "WARNING:tensorflow:From /usr/local/lib/python3.6/dist-packages/keras/backend/tensorflow_backend.py:3445: calling dropout (from tensorflow.python.ops.nn_ops) with keep_prob is deprecated and will be removed in a future version.\n",
            "Instructions for updating:\n",
            "Please use `rate` instead of `keep_prob`. Rate should be set to `rate = 1 - keep_prob`.\n"
          ],
          "name": "stdout"
        }
      ]
    },
    {
      "metadata": {
        "id": "Upp69yAB_anF",
        "colab_type": "code",
        "colab": {}
      },
      "cell_type": "code",
      "source": [
        ""
      ],
      "execution_count": 0,
      "outputs": []
    }
  ]
}