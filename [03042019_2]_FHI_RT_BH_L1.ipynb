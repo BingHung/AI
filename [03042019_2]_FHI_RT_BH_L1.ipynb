{
  "nbformat": 4,
  "nbformat_minor": 0,
  "metadata": {
    "colab": {
      "name": "[03042019-2] FHI RT BH L1.ipynb",
      "version": "0.3.2",
      "provenance": [],
      "collapsed_sections": [],
      "toc_visible": true,
      "include_colab_link": true
    },
    "kernelspec": {
      "name": "python3",
      "display_name": "Python 3"
    },
    "accelerator": "GPU"
  },
  "cells": [
    {
      "cell_type": "markdown",
      "metadata": {
        "id": "view-in-github",
        "colab_type": "text"
      },
      "source": [
        "<a href=\"https://colab.research.google.com/github/BingHung/AI/blob/master/%5B03042019_2%5D_FHI_RT_BH_L1.ipynb\" target=\"_parent\"><img src=\"https://colab.research.google.com/assets/colab-badge.svg\" alt=\"Open In Colab\"/></a>"
      ]
    },
    {
      "metadata": {
        "id": "xlRCWNov_dhR",
        "colab_type": "text"
      },
      "cell_type": "markdown",
      "source": [
        "## Preprocess"
      ]
    },
    {
      "metadata": {
        "id": "rnE-H2-c2u2r",
        "colab_type": "code",
        "colab": {
          "base_uri": "https://localhost:8080/",
          "height": 34
        },
        "outputId": "af4f629b-9a5c-405d-c1be-ed240cbc9010"
      },
      "cell_type": "code",
      "source": [
        "from google.colab import drive\n",
        "drive.mount('/content/gdrive')"
      ],
      "execution_count": 1,
      "outputs": [
        {
          "output_type": "stream",
          "text": [
            "Drive already mounted at /content/gdrive; to attempt to forcibly remount, call drive.mount(\"/content/gdrive\", force_remount=True).\n"
          ],
          "name": "stdout"
        }
      ]
    },
    {
      "metadata": {
        "id": "7QW1PtAc4E5j",
        "colab_type": "code",
        "colab": {}
      },
      "cell_type": "code",
      "source": [
        "import os\n",
        "import zipfile\n",
        "\n",
        "# 將下載到的資料集解壓縮至/tmp\n",
        "local_zip = '/content/gdrive/My Drive/Keras/RTFILM.zip'\n",
        "zip_ref = zipfile.ZipFile(local_zip, 'r')\n",
        "zip_ref.extractall('/content/RTFILM')\n",
        "zip_ref.close()"
      ],
      "execution_count": 0,
      "outputs": []
    },
    {
      "metadata": {
        "id": "09RHedJK4T0B",
        "colab_type": "code",
        "colab": {}
      },
      "cell_type": "code",
      "source": [
        "import numpy as np\n",
        "import cv2\n",
        "\n",
        "ok_img_list=[]\n",
        "ok_label_list=[]\n",
        "ng_img_list=[]\n",
        "ng_label_list=[]\n",
        "base_path = r'/content/RTFILM'\n",
        "\n",
        "for root, dirs, files in os.walk(base_path):\n",
        "    for file in files:\n",
        "        if file.endswith(\".jpg\"):\n",
        "            filename = os.path.join(root, file)\n",
        "            category_name = os.path.basename(root)  \n",
        "            imarray = cv2.imread(filename,3)\n",
        "            imarray = cv2.resize(imarray,(128,128))\n",
        "            imarray = imarray.astype(np.float32)\n",
        "            imarray = (imarray - np.min(imarray)) / (np.max(imarray) - np.min(imarray))\n",
        "            if category_name == 'OK':\n",
        "              ok_img_list.append(imarray)\n",
        "              ok_label_list.append(category_name)\n",
        "            elif category_name == \"NG\":\n",
        "              ng_img_list.append(imarray)\n",
        "              ng_label_list.append(category_name)"
      ],
      "execution_count": 0,
      "outputs": []
    },
    {
      "metadata": {
        "id": "uy1yIErd643V",
        "colab_type": "code",
        "colab": {
          "base_uri": "https://localhost:8080/",
          "height": 901
        },
        "outputId": "8ff06a75-c5f4-4d4a-8756-2a41f84821c3"
      },
      "cell_type": "code",
      "source": [
        "print(\"ok_img_list - length \",len(ok_img_list))\n",
        "print(\"ok_label_list - length\",len(ok_label_list))\n",
        "print(\"ok_img_list - contents \",ok_img_list[0])\n",
        "print(\"ok_label_list - contents\",ok_label_list[0])"
      ],
      "execution_count": 4,
      "outputs": [
        {
          "output_type": "stream",
          "text": [
            "ok_img_list - length  100\n",
            "ok_label_list - length 100\n",
            "ok_img_list - contents  [[[0. 0. 0.]\n",
            "  [0. 0. 0.]\n",
            "  [0. 0. 0.]\n",
            "  ...\n",
            "  [0. 0. 0.]\n",
            "  [0. 0. 0.]\n",
            "  [0. 0. 0.]]\n",
            "\n",
            " [[0. 0. 0.]\n",
            "  [0. 0. 0.]\n",
            "  [0. 0. 0.]\n",
            "  ...\n",
            "  [0. 0. 0.]\n",
            "  [0. 0. 0.]\n",
            "  [0. 0. 0.]]\n",
            "\n",
            " [[0. 0. 0.]\n",
            "  [0. 0. 0.]\n",
            "  [0. 0. 0.]\n",
            "  ...\n",
            "  [0. 0. 0.]\n",
            "  [0. 0. 0.]\n",
            "  [0. 0. 0.]]\n",
            "\n",
            " ...\n",
            "\n",
            " [[0. 0. 0.]\n",
            "  [0. 0. 0.]\n",
            "  [0. 0. 0.]\n",
            "  ...\n",
            "  [0. 0. 0.]\n",
            "  [0. 0. 0.]\n",
            "  [0. 0. 0.]]\n",
            "\n",
            " [[0. 0. 0.]\n",
            "  [0. 0. 0.]\n",
            "  [0. 0. 0.]\n",
            "  ...\n",
            "  [0. 0. 0.]\n",
            "  [0. 0. 0.]\n",
            "  [0. 0. 0.]]\n",
            "\n",
            " [[0. 0. 0.]\n",
            "  [0. 0. 0.]\n",
            "  [0. 0. 0.]\n",
            "  ...\n",
            "  [0. 0. 0.]\n",
            "  [0. 0. 0.]\n",
            "  [0. 0. 0.]]]\n",
            "ok_label_list - contents OK\n"
          ],
          "name": "stdout"
        }
      ]
    },
    {
      "metadata": {
        "id": "txQ53RJk7Ied",
        "colab_type": "code",
        "colab": {
          "base_uri": "https://localhost:8080/",
          "height": 350
        },
        "outputId": "da91be3e-308a-4bdd-8640-e393114cfcc9"
      },
      "cell_type": "code",
      "source": [
        "import matplotlib.pyplot as plt\n",
        "plt.imshow(ok_img_list[0])\n",
        "plt.show()"
      ],
      "execution_count": 5,
      "outputs": [
        {
          "output_type": "display_data",
          "data": {
            "image/png": "[encoded data removed]",
            "text/plain": [
              "<Figure size 576x396 with 1 Axes>"
            ]
          },
          "metadata": {
            "tags": []
          }
        }
      ]
    },
    {
      "metadata": {
        "id": "h6vwRLH87Vqk",
        "colab_type": "code",
        "colab": {
          "base_uri": "https://localhost:8080/",
          "height": 34
        },
        "outputId": "2d885749-f6da-4572-abd3-f8ffdcfbc310"
      },
      "cell_type": "code",
      "source": [
        "import keras\n",
        "\n",
        "img_arr   = np.concatenate((ok_img_list, ng_img_list), axis = 0)\n",
        "img_label = np.concatenate((ok_label_list, ng_label_list), axis = 0) "
      ],
      "execution_count": 6,
      "outputs": [
        {
          "output_type": "stream",
          "text": [
            "Using TensorFlow backend.\n"
          ],
          "name": "stderr"
        }
      ]
    },
    {
      "metadata": {
        "id": "6bGF93uGVKH-",
        "colab_type": "code",
        "colab": {
          "base_uri": "https://localhost:8080/",
          "height": 867
        },
        "outputId": "551e5f00-f986-4e84-e02f-823c327a996b"
      },
      "cell_type": "code",
      "source": [
        "print(img_arr[0].shape)\n",
        "print(img_arr[0])"
      ],
      "execution_count": 7,
      "outputs": [
        {
          "output_type": "stream",
          "text": [
            "(128, 128, 3)\n",
            "[[[0. 0. 0.]\n",
            "  [0. 0. 0.]\n",
            "  [0. 0. 0.]\n",
            "  ...\n",
            "  [0. 0. 0.]\n",
            "  [0. 0. 0.]\n",
            "  [0. 0. 0.]]\n",
            "\n",
            " [[0. 0. 0.]\n",
            "  [0. 0. 0.]\n",
            "  [0. 0. 0.]\n",
            "  ...\n",
            "  [0. 0. 0.]\n",
            "  [0. 0. 0.]\n",
            "  [0. 0. 0.]]\n",
            "\n",
            " [[0. 0. 0.]\n",
            "  [0. 0. 0.]\n",
            "  [0. 0. 0.]\n",
            "  ...\n",
            "  [0. 0. 0.]\n",
            "  [0. 0. 0.]\n",
            "  [0. 0. 0.]]\n",
            "\n",
            " ...\n",
            "\n",
            " [[0. 0. 0.]\n",
            "  [0. 0. 0.]\n",
            "  [0. 0. 0.]\n",
            "  ...\n",
            "  [0. 0. 0.]\n",
            "  [0. 0. 0.]\n",
            "  [0. 0. 0.]]\n",
            "\n",
            " [[0. 0. 0.]\n",
            "  [0. 0. 0.]\n",
            "  [0. 0. 0.]\n",
            "  ...\n",
            "  [0. 0. 0.]\n",
            "  [0. 0. 0.]\n",
            "  [0. 0. 0.]]\n",
            "\n",
            " [[0. 0. 0.]\n",
            "  [0. 0. 0.]\n",
            "  [0. 0. 0.]\n",
            "  ...\n",
            "  [0. 0. 0.]\n",
            "  [0. 0. 0.]\n",
            "  [0. 0. 0.]]]\n"
          ],
          "name": "stdout"
        }
      ]
    },
    {
      "metadata": {
        "id": "r7C4UuON8Gq7",
        "colab_type": "code",
        "colab": {
          "base_uri": "https://localhost:8080/",
          "height": 289
        },
        "outputId": "a9496f74-4ee8-4653-8eb9-f3cda24da36b"
      },
      "cell_type": "code",
      "source": [
        "print(img_label)\n",
        "print(type(img_label))"
      ],
      "execution_count": 8,
      "outputs": [
        {
          "output_type": "stream",
          "text": [
            "['OK' 'OK' 'OK' 'OK' 'OK' 'OK' 'OK' 'OK' 'OK' 'OK' 'OK' 'OK' 'OK' 'OK'\n",
            " 'OK' 'OK' 'OK' 'OK' 'OK' 'OK' 'OK' 'OK' 'OK' 'OK' 'OK' 'OK' 'OK' 'OK'\n",
            " 'OK' 'OK' 'OK' 'OK' 'OK' 'OK' 'OK' 'OK' 'OK' 'OK' 'OK' 'OK' 'OK' 'OK'\n",
            " 'OK' 'OK' 'OK' 'OK' 'OK' 'OK' 'OK' 'OK' 'OK' 'OK' 'OK' 'OK' 'OK' 'OK'\n",
            " 'OK' 'OK' 'OK' 'OK' 'OK' 'OK' 'OK' 'OK' 'OK' 'OK' 'OK' 'OK' 'OK' 'OK'\n",
            " 'OK' 'OK' 'OK' 'OK' 'OK' 'OK' 'OK' 'OK' 'OK' 'OK' 'OK' 'OK' 'OK' 'OK'\n",
            " 'OK' 'OK' 'OK' 'OK' 'OK' 'OK' 'OK' 'OK' 'OK' 'OK' 'OK' 'OK' 'OK' 'OK'\n",
            " 'OK' 'OK' 'NG' 'NG' 'NG' 'NG' 'NG' 'NG' 'NG' 'NG' 'NG' 'NG' 'NG' 'NG'\n",
            " 'NG' 'NG' 'NG' 'NG' 'NG' 'NG' 'NG' 'NG' 'NG' 'NG' 'NG' 'NG' 'NG' 'NG'\n",
            " 'NG' 'NG' 'NG' 'NG' 'NG' 'NG' 'NG' 'NG' 'NG' 'NG' 'NG' 'NG' 'NG' 'NG'\n",
            " 'NG' 'NG' 'NG' 'NG' 'NG' 'NG' 'NG' 'NG' 'NG' 'NG' 'NG' 'NG' 'NG' 'NG'\n",
            " 'NG' 'NG' 'NG' 'NG' 'NG' 'NG' 'NG' 'NG' 'NG' 'NG' 'NG' 'NG' 'NG' 'NG'\n",
            " 'NG' 'NG' 'NG' 'NG' 'NG' 'NG' 'NG' 'NG' 'NG' 'NG' 'NG' 'NG' 'NG' 'NG'\n",
            " 'NG' 'NG' 'NG' 'NG' 'NG' 'NG' 'NG' 'NG' 'NG' 'NG' 'NG' 'NG' 'NG' 'NG'\n",
            " 'NG' 'NG' 'NG' 'NG']\n",
            "<class 'numpy.ndarray'>\n"
          ],
          "name": "stdout"
        }
      ]
    },
    {
      "metadata": {
        "id": "NF0xU2gg8XIi",
        "colab_type": "code",
        "colab": {}
      },
      "cell_type": "code",
      "source": [
        "for i in range(len(img_label)):\n",
        "  if img_label[i] == 'OK':\n",
        "    img_label[i] = 1\n",
        "  elif img_label[i] == 'NG':\n",
        "    img_label[i] = 0"
      ],
      "execution_count": 0,
      "outputs": []
    },
    {
      "metadata": {
        "id": "eW1afBuz89QJ",
        "colab_type": "code",
        "colab": {
          "base_uri": "https://localhost:8080/",
          "height": 221
        },
        "outputId": "9003d028-893c-4286-a65e-3324aa891ed5"
      },
      "cell_type": "code",
      "source": [
        "print(img_label)"
      ],
      "execution_count": 10,
      "outputs": [
        {
          "output_type": "stream",
          "text": [
            "['1' '1' '1' '1' '1' '1' '1' '1' '1' '1' '1' '1' '1' '1' '1' '1' '1' '1'\n",
            " '1' '1' '1' '1' '1' '1' '1' '1' '1' '1' '1' '1' '1' '1' '1' '1' '1' '1'\n",
            " '1' '1' '1' '1' '1' '1' '1' '1' '1' '1' '1' '1' '1' '1' '1' '1' '1' '1'\n",
            " '1' '1' '1' '1' '1' '1' '1' '1' '1' '1' '1' '1' '1' '1' '1' '1' '1' '1'\n",
            " '1' '1' '1' '1' '1' '1' '1' '1' '1' '1' '1' '1' '1' '1' '1' '1' '1' '1'\n",
            " '1' '1' '1' '1' '1' '1' '1' '1' '1' '1' '0' '0' '0' '0' '0' '0' '0' '0'\n",
            " '0' '0' '0' '0' '0' '0' '0' '0' '0' '0' '0' '0' '0' '0' '0' '0' '0' '0'\n",
            " '0' '0' '0' '0' '0' '0' '0' '0' '0' '0' '0' '0' '0' '0' '0' '0' '0' '0'\n",
            " '0' '0' '0' '0' '0' '0' '0' '0' '0' '0' '0' '0' '0' '0' '0' '0' '0' '0'\n",
            " '0' '0' '0' '0' '0' '0' '0' '0' '0' '0' '0' '0' '0' '0' '0' '0' '0' '0'\n",
            " '0' '0' '0' '0' '0' '0' '0' '0' '0' '0' '0' '0' '0' '0' '0' '0' '0' '0'\n",
            " '0' '0']\n"
          ],
          "name": "stdout"
        }
      ]
    },
    {
      "metadata": {
        "id": "uJF5rv8hYn4a",
        "colab_type": "code",
        "colab": {}
      },
      "cell_type": "code",
      "source": [
        "img_label = keras.utils.to_categorical(img_label, num_classes = 2)"
      ],
      "execution_count": 0,
      "outputs": []
    },
    {
      "metadata": {
        "id": "4pwUFlgu--8G",
        "colab_type": "code",
        "colab": {}
      },
      "cell_type": "code",
      "source": [
        "import random\n",
        "temp = list(zip(img_arr, img_label))\n",
        "random.shuffle(temp)\n",
        "img_arr, img_label = zip(*temp)\n",
        "img_arr=np.asarray(img_arr)\n",
        "img_label=np.asarray(img_label)"
      ],
      "execution_count": 0,
      "outputs": []
    },
    {
      "metadata": {
        "id": "3TA5E8HL_Jym",
        "colab_type": "code",
        "colab": {
          "base_uri": "https://localhost:8080/",
          "height": 4250
        },
        "outputId": "38740415-f1e6-407d-fbc1-763e0272c2d5"
      },
      "cell_type": "code",
      "source": [
        "print(img_label)\n",
        "print(temp[0])"
      ],
      "execution_count": 13,
      "outputs": [
        {
          "output_type": "stream",
          "text": [
            "[[0. 1.]\n",
            " [1. 0.]\n",
            " [0. 1.]\n",
            " [0. 1.]\n",
            " [1. 0.]\n",
            " [1. 0.]\n",
            " [0. 1.]\n",
            " [0. 1.]\n",
            " [0. 1.]\n",
            " [1. 0.]\n",
            " [1. 0.]\n",
            " [1. 0.]\n",
            " [1. 0.]\n",
            " [1. 0.]\n",
            " [0. 1.]\n",
            " [1. 0.]\n",
            " [0. 1.]\n",
            " [0. 1.]\n",
            " [0. 1.]\n",
            " [1. 0.]\n",
            " [1. 0.]\n",
            " [0. 1.]\n",
            " [1. 0.]\n",
            " [1. 0.]\n",
            " [0. 1.]\n",
            " [0. 1.]\n",
            " [0. 1.]\n",
            " [1. 0.]\n",
            " [0. 1.]\n",
            " [1. 0.]\n",
            " [0. 1.]\n",
            " [1. 0.]\n",
            " [1. 0.]\n",
            " [0. 1.]\n",
            " [0. 1.]\n",
            " [0. 1.]\n",
            " [1. 0.]\n",
            " [0. 1.]\n",
            " [0. 1.]\n",
            " [1. 0.]\n",
            " [0. 1.]\n",
            " [1. 0.]\n",
            " [0. 1.]\n",
            " [1. 0.]\n",
            " [1. 0.]\n",
            " [0. 1.]\n",
            " [1. 0.]\n",
            " [1. 0.]\n",
            " [1. 0.]\n",
            " [1. 0.]\n",
            " [0. 1.]\n",
            " [0. 1.]\n",
            " [1. 0.]\n",
            " [0. 1.]\n",
            " [0. 1.]\n",
            " [0. 1.]\n",
            " [0. 1.]\n",
            " [0. 1.]\n",
            " [0. 1.]\n",
            " [1. 0.]\n",
            " [1. 0.]\n",
            " [0. 1.]\n",
            " [1. 0.]\n",
            " [0. 1.]\n",
            " [1. 0.]\n",
            " [1. 0.]\n",
            " [0. 1.]\n",
            " [1. 0.]\n",
            " [1. 0.]\n",
            " [0. 1.]\n",
            " [0. 1.]\n",
            " [0. 1.]\n",
            " [0. 1.]\n",
            " [0. 1.]\n",
            " [0. 1.]\n",
            " [1. 0.]\n",
            " [0. 1.]\n",
            " [0. 1.]\n",
            " [0. 1.]\n",
            " [0. 1.]\n",
            " [0. 1.]\n",
            " [0. 1.]\n",
            " [0. 1.]\n",
            " [0. 1.]\n",
            " [1. 0.]\n",
            " [1. 0.]\n",
            " [1. 0.]\n",
            " [1. 0.]\n",
            " [1. 0.]\n",
            " [0. 1.]\n",
            " [0. 1.]\n",
            " [1. 0.]\n",
            " [0. 1.]\n",
            " [0. 1.]\n",
            " [1. 0.]\n",
            " [1. 0.]\n",
            " [1. 0.]\n",
            " [1. 0.]\n",
            " [0. 1.]\n",
            " [1. 0.]\n",
            " [0. 1.]\n",
            " [0. 1.]\n",
            " [1. 0.]\n",
            " [0. 1.]\n",
            " [0. 1.]\n",
            " [1. 0.]\n",
            " [1. 0.]\n",
            " [1. 0.]\n",
            " [0. 1.]\n",
            " [1. 0.]\n",
            " [0. 1.]\n",
            " [0. 1.]\n",
            " [0. 1.]\n",
            " [0. 1.]\n",
            " [0. 1.]\n",
            " [0. 1.]\n",
            " [1. 0.]\n",
            " [0. 1.]\n",
            " [0. 1.]\n",
            " [0. 1.]\n",
            " [1. 0.]\n",
            " [0. 1.]\n",
            " [0. 1.]\n",
            " [1. 0.]\n",
            " [0. 1.]\n",
            " [0. 1.]\n",
            " [0. 1.]\n",
            " [1. 0.]\n",
            " [0. 1.]\n",
            " [0. 1.]\n",
            " [0. 1.]\n",
            " [0. 1.]\n",
            " [1. 0.]\n",
            " [1. 0.]\n",
            " [1. 0.]\n",
            " [0. 1.]\n",
            " [0. 1.]\n",
            " [1. 0.]\n",
            " [0. 1.]\n",
            " [1. 0.]\n",
            " [0. 1.]\n",
            " [1. 0.]\n",
            " [0. 1.]\n",
            " [1. 0.]\n",
            " [1. 0.]\n",
            " [1. 0.]\n",
            " [0. 1.]\n",
            " [1. 0.]\n",
            " [1. 0.]\n",
            " [0. 1.]\n",
            " [1. 0.]\n",
            " [1. 0.]\n",
            " [1. 0.]\n",
            " [1. 0.]\n",
            " [1. 0.]\n",
            " [0. 1.]\n",
            " [1. 0.]\n",
            " [0. 1.]\n",
            " [0. 1.]\n",
            " [1. 0.]\n",
            " [1. 0.]\n",
            " [0. 1.]\n",
            " [1. 0.]\n",
            " [1. 0.]\n",
            " [1. 0.]\n",
            " [0. 1.]\n",
            " [1. 0.]\n",
            " [1. 0.]\n",
            " [0. 1.]\n",
            " [1. 0.]\n",
            " [1. 0.]\n",
            " [1. 0.]\n",
            " [1. 0.]\n",
            " [1. 0.]\n",
            " [0. 1.]\n",
            " [1. 0.]\n",
            " [1. 0.]\n",
            " [1. 0.]\n",
            " [1. 0.]\n",
            " [1. 0.]\n",
            " [1. 0.]\n",
            " [1. 0.]\n",
            " [1. 0.]\n",
            " [0. 1.]\n",
            " [0. 1.]\n",
            " [0. 1.]\n",
            " [0. 1.]\n",
            " [1. 0.]\n",
            " [1. 0.]\n",
            " [1. 0.]\n",
            " [1. 0.]\n",
            " [1. 0.]\n",
            " [1. 0.]\n",
            " [0. 1.]\n",
            " [0. 1.]\n",
            " [0. 1.]\n",
            " [0. 1.]\n",
            " [1. 0.]\n",
            " [0. 1.]\n",
            " [1. 0.]]\n",
            "(array([[[0., 0., 0.],\n",
            "        [0., 0., 0.],\n",
            "        [0., 0., 0.],\n",
            "        ...,\n",
            "        [0., 0., 0.],\n",
            "        [0., 0., 0.],\n",
            "        [0., 0., 0.]],\n",
            "\n",
            "       [[0., 0., 0.],\n",
            "        [0., 0., 0.],\n",
            "        [0., 0., 0.],\n",
            "        ...,\n",
            "        [0., 0., 0.],\n",
            "        [0., 0., 0.],\n",
            "        [0., 0., 0.]],\n",
            "\n",
            "       [[0., 0., 0.],\n",
            "        [0., 0., 0.],\n",
            "        [0., 0., 0.],\n",
            "        ...,\n",
            "        [0., 0., 0.],\n",
            "        [0., 0., 0.],\n",
            "        [0., 0., 0.]],\n",
            "\n",
            "       ...,\n",
            "\n",
            "       [[0., 0., 0.],\n",
            "        [0., 0., 0.],\n",
            "        [0., 0., 0.],\n",
            "        ...,\n",
            "        [0., 0., 0.],\n",
            "        [0., 0., 0.],\n",
            "        [0., 0., 0.]],\n",
            "\n",
            "       [[0., 0., 0.],\n",
            "        [0., 0., 0.],\n",
            "        [0., 0., 0.],\n",
            "        ...,\n",
            "        [0., 0., 0.],\n",
            "        [0., 0., 0.],\n",
            "        [0., 0., 0.]],\n",
            "\n",
            "       [[0., 0., 0.],\n",
            "        [0., 0., 0.],\n",
            "        [0., 0., 0.],\n",
            "        ...,\n",
            "        [0., 0., 0.],\n",
            "        [0., 0., 0.],\n",
            "        [0., 0., 0.]]], dtype=float32), array([0., 1.], dtype=float32))\n"
          ],
          "name": "stdout"
        }
      ]
    },
    {
      "metadata": {
        "id": "F1Dvd4Xr_LYO",
        "colab_type": "code",
        "colab": {}
      },
      "cell_type": "code",
      "source": [
        "from sklearn.model_selection import train_test_split\n",
        "train_data, test_data, train_label, test_label = train_test_split(img_arr, img_label, test_size=0.2, random_state=42)"
      ],
      "execution_count": 0,
      "outputs": []
    },
    {
      "metadata": {
        "id": "Ep5eX1zGXNzD",
        "colab_type": "code",
        "colab": {
          "base_uri": "https://localhost:8080/",
          "height": 85
        },
        "outputId": "469d2101-256d-404a-d48a-6fc939769372"
      },
      "cell_type": "code",
      "source": [
        "print('train_data',train_data.shape)\n",
        "print('train_label',train_label.shape)\n",
        "print('test_data',test_data.shape)\n",
        "print('test_label',test_label.shape)"
      ],
      "execution_count": 15,
      "outputs": [
        {
          "output_type": "stream",
          "text": [
            "train_data (160, 128, 128, 3)\n",
            "train_label (160, 2)\n",
            "test_data (40, 128, 128, 3)\n",
            "test_label (40, 2)\n"
          ],
          "name": "stdout"
        }
      ]
    },
    {
      "metadata": {
        "id": "IyYfcqhN_Y-S",
        "colab_type": "text"
      },
      "cell_type": "markdown",
      "source": [
        "## Model Construction"
      ]
    },
    {
      "metadata": {
        "id": "DLE1U5cB_Twt",
        "colab_type": "code",
        "colab": {
          "base_uri": "https://localhost:8080/",
          "height": 119
        },
        "outputId": "00fa893c-7ca7-453f-8bff-966dc22ee58c"
      },
      "cell_type": "code",
      "source": [
        "#%% Create Model\n",
        "from keras.models import Sequential\n",
        "from keras.layers import Dense, SpatialDropout2D, Dropout, Flatten\n",
        "from keras.layers import Conv2D, MaxPooling2D\n",
        "from keras.optimizers import SGD,RMSprop\n",
        "from keras.callbacks import EarlyStopping\n",
        "\n",
        "# Generate model\n",
        "model = Sequential()\n",
        "\n",
        "model.add(Conv2D(64, (3, 3), activation='relu', input_shape=(128,128,3),padding='same',name='block1_conv2_1'))\n",
        "model.add(Conv2D(64, (3, 3), activation='relu',padding='same',name='block1_conv2_2'))\n",
        "model.add(MaxPooling2D(pool_size=(2, 2),name='block1_MaxPooling'))\n",
        "model.add(SpatialDropout2D(0.25))\n",
        "\n",
        "model.add(Conv2D(128, (3, 3), activation='relu',padding='same',name='block2_conv2_1'))\n",
        "model.add(Conv2D(128, (3, 3), activation='relu',padding='same',name='block2_conv2_2'))\n",
        "model.add(MaxPooling2D(pool_size=(2, 2),name='block2_MaxPooling'))\n",
        "model.add(SpatialDropout2D(0.25))\n",
        "\n",
        "model.add(Flatten())\n",
        "model.add(Dense(128, activation='relu',name='final_output_1'))\n",
        "model.add(Dropout(0.5))\n",
        "model.add(Dense(128, activation='relu',name='final_output_2'))\n",
        "model.add(Dropout(0.5))\n",
        "model.add(Dense(2, activation='sigmoid',name='class_output'))\n",
        "optimizer = RMSprop(lr=1e-4)\n",
        "objective = 'binary_crossentropy'\n",
        "model.compile(loss=objective, optimizer=optimizer, metrics=['accuracy'])\n",
        "EStop = EarlyStopping(monitor='val_acc', min_delta=0, \n",
        "                      patience=10, verbose=1, mode='auto')\n"
      ],
      "execution_count": 16,
      "outputs": [
        {
          "output_type": "stream",
          "text": [
            "WARNING:tensorflow:From /usr/local/lib/python3.6/dist-packages/tensorflow/python/framework/op_def_library.py:263: colocate_with (from tensorflow.python.framework.ops) is deprecated and will be removed in a future version.\n",
            "Instructions for updating:\n",
            "Colocations handled automatically by placer.\n",
            "WARNING:tensorflow:From /usr/local/lib/python3.6/dist-packages/keras/backend/tensorflow_backend.py:3445: calling dropout (from tensorflow.python.ops.nn_ops) with keep_prob is deprecated and will be removed in a future version.\n",
            "Instructions for updating:\n",
            "Please use `rate` instead of `keep_prob`. Rate should be set to `rate = 1 - keep_prob`.\n"
          ],
          "name": "stdout"
        }
      ]
    },
    {
      "metadata": {
        "id": "wZcL7dAEWZzz",
        "colab_type": "text"
      },
      "cell_type": "markdown",
      "source": [
        "## Training"
      ]
    },
    {
      "metadata": {
        "id": "Upp69yAB_anF",
        "colab_type": "code",
        "colab": {
          "base_uri": "https://localhost:8080/",
          "height": 544
        },
        "outputId": "b12d75d4-b0c4-4537-ee66-6dfedd358a24"
      },
      "cell_type": "code",
      "source": [
        "#Training and saving\n",
        "history = model.fit(train_data, train_label, batch_size=64, epochs=100,shuffle=True, validation_split=0.2,callbacks=[EStop])\n",
        "\n",
        "import time\n",
        "timestr = time.strftime(\"%Y%m%d_%H%M%S\")\n",
        "model.save('FHITR_model_{}.h5'.format(timestr)) "
      ],
      "execution_count": 17,
      "outputs": [
        {
          "output_type": "stream",
          "text": [
            "WARNING:tensorflow:From /usr/local/lib/python3.6/dist-packages/tensorflow/python/ops/math_ops.py:3066: to_int32 (from tensorflow.python.ops.math_ops) is deprecated and will be removed in a future version.\n",
            "Instructions for updating:\n",
            "Use tf.cast instead.\n",
            "Train on 128 samples, validate on 32 samples\n",
            "Epoch 1/100\n",
            "128/128 [==============================] - 6s 47ms/step - loss: 0.6949 - acc: 0.5938 - val_loss: 0.5617 - val_acc: 0.6562\n",
            "Epoch 2/100\n",
            "128/128 [==============================] - 1s 5ms/step - loss: 0.7073 - acc: 0.5742 - val_loss: 0.5397 - val_acc: 0.5000\n",
            "Epoch 3/100\n",
            "128/128 [==============================] - 1s 5ms/step - loss: 0.5429 - acc: 0.7500 - val_loss: 0.3433 - val_acc: 1.0000\n",
            "Epoch 4/100\n",
            "128/128 [==============================] - 1s 5ms/step - loss: 0.4002 - acc: 0.8789 - val_loss: 0.1888 - val_acc: 1.0000\n",
            "Epoch 5/100\n",
            "128/128 [==============================] - 1s 5ms/step - loss: 0.2830 - acc: 0.9258 - val_loss: 0.1039 - val_acc: 1.0000\n",
            "Epoch 6/100\n",
            "128/128 [==============================] - 1s 5ms/step - loss: 0.2208 - acc: 0.9453 - val_loss: 0.0599 - val_acc: 1.0000\n",
            "Epoch 7/100\n",
            "128/128 [==============================] - 1s 5ms/step - loss: 0.1919 - acc: 0.9570 - val_loss: 0.0362 - val_acc: 1.0000\n",
            "Epoch 8/100\n",
            "128/128 [==============================] - 1s 5ms/step - loss: 0.1106 - acc: 0.9844 - val_loss: 0.0195 - val_acc: 1.0000\n",
            "Epoch 9/100\n",
            "128/128 [==============================] - 1s 5ms/step - loss: 0.1049 - acc: 0.9766 - val_loss: 0.0250 - val_acc: 1.0000\n",
            "Epoch 10/100\n",
            "128/128 [==============================] - 1s 5ms/step - loss: 0.1567 - acc: 0.9531 - val_loss: 0.0200 - val_acc: 1.0000\n",
            "Epoch 11/100\n",
            "128/128 [==============================] - 1s 5ms/step - loss: 0.0673 - acc: 0.9961 - val_loss: 0.0046 - val_acc: 1.0000\n",
            "Epoch 12/100\n",
            "128/128 [==============================] - 1s 5ms/step - loss: 0.0534 - acc: 0.9883 - val_loss: 0.0027 - val_acc: 1.0000\n",
            "Epoch 13/100\n",
            "128/128 [==============================] - 1s 5ms/step - loss: 0.0370 - acc: 1.0000 - val_loss: 0.0011 - val_acc: 1.0000\n",
            "Epoch 00013: early stopping\n"
          ],
          "name": "stdout"
        }
      ]
    },
    {
      "metadata": {
        "id": "H4e0ghp4Zcyw",
        "colab_type": "text"
      },
      "cell_type": "markdown",
      "source": [
        "## Visulaize"
      ]
    },
    {
      "metadata": {
        "id": "CPb5lAMoWcye",
        "colab_type": "code",
        "colab": {}
      },
      "cell_type": "code",
      "source": [
        "# Model Structure\n",
        "from keras.utils import plot_model\n",
        "plot_model(model, to_file='model_{}.png'.format(timestr),show_shapes=True, show_layer_names=True)"
      ],
      "execution_count": 0,
      "outputs": []
    },
    {
      "metadata": {
        "id": "JKA35ns2ZfYx",
        "colab_type": "code",
        "colab": {
          "base_uri": "https://localhost:8080/",
          "height": 1069
        },
        "outputId": "e9be0c4a-02d4-4845-f855-39b207139240"
      },
      "cell_type": "code",
      "source": [
        "# Training History\n",
        "import collections\n",
        "import pandas as pd\n",
        "hist = history.history\n",
        "\n",
        "for key, val in hist.items(): # Count the number of epoch\n",
        "    numepo = len(np.asarray(val))\n",
        "    break\n",
        "hist = collections.OrderedDict(hist)\n",
        "pd.DataFrame(hist).to_excel('model_{}_history.xlsx'.format(timestr), index=True)\n",
        "\n",
        "import matplotlib.pyplot as plt\n",
        "\n",
        "plt.plot(history.history['acc'])\n",
        "plt.plot(history.history['val_acc'])\n",
        "plt.title('Model accuracy')\n",
        "plt.ylabel('accuracy')\n",
        "plt.xlabel('epoch')\n",
        "plt.legend(['train', 'test'], loc='upper left')\n",
        "plt.show()\n",
        "plt.savefig('Model accuracy_{}.png'.format(timestr))\n",
        "plt.cla()\n",
        "\n",
        "plt.plot(history.history['loss'])\n",
        "plt.plot(history.history['val_loss'])\n",
        "plt.title('Model loss')\n",
        "plt.ylabel('loss')\n",
        "plt.xlabel('epoch')\n",
        "plt.legend(['train', 'test'], loc='upper left')\n",
        "plt.show()\n",
        "plt.savefig('Model loss_{}.png'.format(timestr))\n",
        "plt.cla()"
      ],
      "execution_count": 19,
      "outputs": [
        {
          "output_type": "display_data",
          "data": {
            "image/png": "[encoded data removed]",
            "text/plain": [
              "<Figure size 576x396 with 1 Axes>"
            ]
          },
          "metadata": {
            "tags": []
          }
        },
        {
          "output_type": "display_data",
          "data": {
            "image/png": "[encoded data removed]",
            "text/plain": [
              "<Figure size 576x396 with 1 Axes>"
            ]
          },
          "metadata": {
            "tags": []
          }
        },
        {
          "output_type": "display_data",
          "data": {
            "image/png": "[encoded data removed]",
            "text/plain": [
              "<Figure size 576x396 with 1 Axes>"
            ]
          },
          "metadata": {
            "tags": []
          }
        }
      ]
    },
    {
      "metadata": {
        "id": "nuBkECcDZ72o",
        "colab_type": "code",
        "colab": {
          "base_uri": "https://localhost:8080/",
          "height": 68
        },
        "outputId": "9e7804c0-ac79-4873-ec9b-be8b3cc9d494"
      },
      "cell_type": "code",
      "source": [
        "#%% Confusion Matrix\n",
        "import itertools\n",
        "from sklearn.metrics import confusion_matrix\n",
        "\n",
        "def plot_confusion_matrix(cm, classes_x,classes_y,\n",
        "                          normalize=False,\n",
        "                          title='Confusion matrix',\n",
        "                          cmap=plt.cm.Blues):\n",
        "    \"\"\"\n",
        "    This function prints and plots the confusion matrix.\n",
        "    Normalization can be applied by setting `normalize=True`.\n",
        "    \"\"\"\n",
        "    if normalize:\n",
        "        cm = cm.astype('float') / cm.sum(axis=1)[:, np.newaxis]\n",
        "        print(\"Normalized confusion matrix\")\n",
        "    else:\n",
        "        print('Confusion matrix, without normalization')\n",
        "\n",
        "    print(cm)\n",
        "    plt.clf()\n",
        "    plt.cla()\n",
        "    plt.style.use('default')\n",
        "    plt.imshow(cm, interpolation='nearest', cmap=cmap)\n",
        "    plt.grid(False)\n",
        "    plt.title('Confusion Matrix')\n",
        "    plt.colorbar()\n",
        "    tick_marks_x = np.arange(len(classes_x))\n",
        "    tick_marks_y = np.arange(len(classes_y))\n",
        "    plt.xticks(tick_marks_x, classes_x, rotation=45)\n",
        "    plt.yticks(tick_marks_y, classes_y)\n",
        "\n",
        "    fmt = '.2f' if normalize else 'd'\n",
        "    thresh = cm.max() / 2.\n",
        "    for i, j in itertools.product(range(cm.shape[0]), range(cm.shape[1])):\n",
        "        plt.text(j, i, format(cm[i, j], fmt),\n",
        "                 horizontalalignment=\"center\",\n",
        "                 color=\"white\" if cm[i, j] > thresh else \"black\")\n",
        "\n",
        "    plt.tight_layout()\n",
        "    plt.ylabel('True label')\n",
        "    plt.xlabel('Predicted label')\n",
        "    plt.savefig(title+'.png',dpi=350 ,bbox_inches='tight')\n",
        "    plt.close()\n",
        "\n",
        "test_pred  = model.predict(test_data)\n",
        "cnf_matrix = confusion_matrix(np.argmax(test_label, axis=1).reshape(-1,1),\n",
        "                              np.argmax(test_pred, axis=1).reshape(-1,1))\n",
        "np.set_printoptions(precision=2)\n",
        "plot_confusion_matrix(cnf_matrix,['OK','NG'],['OK','NG'],normalize=True,title='Confusion Matrix Nor')\n"
      ],
      "execution_count": 21,
      "outputs": [
        {
          "output_type": "stream",
          "text": [
            "Normalized confusion matrix\n",
            "[[1. 0.]\n",
            " [0. 1.]]\n"
          ],
          "name": "stdout"
        }
      ]
    },
    {
      "metadata": {
        "id": "dSoZ1LI_borU",
        "colab_type": "code",
        "colab": {}
      },
      "cell_type": "code",
      "source": [
        ""
      ],
      "execution_count": 0,
      "outputs": []
    }
  ]
}