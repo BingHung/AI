{
  "nbformat": 4,
  "nbformat_minor": 0,
  "metadata": {
    "colab": {
      "name": "[03042019-1] CoolProp Fluid Properties L3.ipynb",
      "version": "0.3.2",
      "provenance": [],
      "collapsed_sections": [],
      "include_colab_link": true
    },
    "kernelspec": {
      "name": "python3",
      "display_name": "Python 3"
    },
    "accelerator": "GPU"
  },
  "cells": [
    {
      "cell_type": "markdown",
      "metadata": {
        "id": "view-in-github",
        "colab_type": "text"
      },
      "source": [
        "<a href=\"https://colab.research.google.com/github/BingHung/AI/blob/master/%5B03042019_1%5D_CoolProp_Fluid_Properties_L3.ipynb\" target=\"_parent\"><img src=\"https://colab.research.google.com/assets/colab-badge.svg\" alt=\"Open In Colab\"/></a>"
      ]
    },
    {
      "metadata": {
        "id": "MFXqI9tj_UIf",
        "colab_type": "text"
      },
      "cell_type": "markdown",
      "source": [
        "## Project Reference Site\n",
        "* http://www.coolprop.org/coolprop/HighLevelAPI.html\n",
        "### Table of string inputs to PropsSI function\n",
        "* http://www.coolprop.org/coolprop/HighLevelAPI.html#parameter-table\n",
        "### More examples of the high-level API\n",
        "* http://www.coolprop.org/coolprop/HighLevelAPI.html#props-sample"
      ]
    },
    {
      "metadata": {
        "id": "4bNNq__5AEo_",
        "colab_type": "code",
        "colab": {
          "base_uri": "https://localhost:8080/",
          "height": 35
        },
        "outputId": "592e91da-8b66-455d-f306-fe6a466e546c"
      },
      "cell_type": "code",
      "source": [
        "!pip install CoolProp"
      ],
      "execution_count": 1,
      "outputs": [
        {
          "output_type": "stream",
          "text": [
            "Requirement already satisfied: CoolProp in /usr/local/lib/python3.6/dist-packages (6.2.1)\n"
          ],
          "name": "stdout"
        }
      ]
    },
    {
      "metadata": {
        "id": "NMBxjhCO-_8E",
        "colab_type": "code",
        "colab": {
          "base_uri": "https://localhost:8080/",
          "height": 35
        },
        "outputId": "28bfcdc1-963a-4706-aacf-960036a57d3b"
      },
      "cell_type": "code",
      "source": [
        "import CoolProp as CP\n",
        "print(CP.__version__)"
      ],
      "execution_count": 2,
      "outputs": [
        {
          "output_type": "stream",
          "text": [
            "6.2.1\n"
          ],
          "name": "stdout"
        }
      ]
    },
    {
      "metadata": {
        "id": "VKWVa6C2FEye",
        "colab_type": "text"
      },
      "cell_type": "markdown",
      "source": [
        "## Saturated Properties"
      ]
    },
    {
      "metadata": {
        "id": "DddjT7a_ASTo",
        "colab_type": "code",
        "colab": {}
      },
      "cell_type": "code",
      "source": [
        "# Import the PropsSI function\n",
        "from CoolProp.CoolProp import PropsSI"
      ],
      "execution_count": 0,
      "outputs": []
    },
    {
      "metadata": {
        "id": "hzdn362w_iDf",
        "colab_type": "code",
        "colab": {
          "base_uri": "https://localhost:8080/",
          "height": 72
        },
        "outputId": "0bc6a997-76c7-49f1-e3ac-5598c82ce8ff"
      },
      "cell_type": "code",
      "source": [
        "# Saturated Properties\n",
        "\n",
        "# Saturated vapor enthalpy of Water at 1 atm in J/kg-K\n",
        "H_V = PropsSI('H','P',101325,'Q',1,'Water'); print(H_V)\n",
        "# Saturated liquid enthalpy of Water at 1 atm in J/kg-K\n",
        "H_L = PropsSI('H','P',101325,'Q',0,'Water'); print(H_L)\n",
        "# Latent heat of vaporization of Water at 1 atm in J/kg-K\n",
        "print(H_V - H_L)"
      ],
      "execution_count": 4,
      "outputs": [
        {
          "output_type": "stream",
          "text": [
            "2675529.3255007486\n",
            "419057.7330940691\n",
            "2256471.5924066794\n"
          ],
          "name": "stdout"
        }
      ]
    },
    {
      "metadata": {
        "id": "MglDjpUvFIjz",
        "colab_type": "text"
      },
      "cell_type": "markdown",
      "source": [
        "## Imposing the Phase"
      ]
    },
    {
      "metadata": {
        "id": "Wv0ixbt8AWTS",
        "colab_type": "code",
        "colab": {
          "base_uri": "https://localhost:8080/",
          "height": 54
        },
        "outputId": "2203fc8f-3ed2-44c0-ba1f-26057666d5dd"
      },
      "cell_type": "code",
      "source": [
        "# Imposing the Phase\n",
        "# Get the density of Water at T = 461.1 K and P = 5.0e6 Pa, imposing the liquid phase\n",
        "print(PropsSI('D','T|liquid',461.1,'P',5e6,'Water'))\n",
        "# Get the density of Water at T = 597.9 K and P = 5.0e6 Pa, imposing the gas phase\n",
        "print(PropsSI('D','T',597.9,'P|gas',5e6,'Water'))"
      ],
      "execution_count": 5,
      "outputs": [
        {
          "output_type": "stream",
          "text": [
            "881.000853334732\n",
            "20.508496070580005\n"
          ],
          "name": "stdout"
        }
      ]
    },
    {
      "metadata": {
        "id": "QF1cBJ6IFMQV",
        "colab_type": "text"
      },
      "cell_type": "markdown",
      "source": [
        "## Trivial Inputs"
      ]
    },
    {
      "metadata": {
        "id": "R1i1O-_1DXoM",
        "colab_type": "code",
        "colab": {
          "base_uri": "https://localhost:8080/",
          "height": 35
        },
        "outputId": "db068f02-882b-4d7b-80c9-d996b7e88773"
      },
      "cell_type": "code",
      "source": [
        "import CoolProp.CoolProp as CP\n",
        "#n order to obtain trivial inputs that do not depend on the thermodynamic state\n",
        "CP.PropsSI(\"Tcrit\",\"Water\")"
      ],
      "execution_count": 6,
      "outputs": [
        {
          "output_type": "execute_result",
          "data": {
            "text/plain": [
              "647.096"
            ]
          },
          "metadata": {
            "tags": []
          },
          "execution_count": 6
        }
      ]
    },
    {
      "metadata": {
        "id": "LkNmXmR-FPba",
        "colab_type": "text"
      },
      "cell_type": "markdown",
      "source": [
        "## PhaseSI Function"
      ]
    },
    {
      "metadata": {
        "id": "Kq8twF1RD0-U",
        "colab_type": "code",
        "colab": {
          "base_uri": "https://localhost:8080/",
          "height": 35
        },
        "outputId": "4fd9c3ce-0b08-42b3-ccc9-fd34700544a7"
      },
      "cell_type": "code",
      "source": [
        "import CoolProp.CoolProp as CP\n",
        "#PhaseSI Function\n",
        "CP.PhaseSI('P',101325,'Q',0,'Water')\n"
      ],
      "execution_count": 7,
      "outputs": [
        {
          "output_type": "execute_result",
          "data": {
            "text/plain": [
              "'twophase'"
            ]
          },
          "metadata": {
            "tags": []
          },
          "execution_count": 7
        }
      ]
    },
    {
      "metadata": {
        "id": "4smJ8M-6ETNz",
        "colab_type": "code",
        "colab": {
          "base_uri": "https://localhost:8080/",
          "height": 437
        },
        "outputId": "73a4ce90-a182-4029-d2e9-f139798e2cd6"
      },
      "cell_type": "code",
      "source": [
        "import matplotlib\n",
        "import numpy as np\n",
        "import CoolProp as CP\n",
        "import matplotlib.pyplot as plt\n",
        "import scipy.interpolate\n",
        "\n",
        "Water = CP.AbstractState(\"HEOS\", \"Water\")\n",
        "pc = Water.keyed_output(CP.iP_critical)\n",
        "Tc = Water.keyed_output(CP.iT_critical)\n",
        "Tmin = 200\n",
        "Tmax = 1000\n",
        "pmax = Water.keyed_output(CP.iP_max)\n",
        "pt = 611.657\n",
        "Tt = 273.16\n",
        "fillcolor = 'g'\n",
        "\n",
        "fig = plt.figure(figsize = (6,6))\n",
        "ax = fig.add_subplot(111)\n",
        "lw = 3\n",
        "\n",
        "# --------------\n",
        "# Melting curve\n",
        "# --------------\n",
        "melt_args = dict(lw = lw, solid_capstyle = 'round')\n",
        "TT = []\n",
        "PP = list(np.logspace(np.log10(pt), np.log10(pmax),1000))\n",
        "for p in PP:\n",
        "    TT.append(Water.melting_line(CP.iT, CP.iP, p))\n",
        "\n",
        "#Zone VI\n",
        "for T in np.linspace(max(TT), 355):\n",
        "    TT.append(T)\n",
        "    theta = T/273.31\n",
        "    pi = 1-1.07476*(1-theta**4.6)\n",
        "    p = pi*632.4e6\n",
        "    PP.append(p)\n",
        "\n",
        "plt.plot(TT,PP,'darkblue',**melt_args)\n",
        "\n",
        "# ----------------\n",
        "# Saturation curve\n",
        "# ----------------\n",
        "Ts = np.linspace(273.16, Tc, 1000)\n",
        "ps = CP.CoolProp.PropsSI('P','T',Ts,'Q',0,'Water')\n",
        "\n",
        "# ------\n",
        "# Labels\n",
        "# ------\n",
        "\n",
        "plt.plot(Ts,ps,'orange',lw = lw, solid_capstyle = 'round')\n",
        "\n",
        "# Critical lines\n",
        "plt.axvline(Tc, dashes = [2, 2])\n",
        "plt.axhline(pc, dashes = [2, 2])\n",
        "\n",
        "# Labels\n",
        "plt.text(850, 1e8, 'supercritical',ha= 'center')\n",
        "plt.text(850, 1e5, 'supercritical_gas', rotation = 90)\n",
        "plt.text(450, 1e8, 'supercritical_liquid', rotation = 0, ha = 'center')\n",
        "plt.text(350, 3e6, 'liquid', rotation = 45)\n",
        "plt.text(450, 5e4, 'gas', rotation = 45)\n",
        "\n",
        "plt.ylim(611,1e9)\n",
        "plt.gca().set_yscale('log')\n",
        "plt.gca().set_xlim(240, 1000)\n",
        "plt.ylabel('Pressure [Pa]')\n",
        "plt.xlabel('Temperature [K]')\n",
        "plt.tight_layout()"
      ],
      "execution_count": 8,
      "outputs": [
        {
          "output_type": "display_data",
          "data": {
            "image/png": "[encoded data removed]",
            "text/plain": [
              "<Figure size 432x432 with 1 Axes>"
            ]
          },
          "metadata": {
            "tags": []
          }
        }
      ]
    },
    {
      "metadata": {
        "id": "ItPlC7mkFR8K",
        "colab_type": "text"
      },
      "cell_type": "markdown",
      "source": [
        "## Partial Derivatives"
      ]
    },
    {
      "metadata": {
        "id": "aEst6t0bEgnY",
        "colab_type": "code",
        "colab": {
          "base_uri": "https://localhost:8080/",
          "height": 54
        },
        "outputId": "cef045e0-e4a3-43b5-8f88-d06bfc762fa2"
      },
      "cell_type": "code",
      "source": [
        "#Partial Derivatives\n",
        "import CoolProp.CoolProp as CP\n",
        "# c_p using c_p\n",
        "print(CP.PropsSI('C','P',101325,'T',300,'Water'))\n",
        "# c_p using derivative\n",
        "print(CP.PropsSI('d(Hmass)/d(T)|P','P',101325,'T',300,'Water'))"
      ],
      "execution_count": 9,
      "outputs": [
        {
          "output_type": "stream",
          "text": [
            "4180.6357765560715\n",
            "4180.6357765560715\n"
          ],
          "name": "stdout"
        }
      ]
    },
    {
      "metadata": {
        "id": "L3kAOLprFUh2",
        "colab_type": "text"
      },
      "cell_type": "markdown",
      "source": [
        "## Predefined Mixtures"
      ]
    },
    {
      "metadata": {
        "id": "Qap9RSvxEzFb",
        "colab_type": "code",
        "colab": {
          "base_uri": "https://localhost:8080/",
          "height": 381
        },
        "outputId": "52c58927-c562-491c-98b1-261664b3959f"
      },
      "cell_type": "code",
      "source": [
        "import CoolProp.CoolProp as CP\n",
        "CP.get_global_param_string('predefined_mixtures').split(',')[0:20]"
      ],
      "execution_count": 10,
      "outputs": [
        {
          "output_type": "execute_result",
          "data": {
            "text/plain": [
              "['AIR.MIX',\n",
              " 'AMARILLO.MIX',\n",
              " 'Air.mix',\n",
              " 'Amarillo.mix',\n",
              " 'EKOFISK.MIX',\n",
              " 'Ekofisk.mix',\n",
              " 'GULFCOAST.MIX',\n",
              " 'GULFCOASTGAS(NIST1).MIX',\n",
              " 'GulfCoast.mix',\n",
              " 'GulfCoastGas(NIST1).mix',\n",
              " 'HIGHCO2.MIX',\n",
              " 'HIGHN2.MIX',\n",
              " 'HighCO2.mix',\n",
              " 'HighN2.mix',\n",
              " 'NATURALGASSAMPLE.MIX',\n",
              " 'NaturalGasSample.mix',\n",
              " 'R401A.MIX',\n",
              " 'R401A.mix',\n",
              " 'R401B.MIX',\n",
              " 'R401B.mix']"
            ]
          },
          "metadata": {
            "tags": []
          },
          "execution_count": 10
        }
      ]
    },
    {
      "metadata": {
        "id": "vJJgTChSFfeQ",
        "colab_type": "code",
        "colab": {
          "base_uri": "https://localhost:8080/",
          "height": 35
        },
        "outputId": "99740b36-89b6-4b66-a3e7-0bfadd8a5472"
      },
      "cell_type": "code",
      "source": [
        "CP.PropsSI('D','P',101325,'T',300,'Air.mix')"
      ],
      "execution_count": 11,
      "outputs": [
        {
          "output_type": "execute_result",
          "data": {
            "text/plain": [
              "1.1766922904316655"
            ]
          },
          "metadata": {
            "tags": []
          },
          "execution_count": 11
        }
      ]
    },
    {
      "metadata": {
        "id": "R_X18hXhFtTj",
        "colab_type": "text"
      },
      "cell_type": "markdown",
      "source": [
        "## User-Defined Mixtures"
      ]
    },
    {
      "metadata": {
        "id": "5sGJxr23Fhqp",
        "colab_type": "code",
        "colab": {
          "base_uri": "https://localhost:8080/",
          "height": 35
        },
        "outputId": "850983f9-2607-4019-a8bf-ac48f7483ff8"
      },
      "cell_type": "code",
      "source": [
        "import CoolProp.CoolProp as CP\n",
        "CP.PropsSI('D','T',300,'P',101325,'HEOS::R32[0.697615]&R125[0.302385]')"
      ],
      "execution_count": 12,
      "outputs": [
        {
          "output_type": "execute_result",
          "data": {
            "text/plain": [
              "2.986886779635724"
            ]
          },
          "metadata": {
            "tags": []
          },
          "execution_count": 12
        }
      ]
    },
    {
      "metadata": {
        "id": "WE43L0ehI0hT",
        "colab_type": "code",
        "colab": {}
      },
      "cell_type": "code",
      "source": [
        "#Try to figure out the mixing mechanism underneath the hood"
      ],
      "execution_count": 0,
      "outputs": []
    },
    {
      "metadata": {
        "id": "m15nm6gYJE1I",
        "colab_type": "text"
      },
      "cell_type": "markdown",
      "source": [
        "## Reference States\n",
        "* IIR: h = 200 kJ/kg, s=1 kJ/kg/K at 0C saturated liquid\n",
        "* ASHRAE: h = 0, s = 0 @ -40C saturated liquid\n",
        "* NBP: h=0, s=0 for saturated liquid at 1 atmosphere\n",
        "* DEF: Go back to the default reference state for the fluid"
      ]
    },
    {
      "metadata": {
        "id": "boK6GhKIJEQb",
        "colab_type": "code",
        "colab": {
          "base_uri": "https://localhost:8080/",
          "height": 35
        },
        "outputId": "daa1a9d4-53fe-4331-e050-b77b5291d4df"
      },
      "cell_type": "code",
      "source": [
        "import CoolProp.CoolProp as CP\n",
        "CP.set_reference_state('n-Propane','ASHRAE')\n",
        "\n",
        "# Should be zero (or very close to it)\n",
        "CP.PropsSI('H', 'T', 233.15, 'Q', 0, 'n-Propane')"
      ],
      "execution_count": 14,
      "outputs": [
        {
          "output_type": "execute_result",
          "data": {
            "text/plain": [
              "2.928438593838672e-11"
            ]
          },
          "metadata": {
            "tags": []
          },
          "execution_count": 14
        }
      ]
    },
    {
      "metadata": {
        "id": "8FI7GWhTJP5z",
        "colab_type": "code",
        "colab": {
          "base_uri": "https://localhost:8080/",
          "height": 35
        },
        "outputId": "ca57a653-2efe-49ce-881b-1fa5ae97148c"
      },
      "cell_type": "code",
      "source": [
        "# Back to the original value\n",
        "CP.set_reference_state('n-Propane','DEF')\n",
        "# Should not be zero\n",
        "CP.PropsSI('H', 'T', 233.15, 'Q', 0, 'n-Propane')"
      ],
      "execution_count": 15,
      "outputs": [
        {
          "output_type": "execute_result",
          "data": {
            "text/plain": [
              "105123.27213761522"
            ]
          },
          "metadata": {
            "tags": []
          },
          "execution_count": 15
        }
      ]
    },
    {
      "metadata": {
        "id": "F8ZYJvxMJhhj",
        "colab_type": "text"
      },
      "cell_type": "markdown",
      "source": [
        "## Exercise"
      ]
    },
    {
      "metadata": {
        "id": "nxCbtmRWJVFj",
        "colab_type": "code",
        "colab": {}
      },
      "cell_type": "code",
      "source": [
        "import CoolProp as CP\n",
        "from CoolProp.CoolProp import PropsSI"
      ],
      "execution_count": 0,
      "outputs": []
    },
    {
      "metadata": {
        "id": "jZEi64BPJvTD",
        "colab_type": "code",
        "colab": {
          "base_uri": "https://localhost:8080/",
          "height": 35
        },
        "outputId": "c18a2874-7948-4d09-ca06-b9edd1158779"
      },
      "cell_type": "code",
      "source": [
        "# Specific heat (J/kg/K) of 20% ethylene glycol as a function of T\n",
        "PropsSI('C','T',298.15,'P',101325,'INCOMP::MEG-20%')"
      ],
      "execution_count": 17,
      "outputs": [
        {
          "output_type": "execute_result",
          "data": {
            "text/plain": [
              "3905.2706242925874"
            ]
          },
          "metadata": {
            "tags": []
          },
          "execution_count": 17
        }
      ]
    },
    {
      "metadata": {
        "id": "DcF4aN_aJyjy",
        "colab_type": "code",
        "colab": {
          "base_uri": "https://localhost:8080/",
          "height": 35
        },
        "outputId": "0275f482-95e6-427c-9a92-5d2eba32bb6d"
      },
      "cell_type": "code",
      "source": [
        "# Density of Air at standard atmosphere in kg/m^3\n",
        "PropsSI('D','T',298.15,'P',101325,'Air')"
      ],
      "execution_count": 18,
      "outputs": [
        {
          "output_type": "execute_result",
          "data": {
            "text/plain": [
              "1.1843184839089664"
            ]
          },
          "metadata": {
            "tags": []
          },
          "execution_count": 18
        }
      ]
    },
    {
      "metadata": {
        "id": "euuyC43pJ27q",
        "colab_type": "code",
        "colab": {
          "base_uri": "https://localhost:8080/",
          "height": 35
        },
        "outputId": "43444560-56e7-4f59-b670-7e357f843f00"
      },
      "cell_type": "code",
      "source": [
        "# Saturation temperature of Water at 1 atm\n",
        "PropsSI('T','P',101325,'Q',0,'Water')"
      ],
      "execution_count": 19,
      "outputs": [
        {
          "output_type": "execute_result",
          "data": {
            "text/plain": [
              "373.1242958476844"
            ]
          },
          "metadata": {
            "tags": []
          },
          "execution_count": 19
        }
      ]
    },
    {
      "metadata": {
        "id": "vzvqHKpyJ5gq",
        "colab_type": "code",
        "colab": {
          "base_uri": "https://localhost:8080/",
          "height": 35
        },
        "outputId": "33506005-90ea-4730-e093-9dfc7b3f1a81"
      },
      "cell_type": "code",
      "source": [
        "# Saturated vapor enthalpy of R134a at 0C (Q=1)\n",
        "PropsSI('H','T',273.15,'Q',1,'R134a')"
      ],
      "execution_count": 20,
      "outputs": [
        {
          "output_type": "execute_result",
          "data": {
            "text/plain": [
              "398603.45362765493"
            ]
          },
          "metadata": {
            "tags": []
          },
          "execution_count": 20
        }
      ]
    },
    {
      "metadata": {
        "id": "2q-nDB7UJ8HS",
        "colab_type": "code",
        "colab": {
          "base_uri": "https://localhost:8080/",
          "height": 35
        },
        "outputId": "f126fc19-5910-4c61-c8ed-85cac9e35c62"
      },
      "cell_type": "code",
      "source": [
        "# Saturated liquid enthalpy of R134a at 0C (Q=0)\n",
        "PropsSI('H','T',273.15,'Q',0,'R134a')"
      ],
      "execution_count": 21,
      "outputs": [
        {
          "output_type": "execute_result",
          "data": {
            "text/plain": [
              "199999.98852614488"
            ]
          },
          "metadata": {
            "tags": []
          },
          "execution_count": 21
        }
      ]
    },
    {
      "metadata": {
        "id": "f1914iIdJ_JC",
        "colab_type": "code",
        "colab": {
          "base_uri": "https://localhost:8080/",
          "height": 35
        },
        "outputId": "ba7f690d-e8cf-4171-d782-71d75ef4aced"
      },
      "cell_type": "code",
      "source": [
        "# Using properties from CoolProp to get R410A density\n",
        "PropsSI('D','T',300,'P',101325,'HEOS::R32[0.697615]&R125[0.302385]')"
      ],
      "execution_count": 22,
      "outputs": [
        {
          "output_type": "execute_result",
          "data": {
            "text/plain": [
              "2.986886779635724"
            ]
          },
          "metadata": {
            "tags": []
          },
          "execution_count": 22
        }
      ]
    },
    {
      "metadata": {
        "id": "d02XTI-jKCZ5",
        "colab_type": "code",
        "colab": {
          "base_uri": "https://localhost:8080/",
          "height": 35
        },
        "outputId": "e8583f8c-cc2f-4bfb-c207-a95b352c1be8"
      },
      "cell_type": "code",
      "source": [
        "# Check that the same as using pseudo-pure\n",
        "PropsSI('D','T',300,'P',101325,'R410A')"
      ],
      "execution_count": 23,
      "outputs": [
        {
          "output_type": "execute_result",
          "data": {
            "text/plain": [
              "2.986868076922677"
            ]
          },
          "metadata": {
            "tags": []
          },
          "execution_count": 23
        }
      ]
    },
    {
      "metadata": {
        "id": "jsnwW_LRKFmh",
        "colab_type": "code",
        "colab": {
          "base_uri": "https://localhost:8080/",
          "height": 35
        },
        "outputId": "f13d39c4-9c09-4465-abff-3936a4821899"
      },
      "cell_type": "code",
      "source": [
        "# Using IF97 to get Water saturated vapor density at 100C\n",
        "PropsSI('D','T',400,'Q',1,'IF97::Water')"
      ],
      "execution_count": 24,
      "outputs": [
        {
          "output_type": "execute_result",
          "data": {
            "text/plain": [
              "1.3692496283046673"
            ]
          },
          "metadata": {
            "tags": []
          },
          "execution_count": 24
        }
      ]
    },
    {
      "metadata": {
        "id": "Ox-jbsg2KH-R",
        "colab_type": "code",
        "colab": {
          "base_uri": "https://localhost:8080/",
          "height": 35
        },
        "outputId": "0afc08eb-fd77-495b-ac54-b4eb07c5dc4f"
      },
      "cell_type": "code",
      "source": [
        "# Check the IF97 result using the default HEOS\n",
        "PropsSI('D','T',400,'Q',1,'Water')"
      ],
      "execution_count": 25,
      "outputs": [
        {
          "output_type": "execute_result",
          "data": {
            "text/plain": [
              "1.3694075410068325"
            ]
          },
          "metadata": {
            "tags": []
          },
          "execution_count": 25
        }
      ]
    },
    {
      "metadata": {
        "id": "79BjdgO8KkGk",
        "colab_type": "text"
      },
      "cell_type": "markdown",
      "source": [
        "## Water Properties Summary\n",
        "* http://www.coolprop.org/coolprop/HighLevelAPI.html#table-of-string-inputs-to-propssi-function"
      ]
    },
    {
      "metadata": {
        "id": "WxqCnNu_KMWx",
        "colab_type": "code",
        "colab": {
          "base_uri": "https://localhost:8080/",
          "height": 254
        },
        "outputId": "dff57ba6-9fd9-487f-c38e-d537a773800d"
      },
      "cell_type": "code",
      "source": [
        "import CoolProp.CoolProp as CP\n",
        "from CoolProp.CoolProp import PropsSI\n",
        "\n",
        "print('Density of Water at standard atmosphere in kg/m^3 --- ',PropsSI('D','T',323.15,'P',101325,'Water'))\n",
        "print('Enthalpy of Water at standard atmosphere in J/kg --- ',PropsSI('H','T',323.15,'P',101325,'Water'))\n",
        "print('Thermal conductivity of Water at standard atmosphere in W/m/K --- ',PropsSI('CONDUCTIVITY','T',(273.15+50),'P',101325,'Water'))\n",
        "print('Viscosity of Water at standard atmosphere in Pa s --- ',PropsSI('V','T',323.15,'P',101325,'Water'))\n",
        "print('Surface Tension of Water at standard atmosphere in N/m --- ',PropsSI('I','T',323.15,'P',101325,'Water'))\n",
        "print('Critical Temperature of Water K --- ',CP.PropsSI(\"Tcrit\",\"Water\"))\n",
        "print('Mass specific constant pressure specific heat of Water at standard atmosphere in J/kg/K --- ',PropsSI('CPMASS','T',323.15,'P',101325,'Water'))\n",
        "print('Mass specific constant volume specific heat of Water at standard atmosphere in J/kg/K --- ',PropsSI('CVMASS','T',323.15,'P',101325,'Water'))\n",
        "print('Entropy of Water at standard atmosphere in J/kg/K --- ',PropsSI('S','T',323.15,'P',101325,'Water'))\n",
        "\n",
        "#Saturated State based on Perssure\n",
        "print('Saturated vapor enthalpy of Water at 1 atm in J/kg-K --- ',PropsSI('H','P',101325,'Q',1,'Water') )\n",
        "print('Saturated liquid enthalpy of Water at 1 atm in J/kg-K --- ', PropsSI('H','P',101325,'Q',0,'Water'))\n",
        "\n",
        "#Saturated State based on Temperature\n",
        "print('Saturated vapor enthalpy of Water at 323.15K in J/kg-K --- ',PropsSI('H','T',323.15,'Q',1,'Water') )\n",
        "print('Saturated liquid enthalpy of Water at 323.15K in J/kg-K --- ', PropsSI('H','T',323.15,'Q',0,'Water'))\n"
      ],
      "execution_count": 26,
      "outputs": [
        {
          "output_type": "stream",
          "text": [
            "Density of Water at standard atmosphere in kg/m^3 ---  988.0350462371343\n",
            "Enthalpy of Water at standard atmosphere in J/kg ---  209418.49199515805\n",
            "Thermal conductivity of Water at standard atmosphere in W/m/K ---  0.6406210822524908\n",
            "Viscosity of Water at standard atmosphere in Pa s ---  0.0005465162633828624\n",
            "Surface Tension of Water at standard atmosphere in N/m ---  0.06802173432447134\n",
            "Critical Temperature of Water K ---  647.096\n",
            "Mass specific constant pressure specific heat of Water at standard atmosphere in J/kg/K ---  4181.342303430865\n",
            "Mass specific constant volume specific heat of Water at standard atmosphere in J/kg/K ---  4026.1824440671226\n",
            "Entropy of Water at standard atmosphere in J/kg/K ---  703.7674017163721\n",
            "Saturated vapor enthalpy of Water at 1 atm in J/kg-K ---  2675529.3255007486\n",
            "Saturated liquid enthalpy of Water at 1 atm in J/kg-K ---  419057.7330940691\n",
            "Saturated vapor enthalpy of Water at 323.15K in J/kg-K ---  2591288.887867202\n",
            "Saturated liquid enthalpy of Water at 323.15K in J/kg-K ---  209341.76132667644\n"
          ],
          "name": "stdout"
        }
      ]
    },
    {
      "metadata": {
        "id": "Am69mAxWK4vh",
        "colab_type": "code",
        "colab": {}
      },
      "cell_type": "code",
      "source": [
        ""
      ],
      "execution_count": 0,
      "outputs": []
    }
  ]
}