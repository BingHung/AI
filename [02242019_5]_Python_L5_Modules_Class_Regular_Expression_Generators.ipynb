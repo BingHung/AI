{
  "nbformat": 4,
  "nbformat_minor": 0,
  "metadata": {
    "colab": {
      "name": "[02242019-5] Python-L5 Modules_Class_Regular Expression_Generators.ipynb",
      "version": "0.3.2",
      "provenance": [],
      "collapsed_sections": [],
      "include_colab_link": true
    },
    "kernelspec": {
      "name": "python3",
      "display_name": "Python 3"
    }
  },
  "cells": [
    {
      "cell_type": "markdown",
      "metadata": {
        "id": "view-in-github",
        "colab_type": "text"
      },
      "source": [
        "<a href=\"https://colab.research.google.com/github/BingHung/AI/blob/master/%5B02242019_5%5D_Python_L5_Modules_Class_Regular_Expression_Generators.ipynb\" target=\"_parent\"><img src=\"https://colab.research.google.com/assets/colab-badge.svg\" alt=\"Open In Colab\"/></a>"
      ]
    },
    {
      "metadata": {
        "id": "8874YNhtWJf5",
        "colab_type": "text"
      },
      "cell_type": "markdown",
      "source": [
        "# Modules"
      ]
    },
    {
      "metadata": {
        "id": "5AdaNSUrnZNq",
        "colab_type": "text"
      },
      "cell_type": "markdown",
      "source": [
        "A module is a file containing Python definitions and statements.  \n",
        "The file name is the module name with the suffix .py appended.  \n",
        "Within a module, the module’s name (as a string) is available as the value of the global variable __name__.\n",
        "\n",
        "https://github.com/python/cpython/blob/3.6/Lib/re.py"
      ]
    },
    {
      "metadata": {
        "id": "-H5WHefunh16",
        "colab_type": "code",
        "colab": {}
      },
      "cell_type": "code",
      "source": [
        "import re\n",
        "\n",
        "import re as r\n",
        "\n",
        "from re import findall\n",
        "\n",
        "from re import *"
      ],
      "execution_count": 0,
      "outputs": []
    },
    {
      "metadata": {
        "id": "rbTI_IeYniA-",
        "colab_type": "code",
        "outputId": "68c38f33-712f-49e9-e0f7-75aed2a8580c",
        "colab": {
          "base_uri": "https://localhost:8080/",
          "height": 35
        }
      },
      "cell_type": "code",
      "source": [
        "import os\n",
        "\n",
        "# 顯示絕對路徑\n",
        "os.path.abspath(\"session_1-ans.ipynb\")"
      ],
      "execution_count": 0,
      "outputs": [
        {
          "output_type": "execute_result",
          "data": {
            "text/plain": [
              "'/content/session_1-ans.ipynb'"
            ]
          },
          "metadata": {
            "tags": []
          },
          "execution_count": 3
        }
      ]
    },
    {
      "metadata": {
        "id": "96DQXdxCnqOm",
        "colab_type": "code",
        "outputId": "55c2ddbb-699c-4fc6-8f6c-3f8d419af5ec",
        "colab": {
          "base_uri": "https://localhost:8080/",
          "height": 35
        }
      },
      "cell_type": "code",
      "source": [
        "# 將多個字串組合為路徑\n",
        "'/'.join(['path', 'result', 'a.csv'])"
      ],
      "execution_count": 0,
      "outputs": [
        {
          "output_type": "execute_result",
          "data": {
            "text/plain": [
              "'path/result/a.csv'"
            ]
          },
          "metadata": {
            "tags": []
          },
          "execution_count": 4
        }
      ]
    },
    {
      "metadata": {
        "id": "I3tioAyynyF2",
        "colab_type": "code",
        "outputId": "881274ce-d879-4d63-fc0b-a5e18467e88e",
        "colab": {
          "base_uri": "https://localhost:8080/",
          "height": 35
        }
      },
      "cell_type": "code",
      "source": [
        "# 將多個字串組合為路徑\n",
        "os.path.join('path', 'result', 'a.csv')"
      ],
      "execution_count": 0,
      "outputs": [
        {
          "output_type": "execute_result",
          "data": {
            "text/plain": [
              "'path/result/a.csv'"
            ]
          },
          "metadata": {
            "tags": []
          },
          "execution_count": 5
        }
      ]
    },
    {
      "metadata": {
        "id": "rCkcg2xNnzJA",
        "colab_type": "code",
        "outputId": "e5788f4b-df5a-486f-a323-542f0e4a65a1",
        "colab": {
          "base_uri": "https://localhost:8080/",
          "height": 35
        }
      },
      "cell_type": "code",
      "source": [
        "# 檢查某路徑/資料夾是否存在\n",
        "os.path.exists(\"python\\session_1-ans.ipynb\")"
      ],
      "execution_count": 0,
      "outputs": [
        {
          "output_type": "execute_result",
          "data": {
            "text/plain": [
              "False"
            ]
          },
          "metadata": {
            "tags": []
          },
          "execution_count": 6
        }
      ]
    },
    {
      "metadata": {
        "id": "_wJXCsMvpAlA",
        "colab_type": "text"
      },
      "cell_type": "markdown",
      "source": [
        "# Regular Expression\n",
        "\n",
        "正規表示式 (臺灣)；正則表達式（中國大陸）\n",
        "\n",
        "Regular expressions are a powerful language for matching text patterns.\n",
        "\n",
        "It is a special sequence of characters that helps you match or find other strings or sets of strings, using a specialized syntax held in a pattern.\n",
        "\n",
        "### Special Characters\n",
        "**.**  match any character except a newline  \n",
        "**\\*** match 0 or more repetitions of the preceding character  \n",
        "**\\+** match 1 or more repetitions of the preceding character  \n",
        "**{m}** match exactly m copies of the previous character  \n",
        "**{m,n}** match from m to n repetitions of the preceding character  \n",
        "**\\** escapes special characters  \n",
        "**[ ]** Used to indicate a set of characters\n",
        "> [amk] will match 'a', 'm', or 'k'  \n",
        "> [a-z] will match any lowercase ASCII letter  \n",
        "> [0-5][0-9] will match all the two-digits numbers from 00 to 59\n",
        "\n",
        "補充資料\n",
        "\n",
        "* [更詳盡的 regular expression 符號解釋](https://atedev.wordpress.com/2007/11/23/%E6%AD%A3%E8%A6%8F%E8%A1%A8%E7%A4%BA%E5%BC%8F-regular-expression/)\n",
        "* [常見的 regular expression 寫法](https://www.analyticsvidhya.com/blog/2017/03/extracting-information-from-reports-using-regular-expressons-library-in-python/)"
      ]
    },
    {
      "metadata": {
        "id": "dfzFe0hkn1IW",
        "colab_type": "code",
        "outputId": "a1c6821a-daa6-4dd3-cae3-ed427b544e2f",
        "colab": {
          "base_uri": "https://localhost:8080/",
          "height": 35
        }
      },
      "cell_type": "code",
      "source": [
        "# simple example\n",
        "\n",
        "# string\n",
        "\"This is demo string, do nothong!\"\n",
        "\n",
        "# pattern_1\n",
        "\"is\"\n",
        "\n",
        "# pattern_2\n",
        "\"abc\"\n",
        "\n",
        "# find - does the string contains the pattern?\n",
        "# YES or NO"
      ],
      "execution_count": 0,
      "outputs": [
        {
          "output_type": "execute_result",
          "data": {
            "text/plain": [
              "'abc'"
            ]
          },
          "metadata": {
            "tags": []
          },
          "execution_count": 7
        }
      ]
    },
    {
      "metadata": {
        "id": "qTZD8y-HpETk",
        "colab_type": "code",
        "colab": {}
      },
      "cell_type": "code",
      "source": [
        "# more example\n",
        "\n",
        "# string\n",
        "\"This is demo string, 01234567899876543210.\"\n",
        "\n",
        "# pattern\n",
        "\"01234567899876543210\"\n",
        "\n",
        "# if you want to search more complex pattern? \n",
        "# using regular expression!\n",
        "syntax = \"[0-9]{20}\""
      ],
      "execution_count": 0,
      "outputs": []
    },
    {
      "metadata": {
        "id": "6uo96MGKVzJO",
        "colab_type": "code",
        "outputId": "d22eff44-2fe5-4229-9ead-5efbfa234074",
        "colab": {
          "base_uri": "https://localhost:8080/",
          "height": 34
        }
      },
      "cell_type": "code",
      "source": [
        "import re\n",
        "\n",
        "string = \"This is demo string, do nothong!\"\n",
        "pattern = \"is\"\n",
        "print(re.findall(pattern, string))"
      ],
      "execution_count": 0,
      "outputs": [
        {
          "output_type": "stream",
          "text": [
            "['is', 'is']\n"
          ],
          "name": "stdout"
        }
      ]
    },
    {
      "metadata": {
        "id": "UzIZwRdmV2Mb",
        "colab_type": "code",
        "outputId": "d102633c-4c98-4b48-e2b1-5b2972c9515d",
        "colab": {
          "base_uri": "https://localhost:8080/",
          "height": 34
        }
      },
      "cell_type": "code",
      "source": [
        "import re\n",
        "\n",
        "# find numbers\n",
        "pattern = \"[0-9]+\"\n",
        "string = '12 drummers drumming, 111 pipers piping, 1006 lords a-leaping'\n",
        "re.findall(pattern, string)"
      ],
      "execution_count": 0,
      "outputs": [
        {
          "output_type": "execute_result",
          "data": {
            "text/plain": [
              "['12', '111', '1006']"
            ]
          },
          "metadata": {
            "tags": []
          },
          "execution_count": 11
        }
      ]
    },
    {
      "metadata": {
        "id": "fXTK9r4vV3sV",
        "colab_type": "code",
        "outputId": "3bf88e77-2d3c-4146-8695-05f6b80a99db",
        "colab": {
          "base_uri": "https://localhost:8080/",
          "height": 34
        }
      },
      "cell_type": "code",
      "source": [
        "import re\n",
        "\n",
        "# find letters\n",
        "pattern = \"[cmf]an\"\n",
        "string = 'find: can, man, fan, skip: dan, ran, pan'\n",
        "re.findall(pattern, string)"
      ],
      "execution_count": 0,
      "outputs": [
        {
          "output_type": "execute_result",
          "data": {
            "text/plain": [
              "['can', 'man', 'fan']"
            ]
          },
          "metadata": {
            "tags": []
          },
          "execution_count": 12
        }
      ]
    },
    {
      "metadata": {
        "id": "bGaFZW2iV7g8",
        "colab_type": "code",
        "outputId": "cf4bfe03-aa98-45d6-82ae-a645a1c1d120",
        "colab": {
          "base_uri": "https://localhost:8080/",
          "height": 34
        }
      },
      "cell_type": "code",
      "source": [
        "import re\n",
        "\n",
        "# find e-mail\n",
        "email_text = \"\"\"\n",
        "Big Data Analytics/ Deep LearningSocial Computing / Computational Social Science / Crowdsourcing\n",
        "Multimediaand Network SystemsQuality of ExperienceInformation SecurityPh.D. candidate at NTU EEchihfan02-27883799#1602Camera CalibrationComputer VisionData\n",
        "Analysiscmchang02-27883799#1671System OptimizationMachine LearningyusraBig data\n",
        "analysiscclin02-27883799#1668Data Analysisrusi02-27883799#1668Government Procurement ActFinancial\n",
        "Managementkatekuen02-27883799#1602AdministrationEvent Planningseanyu02-27883799#1668Data \n",
        "AnalysisPsychology & NeuroscienceMarketingxinchinchenEmbedded Systemkyoyachuan062602-27883799\n",
        "#1601FinTechActuarial ScienceData Analysiskai0604602-27883799#1601Data AnalysisMachine Learningchloe02-27839427Accountingafun02-27883799 felix2018@iis.sinica.edu.tw\n",
        "#1673Data AnalysisWeb developmentyunhsu198902-27883799#1668MarketingTIGP Ph.D. Fellow at Academia Sinica & NCCUbaowalyMachine LearningData AnalysisSocial Computingchangyc1427883799#1678\n",
        "Data Analysisjimmy1592302-2788379 jimmy15923@iis.sinica.com.tw#1688Data AnalysisjasontangAnalysisMachine Learninguchen02-27883799#1668Deep Learningpjwu02-27883799#1604Computational PhotographyData Analysis\n",
        "\"\"\"\n",
        "\n",
        "re.findall(\"[A-Za-z0-9._]+@[A-Za-z.]+[com|edu]\\.tw\", email_text)"
      ],
      "execution_count": 0,
      "outputs": [
        {
          "output_type": "execute_result",
          "data": {
            "text/plain": [
              "['felix2018@iis.sinica.edu.tw', 'jimmy15923@iis.sinica.com.tw']"
            ]
          },
          "metadata": {
            "tags": []
          },
          "execution_count": 13
        }
      ]
    },
    {
      "metadata": {
        "id": "jSEgrzl2WAFC",
        "colab_type": "text"
      },
      "cell_type": "markdown",
      "source": [
        "# Class\n",
        "Class objects support two kinds of operations:  \n",
        "**attribute references** and **instantiation**."
      ]
    },
    {
      "metadata": {
        "id": "svk0eYhfWv87",
        "colab_type": "code",
        "outputId": "779c5490-5cc5-4902-bf5f-9fecbdd16bb6",
        "colab": {
          "base_uri": "https://localhost:8080/",
          "height": 51
        }
      },
      "cell_type": "code",
      "source": [
        "# Attribute references use the standard syntax used for all attribute references in Python: obj.name. \n",
        "# Both MyClass.var and MyClass.methond are valid attribute references.\n",
        "\n",
        "class MyClass:\n",
        "    var = 123\n",
        "    def method(self):\n",
        "        return \"hello world\"\n",
        "      \n",
        "# Class instantiation uses function notation. \n",
        "# that returns a new instance of the class. \n",
        "\n",
        "my_object = MyClass()\n",
        "\n",
        "# Using Object, 用 . 來訪問物件的屬性或方法\n",
        "print(my_object.var)\n",
        "print(my_object.method())"
      ],
      "execution_count": 0,
      "outputs": [
        {
          "output_type": "stream",
          "text": [
            "123\n",
            "hello world\n"
          ],
          "name": "stdout"
        }
      ]
    },
    {
      "metadata": {
        "id": "uYc6S2fQW33e",
        "colab_type": "text"
      },
      "cell_type": "markdown",
      "source": [
        "### init\n",
        "\n",
        "The instantiation operation (“calling” a class object) creates an empty object.  \n",
        "Many classes like to create objects with instances customized to a specific initial state.   \n",
        "Therefore a class may define a special method named __init__()"
      ]
    },
    {
      "metadata": {
        "id": "JCGiVWiWW8f9",
        "colab_type": "code",
        "outputId": "ad685b81-1213-4838-ab53-5b293abfdc9c",
        "colab": {
          "base_uri": "https://localhost:8080/",
          "height": 34
        }
      },
      "cell_type": "code",
      "source": [
        "# initial\n",
        "class MyClass:\n",
        "    def __init__(self):\n",
        "        print(\"do nothing\")\n",
        "\n",
        "my_object = MyClass()"
      ],
      "execution_count": 0,
      "outputs": [
        {
          "output_type": "stream",
          "text": [
            "do nothing\n"
          ],
          "name": "stdout"
        }
      ]
    },
    {
      "metadata": {
        "id": "bQIl5HJFXBez",
        "colab_type": "code",
        "outputId": "693a3af3-6214-4ed7-cf8b-52ee51f86254",
        "colab": {
          "base_uri": "https://localhost:8080/",
          "height": 51
        }
      },
      "cell_type": "code",
      "source": [
        "# the __init__() method may have arguments for greater flexibility. \n",
        "class MyClass:\n",
        "    def __init__(self, var1, var2):\n",
        "        self.var1 = var1\n",
        "        self.var2 = var2\n",
        "\n",
        "my_object = MyClass(123, 456)\n",
        "print(my_object.var1)\n",
        "print(my_object.var2)"
      ],
      "execution_count": 0,
      "outputs": [
        {
          "output_type": "stream",
          "text": [
            "123\n",
            "456\n"
          ],
          "name": "stdout"
        }
      ]
    },
    {
      "metadata": {
        "id": "ZDaZYUblXGOS",
        "colab_type": "code",
        "outputId": "c8b53151-bdfc-440a-b318-d00ed51f2e5b",
        "colab": {
          "base_uri": "https://localhost:8080/",
          "height": 85
        }
      },
      "cell_type": "code",
      "source": [
        "class MyClass:\n",
        "    def __init__(self, var1):\n",
        "        self.var1 = var1\n",
        "\n",
        "my_object_123 = MyClass(123)\n",
        "my_object_987 = MyClass(987)\n",
        "\n",
        "print(my_object_123.var1)\n",
        "print(my_object_987.var1)\n",
        "\n",
        "print(my_object_123)\n",
        "print(my_object_987)"
      ],
      "execution_count": 0,
      "outputs": [
        {
          "output_type": "stream",
          "text": [
            "123\n",
            "987\n",
            "<__main__.MyClass object at 0x7f553af137f0>\n",
            "<__main__.MyClass object at 0x7f553af13ac8>\n"
          ],
          "name": "stdout"
        }
      ]
    },
    {
      "metadata": {
        "id": "w4wO0mbJXKp8",
        "colab_type": "text"
      },
      "cell_type": "markdown",
      "source": [
        "### self\n",
        "\n",
        "The first argument of a method is called self. This is nothing more than a convention: the name self has absolutely no special meaning to Python.  \n",
        "Note, however, that by not following the convention your code may be less readable to other Python programmers, and it is also conceivable that a class browser program might be written that relies upon such a convention."
      ]
    },
    {
      "metadata": {
        "id": "8luALaLOXX7N",
        "colab_type": "text"
      },
      "cell_type": "markdown",
      "source": [
        "### Class Practice"
      ]
    },
    {
      "metadata": {
        "id": "rEwP2zQYpFnc",
        "colab_type": "code",
        "outputId": "aa813ed7-15f3-475f-e440-33260365503c",
        "colab": {
          "base_uri": "https://localhost:8080/",
          "height": 35
        }
      },
      "cell_type": "code",
      "source": [
        "class YoYoString():\n",
        "    def __init__(self):\n",
        "        self.str1 = \"\"\n",
        "\n",
        "    def set_string(self, string):\n",
        "        self.str1 = string\n",
        "\n",
        "    def print_string(self):\n",
        "        print(self.str1.upper())\n",
        "\n",
        "str1 = YoYoString()\n",
        "str1.set_string(\"yo yo check yo!\")\n",
        "str1.print_string()"
      ],
      "execution_count": 0,
      "outputs": [
        {
          "output_type": "stream",
          "text": [
            "YO YO CHECK YO!\n"
          ],
          "name": "stdout"
        }
      ]
    },
    {
      "metadata": {
        "id": "rsrVsk-FpbhD",
        "colab_type": "code",
        "outputId": "4e7f1dce-813e-4d1c-92ee-047c83bb17e8",
        "colab": {
          "base_uri": "https://localhost:8080/",
          "height": 72
        }
      },
      "cell_type": "code",
      "source": [
        "class Person:\n",
        "    bmi = 0.0\n",
        "    height = 0.0\n",
        "    weight = 0\n",
        "    \n",
        "    def __init__(self):\n",
        "        pass\n",
        "\n",
        "    def ask_person_info(self):\n",
        "        self.height = float(input(\"What is your height? (meter) : \"))\n",
        "        self.weight = int(input(\"What is your weight? (kg) : \"))\n",
        "\n",
        "    def cal_BMI(self):\n",
        "        self.bmi = round((self.weight / (self.height ** 2)), 2)\n",
        "        print(\"Your BMI is \" + str(self.bmi))\n",
        "\n",
        "\n",
        "# main\n",
        "person = Person()\n",
        "person.ask_person_info()\n",
        "person.cal_BMI()"
      ],
      "execution_count": 0,
      "outputs": [
        {
          "output_type": "stream",
          "text": [
            "What is your height? (meter) : 1.78\n",
            "What is your weight? (kg) : 82\n",
            "Your BMI is 25.88\n"
          ],
          "name": "stdout"
        }
      ]
    },
    {
      "metadata": {
        "id": "24y9I589U0-Z",
        "colab_type": "text"
      },
      "cell_type": "markdown",
      "source": [
        "# Generators\n",
        "\n",
        "Python generators are a simple way of creating iterators.\n",
        "\n",
        "It is as easy as defining a normal function with yield statement instead of a return statement.\n",
        "\n",
        "If a function contains at least one yield statement (it may contain other yield or return statements), it becomes a generator function. Both yield and return will return some value from a function.\n",
        "\n",
        "The difference is that, while a return statement terminates a function entirely, yield statement pauses the function saving all its states and later continues from there on successive calls."
      ]
    },
    {
      "metadata": {
        "id": "CPGi6Q85U74r",
        "colab_type": "code",
        "outputId": "323b9205-8d15-4be8-8a14-09b7910b49c7",
        "colab": {
          "base_uri": "https://localhost:8080/",
          "height": 51
        }
      },
      "cell_type": "code",
      "source": [
        "# with for loop\n",
        "def generator_example():\n",
        "    a = 1\n",
        "    yield print(a)    # 1\n",
        "    a += 1\n",
        "    yield print(a)    # 2\n",
        "    return\n",
        "\n",
        "for i in generator_example():\n",
        "    continue  "
      ],
      "execution_count": 0,
      "outputs": [
        {
          "output_type": "stream",
          "text": [
            "1\n",
            "2\n"
          ],
          "name": "stdout"
        }
      ]
    },
    {
      "metadata": {
        "id": "-gXu0vW8VB5_",
        "colab_type": "code",
        "outputId": "073bf981-7182-4537-f77e-bb335af93f9c",
        "colab": {
          "base_uri": "https://localhost:8080/",
          "height": 233
        }
      },
      "cell_type": "code",
      "source": [
        "# with next\n",
        "def generator_example():\n",
        "    yield print(1)\n",
        "    yield print(2)\n",
        "    return\n",
        "\n",
        "gen = generator_example()\n",
        "\n",
        "gen.__next__() # 1\n",
        "gen.__next__() # 2\n",
        "gen.__next__() # raise StopIteration Error"
      ],
      "execution_count": 0,
      "outputs": [
        {
          "output_type": "stream",
          "text": [
            "1\n",
            "2\n"
          ],
          "name": "stdout"
        },
        {
          "output_type": "error",
          "ename": "StopIteration",
          "evalue": "ignored",
          "traceback": [
            "\u001b[0;31m---------------------------------------------------------------------------\u001b[0m",
            "\u001b[0;31mStopIteration\u001b[0m                             Traceback (most recent call last)",
            "\u001b[0;32m<ipython-input-4-c2679cbac325>\u001b[0m in \u001b[0;36m<module>\u001b[0;34m()\u001b[0m\n\u001b[1;32m      8\u001b[0m \u001b[0mgen\u001b[0m\u001b[0;34m.\u001b[0m\u001b[0m__next__\u001b[0m\u001b[0;34m(\u001b[0m\u001b[0;34m)\u001b[0m \u001b[0;31m# 1\u001b[0m\u001b[0;34m\u001b[0m\u001b[0;34m\u001b[0m\u001b[0m\n\u001b[1;32m      9\u001b[0m \u001b[0mgen\u001b[0m\u001b[0;34m.\u001b[0m\u001b[0m__next__\u001b[0m\u001b[0;34m(\u001b[0m\u001b[0;34m)\u001b[0m \u001b[0;31m# 2\u001b[0m\u001b[0;34m\u001b[0m\u001b[0;34m\u001b[0m\u001b[0m\n\u001b[0;32m---> 10\u001b[0;31m \u001b[0mgen\u001b[0m\u001b[0;34m.\u001b[0m\u001b[0m__next__\u001b[0m\u001b[0;34m(\u001b[0m\u001b[0;34m)\u001b[0m \u001b[0;31m# raise StopIteration Error\u001b[0m\u001b[0;34m\u001b[0m\u001b[0;34m\u001b[0m\u001b[0m\n\u001b[0m",
            "\u001b[0;31mStopIteration\u001b[0m: "
          ]
        }
      ]
    },
    {
      "metadata": {
        "id": "nqSnjIz5VFbB",
        "colab_type": "code",
        "colab": {}
      },
      "cell_type": "code",
      "source": [
        "# avoid StopIteration Error\n",
        "try:\n",
        "    gen.__next__()  \n",
        "except StopIteration:\n",
        "    pass # do nothing"
      ],
      "execution_count": 0,
      "outputs": []
    },
    {
      "metadata": {
        "id": "WClQaauZVKDu",
        "colab_type": "code",
        "colab": {}
      },
      "cell_type": "code",
      "source": [
        "# 利用 list 迭代  \n",
        "range_num = 10\n",
        "for i in [x*x for x in range(range_num)]:\n",
        "    # do something\n",
        "    pass\n",
        "\n",
        "# 利用 generator 迭代  \n",
        "for i in (x*x for x in range(range_num)):\n",
        "    # do something\n",
        "    pass"
      ],
      "execution_count": 0,
      "outputs": []
    },
    {
      "metadata": {
        "id": "1VXRnl2bVLrs",
        "colab_type": "code",
        "outputId": "8276be5a-6c9f-4d5e-c3a1-204be08a6ffc",
        "colab": {
          "base_uri": "https://localhost:8080/",
          "height": 68
        }
      },
      "cell_type": "code",
      "source": [
        "import psutil\n",
        "\n",
        "before_used = psutil.virtual_memory().used  # expressed in bytes\n",
        "after_used = 0\n",
        "\n",
        "print(\"before:\", before_used)\n",
        "\n",
        "range_num = 1000000 \n",
        "for i in [x*x for x in range(range_num)]: # 第一種方法：對 list 進行迭代\n",
        "    if i == (range_num - 1) * (range_num - 1):\n",
        "        after_used = psutil.virtual_memory().used\n",
        "        print(\"after:\", after_used)\n",
        "    \n",
        "print(\"used memory:\", (after_used - before_used))"
      ],
      "execution_count": 0,
      "outputs": [
        {
          "output_type": "stream",
          "text": [
            "before: 423550976\n",
            "after: 473075712\n",
            "used memory: 49524736\n"
          ],
          "name": "stdout"
        }
      ]
    },
    {
      "metadata": {
        "id": "2EcI1m8HVN8B",
        "colab_type": "code",
        "outputId": "1719ab55-4f01-4489-90e7-b87c1e28e557",
        "colab": {
          "base_uri": "https://localhost:8080/",
          "height": 68
        }
      },
      "cell_type": "code",
      "source": [
        "import psutil\n",
        "\n",
        "before_used = psutil.virtual_memory().used  # expressed in bytes\n",
        "after_used = 0\n",
        "\n",
        "print(\"before:\", before_used)\n",
        "\n",
        "range_num = 1000000 \n",
        "for i in (x*x for x in range(range_num)): # 第二種方法：對 generator 進行迭代\n",
        "    if i == (range_num - 1) * (range_num - 1):\n",
        "        after_used = psutil.virtual_memory().used\n",
        "        print(\"after:\", after_used)\n",
        "    \n",
        "print(\"used memory:\", (after_used - before_used))"
      ],
      "execution_count": 0,
      "outputs": [
        {
          "output_type": "stream",
          "text": [
            "before: 441274368\n",
            "after: 441110528\n",
            "used memory: -163840\n"
          ],
          "name": "stdout"
        }
      ]
    },
    {
      "metadata": {
        "id": "97tvLcSapdO7",
        "colab_type": "code",
        "outputId": "d42a4301-d461-4c9d-9da0-b545b1c937ad",
        "colab": {
          "base_uri": "https://localhost:8080/",
          "height": 102
        }
      },
      "cell_type": "code",
      "source": [
        "# Q1.\n",
        "def armstrong_number():\n",
        "    for num in range(100, 1000):\n",
        "        temp = num\n",
        "        sum = 0\n",
        "        while temp > 0:          \n",
        "            digit = temp % 10    # 取餘數 取得當前 temp 的個位數\n",
        "            sum += digit ** 3    # 當前取得的位數 的三次方加入 sum\n",
        "            temp //= 10          # 將當前 temp 往右位移一位 (以10為底 所以除10)\n",
        "        \n",
        "        if sum == num:           # 如果 所有位數的3次方 和 等於該數\n",
        "            yield sum            # 返回 此阿姆斯壯數\n",
        "            \n",
        "a = armstrong_number()\n",
        "\n",
        "try:\n",
        "    while(True):\n",
        "        print(a.__next__())\n",
        "except StopIteration:\n",
        "    print(\"The End\")\n"
      ],
      "execution_count": 0,
      "outputs": [
        {
          "output_type": "stream",
          "text": [
            "153\n",
            "370\n",
            "371\n",
            "407\n",
            "The End\n"
          ],
          "name": "stdout"
        }
      ]
    },
    {
      "metadata": {
        "id": "ow72_skmUaq2",
        "colab_type": "code",
        "colab": {}
      },
      "cell_type": "code",
      "source": [
        ""
      ],
      "execution_count": 0,
      "outputs": []
    }
  ]
}