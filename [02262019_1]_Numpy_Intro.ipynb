{
  "nbformat": 4,
  "nbformat_minor": 0,
  "metadata": {
    "colab": {
      "name": "[02262019-1] Numpy Intro.ipynb",
      "version": "0.3.2",
      "provenance": [],
      "collapsed_sections": [],
      "include_colab_link": true
    },
    "kernelspec": {
      "name": "python3",
      "display_name": "Python 3"
    },
    "accelerator": "GPU"
  },
  "cells": [
    {
      "cell_type": "markdown",
      "metadata": {
        "id": "view-in-github",
        "colab_type": "text"
      },
      "source": [
        "<a href=\"https://colab.research.google.com/github/BingHung/AI/blob/master/%5B02262019_1%5D_Numpy_Intro.ipynb\" target=\"_parent\"><img src=\"https://colab.research.google.com/assets/colab-badge.svg\" alt=\"Open In Colab\"/></a>"
      ]
    },
    {
      "metadata": {
        "id": "vYgwuspUYFDi",
        "colab_type": "text"
      },
      "cell_type": "markdown",
      "source": [
        "## Numpy\n",
        "NumPy is the fundamental package for scientific computing with Python. </br>\n",
        "NumPy’s main object is the homogeneous multidimensional array.  \n",
        "It is a table of elements (usually numbers), all of the **same type**, indexed by a tuple of positive integers.  \n",
        "In NumPy dimensions are called **axes**."
      ]
    },
    {
      "metadata": {
        "id": "wek5kEvnYQOQ",
        "colab_type": "text"
      },
      "cell_type": "markdown",
      "source": [
        "### Concept of axis\n",
        "\n",
        "Reference: 手把手打開資料分析大門\n",
        "https://www.slideshare.net/tw_dsconf/python-83977705/61"
      ]
    },
    {
      "metadata": {
        "id": "RqRBS17eX4-_",
        "colab_type": "code",
        "outputId": "6ceb5a7d-6760-446a-a0c1-3c5ccd4cb1c6",
        "colab": {
          "base_uri": "https://localhost:8080/",
          "height": 34
        }
      },
      "cell_type": "code",
      "source": [
        "# one axis\n",
        "[1, 3, 5]  # 3 elements, it has a length of 3.\n",
        "\n",
        "# 2 axes\n",
        "[[ 1, 3, 5],\n",
        " [ 2, 4, 6]]  # The first axis has a length of 2, the second axis has a length of 3."
      ],
      "execution_count": 0,
      "outputs": [
        {
          "output_type": "execute_result",
          "data": {
            "text/plain": [
              "[[1, 3, 5], [2, 4, 6]]"
            ]
          },
          "metadata": {
            "tags": []
          },
          "execution_count": 1
        }
      ]
    },
    {
      "metadata": {
        "id": "DqpRK-frYf1W",
        "colab_type": "text"
      },
      "cell_type": "markdown",
      "source": [
        "NumPy’s array class is called ndarray. </br>\n",
        "t is also known by the alias array. </br>\n",
        "Note that numpy.array is not the same as the Standard Python Library class array. </br>\n",
        "array, which only handles one-dimensional arrays and offers less functionality."
      ]
    },
    {
      "metadata": {
        "id": "rgDrNRbrYm4R",
        "colab_type": "text"
      },
      "cell_type": "markdown",
      "source": [
        "### Create ndarray"
      ]
    },
    {
      "metadata": {
        "id": "PziO-3fSYSR-",
        "colab_type": "code",
        "outputId": "45cd5bf9-e7db-4953-8b7a-71ed75956f17",
        "colab": {
          "base_uri": "https://localhost:8080/",
          "height": 68
        }
      },
      "cell_type": "code",
      "source": [
        "import numpy as np\n",
        "\n",
        "# create 1 axis array\n",
        "x = np.arange(3)\n",
        "\n",
        "print(x)\n",
        "print(type(x))  # <class 'numpy.ndarray'>\n",
        "\n",
        "# check if ndarray type\n",
        "isinstance(x, np.ndarray)  # True\n",
        "\n",
        "# be explicitly specified type\n",
        "y = np.arange(3, dtype='float64')  # [ 0.  1.  2.]\n",
        "print(y)"
      ],
      "execution_count": 0,
      "outputs": [
        {
          "output_type": "stream",
          "text": [
            "[0 1 2]\n",
            "<class 'numpy.ndarray'>\n",
            "[0. 1. 2.]\n"
          ],
          "name": "stdout"
        }
      ]
    },
    {
      "metadata": {
        "id": "aVs_ge4CY4WP",
        "colab_type": "code",
        "outputId": "b1f9d43b-2275-426f-ad9c-cadfc52179d2",
        "colab": {
          "base_uri": "https://localhost:8080/",
          "height": 34
        }
      },
      "cell_type": "code",
      "source": [
        "import numpy as np\n",
        "\n",
        "existed_list = [18, 15, 21, 10, 88, 76, 29, 20]\n",
        "\n",
        "np_array = np.array(existed_list)\n",
        "print(np_array)  # [18 15 21 10 88 76 29 20]"
      ],
      "execution_count": 0,
      "outputs": [
        {
          "output_type": "stream",
          "text": [
            "[18 15 21 10 88 76 29 20]\n"
          ],
          "name": "stdout"
        }
      ]
    },
    {
      "metadata": {
        "id": "H7XunjtlY9wl",
        "colab_type": "text"
      },
      "cell_type": "markdown",
      "source": [
        "### Important attributes of  ndarray"
      ]
    },
    {
      "metadata": {
        "id": "L4u-kDd1Y7yQ",
        "colab_type": "code",
        "outputId": "73d43f09-c597-4a47-bc70-953dc8cdc93b",
        "colab": {
          "base_uri": "https://localhost:8080/",
          "height": 102
        }
      },
      "cell_type": "code",
      "source": [
        "import numpy as np\n",
        "\n",
        "x = np.arange(3)\n",
        "print(x)\n",
        "\n",
        "# ndim - the number of axes (dimensions) of the array.\n",
        "print(x.ndim)  # 1 dim\n",
        "\n",
        "# shape - the dimensions of the array. \n",
        "# This is a tuple of integers indicating the size of the array in each dimension.\n",
        "print(x.shape)  # (3, )\n",
        "\n",
        "# size - the total number of elements of the array. \n",
        "print(x.size)  # 3\n",
        "\n",
        "# dtype - the type of the elements in the array.\n",
        "print(x.dtype)  # int64"
      ],
      "execution_count": 0,
      "outputs": [
        {
          "output_type": "stream",
          "text": [
            "[0 1 2]\n",
            "1\n",
            "(3,)\n",
            "3\n",
            "int64\n"
          ],
          "name": "stdout"
        }
      ]
    },
    {
      "metadata": {
        "id": "aVdOQ2bpZJZ_",
        "colab_type": "text"
      },
      "cell_type": "markdown",
      "source": [
        "### Axes reshape\n",
        "Gives a new shape to an array without changing its data."
      ]
    },
    {
      "metadata": {
        "id": "z7vWweyOZHFr",
        "colab_type": "code",
        "outputId": "d8480bb1-62b7-4faa-d851-003e5aab142a",
        "colab": {
          "base_uri": "https://localhost:8080/",
          "height": 68
        }
      },
      "cell_type": "code",
      "source": [
        "# reshape\n",
        "x = np.arange(6)\n",
        "print(x)  # [0 1 2 3 4 5]\n",
        "\n",
        "new_shape = x.reshape(2, 3)\n",
        "print(new_shape) # [[0 1 2]\n",
        "                 #  [3 4 5]]\n",
        "\n",
        "# equivalently\n",
        "new_shape = np.reshape(x, (2, 3))    \n",
        "    \n",
        "    \n",
        "# also can be one line to create and reshpae\n",
        "y = np.arange(6).reshape(2, 3)"
      ],
      "execution_count": 0,
      "outputs": [
        {
          "output_type": "stream",
          "text": [
            "[0 1 2 3 4 5]\n",
            "[[0 1 2]\n",
            " [3 4 5]]\n"
          ],
          "name": "stdout"
        }
      ]
    },
    {
      "metadata": {
        "id": "t2sNI3N7ZWZB",
        "colab_type": "text"
      },
      "cell_type": "markdown",
      "source": [
        "### Initial placeholder content"
      ]
    },
    {
      "metadata": {
        "id": "YecZDjMNZSgM",
        "colab_type": "code",
        "outputId": "292f0a6e-c488-4dc6-d417-b6a953b03d2c",
        "colab": {
          "base_uri": "https://localhost:8080/",
          "height": 34
        }
      },
      "cell_type": "code",
      "source": [
        "# np.zeros - full of zeros\n",
        "np.zeros(3)  # array([ 0.,  0.,  0.])\n",
        "\n",
        "np.zeros((2, 3))  # array([[ 0.,  0.,  0.],\n",
        "                  #        [ 0.,  0.,  0.]])\n",
        "\n",
        "    \n",
        "# np.ones - full of ones\n",
        "np.ones((2,3))  # array([[ 1.,  1.,  1.],\n",
        "                #        [ 1.,  1.,  1.]])\n",
        "\n",
        "    \n",
        "# np.identity - a square array with ones on the main diagonal\n",
        "np.identity(3)  # array([[ 1.,  0.,  0.],\n",
        "                #        [ 0.,  1.,  0.],\n",
        "                #        [ 0.,  0.,  1.]])\n",
        "\n",
        "\n",
        "# By default, the dtype of the created array is float64.\n",
        "# using dtype change the type\n",
        "np.zeros(3, dtype=np.int16)"
      ],
      "execution_count": 0,
      "outputs": [
        {
          "output_type": "execute_result",
          "data": {
            "text/plain": [
              "array([0, 0, 0], dtype=int16)"
            ]
          },
          "metadata": {
            "tags": []
          },
          "execution_count": 7
        }
      ]
    },
    {
      "metadata": {
        "id": "SphNSkbjZsN5",
        "colab_type": "text"
      },
      "cell_type": "markdown",
      "source": [
        "### Array Index\n",
        "\n",
        "Array indexing refers to any use of the square brackets ( [ ] ) to index array values."
      ]
    },
    {
      "metadata": {
        "id": "LjuW7KjIZb7i",
        "colab_type": "code",
        "outputId": "a6541eae-f03b-4cad-a33b-90e0c6ddc96d",
        "colab": {
          "base_uri": "https://localhost:8080/",
          "height": 34
        }
      },
      "cell_type": "code",
      "source": [
        "import numpy as np\n",
        "\n",
        "# 1-D array\n",
        "x = np.arange(6)  # array([0, 1, 2, 3, 4, 5])\n",
        "x[2]   # 2\n",
        "x[-2]  # 4\n",
        "\n",
        "\n",
        "# 2-D array\n",
        "x = np.arange(6).reshape(2, 3)  #[[0, 1, 2],\n",
        "                                # [3, 4, 5]])\n",
        "x[0, 2]   # 2\n",
        "x[1, -1]  # 5"
      ],
      "execution_count": 0,
      "outputs": [
        {
          "output_type": "execute_result",
          "data": {
            "text/plain": [
              "5"
            ]
          },
          "metadata": {
            "tags": []
          },
          "execution_count": 8
        }
      ]
    },
    {
      "metadata": {
        "id": "WfSSoGVCZ6JC",
        "colab_type": "text"
      },
      "cell_type": "markdown",
      "source": [
        "### Array Slice & Stride\n",
        "\n",
        "The slicing and striding works exactly the same way it does for lists except that they can be applied to multiple dimensions as well."
      ]
    },
    {
      "metadata": {
        "id": "onfMKh8tZ4-E",
        "colab_type": "code",
        "outputId": "62a9f788-8c1b-4949-c209-fb993450ed89",
        "colab": {
          "base_uri": "https://localhost:8080/",
          "height": 51
        }
      },
      "cell_type": "code",
      "source": [
        "import numpy as np\n",
        "\n",
        "# 1-D array\n",
        "x = np.arange(6)  # array([0, 1, 2, 3, 4, 5])\n",
        "x[1:5]   # [2, 3, 4]\n",
        "x[:2]    # [0, 1]\n",
        "x[1:5:2] # [1, 3]\n",
        "\n",
        "\n",
        "# 2-D array\n",
        "x = np.arange(6).reshape(2, 3)  #[[0, 1, 2],\n",
        "                                # [3, 4, 5]])\n",
        "x[0, 0:2]    #  [0, 1]\n",
        "x[:, 1:]     # [[1, 2],\n",
        "             #  [4, 5]]\n",
        "x[::1, ::2]  # [[0, 2],\n",
        "             #  [3, 5]]"
      ],
      "execution_count": 0,
      "outputs": [
        {
          "output_type": "execute_result",
          "data": {
            "text/plain": [
              "array([[0, 2],\n",
              "       [3, 5]])"
            ]
          },
          "metadata": {
            "tags": []
          },
          "execution_count": 9
        }
      ]
    },
    {
      "metadata": {
        "id": "tBdzRNxCavBC",
        "colab_type": "text"
      },
      "cell_type": "markdown",
      "source": [
        "### Boolean / Mask Index \n",
        "Boolean arrays must be of the same shape as the initial dimensions of the array being indexed."
      ]
    },
    {
      "metadata": {
        "id": "X_GVkxeFas-B",
        "colab_type": "code",
        "outputId": "739074b1-0ecb-4347-a23b-ae4370b55479",
        "colab": {
          "base_uri": "https://localhost:8080/",
          "height": 51
        }
      },
      "cell_type": "code",
      "source": [
        "import numpy as np\n",
        "\n",
        "# 1-D array\n",
        "x = np.arange(6)  # array([0, 1, 2, 3, 4, 5])\n",
        "condition = x<3\n",
        "x[condition]      # [0, 1, 2]\n",
        "\n",
        "x[condition] = 0\n",
        "x                 # [0, 0, 0, 3, 4, 5]\n",
        "\n",
        "\n",
        "# why called mask?\n",
        "\n",
        "# original_x      # [ 0,    1,    2,   3,    4,    5]\n",
        "# if <3, assign 0\n",
        "print(condition)  # [ True  True  True False False False]\n",
        "x                 # [ 0,    0,    0,   3,    4,    5]"
      ],
      "execution_count": 0,
      "outputs": [
        {
          "output_type": "stream",
          "text": [
            "[ True  True  True False False False]\n"
          ],
          "name": "stdout"
        },
        {
          "output_type": "execute_result",
          "data": {
            "text/plain": [
              "array([0, 0, 0, 3, 4, 5])"
            ]
          },
          "metadata": {
            "tags": []
          },
          "execution_count": 10
        }
      ]
    },
    {
      "metadata": {
        "id": "I7iss1n7cUOj",
        "colab_type": "text"
      },
      "cell_type": "markdown",
      "source": [
        "### Concatenate\n",
        "Join a sequence of arrays along an existing axis."
      ]
    },
    {
      "metadata": {
        "id": "G8mN4VGYcQlk",
        "colab_type": "code",
        "outputId": "d10cfa41-e499-46be-9203-331814113ddc",
        "colab": {
          "base_uri": "https://localhost:8080/",
          "height": 51
        }
      },
      "cell_type": "code",
      "source": [
        "import numpy as np\n",
        "\n",
        "a = np.array([[1, 2, 3], [4, 5, 6]])\n",
        "b = np.array([[7, 8, 9]])\n",
        "\n",
        "np.concatenate((a, b), axis=0)  # [[1, 2, 3],\n",
        "                                #  [4, 5, 6],\n",
        "                                #  [7, 8, 9]]\n",
        "\n",
        "\n",
        "c =  [[0], [0]]       \n",
        "np.concatenate((a, c), axis=1)  # [[1, 2, 3, 0],\n",
        "                                #  [4, 5, 6, 0]]"
      ],
      "execution_count": 0,
      "outputs": [
        {
          "output_type": "execute_result",
          "data": {
            "text/plain": [
              "array([[1, 2, 3, 0],\n",
              "       [4, 5, 6, 0]])"
            ]
          },
          "metadata": {
            "tags": []
          },
          "execution_count": 14
        }
      ]
    },
    {
      "metadata": {
        "id": "utc0EKI7ckMK",
        "colab_type": "text"
      },
      "cell_type": "markdown",
      "source": [
        "### Basic Operations"
      ]
    },
    {
      "metadata": {
        "id": "dDe9tSwucefa",
        "colab_type": "code",
        "outputId": "bf37243b-e527-4200-9e62-79ea0f8e3d79",
        "colab": {
          "base_uri": "https://localhost:8080/",
          "height": 289
        }
      },
      "cell_type": "code",
      "source": [
        "import numpy as np\n",
        "a = np.array([[1, 2], [3, 4]])\n",
        "b = np.array([[5, 6], [7, 8]])\n",
        "\n",
        "print(a)\n",
        "print(b)\n",
        "\n",
        "print(a + b)  # array([[6, 8], [10, 12]])\n",
        "print(a - b)  # array([[-4, -4], [-4, -4]])\n",
        "print(a * b)  # array([[5, 12], [21, 32]])\n",
        "print(a / b)  # array([[0.2, 0.33333333], [0.42857143, 0.5]]\n",
        "\n",
        "print(a - 1)  # array([[0, 1], [2, 3]])\n",
        "print(a * 2)  # array([[2, 4], [6, 8]])"
      ],
      "execution_count": 0,
      "outputs": [
        {
          "output_type": "stream",
          "text": [
            "[[1 2]\n",
            " [3 4]]\n",
            "[[5 6]\n",
            " [7 8]]\n",
            "[[ 6  8]\n",
            " [10 12]]\n",
            "[[-4 -4]\n",
            " [-4 -4]]\n",
            "[[ 5 12]\n",
            " [21 32]]\n",
            "[[0.2        0.33333333]\n",
            " [0.42857143 0.5       ]]\n",
            "[[0 1]\n",
            " [2 3]]\n",
            "[[2 4]\n",
            " [6 8]]\n"
          ],
          "name": "stdout"
        }
      ]
    },
    {
      "metadata": {
        "id": "1zLVotGucqRj",
        "colab_type": "text"
      },
      "cell_type": "markdown",
      "source": [
        "### Basic Linear Algebra\n",
        "\n",
        "轉置矩陣：m \\* n 矩陣在向量空間上轉置為 n \\* m 矩陣  \n",
        "逆矩陣：n \\* n 矩陣 A 存在一個 n \\* n 矩陣 B，使得 AB = BA = I"
      ]
    },
    {
      "metadata": {
        "id": "vXlTCKmEcnG_",
        "colab_type": "code",
        "outputId": "2e00db5c-966c-401c-b28b-06e2aeff928e",
        "colab": {
          "base_uri": "https://localhost:8080/",
          "height": 119
        }
      },
      "cell_type": "code",
      "source": [
        "import numpy as np\n",
        "\n",
        "# 轉置矩陣\n",
        "a = np.array([[0, 1], \n",
        "              [2, 3]])\n",
        "\n",
        "print(a.T)  #[[0, 2],\n",
        "            # [1, 3]]\n",
        "\n",
        "# 逆矩陣\n",
        "inverse = np.linalg.inv(a)\n",
        "print(inverse)             # [[-1.5, 0.5], \n",
        "                           #  [1,    0]]\n",
        "\n",
        "# 內積 \n",
        "print(np.dot(a, inverse))  # [[ 1.  0.]\n",
        "                           #  [ 0.  1.]]"
      ],
      "execution_count": 0,
      "outputs": [
        {
          "output_type": "stream",
          "text": [
            "[[0 2]\n",
            " [1 3]]\n",
            "[[-1.5  0.5]\n",
            " [ 1.   0. ]]\n",
            "[[1. 0.]\n",
            " [0. 1.]]\n"
          ],
          "name": "stdout"
        }
      ]
    },
    {
      "metadata": {
        "id": "9tUrYgd4tQYl",
        "colab_type": "text"
      },
      "cell_type": "markdown",
      "source": [
        "### Vector Stacking"
      ]
    },
    {
      "metadata": {
        "id": "snJBO8rTtMy_",
        "colab_type": "code",
        "outputId": "97f4fcc5-891e-41c5-e724-e184c2e46869",
        "colab": {
          "base_uri": "https://localhost:8080/",
          "height": 340
        }
      },
      "cell_type": "code",
      "source": [
        "import numpy as np\n",
        "\n",
        "a = np.array([[0, 1], \n",
        "              [2, 3]])\n",
        "\n",
        "b = np.array([[4, 5], \n",
        "              [6, 7]])\n",
        "\n",
        "c = np.array([[8,  9], \n",
        "              [10, 11]])\n",
        "\n",
        "# vertical\n",
        "v = np.vstack((a, b, c))\n",
        "print(v.shape)  # (6, 2)\n",
        "print(v)\n",
        "\n",
        "# horizontal\n",
        "h = np.hstack((a, b, c))\n",
        "print(h.shape)  # (2, 6)\n",
        "print(h)\n",
        "\n",
        "# stack \n",
        "s = np.stack([a, b, c], axis=0)\n",
        "print(s.shape)  # (3, 2, 2)\n",
        "print(s)"
      ],
      "execution_count": 0,
      "outputs": [
        {
          "output_type": "stream",
          "text": [
            "(6, 2)\n",
            "[[ 0  1]\n",
            " [ 2  3]\n",
            " [ 4  5]\n",
            " [ 6  7]\n",
            " [ 8  9]\n",
            " [10 11]]\n",
            "(2, 6)\n",
            "[[ 0  1  4  5  8  9]\n",
            " [ 2  3  6  7 10 11]]\n",
            "(3, 2, 2)\n",
            "[[[ 0  1]\n",
            "  [ 2  3]]\n",
            "\n",
            " [[ 4  5]\n",
            "  [ 6  7]]\n",
            "\n",
            " [[ 8  9]\n",
            "  [10 11]]]\n"
          ],
          "name": "stdout"
        }
      ]
    },
    {
      "metadata": {
        "id": "BlUsTAqptZqr",
        "colab_type": "text"
      },
      "cell_type": "markdown",
      "source": [
        "# Practice"
      ]
    },
    {
      "metadata": {
        "id": "KW7EomDWtRqm",
        "colab_type": "code",
        "colab": {}
      },
      "cell_type": "code",
      "source": [
        "import numpy as np"
      ],
      "execution_count": 0,
      "outputs": []
    },
    {
      "metadata": {
        "id": "Y9X5OyZYtbXt",
        "colab_type": "code",
        "outputId": "8c353acb-ac5a-44dc-c0fa-81d6c4367cdf",
        "colab": {
          "base_uri": "https://localhost:8080/",
          "height": 51
        }
      },
      "cell_type": "code",
      "source": [
        "#Q1. Create a vector with values ranging from 10 to 49 by np.arrange\n",
        "Z = np.arange(10, 50)\n",
        "print(Z)"
      ],
      "execution_count": 0,
      "outputs": [
        {
          "output_type": "stream",
          "text": [
            "[10 11 12 13 14 15 16 17 18 19 20 21 22 23 24 25 26 27 28 29 30 31 32 33\n",
            " 34 35 36 37 38 39 40 41 42 43 44 45 46 47 48 49]\n"
          ],
          "name": "stdout"
        }
      ]
    },
    {
      "metadata": {
        "id": "vMVV_QNCtfAF",
        "colab_type": "code",
        "outputId": "c3c2a69a-b0bf-4d0c-e788-9355065e5852",
        "colab": {
          "base_uri": "https://localhost:8080/",
          "height": 68
        }
      },
      "cell_type": "code",
      "source": [
        "#Q2. Reverse a vector (first element becomes last)\n",
        "Z = np.arange(50)\n",
        "Z = Z[::-1]\n",
        "print(Z)"
      ],
      "execution_count": 0,
      "outputs": [
        {
          "output_type": "stream",
          "text": [
            "[49 48 47 46 45 44 43 42 41 40 39 38 37 36 35 34 33 32 31 30 29 28 27 26\n",
            " 25 24 23 22 21 20 19 18 17 16 15 14 13 12 11 10  9  8  7  6  5  4  3  2\n",
            "  1  0]\n"
          ],
          "name": "stdout"
        }
      ]
    },
    {
      "metadata": {
        "id": "ovy-JezLtiUl",
        "colab_type": "code",
        "outputId": "7ed414bb-8dbc-4b96-c687-c2ebef2177b6",
        "colab": {
          "base_uri": "https://localhost:8080/",
          "height": 204
        }
      },
      "cell_type": "code",
      "source": [
        "#Q3. Create a 3x3x3 array with random values by np.random.random\n",
        "Z = np.random.random((3, 3, 3))\n",
        "print(Z)"
      ],
      "execution_count": 0,
      "outputs": [
        {
          "output_type": "stream",
          "text": [
            "[[[0.22695507 0.86504851 0.59878227]\n",
            "  [0.38991605 0.02518213 0.10369809]\n",
            "  [0.81185779 0.34869894 0.21505829]]\n",
            "\n",
            " [[0.93562669 0.40286615 0.56280877]\n",
            "  [0.9039477  0.68844671 0.93920283]\n",
            "  [0.24355433 0.74595726 0.38064932]]\n",
            "\n",
            " [[0.82811501 0.85616972 0.02971228]\n",
            "  [0.69629248 0.24051995 0.48245754]\n",
            "  [0.92381118 0.19388004 0.55493613]]]\n"
          ],
          "name": "stdout"
        }
      ]
    },
    {
      "metadata": {
        "id": "Ze9EUQgttoUn",
        "colab_type": "code",
        "outputId": "7160f30b-1cbb-4caa-dbcc-bfe6c20b109d",
        "colab": {
          "base_uri": "https://localhost:8080/",
          "height": 34
        }
      },
      "cell_type": "code",
      "source": [
        "#Q4. Create a 10x10 array with random values and find the minimum and maximum values by np.min, np.max\n",
        "Z = np.random.random((10, 10))\n",
        "Zmin, Zmax = Z.min(), Z.max()\n",
        "print(Zmin, Zmax)"
      ],
      "execution_count": 0,
      "outputs": [
        {
          "output_type": "stream",
          "text": [
            "0.006408873935625503 0.9947097667677726\n"
          ],
          "name": "stdout"
        }
      ]
    },
    {
      "metadata": {
        "id": "2ztytxi9tstD",
        "colab_type": "code",
        "outputId": "0cc17033-700f-45ac-833d-2813b589d4aa",
        "colab": {
          "base_uri": "https://localhost:8080/",
          "height": 102
        }
      },
      "cell_type": "code",
      "source": [
        "#Q5. Add a border (filled with 0's) around an 3 * 3 matrix with 1 by np.pad\n",
        "Z = np.ones((3, 3))\n",
        "Z = np.pad(Z, pad_width=1, mode='constant', constant_values=0)\n",
        "print(Z)"
      ],
      "execution_count": 0,
      "outputs": [
        {
          "output_type": "stream",
          "text": [
            "[[0. 0. 0. 0. 0.]\n",
            " [0. 1. 1. 1. 0.]\n",
            " [0. 1. 1. 1. 0.]\n",
            " [0. 1. 1. 1. 0.]\n",
            " [0. 0. 0. 0. 0.]]\n"
          ],
          "name": "stdout"
        }
      ]
    },
    {
      "metadata": {
        "id": "ril9JY0utw2D",
        "colab_type": "code",
        "outputId": "62bca0d3-62c3-4b4a-de02-7ea0d35359ef",
        "colab": {
          "base_uri": "https://localhost:8080/",
          "height": 187
        }
      },
      "cell_type": "code",
      "source": [
        "#Q6. Normalize a 5x5 random matrix by divide max number\n",
        "Z = np.random.random((5, 5))\n",
        "Z2 = Z / Z.max()\n",
        "Zmax, Zmin = Z.max(), Z.min()\n",
        "Z1 = (Z - Zmin) / (Zmax - Zmin)\n",
        "print(Z1)\n",
        "print(Z2)"
      ],
      "execution_count": 0,
      "outputs": [
        {
          "output_type": "stream",
          "text": [
            "[[0.76641969 0.71824909 0.19663785 0.90893762 0.81151074]\n",
            " [0.40061702 0.55237219 0.45160713 0.46935106 0.06348891]\n",
            " [0.73655241 0.52246309 0.39299378 0.4978577  0.60440133]\n",
            " [0.52576801 0.17352937 0.74018203 0.62178534 0.        ]\n",
            " [0.47427247 0.09567634 1.         0.61628521 0.317979  ]]\n",
            "[[0.77059578 0.72328641 0.21100086 0.91056569 0.81488067]\n",
            " [0.41133317 0.56037516 0.46141164 0.47883834 0.08023244]\n",
            " [0.74126249 0.53100079 0.40384622 0.50683532 0.61147409]\n",
            " [0.53424663 0.18830554 0.74482722 0.6285473  0.01787863]\n",
            " [0.48367175 0.11184441 1.         0.6231455  0.3301726 ]]\n"
          ],
          "name": "stdout"
        }
      ]
    },
    {
      "metadata": {
        "id": "wmLjJ8nvtzyJ",
        "colab_type": "code",
        "outputId": "bd33e215-a07a-42d9-8423-52986a24699e",
        "colab": {
          "base_uri": "https://localhost:8080/",
          "height": 34
        }
      },
      "cell_type": "code",
      "source": [
        "#Q7. Given a 1D array, negate all elements which are between 3 and 8, in place.\n",
        "Z = np.arange(11)\n",
        "Z[(3 < Z) & (Z <= 8)] *= -1\n",
        "print(Z)"
      ],
      "execution_count": 0,
      "outputs": [
        {
          "output_type": "stream",
          "text": [
            "[ 0  1  2  3 -4 -5 -6 -7 -8  9 10]\n"
          ],
          "name": "stdout"
        }
      ]
    },
    {
      "metadata": {
        "id": "qJBnFlI2uETC",
        "colab_type": "code",
        "outputId": "ebfed891-9cc4-4663-f001-a14e84899981",
        "colab": {
          "base_uri": "https://localhost:8080/",
          "height": 68
        }
      },
      "cell_type": "code",
      "source": [
        "#Q8. Extract from the array np.array([3,4,6,10,24,89,45,43,46,99,100]) with Boolean masking all the number:  \n",
        "\n",
        "#(1) which are not divisible by 3  \n",
        "#(2) which are divisible by 5  \n",
        "#(3) which are divisible by 3 and 5\n",
        "\n",
        "A = np.array([3,4,6,10,24,89,45,43,46,99,100])\n",
        "div3 = A[A%3 != 0]\n",
        "print(div3)\n",
        "\n",
        "div5 = A[A%5 == 0]\n",
        "print(div5)\n",
        "\n",
        "div15 = A[(A%3 == 0) & (A%5 == 0)]\n",
        "print(div15)"
      ],
      "execution_count": 0,
      "outputs": [
        {
          "output_type": "stream",
          "text": [
            "[  4  10  89  43  46 100]\n",
            "[ 10  45 100]\n",
            "[45]\n"
          ],
          "name": "stdout"
        }
      ]
    },
    {
      "metadata": {
        "id": "0bdm5hr-uN57",
        "colab_type": "code",
        "outputId": "a528b3e2-cffa-4e49-8b2d-cef464b80a78",
        "colab": {
          "base_uri": "https://localhost:8080/",
          "height": 51
        }
      },
      "cell_type": "code",
      "source": [
        "#Q9. Create random vector of size 10 and replace the maximum value by 0 (np.argmax)\n",
        "Z = np.random.random(10)\n",
        "Z[Z.argmax()] = 0\n",
        "print(Z)"
      ],
      "execution_count": 0,
      "outputs": [
        {
          "output_type": "stream",
          "text": [
            "[0.17538738 0.4719358  0.80023841 0.26523017 0.89444408 0.43300892\n",
            " 0.12829829 0.59198644 0.         0.63480897]\n"
          ],
          "name": "stdout"
        }
      ]
    },
    {
      "metadata": {
        "id": "ZDROTmKYuWio",
        "colab_type": "code",
        "outputId": "c6c12a43-f11a-4c4f-e1d7-7fb046b549c3",
        "colab": {
          "base_uri": "https://localhost:8080/",
          "height": 187
        }
      },
      "cell_type": "code",
      "source": [
        "#Q10. Create a 5x5 matrix with row values ranging from 0 to 4\n",
        "Z = np.zeros((5, 5))\n",
        "print(Z)\n",
        "Z += np.arange(5)\n",
        "print(Z)"
      ],
      "execution_count": 0,
      "outputs": [
        {
          "output_type": "stream",
          "text": [
            "[[0. 0. 0. 0. 0.]\n",
            " [0. 0. 0. 0. 0.]\n",
            " [0. 0. 0. 0. 0.]\n",
            " [0. 0. 0. 0. 0.]\n",
            " [0. 0. 0. 0. 0.]]\n",
            "[[0. 1. 2. 3. 4.]\n",
            " [0. 1. 2. 3. 4.]\n",
            " [0. 1. 2. 3. 4.]\n",
            " [0. 1. 2. 3. 4.]\n",
            " [0. 1. 2. 3. 4.]]\n"
          ],
          "name": "stdout"
        }
      ]
    },
    {
      "metadata": {
        "id": "DrCtA0rUuc9Z",
        "colab_type": "code",
        "colab": {}
      },
      "cell_type": "code",
      "source": [
        ""
      ],
      "execution_count": 0,
      "outputs": []
    }
  ]
}