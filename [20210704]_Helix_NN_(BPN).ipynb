{
  "nbformat": 4,
  "nbformat_minor": 0,
  "metadata": {
    "colab": {
      "name": "[20210704] Helix-NN-(BPN).ipynb",
      "provenance": [],
      "authorship_tag": "ABX9TyMkrWUM0NjgrNBH6401oFwH",
      "include_colab_link": true
    },
    "kernelspec": {
      "name": "python3",
      "display_name": "Python 3"
    },
    "language_info": {
      "name": "python"
    }
  },
  "cells": [
    {
      "cell_type": "markdown",
      "metadata": {
        "id": "view-in-github",
        "colab_type": "text"
      },
      "source": [
        "<a href=\"https://colab.research.google.com/github/BingHung/AI/blob/master/%5B20210704%5D_Helix_NN_(BPN).ipynb\" target=\"_parent\"><img src=\"https://colab.research.google.com/assets/colab-badge.svg\" alt=\"Open In Colab\"/></a>"
      ]
    },
    {
      "cell_type": "markdown",
      "metadata": {
        "id": "A1w5BqKzW0ci"
      },
      "source": [
        "# Pure AI (Neural Network model building) - BingHung 20190716                            \n",
        "\n",
        "\n",
        "*   [MLPRegressor](https://scikit-learn.org/stable/modules/generated/sklearn.neural_network.MLPRegressor.html)\n",
        "*   [Preprocessing data](https://scikit-learn.org/stable/modules/preprocessing.html#preprocessing-data)\n",
        "\n",
        "\n"
      ]
    },
    {
      "cell_type": "code",
      "metadata": {
        "id": "3X2KpMKdV11B"
      },
      "source": [
        "# 載入套件\n",
        "import os\n",
        "import pandas as pd\n",
        "import numpy as np\n",
        "import matplotlib.pyplot as plt # 畫圖套件\n",
        "from sklearn.neural_network import MLPRegressor"
      ],
      "execution_count": 35,
      "outputs": []
    },
    {
      "cell_type": "code",
      "metadata": {
        "colab": {
          "resources": {
            "http://localhost:8080/nbextensions/google.colab/files.js": {
              "data": "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",
              "ok": true,
              "headers": [
                [
                  "content-type",
                  "application/javascript"
                ]
              ],
              "status": 200,
              "status_text": ""
            }
          },
          "base_uri": "https://localhost:8080/",
          "height": 40
        },
        "id": "9TlI-yQ7V2Kp",
        "outputId": "5410dc37-e548-4aee-8197-7efe0c0d4fb9"
      },
      "source": [
        "# Upload CSV From a local drive\n",
        "from google.colab import files\n",
        "uploaded = files.upload()"
      ],
      "execution_count": 36,
      "outputs": [
        {
          "output_type": "display_data",
          "data": {
            "text/html": [
              "\n",
              "     <input type=\"file\" id=\"files-37a2a030-f21d-4b2a-a2bb-a2ff7db48bc2\" name=\"files[]\" multiple disabled\n",
              "        style=\"border:none\" />\n",
              "     <output id=\"result-37a2a030-f21d-4b2a-a2bb-a2ff7db48bc2\">\n",
              "      Upload widget is only available when the cell has been executed in the\n",
              "      current browser session. Please rerun this cell to enable.\n",
              "      </output>\n",
              "      <script src=\"/nbextensions/google.colab/files.js\"></script> "
            ],
            "text/plain": [
              "<IPython.core.display.HTML object>"
            ]
          },
          "metadata": {
            "tags": []
          }
        }
      ]
    },
    {
      "cell_type": "code",
      "metadata": {
        "id": "HYVSDl19WJ7Z"
      },
      "source": [
        "''' ################################################### \n",
        "# STEP 1    Define dataPath and read CSV\n",
        "         Split the data into x and y\n",
        "################################################### '''\n",
        "\n",
        "# 設定資料路徑\n",
        "global PARASWITCH\n",
        "PARASWITCH = 7\n",
        "\n",
        "if (PARASWITCH == 4):\n",
        "    # Re,Pr\n",
        "    df = pd.read_csv('Helix_NN_20190717_4para.csv')\n",
        "    # 將資料分為 解釋變數X 與 反應變數Y\n",
        "    x = np.array(df[['k_d', 'Re', 'Pr', 'angle']])\n",
        "    \n",
        "else:    \n",
        "    #Helix velocity, density\n",
        "    df = pd.read_csv('Helix_NN_20190716_7para.csv')\n",
        "    # 將資料分為 解釋變數X 與 反應變數Y\n",
        "    x = np.array(df[['den', 've', 'k', 'vis', 'sp', 'd', 'angle']])\n",
        "    \n",
        "xmax = np.amax(x, axis=0)\n",
        "x = x/xmax \n",
        "\n",
        "y = df['h'].values\n",
        "ymax = np.amax(y, axis=0)\n",
        "y =y/ymax"
      ],
      "execution_count": 37,
      "outputs": []
    },
    {
      "cell_type": "code",
      "metadata": {
        "id": "PwAClu8aXZag"
      },
      "source": [
        "''' ########################################################################## \n",
        "# STEP 2    The amount of data  = 20, which is small\n",
        "         For model validation,  leave-one-out (LOOCV) would be recommended \n",
        "         Prepare for leave-one-out (LOOCV)                         \n",
        "############################################################################# '''\n",
        "# 準備 K-fold 抓取訓練/測試資料的 index\n",
        "nfold = x.shape[0] # leave-one-out\n",
        "# 複製好幾個 [0 1 2] index 序列，抓前 x.shape[0] 個就夠了\n",
        "folds_ordered = np.tile(np.arange(nfold), x.shape[0])[:x.shape[0]]\n",
        "# 隨機打亂 [0 1 2] index 序列\n",
        "# 設定 random seed (驗證結果再現性)\n",
        "np.random.seed(1)\n",
        "folds = np.random.permutation(folds_ordered)\n",
        "# 預留空間存放各模型的預測值\n",
        "kfold_ytest_2 = np.zeros_like(y) # 網路"
      ],
      "execution_count": 38,
      "outputs": []
    },
    {
      "cell_type": "code",
      "metadata": {
        "id": "8gZEMXRqXg85"
      },
      "source": [
        "''' ################################################### \n",
        "# STEP 3    Define the scale of h value                \n",
        "################################################### '''\n",
        "scale = ymax #8695.88"
      ],
      "execution_count": 39,
      "outputs": []
    },
    {
      "cell_type": "code",
      "metadata": {
        "id": "CN146JRPXmSA"
      },
      "source": [
        "''' ####################################################################\n",
        "# STEP 4    Execute leave-one-out (LOOCV) - K-fold Cross Validation               \n",
        "#################################################################### '''\n",
        "# 執行 K-fold Cross Validation\n",
        "for i in range(nfold):\n",
        "  # 取第 i 次 K-fold 的訓練資料\n",
        "  x_train = x[(folds != i),:].copy()\n",
        "  y_train = y[folds != i].copy()\n",
        "  # 取第 i 次 K-fold 的測試資料\n",
        "  x_test  = x[(folds == i),:].copy()\n",
        "  y_test = y[folds == i].copy()\n",
        "\n",
        "  ''' ####################################################################\n",
        "    # STEP 5    Define NN-Model, Train the model and Predict the h(from AI)              \n",
        "    #################################################################### '''\n",
        "  # 用訓練資料 _train 建網路模型\n",
        "  ann2 = MLPRegressor(hidden_layer_sizes=(5,4), activation ='tanh', solver = 'lbfgs', max_iter = 10000)\n",
        "  # 用預測資料 x_test 以網路模型 預測 Y -> y_test \n",
        "  ann2.fit(x_train, y_train)\n",
        "  # 將預測值 y_test 儲存回 kfold_ytest_2 中相對應的位置\n",
        "  y_ann2 = ann2.predict(x_test)\n",
        "  kfold_ytest_2[folds == i] = y_ann2 "
      ],
      "execution_count": 40,
      "outputs": []
    },
    {
      "cell_type": "code",
      "metadata": {
        "colab": {
          "base_uri": "https://localhost:8080/"
        },
        "id": "BIENi-e5X0d5",
        "outputId": "b492806d-3480-4e1a-c226-ec8d31cf9d12"
      },
      "source": [
        "# K-fold 完成\n",
        "# 計算 CV 誤差 (RMSE)\n",
        "''' #########################\n",
        "# STEP 6   Calculate RMSE             \n",
        "############################ '''\n",
        "kfold_rmse_2 = np.sqrt(np.mean((y * scale - kfold_ytest_2 * scale)**2))\n",
        "print('NN LOOCV RMSE: ' + str(kfold_rmse_2))\n",
        "\n",
        "#調整h比例\n",
        "y_p = kfold_ytest_2 * scale\n",
        "y_a = y * scale"
      ],
      "execution_count": 41,
      "outputs": [
        {
          "output_type": "stream",
          "text": [
            "NN LOOCV RMSE: 1112.1762464028013\n"
          ],
          "name": "stdout"
        }
      ]
    },
    {
      "cell_type": "code",
      "metadata": {
        "colab": {
          "base_uri": "https://localhost:8080/",
          "height": 467
        },
        "id": "AzCl67W9bCU_",
        "outputId": "047e1de7-4e47-4f2e-dc5b-a395ef891fb5"
      },
      "source": [
        "''' ################################################################\n",
        "# STEP 7 Model Prediction Validation - leave-one-out (LOOCV)                        \n",
        "################################################################ '''\n",
        "\n",
        "\n",
        "#繪圖\n",
        "figLim = [np.array(min(np.min(y_a), np.min(y_p))),\n",
        "          np.array(max(np.max(y_a), np.max(y_p)))]\n",
        "fig = plt.figure(figsize = (7,7))\n",
        "ax = plt.subplot(1,1,1)\n",
        "ax.plot(np.array(figLim), np.array(figLim))\n",
        "ax.plot(y_a, y_p, '.', markersize = 16)\n",
        "ax.set_xlabel('h (LUMMUS)', fontsize = 18)\n",
        "ax.set_ylabel('h (NN-LOOCV)', fontsize = 18)"
      ],
      "execution_count": 42,
      "outputs": [
        {
          "output_type": "execute_result",
          "data": {
            "text/plain": [
              "Text(0, 0.5, 'h (NN-LOOCV)')"
            ]
          },
          "metadata": {
            "tags": []
          },
          "execution_count": 42
        },
        {
          "output_type": "display_data",
          "data": {
            "image/png": "[encoded data removed]",
            "text/plain": [
              "<Figure size 504x504 with 1 Axes>"
            ]
          },
          "metadata": {
            "tags": [],
            "needs_background": "light"
          }
        }
      ]
    },
    {
      "cell_type": "code",
      "metadata": {
        "colab": {
          "base_uri": "https://localhost:8080/",
          "height": 467
        },
        "id": "sEYxW2S0bG65",
        "outputId": "1e265809-86f1-4a25-c0d9-a4ffeab8cc1b"
      },
      "source": [
        "''' ################################################\n",
        "    # STEP 8  Model Prediction  - Fitted (All In)                        \n",
        "    ################################################ '''\n",
        "\n",
        "annf = MLPRegressor(hidden_layer_sizes = (5,4), activation ='tanh', solver = 'lbfgs', max_iter = 10000)\n",
        "annf.fit(x, y)\n",
        "y_annf = annf.predict(x)\n",
        "  \n",
        "rmse_f = np.sqrt(np.mean((y * scale - y_annf * scale)**2))\n",
        "print('NN Fitted RMSE: ' + str(rmse_f))\n",
        "\n",
        "y_p_f = y_annf * scale\n",
        "\n",
        "#繪圖\n",
        "figLim = [np.array(min(np.min(y_a), np.min(y_p_f))),\n",
        "          np.array(max(np.max(y_a), np.max(y_p_f)))]\n",
        "fig = plt.figure(figsize = (7,7))\n",
        "ax = plt.subplot(1,1,1)\n",
        "ax.plot(np.array(figLim), np.array(figLim))\n",
        "ax.plot(y_a, y_p_f, '.', markersize = 16)\n",
        "ax.set_xlabel('h (LUMMUS)', fontsize = 18)\n",
        "ax.set_ylabel('h (NN-Fitted)', fontsize = 18)\n",
        "#\n",
        "nn_result = pd.DataFrame(np.array([y_a, y_p, y_p_f]).transpose(), \n",
        "                          columns = ['h (LUMMUS)', 'h (NN-LOOCV)', 'h (NN-Fitted)'])"
      ],
      "execution_count": 45,
      "outputs": [
        {
          "output_type": "stream",
          "text": [
            "NN Fitted RMSE: 63.02519005052555\n"
          ],
          "name": "stdout"
        },
        {
          "output_type": "display_data",
          "data": {
            "image/png": "[encoded data removed]",
            "text/plain": [
              "<Figure size 504x504 with 1 Axes>"
            ]
          },
          "metadata": {
            "tags": [],
            "needs_background": "light"
          }
        }
      ]
    },
    {
      "cell_type": "code",
      "metadata": {
        "colab": {
          "base_uri": "https://localhost:8080/",
          "height": 669
        },
        "id": "6j3X8-T3bKtp",
        "outputId": "433592e7-e642-4130-86bd-c02801492da1"
      },
      "source": [
        "nn_result"
      ],
      "execution_count": 46,
      "outputs": [
        {
          "output_type": "execute_result",
          "data": {
            "text/html": [
              "<div>\n",
              "<style scoped>\n",
              "    .dataframe tbody tr th:only-of-type {\n",
              "        vertical-align: middle;\n",
              "    }\n",
              "\n",
              "    .dataframe tbody tr th {\n",
              "        vertical-align: top;\n",
              "    }\n",
              "\n",
              "    .dataframe thead th {\n",
              "        text-align: right;\n",
              "    }\n",
              "</style>\n",
              "<table border=\"1\" class=\"dataframe\">\n",
              "  <thead>\n",
              "    <tr style=\"text-align: right;\">\n",
              "      <th></th>\n",
              "      <th>h (LUMMUS)</th>\n",
              "      <th>h (NN-LOOCV)</th>\n",
              "      <th>h (NN-Fitted)</th>\n",
              "    </tr>\n",
              "  </thead>\n",
              "  <tbody>\n",
              "    <tr>\n",
              "      <th>0</th>\n",
              "      <td>7001.73</td>\n",
              "      <td>7187.448757</td>\n",
              "      <td>6994.792119</td>\n",
              "    </tr>\n",
              "    <tr>\n",
              "      <th>1</th>\n",
              "      <td>6776.87</td>\n",
              "      <td>7382.457910</td>\n",
              "      <td>6750.668826</td>\n",
              "    </tr>\n",
              "    <tr>\n",
              "      <th>2</th>\n",
              "      <td>8695.88</td>\n",
              "      <td>6319.411196</td>\n",
              "      <td>8724.618505</td>\n",
              "    </tr>\n",
              "    <tr>\n",
              "      <th>3</th>\n",
              "      <td>990.20</td>\n",
              "      <td>1511.348779</td>\n",
              "      <td>1070.752311</td>\n",
              "    </tr>\n",
              "    <tr>\n",
              "      <th>4</th>\n",
              "      <td>541.68</td>\n",
              "      <td>587.026736</td>\n",
              "      <td>447.941352</td>\n",
              "    </tr>\n",
              "    <tr>\n",
              "      <th>5</th>\n",
              "      <td>421.42</td>\n",
              "      <td>797.138277</td>\n",
              "      <td>432.633489</td>\n",
              "    </tr>\n",
              "    <tr>\n",
              "      <th>6</th>\n",
              "      <td>555.12</td>\n",
              "      <td>616.257326</td>\n",
              "      <td>616.747615</td>\n",
              "    </tr>\n",
              "    <tr>\n",
              "      <th>7</th>\n",
              "      <td>986.64</td>\n",
              "      <td>1172.363599</td>\n",
              "      <td>961.541728</td>\n",
              "    </tr>\n",
              "    <tr>\n",
              "      <th>8</th>\n",
              "      <td>628.58</td>\n",
              "      <td>728.835679</td>\n",
              "      <td>790.000451</td>\n",
              "    </tr>\n",
              "    <tr>\n",
              "      <th>9</th>\n",
              "      <td>1086.32</td>\n",
              "      <td>977.942849</td>\n",
              "      <td>981.511398</td>\n",
              "    </tr>\n",
              "    <tr>\n",
              "      <th>10</th>\n",
              "      <td>986.64</td>\n",
              "      <td>451.892479</td>\n",
              "      <td>893.230337</td>\n",
              "    </tr>\n",
              "    <tr>\n",
              "      <th>11</th>\n",
              "      <td>1607.10</td>\n",
              "      <td>1805.654789</td>\n",
              "      <td>1568.060984</td>\n",
              "    </tr>\n",
              "    <tr>\n",
              "      <th>12</th>\n",
              "      <td>3103.10</td>\n",
              "      <td>2186.092115</td>\n",
              "      <td>3104.416541</td>\n",
              "    </tr>\n",
              "    <tr>\n",
              "      <th>13</th>\n",
              "      <td>1224.30</td>\n",
              "      <td>1183.202357</td>\n",
              "      <td>1162.116683</td>\n",
              "    </tr>\n",
              "    <tr>\n",
              "      <th>14</th>\n",
              "      <td>1243.20</td>\n",
              "      <td>1370.124677</td>\n",
              "      <td>1319.426750</td>\n",
              "    </tr>\n",
              "    <tr>\n",
              "      <th>15</th>\n",
              "      <td>4870.95</td>\n",
              "      <td>5419.456137</td>\n",
              "      <td>4881.210671</td>\n",
              "    </tr>\n",
              "    <tr>\n",
              "      <th>16</th>\n",
              "      <td>3113.40</td>\n",
              "      <td>1193.429272</td>\n",
              "      <td>3142.942600</td>\n",
              "    </tr>\n",
              "    <tr>\n",
              "      <th>17</th>\n",
              "      <td>4587.49</td>\n",
              "      <td>2926.321058</td>\n",
              "      <td>4590.207118</td>\n",
              "    </tr>\n",
              "    <tr>\n",
              "      <th>18</th>\n",
              "      <td>2758.50</td>\n",
              "      <td>5073.438007</td>\n",
              "      <td>2761.097788</td>\n",
              "    </tr>\n",
              "    <tr>\n",
              "      <th>19</th>\n",
              "      <td>2051.84</td>\n",
              "      <td>4271.163186</td>\n",
              "      <td>2042.263534</td>\n",
              "    </tr>\n",
              "  </tbody>\n",
              "</table>\n",
              "</div>"
            ],
            "text/plain": [
              "    h (LUMMUS)  h (NN-LOOCV)  h (NN-Fitted)\n",
              "0      7001.73   7187.448757    6994.792119\n",
              "1      6776.87   7382.457910    6750.668826\n",
              "2      8695.88   6319.411196    8724.618505\n",
              "3       990.20   1511.348779    1070.752311\n",
              "4       541.68    587.026736     447.941352\n",
              "5       421.42    797.138277     432.633489\n",
              "6       555.12    616.257326     616.747615\n",
              "7       986.64   1172.363599     961.541728\n",
              "8       628.58    728.835679     790.000451\n",
              "9      1086.32    977.942849     981.511398\n",
              "10      986.64    451.892479     893.230337\n",
              "11     1607.10   1805.654789    1568.060984\n",
              "12     3103.10   2186.092115    3104.416541\n",
              "13     1224.30   1183.202357    1162.116683\n",
              "14     1243.20   1370.124677    1319.426750\n",
              "15     4870.95   5419.456137    4881.210671\n",
              "16     3113.40   1193.429272    3142.942600\n",
              "17     4587.49   2926.321058    4590.207118\n",
              "18     2758.50   5073.438007    2761.097788\n",
              "19     2051.84   4271.163186    2042.263534"
            ]
          },
          "metadata": {
            "tags": []
          },
          "execution_count": 46
        }
      ]
    }
  ]
}