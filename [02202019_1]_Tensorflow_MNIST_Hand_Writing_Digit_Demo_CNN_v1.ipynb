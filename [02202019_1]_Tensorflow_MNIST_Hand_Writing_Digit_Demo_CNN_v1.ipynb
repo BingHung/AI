{
  "nbformat": 4,
  "nbformat_minor": 0,
  "metadata": {
    "colab": {
      "name": "[02202019_1]_Tensorflow_MNIST_Hand_Writing_Digit_Demo_CNN-v1.ipynb",
      "version": "0.3.2",
      "provenance": [],
      "collapsed_sections": [],
      "include_colab_link": true
    },
    "kernelspec": {
      "name": "python3",
      "display_name": "Python 3"
    }
  },
  "cells": [
    {
      "cell_type": "markdown",
      "metadata": {
        "id": "view-in-github",
        "colab_type": "text"
      },
      "source": [
        "<a href=\"https://colab.research.google.com/github/BingHung/AI/blob/master/%5B02202019_1%5D_Tensorflow_MNIST_Hand_Writing_Digit_Demo_CNN_v1.ipynb\" target=\"_parent\"><img src=\"https://colab.research.google.com/assets/colab-badge.svg\" alt=\"Open In Colab\"/></a>"
      ]
    },
    {
      "metadata": {
        "id": "nysFnuUAVGHJ",
        "colab_type": "text"
      },
      "cell_type": "markdown",
      "source": [
        "# Preprocess"
      ]
    },
    {
      "metadata": {
        "id": "uIj9FrtWU6Vk",
        "colab_type": "code",
        "outputId": "816d39bb-c5a7-4f9c-b71c-1e3b1a52d88d",
        "colab": {
          "base_uri": "https://localhost:8080/",
          "height": 411
        }
      },
      "cell_type": "code",
      "source": [
        "import tensorflow as tf\n",
        "import tensorflow.examples.tutorials.mnist.input_data as input_data\n",
        "mnist = input_data.read_data_sets(\"official/mnist/dataset.py\",one_hot=True)"
      ],
      "execution_count": 0,
      "outputs": [
        {
          "output_type": "stream",
          "text": [
            "WARNING:tensorflow:From <ipython-input-1-6f4d2a047951>:3: read_data_sets (from tensorflow.contrib.learn.python.learn.datasets.mnist) is deprecated and will be removed in a future version.\n",
            "Instructions for updating:\n",
            "Please use alternatives such as official/mnist/dataset.py from tensorflow/models.\n",
            "WARNING:tensorflow:From /usr/local/lib/python3.6/dist-packages/tensorflow/contrib/learn/python/learn/datasets/mnist.py:260: maybe_download (from tensorflow.contrib.learn.python.learn.datasets.base) is deprecated and will be removed in a future version.\n",
            "Instructions for updating:\n",
            "Please write your own downloading logic.\n",
            "WARNING:tensorflow:From /usr/local/lib/python3.6/dist-packages/tensorflow/contrib/learn/python/learn/datasets/mnist.py:262: extract_images (from tensorflow.contrib.learn.python.learn.datasets.mnist) is deprecated and will be removed in a future version.\n",
            "Instructions for updating:\n",
            "Please use tf.data to implement this functionality.\n",
            "Extracting official/mnist/dataset.py/train-images-idx3-ubyte.gz\n",
            "WARNING:tensorflow:From /usr/local/lib/python3.6/dist-packages/tensorflow/contrib/learn/python/learn/datasets/mnist.py:267: extract_labels (from tensorflow.contrib.learn.python.learn.datasets.mnist) is deprecated and will be removed in a future version.\n",
            "Instructions for updating:\n",
            "Please use tf.data to implement this functionality.\n",
            "Extracting official/mnist/dataset.py/train-labels-idx1-ubyte.gz\n",
            "WARNING:tensorflow:From /usr/local/lib/python3.6/dist-packages/tensorflow/contrib/learn/python/learn/datasets/mnist.py:110: dense_to_one_hot (from tensorflow.contrib.learn.python.learn.datasets.mnist) is deprecated and will be removed in a future version.\n",
            "Instructions for updating:\n",
            "Please use tf.one_hot on tensors.\n",
            "Extracting official/mnist/dataset.py/t10k-images-idx3-ubyte.gz\n",
            "Extracting official/mnist/dataset.py/t10k-labels-idx1-ubyte.gz\n",
            "WARNING:tensorflow:From /usr/local/lib/python3.6/dist-packages/tensorflow/contrib/learn/python/learn/datasets/mnist.py:290: DataSet.__init__ (from tensorflow.contrib.learn.python.learn.datasets.mnist) is deprecated and will be removed in a future version.\n",
            "Instructions for updating:\n",
            "Please use alternatives such as official/mnist/dataset.py from tensorflow/models.\n"
          ],
          "name": "stdout"
        }
      ]
    },
    {
      "metadata": {
        "id": "lZkXmnGiVKCD",
        "colab_type": "code",
        "colab": {}
      },
      "cell_type": "code",
      "source": [
        "def weight(shape):\n",
        "  return tf.Variable(tf.truncated_normal(shape,stddev=0.1),name=\"W\")\n",
        "\n",
        "def bias(shape):\n",
        "  return tf.Variable(tf.constant(0.1,shape=shape),name='b')\n",
        "\n",
        "def conv2d(x,W):\n",
        "  return tf.nn.conv2d(x,W,strides=[1,1,1,1],padding='SAME')\n",
        "\n",
        "def max_pool_2x2(x):\n",
        "  return tf.nn.max_pool(x,ksize=[1,2,2,1],strides=[1,2,2,1],padding='SAME')"
      ],
      "execution_count": 0,
      "outputs": []
    },
    {
      "metadata": {
        "id": "ueSgunIKYL6T",
        "colab_type": "text"
      },
      "cell_type": "markdown",
      "source": [
        "#  Model Construction"
      ]
    },
    {
      "metadata": {
        "id": "lwhua9LiXpaz",
        "colab_type": "code",
        "colab": {}
      },
      "cell_type": "code",
      "source": [
        "with tf.name_scope(\"Input_Layer\"):\n",
        "  x=tf.placeholder('float',shape=[None,784],name='x')\n",
        "  x_image=tf.reshape(x,[-1,28,28,1])"
      ],
      "execution_count": 0,
      "outputs": []
    },
    {
      "metadata": {
        "id": "cblOe1bbYmog",
        "colab_type": "code",
        "outputId": "1f28fe7d-dd8b-4718-fdf9-54a9b10e84f1",
        "colab": {
          "base_uri": "https://localhost:8080/",
          "height": 88
        }
      },
      "cell_type": "code",
      "source": [
        "with tf.name_scope('C1_Conv'):\n",
        "  W1=weight([5,5,1,16])\n",
        "  b1=bias([16])\n",
        "  Conv1=conv2d(x_image,W1)+b1\n",
        "  C1_Conv=tf.nn.relu(Conv1)"
      ],
      "execution_count": 0,
      "outputs": [
        {
          "output_type": "stream",
          "text": [
            "WARNING:tensorflow:From /usr/local/lib/python3.6/dist-packages/tensorflow/python/framework/op_def_library.py:263: colocate_with (from tensorflow.python.framework.ops) is deprecated and will be removed in a future version.\n",
            "Instructions for updating:\n",
            "Colocations handled automatically by placer.\n"
          ],
          "name": "stdout"
        }
      ]
    },
    {
      "metadata": {
        "id": "rXLfCMKyZIj-",
        "colab_type": "code",
        "colab": {}
      },
      "cell_type": "code",
      "source": [
        "with tf.name_scope('C1_Pool'):\n",
        "  C1_Pool = max_pool_2x2(C1_Conv)"
      ],
      "execution_count": 0,
      "outputs": []
    },
    {
      "metadata": {
        "id": "t4myaif3ZnPn",
        "colab_type": "code",
        "colab": {}
      },
      "cell_type": "code",
      "source": [
        "with tf.name_scope('C2_Conv'):\n",
        "  W2=weight([5,5,16,36])\n",
        "  b2=bias([36])\n",
        "  Conv2=conv2d(C1_Pool,W2)+b2\n",
        "  C2_Conv=tf.nn.relu(Conv2)"
      ],
      "execution_count": 0,
      "outputs": []
    },
    {
      "metadata": {
        "id": "AWSO9GIXZ03o",
        "colab_type": "code",
        "colab": {}
      },
      "cell_type": "code",
      "source": [
        "with tf.name_scope('C2_Pool'):\n",
        "  C2_Pool = max_pool_2x2(C2_Conv)"
      ],
      "execution_count": 0,
      "outputs": []
    },
    {
      "metadata": {
        "id": "5P_ck3K5aFkS",
        "colab_type": "code",
        "colab": {}
      },
      "cell_type": "code",
      "source": [
        "with tf.name_scope(\"D_Flat\"):\n",
        "  D_Flat=tf.reshape(C2_Pool,[-1,1764])"
      ],
      "execution_count": 0,
      "outputs": []
    },
    {
      "metadata": {
        "id": "6u7RnhRfaOiW",
        "colab_type": "code",
        "outputId": "1198fd43-5252-4ab6-d3f1-447278d921c5",
        "colab": {
          "base_uri": "https://localhost:8080/",
          "height": 88
        }
      },
      "cell_type": "code",
      "source": [
        "with tf.name_scope(\"D_Hidden_Layer\"):\n",
        "  W3=weight([1764,128])\n",
        "  b3=bias([128])\n",
        "  D_Hidden=tf.nn.relu(tf.matmul(D_Flat,W3)+b3)\n",
        "  D_Hidden_Dropout=tf.nn.dropout(D_Hidden,keep_prob=0.8)"
      ],
      "execution_count": 0,
      "outputs": [
        {
          "output_type": "stream",
          "text": [
            "WARNING:tensorflow:From <ipython-input-9-7fb5d1deb316>:5: calling dropout (from tensorflow.python.ops.nn_ops) with keep_prob is deprecated and will be removed in a future version.\n",
            "Instructions for updating:\n",
            "Please use `rate` instead of `keep_prob`. Rate should be set to `rate = 1 - keep_prob`.\n"
          ],
          "name": "stdout"
        }
      ]
    },
    {
      "metadata": {
        "id": "NAGdCE82asTc",
        "colab_type": "code",
        "colab": {}
      },
      "cell_type": "code",
      "source": [
        "with tf.name_scope('Output_Layer'):\n",
        "  W4=weight([128,10])\n",
        "  b4=bias([10])\n",
        "  y_predict=tf.nn.softmax(tf.matmul(D_Hidden_Dropout,W4)+b4)"
      ],
      "execution_count": 0,
      "outputs": []
    },
    {
      "metadata": {
        "id": "6yvZlB2Ee7Jf",
        "colab_type": "code",
        "outputId": "74d563a2-47d2-4c60-ecaa-33f426165529",
        "colab": {
          "base_uri": "https://localhost:8080/",
          "height": 173
        }
      },
      "cell_type": "code",
      "source": [
        "with tf.name_scope(\"optimizer\"):\n",
        "  y_label = tf.placeholder('float',shape=[None,10],name='y_label')\n",
        "  loss_function=tf.reduce_mean(tf.nn.softmax_cross_entropy_with_logits(logits=y_predict,labels=y_label))\n",
        "  optimizer=tf.train.AdamOptimizer(learning_rate=0.001).minimize(loss_function)"
      ],
      "execution_count": 0,
      "outputs": [
        {
          "output_type": "stream",
          "text": [
            "WARNING:tensorflow:From <ipython-input-11-ae1e5c41599c>:3: softmax_cross_entropy_with_logits (from tensorflow.python.ops.nn_ops) is deprecated and will be removed in a future version.\n",
            "Instructions for updating:\n",
            "\n",
            "Future major versions of TensorFlow will allow gradients to flow\n",
            "into the labels input on backprop by default.\n",
            "\n",
            "See `tf.nn.softmax_cross_entropy_with_logits_v2`.\n",
            "\n"
          ],
          "name": "stdout"
        }
      ]
    },
    {
      "metadata": {
        "id": "VtcSf65NfP_0",
        "colab_type": "code",
        "colab": {}
      },
      "cell_type": "code",
      "source": [
        "with tf.name_scope(\"evaluate_model\"):\n",
        "  correct_prediction = tf.equal(tf.argmax(y_label,1),tf.argmax(y_predict,1))\n",
        "  accuracy=tf.reduce_mean(tf.cast(correct_prediction,'float'))"
      ],
      "execution_count": 0,
      "outputs": []
    },
    {
      "metadata": {
        "id": "o_JnZRZMbXrJ",
        "colab_type": "text"
      },
      "cell_type": "markdown",
      "source": [
        "# Training"
      ]
    },
    {
      "metadata": {
        "id": "jWa3s5TYbLOv",
        "colab_type": "code",
        "colab": {}
      },
      "cell_type": "code",
      "source": [
        "trainEpochs = 30\n",
        "batchSize = 100\n",
        "totalBatchs =int(mnist.train.num_examples/batchSize)\n",
        "loss_list=[];epoch_list=[];accuracy_list=[]\n",
        "from time import time\n",
        "startTime=time()\n",
        "sess=tf.Session()\n",
        "sess.run(tf.global_variables_initializer())"
      ],
      "execution_count": 0,
      "outputs": []
    },
    {
      "metadata": {
        "id": "WV-inLaofz25",
        "colab_type": "code",
        "outputId": "009b2a13-08e4-4516-9040-7f9bb67001ec",
        "colab": {
          "base_uri": "https://localhost:8080/",
          "height": 544
        }
      },
      "cell_type": "code",
      "source": [
        "for epoch in range(trainEpochs):\n",
        "  for i in range(totalBatchs):\n",
        "    batch_x,batch_y=mnist.train.next_batch(batchSize)\n",
        "    sess.run(optimizer,feed_dict={x:batch_x,y_label:batch_y})\n",
        "    \n",
        "  loss,acc=sess.run([loss_function,accuracy],feed_dict={x:mnist.validation.images,y_label:mnist.validation.labels})\n",
        "  \n",
        "  epoch_list.append(epoch)\n",
        "  loss_list.append(loss)\n",
        "  accuracy_list.append(acc)\n",
        "  print('Train Epoch:',  '%02d' % (epoch+1), 'Loss=', '{:.9f}'.format(loss),'Accuracy=',acc)\n",
        "  \n",
        "duration =time()-startTime\n",
        "print(\"Train Finished takes :\",duration)"
      ],
      "execution_count": 0,
      "outputs": [
        {
          "output_type": "stream",
          "text": [
            "Train Epoch: 01 Loss= 1.496325970 Accuracy= 0.9678\n",
            "Train Epoch: 02 Loss= 1.489772797 Accuracy= 0.9716\n",
            "Train Epoch: 03 Loss= 1.485150933 Accuracy= 0.9772\n",
            "Train Epoch: 04 Loss= 1.482161283 Accuracy= 0.9788\n",
            "Train Epoch: 05 Loss= 1.478735566 Accuracy= 0.9824\n",
            "Train Epoch: 06 Loss= 1.477056026 Accuracy= 0.9848\n",
            "Train Epoch: 07 Loss= 1.474501729 Accuracy= 0.9872\n",
            "Train Epoch: 08 Loss= 1.475055456 Accuracy= 0.9864\n",
            "Train Epoch: 09 Loss= 1.472748399 Accuracy= 0.9892\n",
            "Train Epoch: 10 Loss= 1.471974850 Accuracy= 0.9898\n",
            "Train Epoch: 11 Loss= 1.473368406 Accuracy= 0.9878\n",
            "Train Epoch: 12 Loss= 1.473293781 Accuracy= 0.988\n",
            "Train Epoch: 13 Loss= 1.475155830 Accuracy= 0.9862\n",
            "Train Epoch: 14 Loss= 1.473225951 Accuracy= 0.9882\n",
            "Train Epoch: 15 Loss= 1.471629143 Accuracy= 0.9892\n",
            "Train Epoch: 16 Loss= 1.471693635 Accuracy= 0.9896\n",
            "Train Epoch: 17 Loss= 1.471548200 Accuracy= 0.9894\n",
            "Train Epoch: 18 Loss= 1.475011468 Accuracy= 0.9866\n",
            "Train Epoch: 19 Loss= 1.472118616 Accuracy= 0.9888\n",
            "Train Epoch: 20 Loss= 1.472072244 Accuracy= 0.9888\n",
            "Train Epoch: 21 Loss= 1.473580480 Accuracy= 0.988\n",
            "Train Epoch: 22 Loss= 1.474982619 Accuracy= 0.9858\n",
            "Train Epoch: 23 Loss= 1.472122312 Accuracy= 0.9892\n",
            "Train Epoch: 24 Loss= 1.472509742 Accuracy= 0.9884\n",
            "Train Epoch: 25 Loss= 1.471217155 Accuracy= 0.9904\n",
            "Train Epoch: 26 Loss= 1.470766068 Accuracy= 0.9906\n",
            "Train Epoch: 27 Loss= 1.471042514 Accuracy= 0.9902\n",
            "Train Epoch: 28 Loss= 1.471094131 Accuracy= 0.9896\n",
            "Train Epoch: 29 Loss= 1.470155835 Accuracy= 0.991\n",
            "Train Epoch: 30 Loss= 1.470424771 Accuracy= 0.9906\n",
            "Train Finished takes : 2167.408050060272\n"
          ],
          "name": "stdout"
        }
      ]
    },
    {
      "metadata": {
        "id": "AWnpDb_frqR5",
        "colab_type": "text"
      },
      "cell_type": "markdown",
      "source": [
        "# Evaluation"
      ]
    },
    {
      "metadata": {
        "id": "g3oNQJc1f423",
        "colab_type": "code",
        "outputId": "d6a5b535-a9a6-4964-c1df-40458711ad37",
        "colab": {
          "base_uri": "https://localhost:8080/",
          "height": 351
        }
      },
      "cell_type": "code",
      "source": [
        "#%matplotlib inline\n",
        "import matplotlib.pyplot as plt\n",
        "\n",
        "fig = plt.gcf()\n",
        "fig.set_size_inches(10,5)\n",
        "plt.plot(epoch_list,loss_list,label='loss')\n",
        "plt.ylabel('loss')\n",
        "plt.xlabel('epoch')\n",
        "plt.legend(['loss'],loc='upper left')"
      ],
      "execution_count": 0,
      "outputs": [
        {
          "output_type": "execute_result",
          "data": {
            "text/plain": [
              "<matplotlib.legend.Legend at 0x7f8fe8425b38>"
            ]
          },
          "metadata": {
            "tags": []
          },
          "execution_count": 16
        },
        {
          "output_type": "display_data",
          "data": {
            "image/png": "[encoded data removed]",
            "text/plain": [
              "<Figure size 720x360 with 1 Axes>"
            ]
          },
          "metadata": {
            "tags": []
          }
        }
      ]
    },
    {
      "metadata": {
        "id": "WLHC5rzNrrg1",
        "colab_type": "code",
        "outputId": "d6dfa191-df80-4b29-b4ae-cd82a56dcca9",
        "colab": {
          "base_uri": "https://localhost:8080/",
          "height": 355
        }
      },
      "cell_type": "code",
      "source": [
        "fig = plt.gcf()\n",
        "fig.set_size_inches(10,5)\n",
        "plt.plot(epoch_list,accuracy_list,label='accuracy')\n",
        "plt.ylabel('accuracy')\n",
        "plt.xlabel('epoch')\n",
        "plt.ylim(0.95,1)\n",
        "plt.legend(['accuracy'],loc='upper left')"
      ],
      "execution_count": 0,
      "outputs": [
        {
          "output_type": "execute_result",
          "data": {
            "text/plain": [
              "<matplotlib.legend.Legend at 0x7f8fe83d58d0>"
            ]
          },
          "metadata": {
            "tags": []
          },
          "execution_count": 18
        },
        {
          "output_type": "display_data",
          "data": {
            "image/png": "[encoded data removed]",
            "text/plain": [
              "<Figure size 720x360 with 1 Axes>"
            ]
          },
          "metadata": {
            "tags": []
          }
        }
      ]
    },
    {
      "metadata": {
        "id": "s3lW7DV0ruK0",
        "colab_type": "code",
        "outputId": "38ebb33a-4a39-454f-f6d6-ed85729fad18",
        "colab": {
          "base_uri": "https://localhost:8080/",
          "height": 34
        }
      },
      "cell_type": "code",
      "source": [
        "print(\"Accuracy:\",sess.run(accuracy,feed_dict={x:mnist.test.images,y_label:mnist.test.labels}))"
      ],
      "execution_count": 0,
      "outputs": [
        {
          "output_type": "stream",
          "text": [
            "Accuracy: 0.99\n"
          ],
          "name": "stdout"
        }
      ]
    },
    {
      "metadata": {
        "id": "eMhkJ0ner6E6",
        "colab_type": "text"
      },
      "cell_type": "markdown",
      "source": [
        "# Prediction"
      ]
    },
    {
      "metadata": {
        "id": "4RZDVNADr1zM",
        "colab_type": "code",
        "outputId": "59e54285-430f-4e07-da50-b3327438dab7",
        "colab": {
          "base_uri": "https://localhost:8080/",
          "height": 34
        }
      },
      "cell_type": "code",
      "source": [
        "prediction_result=sess.run(tf.argmax(y_predict,1),feed_dict={x:mnist.test.images})\n",
        "prediction_result[:10]"
      ],
      "execution_count": 0,
      "outputs": [
        {
          "output_type": "execute_result",
          "data": {
            "text/plain": [
              "array([7, 2, 1, 0, 4, 1, 4, 9, 5, 9])"
            ]
          },
          "metadata": {
            "tags": []
          },
          "execution_count": 20
        }
      ]
    },
    {
      "metadata": {
        "id": "Z6zC7P0_r-xf",
        "colab_type": "code",
        "outputId": "b400732b-ce1a-48c2-f90e-e3093fa1570a",
        "colab": {
          "base_uri": "https://localhost:8080/",
          "height": 318
        }
      },
      "cell_type": "code",
      "source": [
        "import numpy as np\n",
        "\n",
        "def plot_images_labels_prediction(images,labels,prediction,idx,num=10):\n",
        "  fig=plt.gcf()\n",
        "  fig.set_size_inches(12,14)\n",
        "  if num>25: num=25\n",
        "  for i in range(0,num):\n",
        "    ax=plt.subplot(5,5,1+i)\n",
        "    ax.imshow(np.reshape(images[idx],(28,28)),cmap='binary')\n",
        "    title='label='+str(np.argmax(labels[idx]))\n",
        "    if len(prediction)>0:\n",
        "      title+='prediction='+str(prediction[idx])\n",
        "      \n",
        "    ax.set_title(title,fontsize=10)\n",
        "    ax.set_xticks([]);ax.set_yticks([])\n",
        "    idx+=1\n",
        "  plt.show()\n",
        "\n",
        "plot_images_labels_prediction(mnist.test.images,mnist.test.labels,prediction_result,0)"
      ],
      "execution_count": 0,
      "outputs": [
        {
          "output_type": "display_data",
          "data": {
            "image/png": "[encoded data removed]",
            "text/plain": [
              "<Figure size 864x1008 with 10 Axes>"
            ]
          },
          "metadata": {
            "tags": []
          }
        }
      ]
    },
    {
      "metadata": {
        "id": "W2plhmdusC96",
        "colab_type": "code",
        "colab": {}
      },
      "cell_type": "code",
      "source": [
        ""
      ],
      "execution_count": 0,
      "outputs": []
    }
  ]
}