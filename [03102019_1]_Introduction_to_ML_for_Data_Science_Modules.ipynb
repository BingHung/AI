{
  "nbformat": 4,
  "nbformat_minor": 0,
  "metadata": {
    "colab": {
      "name": "[03102019-1] Introduction to ML for Data Science - Modules.ipynb",
      "version": "0.3.2",
      "provenance": [],
      "collapsed_sections": [],
      "toc_visible": true,
      "include_colab_link": true
    },
    "kernelspec": {
      "name": "python3",
      "display_name": "Python 3"
    }
  },
  "cells": [
    {
      "cell_type": "markdown",
      "metadata": {
        "id": "view-in-github",
        "colab_type": "text"
      },
      "source": [
        "<a href=\"https://colab.research.google.com/github/BingHung/AI/blob/master/%5B03102019_1%5D_Introduction_to_ML_for_Data_Science_Modules.ipynb\" target=\"_parent\"><img src=\"https://colab.research.google.com/assets/colab-badge.svg\" alt=\"Open In Colab\"/></a>"
      ]
    },
    {
      "metadata": {
        "id": "2cJZBUFwhXmD",
        "colab_type": "text"
      },
      "cell_type": "markdown",
      "source": [
        "# Modules - Highest to Lowest Level\n",
        "* Scikit Learn\n",
        "* Scipy\n",
        "* Matplotlib\n",
        "* Pandas\n",
        "* Numpy"
      ]
    },
    {
      "metadata": {
        "id": "XgFK1qgnhlz2",
        "colab_type": "text"
      },
      "cell_type": "markdown",
      "source": [
        "## Numpy - An Array Implementation\n",
        "\n",
        "1. Shape functions\n",
        "2. Linear Algebra Operations\n",
        " *  addition\n",
        " * subtraction\n",
        " * multiplication\n",
        " * division\n",
        " * square root\n",
        " * dot production\n",
        " * inverse \n",
        " * transpose\n",
        " * ...\n",
        "3. Statistical Operations\n",
        " * minimum\n",
        " * maximum\n",
        " * sums\n",
        " * products\n",
        " * mean \n",
        " * ... \n",
        "4. Broadcasting"
      ]
    },
    {
      "metadata": {
        "id": "Wnvvm-DHhKPo",
        "colab_type": "code",
        "colab": {}
      },
      "cell_type": "code",
      "source": [
        "import numpy as np"
      ],
      "execution_count": 0,
      "outputs": []
    },
    {
      "metadata": {
        "id": "s7S8Mp6ZhyCH",
        "colab_type": "code",
        "colab": {}
      },
      "cell_type": "code",
      "source": [
        "ex_np_array1 = np.array([1.0,2.0,3.0,4.0,np.nan])"
      ],
      "execution_count": 0,
      "outputs": []
    },
    {
      "metadata": {
        "id": "8Vbv3pWwh9cJ",
        "colab_type": "code",
        "colab": {
          "base_uri": "https://localhost:8080/",
          "height": 68
        },
        "outputId": "7ff51cc1-c2e4-4e92-db19-801d861e55e9"
      },
      "cell_type": "code",
      "source": [
        "print('1:',type(ex_np_array1))\n",
        "print('2:',ex_np_array1)\n",
        "print('3:',ex_np_array1[0])"
      ],
      "execution_count": 3,
      "outputs": [
        {
          "output_type": "stream",
          "text": [
            "1: <class 'numpy.ndarray'>\n",
            "2: [ 1.  2.  3.  4. nan]\n",
            "3: 1.0\n"
          ],
          "name": "stdout"
        }
      ]
    },
    {
      "metadata": {
        "id": "IpgTsp1xiJYp",
        "colab_type": "code",
        "colab": {}
      },
      "cell_type": "code",
      "source": [
        "ex_np_array2 = np.array([[1,2,3],[4,5,6],[7,8,9]])"
      ],
      "execution_count": 0,
      "outputs": []
    },
    {
      "metadata": {
        "id": "HuncCPxDiX3w",
        "colab_type": "code",
        "colab": {
          "base_uri": "https://localhost:8080/",
          "height": 102
        },
        "outputId": "3fe025d2-8058-4f66-c498-b3d9a6a022d9"
      },
      "cell_type": "code",
      "source": [
        "print('4:',type(ex_np_array2))\n",
        "print('5:',ex_np_array2)\n",
        "print('6:',ex_np_array2[0])"
      ],
      "execution_count": 5,
      "outputs": [
        {
          "output_type": "stream",
          "text": [
            "4: <class 'numpy.ndarray'>\n",
            "5: [[1 2 3]\n",
            " [4 5 6]\n",
            " [7 8 9]]\n",
            "6: [1 2 3]\n"
          ],
          "name": "stdout"
        }
      ]
    },
    {
      "metadata": {
        "id": "2z0qg_8eicBo",
        "colab_type": "code",
        "colab": {
          "base_uri": "https://localhost:8080/",
          "height": 34
        },
        "outputId": "a538b986-fdaf-43ff-f18c-376daf1cae7c"
      },
      "cell_type": "code",
      "source": [
        "ex_np_array1[0]=99.0\n",
        "print('7:',ex_np_array1)"
      ],
      "execution_count": 6,
      "outputs": [
        {
          "output_type": "stream",
          "text": [
            "7: [99.  2.  3.  4. nan]\n"
          ],
          "name": "stdout"
        }
      ]
    },
    {
      "metadata": {
        "id": "jFqJIqaoioK4",
        "colab_type": "code",
        "colab": {
          "base_uri": "https://localhost:8080/",
          "height": 85
        },
        "outputId": "7b64292b-5344-428d-aef8-f4ec7ce6d28f"
      },
      "cell_type": "code",
      "source": [
        "ex_np_array1 = ex_np_array1 * np.pi\n",
        "ex_np_array2 = ex_np_array2 * np.pi\n",
        "\n",
        "print('8:',ex_np_array1)\n",
        "print('9:',ex_np_array2)"
      ],
      "execution_count": 7,
      "outputs": [
        {
          "output_type": "stream",
          "text": [
            "8: [311.01767271   6.28318531   9.42477796  12.56637061          nan]\n",
            "9: [[ 3.14159265  6.28318531  9.42477796]\n",
            " [12.56637061 15.70796327 18.84955592]\n",
            " [21.99114858 25.13274123 28.27433388]]\n"
          ],
          "name": "stdout"
        }
      ]
    },
    {
      "metadata": {
        "id": "K4kkwSwzi3P3",
        "colab_type": "code",
        "colab": {
          "base_uri": "https://localhost:8080/",
          "height": 102
        },
        "outputId": "b747fd3c-b403-40e5-90f6-fa7d11e8b531"
      },
      "cell_type": "code",
      "source": [
        "print('10',np.zeros((5,5)))"
      ],
      "execution_count": 8,
      "outputs": [
        {
          "output_type": "stream",
          "text": [
            "10 [[0. 0. 0. 0. 0.]\n",
            " [0. 0. 0. 0. 0.]\n",
            " [0. 0. 0. 0. 0.]\n",
            " [0. 0. 0. 0. 0.]\n",
            " [0. 0. 0. 0. 0.]]\n"
          ],
          "name": "stdout"
        }
      ]
    },
    {
      "metadata": {
        "id": "ZPakDua-jC8v",
        "colab_type": "code",
        "colab": {
          "base_uri": "https://localhost:8080/",
          "height": 68
        },
        "outputId": "a5c9680e-0111-497c-a3fd-ffed1166f33a"
      },
      "cell_type": "code",
      "source": [
        "print('11',np.ones((3,5)))"
      ],
      "execution_count": 9,
      "outputs": [
        {
          "output_type": "stream",
          "text": [
            "11 [[1. 1. 1. 1. 1.]\n",
            " [1. 1. 1. 1. 1.]\n",
            " [1. 1. 1. 1. 1.]]\n"
          ],
          "name": "stdout"
        }
      ]
    },
    {
      "metadata": {
        "id": "ol8FuGwAjH0G",
        "colab_type": "code",
        "colab": {
          "base_uri": "https://localhost:8080/",
          "height": 51
        },
        "outputId": "a87faf18-68d1-48ca-b31e-bb62ff550c0a"
      },
      "cell_type": "code",
      "source": [
        "print('12',np.full((2,2),np.pi))"
      ],
      "execution_count": 10,
      "outputs": [
        {
          "output_type": "stream",
          "text": [
            "12 [[3.14159265 3.14159265]\n",
            " [3.14159265 3.14159265]]\n"
          ],
          "name": "stdout"
        }
      ]
    },
    {
      "metadata": {
        "id": "ObH5tzJyjNV3",
        "colab_type": "code",
        "colab": {
          "base_uri": "https://localhost:8080/",
          "height": 119
        },
        "outputId": "1443272e-78f7-4164-ebdd-27275b6ceb83"
      },
      "cell_type": "code",
      "source": [
        "ex_np_matrix1 = np.matrix('1 2; 3 4')\n",
        "ex_np_array3 = np.array([[5,6],[7,8]])\n",
        "ex_np_matrix2 = np.mat(ex_np_array3) #Convert arary into matrix\n",
        "\n",
        "print('13',type(ex_np_matrix1))\n",
        "print('14',ex_np_matrix1)\n",
        "\n",
        "print('15',type(ex_np_matrix2))\n",
        "print('16',ex_np_matrix2)"
      ],
      "execution_count": 11,
      "outputs": [
        {
          "output_type": "stream",
          "text": [
            "13 <class 'numpy.matrixlib.defmatrix.matrix'>\n",
            "14 [[1 2]\n",
            " [3 4]]\n",
            "15 <class 'numpy.matrixlib.defmatrix.matrix'>\n",
            "16 [[5 6]\n",
            " [7 8]]\n"
          ],
          "name": "stdout"
        }
      ]
    },
    {
      "metadata": {
        "id": "L5VNUwjpj_Mn",
        "colab_type": "code",
        "colab": {
          "base_uri": "https://localhost:8080/",
          "height": 51
        },
        "outputId": "0fe1f974-710d-48e4-f3a8-a9bbf4fb7d29"
      },
      "cell_type": "code",
      "source": [
        "ex_np_matrix3 = ex_np_matrix1 * ex_np_matrix2\n",
        "print('17',ex_np_matrix3)"
      ],
      "execution_count": 12,
      "outputs": [
        {
          "output_type": "stream",
          "text": [
            "17 [[19 22]\n",
            " [43 50]]\n"
          ],
          "name": "stdout"
        }
      ]
    },
    {
      "metadata": {
        "id": "HT6MOPxDlesI",
        "colab_type": "text"
      },
      "cell_type": "markdown",
      "source": [
        "## Pandas - The Python Data Analysis Library - Dataframe\n",
        "\n",
        "1. Sorting and ranking data\n",
        "2. Appending values\n",
        "3. Merging datasets and adding more columns\n",
        "4. Dealing with NaN values \n",
        "5. Changing value types using map\n",
        "6. Changing value types using get dummies / categorical values\n",
        "7. Interfacing with SQL"
      ]
    },
    {
      "metadata": {
        "id": "H84kkSyKklUU",
        "colab_type": "code",
        "colab": {}
      },
      "cell_type": "code",
      "source": [
        "import pandas as pd\n",
        "import numpy as np"
      ],
      "execution_count": 0,
      "outputs": []
    },
    {
      "metadata": {
        "id": "lcpXURs7mPHV",
        "colab_type": "code",
        "colab": {
          "base_uri": "https://localhost:8080/",
          "height": 204
        },
        "outputId": "19dadebf-341a-43d4-9f2c-d4b9eeeca4e9"
      },
      "cell_type": "code",
      "source": [
        "ex_series = pd.Series([0,1,1,2,3,5,np.nan,13])\n",
        "print('1:',type(ex_series))\n",
        "print('2:',ex_series)\n",
        "print('3:',ex_series[3])"
      ],
      "execution_count": 14,
      "outputs": [
        {
          "output_type": "stream",
          "text": [
            "1: <class 'pandas.core.series.Series'>\n",
            "2: 0     0.0\n",
            "1     1.0\n",
            "2     1.0\n",
            "3     2.0\n",
            "4     3.0\n",
            "5     5.0\n",
            "6     NaN\n",
            "7    13.0\n",
            "dtype: float64\n",
            "3: 2.0\n"
          ],
          "name": "stdout"
        }
      ]
    },
    {
      "metadata": {
        "id": "Mh58p815mmHu",
        "colab_type": "code",
        "colab": {
          "base_uri": "https://localhost:8080/",
          "height": 204
        },
        "outputId": "ffab3d13-c7e4-4684-bf5c-756eef30cb04"
      },
      "cell_type": "code",
      "source": [
        "ex_dataframe = pd.DataFrame({'date':['03-06-2019','03-07-2019','03-08-2019','03-09-2019','03-10-2019'], \\\n",
        "                                     'rainfall':[0,3.5,1.2,4.8,9.9]})\n",
        "ex_dataframe"
      ],
      "execution_count": 15,
      "outputs": [
        {
          "output_type": "execute_result",
          "data": {
            "text/html": [
              "<div>\n",
              "<style scoped>\n",
              "    .dataframe tbody tr th:only-of-type {\n",
              "        vertical-align: middle;\n",
              "    }\n",
              "\n",
              "    .dataframe tbody tr th {\n",
              "        vertical-align: top;\n",
              "    }\n",
              "\n",
              "    .dataframe thead th {\n",
              "        text-align: right;\n",
              "    }\n",
              "</style>\n",
              "<table border=\"1\" class=\"dataframe\">\n",
              "  <thead>\n",
              "    <tr style=\"text-align: right;\">\n",
              "      <th></th>\n",
              "      <th>date</th>\n",
              "      <th>rainfall</th>\n",
              "    </tr>\n",
              "  </thead>\n",
              "  <tbody>\n",
              "    <tr>\n",
              "      <th>0</th>\n",
              "      <td>03-06-2019</td>\n",
              "      <td>0.0</td>\n",
              "    </tr>\n",
              "    <tr>\n",
              "      <th>1</th>\n",
              "      <td>03-07-2019</td>\n",
              "      <td>3.5</td>\n",
              "    </tr>\n",
              "    <tr>\n",
              "      <th>2</th>\n",
              "      <td>03-08-2019</td>\n",
              "      <td>1.2</td>\n",
              "    </tr>\n",
              "    <tr>\n",
              "      <th>3</th>\n",
              "      <td>03-09-2019</td>\n",
              "      <td>4.8</td>\n",
              "    </tr>\n",
              "    <tr>\n",
              "      <th>4</th>\n",
              "      <td>03-10-2019</td>\n",
              "      <td>9.9</td>\n",
              "    </tr>\n",
              "  </tbody>\n",
              "</table>\n",
              "</div>"
            ],
            "text/plain": [
              "         date  rainfall\n",
              "0  03-06-2019       0.0\n",
              "1  03-07-2019       3.5\n",
              "2  03-08-2019       1.2\n",
              "3  03-09-2019       4.8\n",
              "4  03-10-2019       9.9"
            ]
          },
          "metadata": {
            "tags": []
          },
          "execution_count": 15
        }
      ]
    },
    {
      "metadata": {
        "id": "98FIUXi8r9Qf",
        "colab_type": "code",
        "colab": {
          "base_uri": "https://localhost:8080/",
          "height": 68
        },
        "outputId": "4468a63c-20a4-412f-9e07-25a0fd247fca"
      },
      "cell_type": "code",
      "source": [
        "ex_dataframe.dtypes"
      ],
      "execution_count": 16,
      "outputs": [
        {
          "output_type": "execute_result",
          "data": {
            "text/plain": [
              "date         object\n",
              "rainfall    float64\n",
              "dtype: object"
            ]
          },
          "metadata": {
            "tags": []
          },
          "execution_count": 16
        }
      ]
    },
    {
      "metadata": {
        "id": "Un7soGsesq_c",
        "colab_type": "code",
        "colab": {}
      },
      "cell_type": "code",
      "source": [
        "ex_dataframe.to_csv('rainfall.csv')"
      ],
      "execution_count": 0,
      "outputs": []
    },
    {
      "metadata": {
        "id": "QN2Nww30tdh5",
        "colab_type": "code",
        "colab": {
          "base_uri": "https://localhost:8080/",
          "height": 204
        },
        "outputId": "78b7e0ac-de5d-4b55-964d-51fd5c3b5849"
      },
      "cell_type": "code",
      "source": [
        "ex_rainfall = pd.read_csv('./rainfall.csv')\n",
        "ex_rainfall.head()"
      ],
      "execution_count": 18,
      "outputs": [
        {
          "output_type": "execute_result",
          "data": {
            "text/html": [
              "<div>\n",
              "<style scoped>\n",
              "    .dataframe tbody tr th:only-of-type {\n",
              "        vertical-align: middle;\n",
              "    }\n",
              "\n",
              "    .dataframe tbody tr th {\n",
              "        vertical-align: top;\n",
              "    }\n",
              "\n",
              "    .dataframe thead th {\n",
              "        text-align: right;\n",
              "    }\n",
              "</style>\n",
              "<table border=\"1\" class=\"dataframe\">\n",
              "  <thead>\n",
              "    <tr style=\"text-align: right;\">\n",
              "      <th></th>\n",
              "      <th>Unnamed: 0</th>\n",
              "      <th>date</th>\n",
              "      <th>rainfall</th>\n",
              "    </tr>\n",
              "  </thead>\n",
              "  <tbody>\n",
              "    <tr>\n",
              "      <th>0</th>\n",
              "      <td>0</td>\n",
              "      <td>03-06-2019</td>\n",
              "      <td>0.0</td>\n",
              "    </tr>\n",
              "    <tr>\n",
              "      <th>1</th>\n",
              "      <td>1</td>\n",
              "      <td>03-07-2019</td>\n",
              "      <td>3.5</td>\n",
              "    </tr>\n",
              "    <tr>\n",
              "      <th>2</th>\n",
              "      <td>2</td>\n",
              "      <td>03-08-2019</td>\n",
              "      <td>1.2</td>\n",
              "    </tr>\n",
              "    <tr>\n",
              "      <th>3</th>\n",
              "      <td>3</td>\n",
              "      <td>03-09-2019</td>\n",
              "      <td>4.8</td>\n",
              "    </tr>\n",
              "    <tr>\n",
              "      <th>4</th>\n",
              "      <td>4</td>\n",
              "      <td>03-10-2019</td>\n",
              "      <td>9.9</td>\n",
              "    </tr>\n",
              "  </tbody>\n",
              "</table>\n",
              "</div>"
            ],
            "text/plain": [
              "   Unnamed: 0        date  rainfall\n",
              "0           0  03-06-2019       0.0\n",
              "1           1  03-07-2019       3.5\n",
              "2           2  03-08-2019       1.2\n",
              "3           3  03-09-2019       4.8\n",
              "4           4  03-10-2019       9.9"
            ]
          },
          "metadata": {
            "tags": []
          },
          "execution_count": 18
        }
      ]
    },
    {
      "metadata": {
        "id": "iAw-smeKu6z6",
        "colab_type": "code",
        "colab": {
          "base_uri": "https://localhost:8080/",
          "height": 111
        },
        "outputId": "95ed6575-7eb5-4bc2-fb5a-8b2f97b8ad45"
      },
      "cell_type": "code",
      "source": [
        "ex_rainfall.head(2)"
      ],
      "execution_count": 19,
      "outputs": [
        {
          "output_type": "execute_result",
          "data": {
            "text/html": [
              "<div>\n",
              "<style scoped>\n",
              "    .dataframe tbody tr th:only-of-type {\n",
              "        vertical-align: middle;\n",
              "    }\n",
              "\n",
              "    .dataframe tbody tr th {\n",
              "        vertical-align: top;\n",
              "    }\n",
              "\n",
              "    .dataframe thead th {\n",
              "        text-align: right;\n",
              "    }\n",
              "</style>\n",
              "<table border=\"1\" class=\"dataframe\">\n",
              "  <thead>\n",
              "    <tr style=\"text-align: right;\">\n",
              "      <th></th>\n",
              "      <th>Unnamed: 0</th>\n",
              "      <th>date</th>\n",
              "      <th>rainfall</th>\n",
              "    </tr>\n",
              "  </thead>\n",
              "  <tbody>\n",
              "    <tr>\n",
              "      <th>0</th>\n",
              "      <td>0</td>\n",
              "      <td>03-06-2019</td>\n",
              "      <td>0.0</td>\n",
              "    </tr>\n",
              "    <tr>\n",
              "      <th>1</th>\n",
              "      <td>1</td>\n",
              "      <td>03-07-2019</td>\n",
              "      <td>3.5</td>\n",
              "    </tr>\n",
              "  </tbody>\n",
              "</table>\n",
              "</div>"
            ],
            "text/plain": [
              "   Unnamed: 0        date  rainfall\n",
              "0           0  03-06-2019       0.0\n",
              "1           1  03-07-2019       3.5"
            ]
          },
          "metadata": {
            "tags": []
          },
          "execution_count": 19
        }
      ]
    },
    {
      "metadata": {
        "id": "Aa-AjDFVu-HQ",
        "colab_type": "code",
        "colab": {
          "base_uri": "https://localhost:8080/",
          "height": 204
        },
        "outputId": "000ff265-99ff-4a12-afb2-6f960c49222b"
      },
      "cell_type": "code",
      "source": [
        "ex_rainfall.tail()"
      ],
      "execution_count": 20,
      "outputs": [
        {
          "output_type": "execute_result",
          "data": {
            "text/html": [
              "<div>\n",
              "<style scoped>\n",
              "    .dataframe tbody tr th:only-of-type {\n",
              "        vertical-align: middle;\n",
              "    }\n",
              "\n",
              "    .dataframe tbody tr th {\n",
              "        vertical-align: top;\n",
              "    }\n",
              "\n",
              "    .dataframe thead th {\n",
              "        text-align: right;\n",
              "    }\n",
              "</style>\n",
              "<table border=\"1\" class=\"dataframe\">\n",
              "  <thead>\n",
              "    <tr style=\"text-align: right;\">\n",
              "      <th></th>\n",
              "      <th>Unnamed: 0</th>\n",
              "      <th>date</th>\n",
              "      <th>rainfall</th>\n",
              "    </tr>\n",
              "  </thead>\n",
              "  <tbody>\n",
              "    <tr>\n",
              "      <th>0</th>\n",
              "      <td>0</td>\n",
              "      <td>03-06-2019</td>\n",
              "      <td>0.0</td>\n",
              "    </tr>\n",
              "    <tr>\n",
              "      <th>1</th>\n",
              "      <td>1</td>\n",
              "      <td>03-07-2019</td>\n",
              "      <td>3.5</td>\n",
              "    </tr>\n",
              "    <tr>\n",
              "      <th>2</th>\n",
              "      <td>2</td>\n",
              "      <td>03-08-2019</td>\n",
              "      <td>1.2</td>\n",
              "    </tr>\n",
              "    <tr>\n",
              "      <th>3</th>\n",
              "      <td>3</td>\n",
              "      <td>03-09-2019</td>\n",
              "      <td>4.8</td>\n",
              "    </tr>\n",
              "    <tr>\n",
              "      <th>4</th>\n",
              "      <td>4</td>\n",
              "      <td>03-10-2019</td>\n",
              "      <td>9.9</td>\n",
              "    </tr>\n",
              "  </tbody>\n",
              "</table>\n",
              "</div>"
            ],
            "text/plain": [
              "   Unnamed: 0        date  rainfall\n",
              "0           0  03-06-2019       0.0\n",
              "1           1  03-07-2019       3.5\n",
              "2           2  03-08-2019       1.2\n",
              "3           3  03-09-2019       4.8\n",
              "4           4  03-10-2019       9.9"
            ]
          },
          "metadata": {
            "tags": []
          },
          "execution_count": 20
        }
      ]
    },
    {
      "metadata": {
        "id": "QUtDnNnlvByP",
        "colab_type": "code",
        "colab": {
          "base_uri": "https://localhost:8080/",
          "height": 34
        },
        "outputId": "65718473-e301-41f2-f803-9664b1828676"
      },
      "cell_type": "code",
      "source": [
        "print('4',ex_rainfall.shape)"
      ],
      "execution_count": 21,
      "outputs": [
        {
          "output_type": "stream",
          "text": [
            "4 (5, 3)\n"
          ],
          "name": "stdout"
        }
      ]
    },
    {
      "metadata": {
        "id": "41p3B2WgvRkg",
        "colab_type": "code",
        "colab": {
          "base_uri": "https://localhost:8080/",
          "height": 34
        },
        "outputId": "3eaa24ba-ab1f-4478-ad59-24817274c581"
      },
      "cell_type": "code",
      "source": [
        "print('5',ex_rainfall.size)"
      ],
      "execution_count": 22,
      "outputs": [
        {
          "output_type": "stream",
          "text": [
            "5 15\n"
          ],
          "name": "stdout"
        }
      ]
    },
    {
      "metadata": {
        "id": "qDXLOjDavRri",
        "colab_type": "code",
        "colab": {
          "base_uri": "https://localhost:8080/",
          "height": 34
        },
        "outputId": "63e2c2b3-a222-41fd-9d00-69ed768e1586"
      },
      "cell_type": "code",
      "source": [
        "print('6',len(ex_rainfall))"
      ],
      "execution_count": 23,
      "outputs": [
        {
          "output_type": "stream",
          "text": [
            "6 5\n"
          ],
          "name": "stdout"
        }
      ]
    },
    {
      "metadata": {
        "id": "2vaTryP2vRpb",
        "colab_type": "code",
        "colab": {
          "base_uri": "https://localhost:8080/",
          "height": 34
        },
        "outputId": "65824f48-2ca8-413b-d612-57f28f3f40da"
      },
      "cell_type": "code",
      "source": [
        "print('7',ex_rainfall.columns)"
      ],
      "execution_count": 24,
      "outputs": [
        {
          "output_type": "stream",
          "text": [
            "7 Index(['Unnamed: 0', 'date', 'rainfall'], dtype='object')\n"
          ],
          "name": "stdout"
        }
      ]
    },
    {
      "metadata": {
        "id": "4JH5OllIvnCA",
        "colab_type": "code",
        "colab": {
          "base_uri": "https://localhost:8080/",
          "height": 85
        },
        "outputId": "ea293522-9c5b-4f3e-de82-3cf8484c0b16"
      },
      "cell_type": "code",
      "source": [
        "print('8',ex_rainfall.count())"
      ],
      "execution_count": 25,
      "outputs": [
        {
          "output_type": "stream",
          "text": [
            "8 Unnamed: 0    5\n",
            "date          5\n",
            "rainfall      5\n",
            "dtype: int64\n"
          ],
          "name": "stdout"
        }
      ]
    },
    {
      "metadata": {
        "id": "VMKN_wgFvw3e",
        "colab_type": "code",
        "colab": {
          "base_uri": "https://localhost:8080/",
          "height": 85
        },
        "outputId": "a3fdf28b-c8df-4fc5-f525-c5e1f249033d"
      },
      "cell_type": "code",
      "source": [
        "print('9',ex_rainfall.dtypes)"
      ],
      "execution_count": 26,
      "outputs": [
        {
          "output_type": "stream",
          "text": [
            "9 Unnamed: 0      int64\n",
            "date           object\n",
            "rainfall      float64\n",
            "dtype: object\n"
          ],
          "name": "stdout"
        }
      ]
    },
    {
      "metadata": {
        "id": "_izmU_IWv8av",
        "colab_type": "code",
        "colab": {
          "base_uri": "https://localhost:8080/",
          "height": 170
        },
        "outputId": "d88f28cf-2aaf-4700-e48b-69e8fcc13fb9"
      },
      "cell_type": "code",
      "source": [
        "print('10',ex_rainfall.info())"
      ],
      "execution_count": 27,
      "outputs": [
        {
          "output_type": "stream",
          "text": [
            "<class 'pandas.core.frame.DataFrame'>\n",
            "RangeIndex: 5 entries, 0 to 4\n",
            "Data columns (total 3 columns):\n",
            "Unnamed: 0    5 non-null int64\n",
            "date          5 non-null object\n",
            "rainfall      5 non-null float64\n",
            "dtypes: float64(1), int64(1), object(1)\n",
            "memory usage: 200.0+ bytes\n",
            "10 None\n"
          ],
          "name": "stdout"
        }
      ]
    },
    {
      "metadata": {
        "id": "k-o0s9l6wSWu",
        "colab_type": "code",
        "colab": {
          "base_uri": "https://localhost:8080/",
          "height": 85
        },
        "outputId": "87bed1f6-ee51-4955-da7d-69100c116ba0"
      },
      "cell_type": "code",
      "source": [
        "print('11',ex_rainfall[\"date\"].head(3))"
      ],
      "execution_count": 28,
      "outputs": [
        {
          "output_type": "stream",
          "text": [
            "11 0    03-06-2019\n",
            "1    03-07-2019\n",
            "2    03-08-2019\n",
            "Name: date, dtype: object\n"
          ],
          "name": "stdout"
        }
      ]
    },
    {
      "metadata": {
        "id": "J70lzq4jwfCF",
        "colab_type": "code",
        "colab": {
          "base_uri": "https://localhost:8080/",
          "height": 85
        },
        "outputId": "c6853d9c-3d2b-4566-84ef-35b26bd2371b"
      },
      "cell_type": "code",
      "source": [
        "print('12',ex_rainfall[[\"date\",\"rainfall\"]].head(3))\n",
        "# notice the syntax here [[]] - we need to pass a list"
      ],
      "execution_count": 29,
      "outputs": [
        {
          "output_type": "stream",
          "text": [
            "12          date  rainfall\n",
            "0  03-06-2019       0.0\n",
            "1  03-07-2019       3.5\n",
            "2  03-08-2019       1.2\n"
          ],
          "name": "stdout"
        }
      ]
    },
    {
      "metadata": {
        "id": "4tFgDwV9w82v",
        "colab_type": "code",
        "colab": {
          "base_uri": "https://localhost:8080/",
          "height": 85
        },
        "outputId": "ccd4cf1a-b9e2-4616-ae9d-cda151b18d4a"
      },
      "cell_type": "code",
      "source": [
        "print('13',ex_rainfall.loc[0]) # accessing a single row"
      ],
      "execution_count": 30,
      "outputs": [
        {
          "output_type": "stream",
          "text": [
            "13 Unnamed: 0             0\n",
            "date          03-06-2019\n",
            "rainfall               0\n",
            "Name: 0, dtype: object\n"
          ],
          "name": "stdout"
        }
      ]
    },
    {
      "metadata": {
        "id": "BauoSbOOxLd1",
        "colab_type": "code",
        "colab": {
          "base_uri": "https://localhost:8080/",
          "height": 34
        },
        "outputId": "5596a9be-7033-4d61-9ebe-41c4f6293cd5"
      },
      "cell_type": "code",
      "source": [
        "print('14',ex_rainfall.loc[0,'date']) # accessing a single value"
      ],
      "execution_count": 31,
      "outputs": [
        {
          "output_type": "stream",
          "text": [
            "14 03-06-2019\n"
          ],
          "name": "stdout"
        }
      ]
    },
    {
      "metadata": {
        "id": "_yVH8TTgxS6w",
        "colab_type": "code",
        "colab": {
          "base_uri": "https://localhost:8080/",
          "height": 68
        },
        "outputId": "f06a262b-6bba-45d1-b134-1f7c755030a4"
      },
      "cell_type": "code",
      "source": [
        "print('15',ex_rainfall['date'][:2])"
      ],
      "execution_count": 32,
      "outputs": [
        {
          "output_type": "stream",
          "text": [
            "15 0    03-06-2019\n",
            "1    03-07-2019\n",
            "Name: date, dtype: object\n"
          ],
          "name": "stdout"
        }
      ]
    },
    {
      "metadata": {
        "id": "wnXGFbXUxiWR",
        "colab_type": "code",
        "colab": {
          "base_uri": "https://localhost:8080/",
          "height": 119
        },
        "outputId": "59ebac3a-0710-4fb1-ed5a-79ff37f7d7e1"
      },
      "cell_type": "code",
      "source": [
        "print('16',ex_rainfall.drop(['date'],axis=1))"
      ],
      "execution_count": 33,
      "outputs": [
        {
          "output_type": "stream",
          "text": [
            "16    Unnamed: 0  rainfall\n",
            "0           0       0.0\n",
            "1           1       3.5\n",
            "2           2       1.2\n",
            "3           3       4.8\n",
            "4           4       9.9\n"
          ],
          "name": "stdout"
        }
      ]
    },
    {
      "metadata": {
        "id": "RbD3dZjfxwTu",
        "colab_type": "code",
        "colab": {
          "base_uri": "https://localhost:8080/",
          "height": 119
        },
        "outputId": "62daf0f7-e426-4804-b152-35c358f55da5"
      },
      "cell_type": "code",
      "source": [
        "print('17',ex_rainfall.dropna()) #drop any Nan elemetns"
      ],
      "execution_count": 34,
      "outputs": [
        {
          "output_type": "stream",
          "text": [
            "17    Unnamed: 0        date  rainfall\n",
            "0           0  03-06-2019       0.0\n",
            "1           1  03-07-2019       3.5\n",
            "2           2  03-08-2019       1.2\n",
            "3           3  03-09-2019       4.8\n",
            "4           4  03-10-2019       9.9\n"
          ],
          "name": "stdout"
        }
      ]
    },
    {
      "metadata": {
        "id": "RNaMbf6iyKzF",
        "colab_type": "code",
        "colab": {
          "base_uri": "https://localhost:8080/",
          "height": 119
        },
        "outputId": "12b57e6e-85d4-48ac-e121-8decf21f82bf"
      },
      "cell_type": "code",
      "source": [
        "print('18',ex_rainfall['rainfall']==1.2)"
      ],
      "execution_count": 35,
      "outputs": [
        {
          "output_type": "stream",
          "text": [
            "18 0    False\n",
            "1    False\n",
            "2     True\n",
            "3    False\n",
            "4    False\n",
            "Name: rainfall, dtype: bool\n"
          ],
          "name": "stdout"
        }
      ]
    },
    {
      "metadata": {
        "id": "YVufp5e6ycKA",
        "colab_type": "code",
        "colab": {
          "base_uri": "https://localhost:8080/",
          "height": 51
        },
        "outputId": "d444a5de-8d8f-4ceb-ffe2-ab871b941f53"
      },
      "cell_type": "code",
      "source": [
        "print('19',ex_rainfall[ex_rainfall['rainfall']==1.2])"
      ],
      "execution_count": 36,
      "outputs": [
        {
          "output_type": "stream",
          "text": [
            "19    Unnamed: 0        date  rainfall\n",
            "2           2  03-08-2019       1.2\n"
          ],
          "name": "stdout"
        }
      ]
    },
    {
      "metadata": {
        "id": "roN-F_N9yyh8",
        "colab_type": "code",
        "colab": {
          "base_uri": "https://localhost:8080/",
          "height": 170
        },
        "outputId": "6886a63d-7f8e-47f9-ff7c-0c4b015ae0cf"
      },
      "cell_type": "code",
      "source": [
        "print('20',ex_rainfall['rainfall'].describe())"
      ],
      "execution_count": 37,
      "outputs": [
        {
          "output_type": "stream",
          "text": [
            "20 count    5.000000\n",
            "mean     3.880000\n",
            "std      3.855775\n",
            "min      0.000000\n",
            "25%      1.200000\n",
            "50%      3.500000\n",
            "75%      4.800000\n",
            "max      9.900000\n",
            "Name: rainfall, dtype: float64\n"
          ],
          "name": "stdout"
        }
      ]
    },
    {
      "metadata": {
        "id": "KPbfR0RrzJca",
        "colab_type": "code",
        "colab": {
          "base_uri": "https://localhost:8080/",
          "height": 119
        },
        "outputId": "e5bdbaa5-a1f2-4053-e928-b2b967d93cb6"
      },
      "cell_type": "code",
      "source": [
        "print('21',ex_rainfall.date.value_counts())"
      ],
      "execution_count": 38,
      "outputs": [
        {
          "output_type": "stream",
          "text": [
            "21 03-06-2019    1\n",
            "03-10-2019    1\n",
            "03-08-2019    1\n",
            "03-09-2019    1\n",
            "03-07-2019    1\n",
            "Name: date, dtype: int64\n"
          ],
          "name": "stdout"
        }
      ]
    },
    {
      "metadata": {
        "id": "PHeXT-uwlk5l",
        "colab_type": "text"
      },
      "cell_type": "markdown",
      "source": [
        "## Matplotlib - Plotting Library\n",
        "1. plot basic 2D line graphs\n",
        "2. plot scatter, step, bar and fill between graph\n",
        "3. create histograms\n",
        "4.  develop colour maps (heat maps)\n",
        "5. plot 3d graphs\n",
        "\n",
        "* Manual : https://matplotlib.org/Matplotlib.pdf\n",
        "* Additional resource : https://github.com/jrjohansson/scientific-python-lectures/blob/master/Lecture-4-Matplotlib.ipynb"
      ]
    },
    {
      "metadata": {
        "id": "P0im99otlpqS",
        "colab_type": "code",
        "colab": {}
      },
      "cell_type": "code",
      "source": [
        "import matplotlib.pyplot as plt"
      ],
      "execution_count": 0,
      "outputs": []
    },
    {
      "metadata": {
        "id": "LZ2tvzFf0HEK",
        "colab_type": "code",
        "colab": {
          "base_uri": "https://localhost:8080/",
          "height": 366
        },
        "outputId": "0124444d-1a89-4f83-ef11-e88475add6cb"
      },
      "cell_type": "code",
      "source": [
        "ex_rainfall.rainfall.value_counts().plot(kind='bar')\n",
        "plt.title(\"distribution of rainfall\")\n",
        "plt.show()"
      ],
      "execution_count": 40,
      "outputs": [
        {
          "output_type": "display_data",
          "data": {
            "image/png": "[encoded data removed]",
            "text/plain": [
              "<Figure size 576x396 with 1 Axes>"
            ]
          },
          "metadata": {
            "tags": []
          }
        }
      ]
    },
    {
      "metadata": {
        "id": "HFQrSc4R4Dqb",
        "colab_type": "code",
        "colab": {
          "base_uri": "https://localhost:8080/",
          "height": 235
        },
        "outputId": "35aa9ccd-3968-4985-c5a1-54f8c9caa032"
      },
      "cell_type": "code",
      "source": [
        "ex_rainfall.groupby(['rainfall']).mean()"
      ],
      "execution_count": 41,
      "outputs": [
        {
          "output_type": "execute_result",
          "data": {
            "text/html": [
              "<div>\n",
              "<style scoped>\n",
              "    .dataframe tbody tr th:only-of-type {\n",
              "        vertical-align: middle;\n",
              "    }\n",
              "\n",
              "    .dataframe tbody tr th {\n",
              "        vertical-align: top;\n",
              "    }\n",
              "\n",
              "    .dataframe thead th {\n",
              "        text-align: right;\n",
              "    }\n",
              "</style>\n",
              "<table border=\"1\" class=\"dataframe\">\n",
              "  <thead>\n",
              "    <tr style=\"text-align: right;\">\n",
              "      <th></th>\n",
              "      <th>Unnamed: 0</th>\n",
              "    </tr>\n",
              "    <tr>\n",
              "      <th>rainfall</th>\n",
              "      <th></th>\n",
              "    </tr>\n",
              "  </thead>\n",
              "  <tbody>\n",
              "    <tr>\n",
              "      <th>0.0</th>\n",
              "      <td>0</td>\n",
              "    </tr>\n",
              "    <tr>\n",
              "      <th>1.2</th>\n",
              "      <td>2</td>\n",
              "    </tr>\n",
              "    <tr>\n",
              "      <th>3.5</th>\n",
              "      <td>1</td>\n",
              "    </tr>\n",
              "    <tr>\n",
              "      <th>4.8</th>\n",
              "      <td>3</td>\n",
              "    </tr>\n",
              "    <tr>\n",
              "      <th>9.9</th>\n",
              "      <td>4</td>\n",
              "    </tr>\n",
              "  </tbody>\n",
              "</table>\n",
              "</div>"
            ],
            "text/plain": [
              "          Unnamed: 0\n",
              "rainfall            \n",
              "0.0                0\n",
              "1.2                2\n",
              "3.5                1\n",
              "4.8                3\n",
              "9.9                4"
            ]
          },
          "metadata": {
            "tags": []
          },
          "execution_count": 41
        }
      ]
    },
    {
      "metadata": {
        "id": "lAa95YfR4RoD",
        "colab_type": "code",
        "colab": {
          "base_uri": "https://localhost:8080/",
          "height": 266
        },
        "outputId": "0f163be3-bf71-477c-ca56-91701505504f"
      },
      "cell_type": "code",
      "source": [
        "ex_rainfall.groupby(['rainfall']).describe()"
      ],
      "execution_count": 42,
      "outputs": [
        {
          "output_type": "execute_result",
          "data": {
            "text/html": [
              "<div>\n",
              "<style scoped>\n",
              "    .dataframe tbody tr th:only-of-type {\n",
              "        vertical-align: middle;\n",
              "    }\n",
              "\n",
              "    .dataframe tbody tr th {\n",
              "        vertical-align: top;\n",
              "    }\n",
              "\n",
              "    .dataframe thead tr th {\n",
              "        text-align: left;\n",
              "    }\n",
              "\n",
              "    .dataframe thead tr:last-of-type th {\n",
              "        text-align: right;\n",
              "    }\n",
              "</style>\n",
              "<table border=\"1\" class=\"dataframe\">\n",
              "  <thead>\n",
              "    <tr>\n",
              "      <th></th>\n",
              "      <th colspan=\"8\" halign=\"left\">Unnamed: 0</th>\n",
              "    </tr>\n",
              "    <tr>\n",
              "      <th></th>\n",
              "      <th>count</th>\n",
              "      <th>mean</th>\n",
              "      <th>std</th>\n",
              "      <th>min</th>\n",
              "      <th>25%</th>\n",
              "      <th>50%</th>\n",
              "      <th>75%</th>\n",
              "      <th>max</th>\n",
              "    </tr>\n",
              "    <tr>\n",
              "      <th>rainfall</th>\n",
              "      <th></th>\n",
              "      <th></th>\n",
              "      <th></th>\n",
              "      <th></th>\n",
              "      <th></th>\n",
              "      <th></th>\n",
              "      <th></th>\n",
              "      <th></th>\n",
              "    </tr>\n",
              "  </thead>\n",
              "  <tbody>\n",
              "    <tr>\n",
              "      <th>0.0</th>\n",
              "      <td>1.0</td>\n",
              "      <td>0.0</td>\n",
              "      <td>NaN</td>\n",
              "      <td>0.0</td>\n",
              "      <td>0.0</td>\n",
              "      <td>0.0</td>\n",
              "      <td>0.0</td>\n",
              "      <td>0.0</td>\n",
              "    </tr>\n",
              "    <tr>\n",
              "      <th>1.2</th>\n",
              "      <td>1.0</td>\n",
              "      <td>2.0</td>\n",
              "      <td>NaN</td>\n",
              "      <td>2.0</td>\n",
              "      <td>2.0</td>\n",
              "      <td>2.0</td>\n",
              "      <td>2.0</td>\n",
              "      <td>2.0</td>\n",
              "    </tr>\n",
              "    <tr>\n",
              "      <th>3.5</th>\n",
              "      <td>1.0</td>\n",
              "      <td>1.0</td>\n",
              "      <td>NaN</td>\n",
              "      <td>1.0</td>\n",
              "      <td>1.0</td>\n",
              "      <td>1.0</td>\n",
              "      <td>1.0</td>\n",
              "      <td>1.0</td>\n",
              "    </tr>\n",
              "    <tr>\n",
              "      <th>4.8</th>\n",
              "      <td>1.0</td>\n",
              "      <td>3.0</td>\n",
              "      <td>NaN</td>\n",
              "      <td>3.0</td>\n",
              "      <td>3.0</td>\n",
              "      <td>3.0</td>\n",
              "      <td>3.0</td>\n",
              "      <td>3.0</td>\n",
              "    </tr>\n",
              "    <tr>\n",
              "      <th>9.9</th>\n",
              "      <td>1.0</td>\n",
              "      <td>4.0</td>\n",
              "      <td>NaN</td>\n",
              "      <td>4.0</td>\n",
              "      <td>4.0</td>\n",
              "      <td>4.0</td>\n",
              "      <td>4.0</td>\n",
              "      <td>4.0</td>\n",
              "    </tr>\n",
              "  </tbody>\n",
              "</table>\n",
              "</div>"
            ],
            "text/plain": [
              "         Unnamed: 0                                  \n",
              "              count mean std  min  25%  50%  75%  max\n",
              "rainfall                                             \n",
              "0.0             1.0  0.0 NaN  0.0  0.0  0.0  0.0  0.0\n",
              "1.2             1.0  2.0 NaN  2.0  2.0  2.0  2.0  2.0\n",
              "3.5             1.0  1.0 NaN  1.0  1.0  1.0  1.0  1.0\n",
              "4.8             1.0  3.0 NaN  3.0  3.0  3.0  3.0  3.0\n",
              "9.9             1.0  4.0 NaN  4.0  4.0  4.0  4.0  4.0"
            ]
          },
          "metadata": {
            "tags": []
          },
          "execution_count": 42
        }
      ]
    },
    {
      "metadata": {
        "id": "IubEWFye6ZLG",
        "colab_type": "text"
      },
      "cell_type": "markdown",
      "source": [
        "## Scipy - The Fundamental Package for Scientific Computing with Python\n",
        "\n",
        "1. Linear Algebra\n",
        " *  Vector Operations\n",
        " *  Matrix operations and routines\n",
        "      * inverse\n",
        "      * transportation\n",
        "      * trace\n",
        "      * rank\n",
        "      * determinant\n",
        "      * solving\n",
        "      * additon / subtraction / division / mutiplication\n",
        "2. Sparse matrics and routines\n",
        "3. Decompositions \n",
        " * SVD (Singular Value Data Science)\n",
        " * Eigenvalues and Eigenvectors\n",
        " * LU Decomposition"
      ]
    },
    {
      "metadata": {
        "id": "ryxwmQaX4iYL",
        "colab_type": "code",
        "colab": {}
      },
      "cell_type": "code",
      "source": [
        "import numpy as np\n",
        "import scipy.sparse"
      ],
      "execution_count": 0,
      "outputs": []
    },
    {
      "metadata": {
        "id": "lFoZT5q16_j2",
        "colab_type": "code",
        "colab": {
          "base_uri": "https://localhost:8080/",
          "height": 34
        },
        "outputId": "8346c47e-e7b1-4220-a247-7638e957ee7a"
      },
      "cell_type": "code",
      "source": [
        "n = 1000000 #1,000,000 elemetns in our vector\n",
        "ex_vect = (np.random.rand(n)*2).astype(int).astype(float) # forced ex_vect to 0/1 float values\n",
        "print(ex_vect)"
      ],
      "execution_count": 44,
      "outputs": [
        {
          "output_type": "stream",
          "text": [
            "[1. 0. 1. ... 0. 1. 1.]\n"
          ],
          "name": "stdout"
        }
      ]
    },
    {
      "metadata": {
        "id": "NDW7P0qLN3DP",
        "colab_type": "code",
        "colab": {
          "base_uri": "https://localhost:8080/",
          "height": 51
        },
        "outputId": "1b4925a9-7f9b-49d5-a117-538ba212fdde"
      },
      "cell_type": "code",
      "source": [
        "# build a compressed sparse row matrix\n",
        "ex_csr_mat=scipy.sparse.csr_matrix(ex_vect)\n",
        "ex_csr_mat"
      ],
      "execution_count": 45,
      "outputs": [
        {
          "output_type": "execute_result",
          "data": {
            "text/plain": [
              "<1x1000000 sparse matrix of type '<class 'numpy.float64'>'\n",
              "\twith 500173 stored elements in Compressed Sparse Row format>"
            ]
          },
          "metadata": {
            "tags": []
          },
          "execution_count": 45
        }
      ]
    },
    {
      "metadata": {
        "id": "ZGAGdWPbQCZB",
        "colab_type": "text"
      },
      "cell_type": "markdown",
      "source": [
        "## Scikit-Learn - Simple and Efficient tools for data mining, data analysis, and ML"
      ]
    }
  ]
}