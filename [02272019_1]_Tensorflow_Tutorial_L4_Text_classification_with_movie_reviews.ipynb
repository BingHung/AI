{
  "nbformat": 4,
  "nbformat_minor": 0,
  "metadata": {
    "colab": {
      "name": "[02272019-1] Tensorflow Tutorial - L4 Text classification with movie reviews.ipynb",
      "version": "0.3.2",
      "provenance": [],
      "collapsed_sections": [],
      "include_colab_link": true
    },
    "kernelspec": {
      "name": "python3",
      "display_name": "Python 3"
    },
    "accelerator": "GPU"
  },
  "cells": [
    {
      "cell_type": "markdown",
      "metadata": {
        "id": "view-in-github",
        "colab_type": "text"
      },
      "source": [
        "<a href=\"https://colab.research.google.com/github/BingHung/AI/blob/master/%5B02272019_1%5D_Tensorflow_Tutorial_L4_Text_classification_with_movie_reviews.ipynb\" target=\"_parent\"><img src=\"https://colab.research.google.com/assets/colab-badge.svg\" alt=\"Open In Colab\"/></a>"
      ]
    },
    {
      "metadata": {
        "id": "VMsUZPzNqGot",
        "colab_type": "code",
        "colab": {}
      },
      "cell_type": "code",
      "source": [
        "#@title Licensed under the Apache License, Version 2.0 (the \"License\");\n",
        "# you may not use this file except in compliance with the License.\n",
        "# You may obtain a copy of the License at\n",
        "#\n",
        "# https://www.apache.org/licenses/LICENSE-2.0\n",
        "#\n",
        "# Unless required by applicable law or agreed to in writing, software\n",
        "# distributed under the License is distributed on an \"AS IS\" BASIS,\n",
        "# WITHOUT WARRANTIES OR CONDITIONS OF ANY KIND, either express or implied.\n",
        "# See the License for the specific language governing permissions and\n",
        "# limitations under the License."
      ],
      "execution_count": 0,
      "outputs": []
    },
    {
      "metadata": {
        "id": "xjO6vsrsqiq5",
        "colab_type": "code",
        "colab": {}
      },
      "cell_type": "code",
      "source": [
        "#@title MIT License\n",
        "#\n",
        "# Copyright (c) 2017 François Chollet\n",
        "#\n",
        "# Permission is hereby granted, free of charge, to any person obtaining a\n",
        "# copy of this software and associated documentation files (the \"Software\"),\n",
        "# to deal in the Software without restriction, including without limitation\n",
        "# the rights to use, copy, modify, merge, publish, distribute, sublicense,\n",
        "# and/or sell copies of the Software, and to permit persons to whom the\n",
        "# Software is furnished to do so, subject to the following conditions:\n",
        "#\n",
        "# The above copyright notice and this permission notice shall be included in\n",
        "# all copies or substantial portions of the Software.\n",
        "#\n",
        "# THE SOFTWARE IS PROVIDED \"AS IS\", WITHOUT WARRANTY OF ANY KIND, EXPRESS OR\n",
        "# IMPLIED, INCLUDING BUT NOT LIMITED TO THE WARRANTIES OF MERCHANTABILITY,\n",
        "# FITNESS FOR A PARTICULAR PURPOSE AND NONINFRINGEMENT. IN NO EVENT SHALL\n",
        "# THE AUTHORS OR COPYRIGHT HOLDERS BE LIABLE FOR ANY CLAIM, DAMAGES OR OTHER\n",
        "# LIABILITY, WHETHER IN AN ACTION OF CONTRACT, TORT OR OTHERWISE, ARISING\n",
        "# FROM, OUT OF OR IN CONNECTION WITH THE SOFTWARE OR THE USE OR OTHER\n",
        "# DEALINGS IN THE SOFTWARE."
      ],
      "execution_count": 0,
      "outputs": []
    },
    {
      "metadata": {
        "id": "EZdLfzrcqnJr",
        "colab_type": "code",
        "outputId": "ec40535a-b552-4fc1-cde0-e848daa6b26a",
        "colab": {
          "base_uri": "https://localhost:8080/",
          "height": 34
        }
      },
      "cell_type": "code",
      "source": [
        "from __future__ import absolute_import, division, print_function\n",
        "\n",
        "import tensorflow as tf\n",
        "from tensorflow import keras\n",
        "\n",
        "import numpy as np\n",
        "\n",
        "print(tf.__version__)"
      ],
      "execution_count": 0,
      "outputs": [
        {
          "output_type": "stream",
          "text": [
            "1.13.0-rc2\n"
          ],
          "name": "stdout"
        }
      ]
    },
    {
      "metadata": {
        "id": "Jgt0PLzJrIBA",
        "colab_type": "text"
      },
      "cell_type": "markdown",
      "source": [
        "## Download the IMDB dataset"
      ]
    },
    {
      "metadata": {
        "id": "Y-SSwXGpqq0B",
        "colab_type": "code",
        "outputId": "76054f54-e28c-4e1c-ab6f-8173d42844b1",
        "colab": {
          "base_uri": "https://localhost:8080/",
          "height": 51
        }
      },
      "cell_type": "code",
      "source": [
        "imdb = keras.datasets.imdb\n",
        "\n",
        "(train_data, train_labels), (test_data, test_labels) = imdb.load_data(num_words=10000)"
      ],
      "execution_count": 0,
      "outputs": [
        {
          "output_type": "stream",
          "text": [
            "Downloading data from https://storage.googleapis.com/tensorflow/tf-keras-datasets/imdb.npz\n",
            "17465344/17464789 [==============================] - 1s 0us/step\n"
          ],
          "name": "stdout"
        }
      ]
    },
    {
      "metadata": {
        "id": "JEZJRXRkrKFI",
        "colab_type": "text"
      },
      "cell_type": "markdown",
      "source": [
        "## Explore the data"
      ]
    },
    {
      "metadata": {
        "id": "fGt9pJ60rBYa",
        "colab_type": "code",
        "outputId": "6dba6b79-92d8-40b4-c6e6-2f604e367162",
        "colab": {
          "base_uri": "https://localhost:8080/",
          "height": 34
        }
      },
      "cell_type": "code",
      "source": [
        "print(\"Training entries: {}, labels: {}\".format(len(train_data), len(train_labels)))"
      ],
      "execution_count": 0,
      "outputs": [
        {
          "output_type": "stream",
          "text": [
            "Training entries: 25000, labels: 25000\n"
          ],
          "name": "stdout"
        }
      ]
    },
    {
      "metadata": {
        "id": "x45lLLvgrRhi",
        "colab_type": "code",
        "outputId": "38d6feaa-924d-45e3-e7fb-1cd4c3d226fa",
        "colab": {
          "base_uri": "https://localhost:8080/",
          "height": 54
        }
      },
      "cell_type": "code",
      "source": [
        "print(train_data[0])"
      ],
      "execution_count": 0,
      "outputs": [
        {
          "output_type": "stream",
          "text": [
            "[1, 14, 22, 16, 43, 530, 973, 1622, 1385, 65, 458, 4468, 66, 3941, 4, 173, 36, 256, 5, 25, 100, 43, 838, 112, 50, 670, 2, 9, 35, 480, 284, 5, 150, 4, 172, 112, 167, 2, 336, 385, 39, 4, 172, 4536, 1111, 17, 546, 38, 13, 447, 4, 192, 50, 16, 6, 147, 2025, 19, 14, 22, 4, 1920, 4613, 469, 4, 22, 71, 87, 12, 16, 43, 530, 38, 76, 15, 13, 1247, 4, 22, 17, 515, 17, 12, 16, 626, 18, 2, 5, 62, 386, 12, 8, 316, 8, 106, 5, 4, 2223, 5244, 16, 480, 66, 3785, 33, 4, 130, 12, 16, 38, 619, 5, 25, 124, 51, 36, 135, 48, 25, 1415, 33, 6, 22, 12, 215, 28, 77, 52, 5, 14, 407, 16, 82, 2, 8, 4, 107, 117, 5952, 15, 256, 4, 2, 7, 3766, 5, 723, 36, 71, 43, 530, 476, 26, 400, 317, 46, 7, 4, 2, 1029, 13, 104, 88, 4, 381, 15, 297, 98, 32, 2071, 56, 26, 141, 6, 194, 7486, 18, 4, 226, 22, 21, 134, 476, 26, 480, 5, 144, 30, 5535, 18, 51, 36, 28, 224, 92, 25, 104, 4, 226, 65, 16, 38, 1334, 88, 12, 16, 283, 5, 16, 4472, 113, 103, 32, 15, 16, 5345, 19, 178, 32]\n"
          ],
          "name": "stdout"
        }
      ]
    },
    {
      "metadata": {
        "id": "kHrW2TxTrU0T",
        "colab_type": "code",
        "outputId": "3ed549ea-67a5-4b91-bef6-f1fd57219e69",
        "colab": {
          "base_uri": "https://localhost:8080/",
          "height": 34
        }
      },
      "cell_type": "code",
      "source": [
        "len(train_data[0]), len(train_data[1])"
      ],
      "execution_count": 0,
      "outputs": [
        {
          "output_type": "execute_result",
          "data": {
            "text/plain": [
              "(218, 189)"
            ]
          },
          "metadata": {
            "tags": []
          },
          "execution_count": 7
        }
      ]
    },
    {
      "metadata": {
        "id": "dswHcoXXrb8K",
        "colab_type": "text"
      },
      "cell_type": "markdown",
      "source": [
        "## Convert the integers back to words"
      ]
    },
    {
      "metadata": {
        "id": "gZxrlsJNrZym",
        "colab_type": "code",
        "outputId": "0ceb55ac-ee3b-4f9d-8844-bcfe0fadb77f",
        "colab": {
          "base_uri": "https://localhost:8080/",
          "height": 51
        }
      },
      "cell_type": "code",
      "source": [
        "# A dictionary mapping words to an integer index\n",
        "word_index = imdb.get_word_index()\n",
        "\n",
        "# The first indices are reserved\n",
        "word_index = {k:(v+3) for k,v in word_index.items()} \n",
        "word_index[\"<PAD>\"] = 0\n",
        "word_index[\"<START>\"] = 1\n",
        "word_index[\"<UNK>\"] = 2  # unknown\n",
        "word_index[\"<UNUSED>\"] = 3\n",
        "\n",
        "reverse_word_index = dict([(value, key) for (key, value) in word_index.items()])\n",
        "\n",
        "def decode_review(text):\n",
        "    return ' '.join([reverse_word_index.get(i, '?') for i in text])"
      ],
      "execution_count": 0,
      "outputs": [
        {
          "output_type": "stream",
          "text": [
            "Downloading data from https://storage.googleapis.com/tensorflow/tf-keras-datasets/imdb_word_index.json\n",
            "1646592/1641221 [==============================] - 0s 0us/step\n"
          ],
          "name": "stdout"
        }
      ]
    },
    {
      "metadata": {
        "id": "iDc-vIFirqCo",
        "colab_type": "code",
        "outputId": "3c59833e-803b-4cb9-8683-356738e978a2",
        "colab": {
          "base_uri": "https://localhost:8080/",
          "height": 54
        }
      },
      "cell_type": "code",
      "source": [
        "decode_review(train_data[1])"
      ],
      "execution_count": 0,
      "outputs": [
        {
          "output_type": "execute_result",
          "data": {
            "text/plain": [
              "\"<START> big hair big boobs bad music and a giant safety pin these are the words to best describe this terrible movie i love cheesy horror movies and i've seen hundreds but this had got to be on of the worst ever made the plot is paper thin and ridiculous the acting is an abomination the script is completely laughable the best is the end showdown with the cop and how he worked out who the killer is it's just so damn terribly written the clothes are sickening and funny in equal <UNK> the hair is big lots of boobs <UNK> men wear those cut <UNK> shirts that show off their <UNK> sickening that men actually wore them and the music is just <UNK> trash that plays over and over again in almost every scene there is trashy music boobs and <UNK> taking away bodies and the gym still doesn't close for <UNK> all joking aside this is a truly bad film whose only charm is to look back on the disaster that was the 80's and have a good old laugh at how bad everything was back then\""
            ]
          },
          "metadata": {
            "tags": []
          },
          "execution_count": 10
        }
      ]
    },
    {
      "metadata": {
        "id": "EtWWAzM0rwc7",
        "colab_type": "text"
      },
      "cell_type": "markdown",
      "source": [
        "## Prepare the data"
      ]
    },
    {
      "metadata": {
        "id": "GwLkOjLPrsM5",
        "colab_type": "code",
        "colab": {}
      },
      "cell_type": "code",
      "source": [
        "train_data = keras.preprocessing.sequence.pad_sequences(train_data,\n",
        "                                                        value=word_index[\"<PAD>\"],\n",
        "                                                        padding='post',\n",
        "                                                        maxlen=256)\n",
        "\n",
        "test_data = keras.preprocessing.sequence.pad_sequences(test_data,\n",
        "                                                       value=word_index[\"<PAD>\"],\n",
        "                                                       padding='post',\n",
        "                                                       maxlen=256)"
      ],
      "execution_count": 0,
      "outputs": []
    },
    {
      "metadata": {
        "id": "DUda7SUQvRRm",
        "colab_type": "code",
        "outputId": "d70ca696-e295-4686-9728-fc8724735546",
        "colab": {
          "base_uri": "https://localhost:8080/",
          "height": 34
        }
      },
      "cell_type": "code",
      "source": [
        "len(train_data[0]), len(train_data[1])"
      ],
      "execution_count": 0,
      "outputs": [
        {
          "output_type": "execute_result",
          "data": {
            "text/plain": [
              "(256, 256)"
            ]
          },
          "metadata": {
            "tags": []
          },
          "execution_count": 12
        }
      ]
    },
    {
      "metadata": {
        "id": "U8GiCyjUvSpc",
        "colab_type": "code",
        "outputId": "52c8c232-f0ec-4585-a775-df405e909969",
        "colab": {
          "base_uri": "https://localhost:8080/",
          "height": 340
        }
      },
      "cell_type": "code",
      "source": [
        "print(train_data[0])"
      ],
      "execution_count": 0,
      "outputs": [
        {
          "output_type": "stream",
          "text": [
            "[   1   14   22   16   43  530  973 1622 1385   65  458 4468   66 3941\n",
            "    4  173   36  256    5   25  100   43  838  112   50  670    2    9\n",
            "   35  480  284    5  150    4  172  112  167    2  336  385   39    4\n",
            "  172 4536 1111   17  546   38   13  447    4  192   50   16    6  147\n",
            " 2025   19   14   22    4 1920 4613  469    4   22   71   87   12   16\n",
            "   43  530   38   76   15   13 1247    4   22   17  515   17   12   16\n",
            "  626   18    2    5   62  386   12    8  316    8  106    5    4 2223\n",
            " 5244   16  480   66 3785   33    4  130   12   16   38  619    5   25\n",
            "  124   51   36  135   48   25 1415   33    6   22   12  215   28   77\n",
            "   52    5   14  407   16   82    2    8    4  107  117 5952   15  256\n",
            "    4    2    7 3766    5  723   36   71   43  530  476   26  400  317\n",
            "   46    7    4    2 1029   13  104   88    4  381   15  297   98   32\n",
            " 2071   56   26  141    6  194 7486   18    4  226   22   21  134  476\n",
            "   26  480    5  144   30 5535   18   51   36   28  224   92   25  104\n",
            "    4  226   65   16   38 1334   88   12   16  283    5   16 4472  113\n",
            "  103   32   15   16 5345   19  178   32    0    0    0    0    0    0\n",
            "    0    0    0    0    0    0    0    0    0    0    0    0    0    0\n",
            "    0    0    0    0    0    0    0    0    0    0    0    0    0    0\n",
            "    0    0    0    0]\n"
          ],
          "name": "stdout"
        }
      ]
    },
    {
      "metadata": {
        "id": "HYyRobNBvX4o",
        "colab_type": "text"
      },
      "cell_type": "markdown",
      "source": [
        "## Build the model"
      ]
    },
    {
      "metadata": {
        "id": "iRh_URvBvVMu",
        "colab_type": "code",
        "outputId": "2c294393-2e00-4385-8273-8d927e216155",
        "colab": {
          "base_uri": "https://localhost:8080/",
          "height": 343
        }
      },
      "cell_type": "code",
      "source": [
        "# input shape is the vocabulary count used for the movie reviews (10,000 words)\n",
        "vocab_size = 10000\n",
        "\n",
        "model = keras.Sequential()\n",
        "model.add(keras.layers.Embedding(vocab_size, 16))\n",
        "model.add(keras.layers.GlobalAveragePooling1D())\n",
        "model.add(keras.layers.Dense(16, activation=tf.nn.relu))\n",
        "model.add(keras.layers.Dense(1, activation=tf.nn.sigmoid))\n",
        "\n",
        "model.summary()"
      ],
      "execution_count": 0,
      "outputs": [
        {
          "output_type": "stream",
          "text": [
            "WARNING:tensorflow:From /usr/local/lib/python3.6/dist-packages/tensorflow/python/ops/resource_variable_ops.py:435: colocate_with (from tensorflow.python.framework.ops) is deprecated and will be removed in a future version.\n",
            "Instructions for updating:\n",
            "Colocations handled automatically by placer.\n",
            "_________________________________________________________________\n",
            "Layer (type)                 Output Shape              Param #   \n",
            "=================================================================\n",
            "embedding (Embedding)        (None, None, 16)          160000    \n",
            "_________________________________________________________________\n",
            "global_average_pooling1d (Gl (None, 16)                0         \n",
            "_________________________________________________________________\n",
            "dense (Dense)                (None, 16)                272       \n",
            "_________________________________________________________________\n",
            "dense_1 (Dense)              (None, 1)                 17        \n",
            "=================================================================\n",
            "Total params: 160,289\n",
            "Trainable params: 160,289\n",
            "Non-trainable params: 0\n",
            "_________________________________________________________________\n"
          ],
          "name": "stdout"
        }
      ]
    },
    {
      "metadata": {
        "id": "pT8neesbveaE",
        "colab_type": "code",
        "colab": {}
      },
      "cell_type": "code",
      "source": [
        "model.compile(optimizer='adam',\n",
        "              loss='binary_crossentropy',\n",
        "              metrics=['acc'])"
      ],
      "execution_count": 0,
      "outputs": []
    },
    {
      "metadata": {
        "id": "IzrXVwpGvqSP",
        "colab_type": "text"
      },
      "cell_type": "markdown",
      "source": [
        "## Create a validation set"
      ]
    },
    {
      "metadata": {
        "id": "Tj2B47Hrvoxy",
        "colab_type": "code",
        "colab": {}
      },
      "cell_type": "code",
      "source": [
        "x_val = train_data[:10000]\n",
        "partial_x_train = train_data[10000:]\n",
        "\n",
        "y_val = train_labels[:10000]\n",
        "partial_y_train = train_labels[10000:]"
      ],
      "execution_count": 0,
      "outputs": []
    },
    {
      "metadata": {
        "id": "mmKZbuojvus5",
        "colab_type": "text"
      },
      "cell_type": "markdown",
      "source": [
        "## Train the model"
      ]
    },
    {
      "metadata": {
        "id": "uKS8eNX5vrwJ",
        "colab_type": "code",
        "outputId": "75f26062-0656-408b-96d3-71534495fb74",
        "colab": {
          "base_uri": "https://localhost:8080/",
          "height": 1465
        }
      },
      "cell_type": "code",
      "source": [
        "history = model.fit(partial_x_train,\n",
        "                    partial_y_train,\n",
        "                    epochs=40,\n",
        "                    batch_size=512,\n",
        "                    validation_data=(x_val, y_val),\n",
        "                    verbose=1)"
      ],
      "execution_count": 0,
      "outputs": [
        {
          "output_type": "stream",
          "text": [
            "Train on 15000 samples, validate on 10000 samples\n",
            "WARNING:tensorflow:From /usr/local/lib/python3.6/dist-packages/tensorflow/python/ops/math_ops.py:3066: to_int32 (from tensorflow.python.ops.math_ops) is deprecated and will be removed in a future version.\n",
            "Instructions for updating:\n",
            "Use tf.cast instead.\n",
            "Epoch 1/40\n",
            "15000/15000 [==============================] - 1s 83us/sample - loss: 0.6917 - acc: 0.6102 - val_loss: 0.6895 - val_acc: 0.6748\n",
            "Epoch 2/40\n",
            "15000/15000 [==============================] - 0s 18us/sample - loss: 0.6853 - acc: 0.7193 - val_loss: 0.6810 - val_acc: 0.7422\n",
            "Epoch 3/40\n",
            "15000/15000 [==============================] - 0s 18us/sample - loss: 0.6726 - acc: 0.7545 - val_loss: 0.6657 - val_acc: 0.7589\n",
            "Epoch 4/40\n",
            "15000/15000 [==============================] - 0s 20us/sample - loss: 0.6518 - acc: 0.7595 - val_loss: 0.6423 - val_acc: 0.7639\n",
            "Epoch 5/40\n",
            "15000/15000 [==============================] - 0s 18us/sample - loss: 0.6219 - acc: 0.7882 - val_loss: 0.6114 - val_acc: 0.7842\n",
            "Epoch 6/40\n",
            "15000/15000 [==============================] - 0s 18us/sample - loss: 0.5841 - acc: 0.8070 - val_loss: 0.5747 - val_acc: 0.7969\n",
            "Epoch 7/40\n",
            "15000/15000 [==============================] - 0s 18us/sample - loss: 0.5410 - acc: 0.8218 - val_loss: 0.5337 - val_acc: 0.8156\n",
            "Epoch 8/40\n",
            "15000/15000 [==============================] - 0s 19us/sample - loss: 0.4966 - acc: 0.8411 - val_loss: 0.4947 - val_acc: 0.8278\n",
            "Epoch 9/40\n",
            "15000/15000 [==============================] - 0s 19us/sample - loss: 0.4541 - acc: 0.8553 - val_loss: 0.4582 - val_acc: 0.8400\n",
            "Epoch 10/40\n",
            "15000/15000 [==============================] - 0s 20us/sample - loss: 0.4155 - acc: 0.8691 - val_loss: 0.4271 - val_acc: 0.8473\n",
            "Epoch 11/40\n",
            "15000/15000 [==============================] - 0s 20us/sample - loss: 0.3820 - acc: 0.8772 - val_loss: 0.4006 - val_acc: 0.8557\n",
            "Epoch 12/40\n",
            "15000/15000 [==============================] - 0s 19us/sample - loss: 0.3533 - acc: 0.8859 - val_loss: 0.3801 - val_acc: 0.8586\n",
            "Epoch 13/40\n",
            "15000/15000 [==============================] - 0s 19us/sample - loss: 0.3295 - acc: 0.8919 - val_loss: 0.3614 - val_acc: 0.8654\n",
            "Epoch 14/40\n",
            "15000/15000 [==============================] - 0s 19us/sample - loss: 0.3080 - acc: 0.8970 - val_loss: 0.3477 - val_acc: 0.8699\n",
            "Epoch 15/40\n",
            "15000/15000 [==============================] - 0s 19us/sample - loss: 0.2901 - acc: 0.9015 - val_loss: 0.3359 - val_acc: 0.8720\n",
            "Epoch 16/40\n",
            "15000/15000 [==============================] - 0s 19us/sample - loss: 0.2740 - acc: 0.9072 - val_loss: 0.3264 - val_acc: 0.8744\n",
            "Epoch 17/40\n",
            "15000/15000 [==============================] - 0s 19us/sample - loss: 0.2593 - acc: 0.9111 - val_loss: 0.3183 - val_acc: 0.8765\n",
            "Epoch 18/40\n",
            "15000/15000 [==============================] - 0s 20us/sample - loss: 0.2463 - acc: 0.9162 - val_loss: 0.3111 - val_acc: 0.8804\n",
            "Epoch 19/40\n",
            "15000/15000 [==============================] - 0s 19us/sample - loss: 0.2345 - acc: 0.9198 - val_loss: 0.3054 - val_acc: 0.8809\n",
            "Epoch 20/40\n",
            "15000/15000 [==============================] - 0s 19us/sample - loss: 0.2239 - acc: 0.9232 - val_loss: 0.3012 - val_acc: 0.8810\n",
            "Epoch 21/40\n",
            "15000/15000 [==============================] - 0s 19us/sample - loss: 0.2133 - acc: 0.9281 - val_loss: 0.2977 - val_acc: 0.8818\n",
            "Epoch 22/40\n",
            "15000/15000 [==============================] - 0s 19us/sample - loss: 0.2043 - acc: 0.9298 - val_loss: 0.2940 - val_acc: 0.8840\n",
            "Epoch 23/40\n",
            "15000/15000 [==============================] - 0s 19us/sample - loss: 0.1952 - acc: 0.9344 - val_loss: 0.2923 - val_acc: 0.8837\n",
            "Epoch 24/40\n",
            "15000/15000 [==============================] - 0s 19us/sample - loss: 0.1874 - acc: 0.9383 - val_loss: 0.2904 - val_acc: 0.8850\n",
            "Epoch 25/40\n",
            "15000/15000 [==============================] - 0s 20us/sample - loss: 0.1794 - acc: 0.9427 - val_loss: 0.2879 - val_acc: 0.8842\n",
            "Epoch 26/40\n",
            "15000/15000 [==============================] - 0s 19us/sample - loss: 0.1723 - acc: 0.9445 - val_loss: 0.2880 - val_acc: 0.8843\n",
            "Epoch 27/40\n",
            "15000/15000 [==============================] - 0s 19us/sample - loss: 0.1655 - acc: 0.9477 - val_loss: 0.2869 - val_acc: 0.8841\n",
            "Epoch 28/40\n",
            "15000/15000 [==============================] - 0s 19us/sample - loss: 0.1590 - acc: 0.9502 - val_loss: 0.2870 - val_acc: 0.8862\n",
            "Epoch 29/40\n",
            "15000/15000 [==============================] - 0s 20us/sample - loss: 0.1534 - acc: 0.9531 - val_loss: 0.2876 - val_acc: 0.8834\n",
            "Epoch 30/40\n",
            "15000/15000 [==============================] - 0s 19us/sample - loss: 0.1474 - acc: 0.9545 - val_loss: 0.2868 - val_acc: 0.8868\n",
            "Epoch 31/40\n",
            "15000/15000 [==============================] - 0s 19us/sample - loss: 0.1414 - acc: 0.9586 - val_loss: 0.2872 - val_acc: 0.8872\n",
            "Epoch 32/40\n",
            "15000/15000 [==============================] - 0s 19us/sample - loss: 0.1360 - acc: 0.9604 - val_loss: 0.2882 - val_acc: 0.8866\n",
            "Epoch 33/40\n",
            "15000/15000 [==============================] - 0s 19us/sample - loss: 0.1307 - acc: 0.9615 - val_loss: 0.2899 - val_acc: 0.8864\n",
            "Epoch 34/40\n",
            "15000/15000 [==============================] - 0s 19us/sample - loss: 0.1260 - acc: 0.9638 - val_loss: 0.2916 - val_acc: 0.8856\n",
            "Epoch 35/40\n",
            "15000/15000 [==============================] - 0s 19us/sample - loss: 0.1218 - acc: 0.9642 - val_loss: 0.2931 - val_acc: 0.8863\n",
            "Epoch 36/40\n",
            "15000/15000 [==============================] - 0s 20us/sample - loss: 0.1171 - acc: 0.9673 - val_loss: 0.2946 - val_acc: 0.8859\n",
            "Epoch 37/40\n",
            "15000/15000 [==============================] - 0s 19us/sample - loss: 0.1125 - acc: 0.9687 - val_loss: 0.2970 - val_acc: 0.8854\n",
            "Epoch 38/40\n",
            "15000/15000 [==============================] - 0s 19us/sample - loss: 0.1084 - acc: 0.9704 - val_loss: 0.2999 - val_acc: 0.8842\n",
            "Epoch 39/40\n",
            "15000/15000 [==============================] - 0s 19us/sample - loss: 0.1051 - acc: 0.9711 - val_loss: 0.3030 - val_acc: 0.8838\n",
            "Epoch 40/40\n",
            "15000/15000 [==============================] - 0s 19us/sample - loss: 0.1008 - acc: 0.9732 - val_loss: 0.3053 - val_acc: 0.8840\n"
          ],
          "name": "stdout"
        }
      ]
    },
    {
      "metadata": {
        "id": "7RQlMm3vv3EQ",
        "colab_type": "text"
      },
      "cell_type": "markdown",
      "source": [
        "## Evaluate the model"
      ]
    },
    {
      "metadata": {
        "id": "SUM6SsC_vxYP",
        "colab_type": "code",
        "outputId": "c759f211-2c0a-4c3a-d914-0c52a3a55497",
        "colab": {
          "base_uri": "https://localhost:8080/",
          "height": 51
        }
      },
      "cell_type": "code",
      "source": [
        "results = model.evaluate(test_data, test_labels)\n",
        "\n",
        "print(results)"
      ],
      "execution_count": 0,
      "outputs": [
        {
          "output_type": "stream",
          "text": [
            "25000/25000 [==============================] - 1s 58us/sample - loss: 0.3253 - acc: 0.8719\n",
            "[0.325256412730217, 0.87188]\n"
          ],
          "name": "stdout"
        }
      ]
    },
    {
      "metadata": {
        "id": "dQjOUpr3v8GI",
        "colab_type": "text"
      },
      "cell_type": "markdown",
      "source": [
        "## Create a graph of accuracy and loss over time"
      ]
    },
    {
      "metadata": {
        "id": "vbaEwIEVv4q9",
        "colab_type": "code",
        "outputId": "a36a5564-f8ce-41ef-e0ae-491c9ebb6fef",
        "colab": {
          "base_uri": "https://localhost:8080/",
          "height": 34
        }
      },
      "cell_type": "code",
      "source": [
        "history_dict = history.history\n",
        "history_dict.keys()"
      ],
      "execution_count": 0,
      "outputs": [
        {
          "output_type": "execute_result",
          "data": {
            "text/plain": [
              "dict_keys(['loss', 'acc', 'val_loss', 'val_acc'])"
            ]
          },
          "metadata": {
            "tags": []
          },
          "execution_count": 19
        }
      ]
    },
    {
      "metadata": {
        "id": "z34ykoWUv9tJ",
        "colab_type": "code",
        "outputId": "cac205a5-724a-4211-ea3e-d038a4ff6933",
        "colab": {
          "base_uri": "https://localhost:8080/",
          "height": 376
        }
      },
      "cell_type": "code",
      "source": [
        "import matplotlib.pyplot as plt\n",
        "\n",
        "acc = history_dict['acc']\n",
        "val_acc = history_dict['val_acc']\n",
        "loss = history_dict['loss']\n",
        "val_loss = history_dict['val_loss']\n",
        "\n",
        "epochs = range(1, len(acc) + 1)\n",
        "\n",
        "# \"bo\" is for \"blue dot\"\n",
        "plt.plot(epochs, loss, 'bo', label='Training loss')\n",
        "# b is for \"solid blue line\"\n",
        "plt.plot(epochs, val_loss, 'b', label='Validation loss')\n",
        "plt.title('Training and validation loss')\n",
        "plt.xlabel('Epochs')\n",
        "plt.ylabel('Loss')\n",
        "plt.legend()\n",
        "\n",
        "plt.show()"
      ],
      "execution_count": 0,
      "outputs": [
        {
          "output_type": "display_data",
          "data": {
            "image/png": "[encoded data removed]",
            "text/plain": [
              "<Figure size 576x396 with 1 Axes>"
            ]
          },
          "metadata": {
            "tags": []
          }
        }
      ]
    },
    {
      "metadata": {
        "id": "Z8NXKBm8v_fa",
        "colab_type": "code",
        "outputId": "160fd5c7-beea-46e0-efa4-3fe06f4881a6",
        "colab": {
          "base_uri": "https://localhost:8080/",
          "height": 376
        }
      },
      "cell_type": "code",
      "source": [
        "plt.clf()   # clear figure\n",
        "\n",
        "plt.plot(epochs, acc, 'bo', label='Training acc')\n",
        "plt.plot(epochs, val_acc, 'b', label='Validation acc')\n",
        "plt.title('Training and validation accuracy')\n",
        "plt.xlabel('Epochs')\n",
        "plt.ylabel('Accuracy')\n",
        "plt.legend()\n",
        "\n",
        "plt.show()"
      ],
      "execution_count": 0,
      "outputs": [
        {
          "output_type": "display_data",
          "data": {
            "image/png": "[encoded data removed]",
            "text/plain": [
              "<Figure size 576x396 with 1 Axes>"
            ]
          },
          "metadata": {
            "tags": []
          }
        }
      ]
    },
    {
      "metadata": {
        "id": "vwQTUSdCwDp_",
        "colab_type": "code",
        "colab": {}
      },
      "cell_type": "code",
      "source": [
        "#@title MIT License\n",
        "#\n",
        "# Copyright (c) 2017 François Chollet\n",
        "#\n",
        "# Permission is hereby granted, free of charge, to any person obtaining a\n",
        "# copy of this software and associated documentation files (the \"Software\"),\n",
        "# to deal in the Software without restriction, including without limitation\n",
        "# the rights to use, copy, modify, merge, publish, distribute, sublicense,\n",
        "# and/or sell copies of the Software, and to permit persons to whom the\n",
        "# Software is furnished to do so, subject to the following conditions:\n",
        "#\n",
        "# The above copyright notice and this permission notice shall be included in\n",
        "# all copies or substantial portions of the Software.\n",
        "#\n",
        "# THE SOFTWARE IS PROVIDED \"AS IS\", WITHOUT WARRANTY OF ANY KIND, EXPRESS OR\n",
        "# IMPLIED, INCLUDING BUT NOT LIMITED TO THE WARRANTIES OF MERCHANTABILITY,\n",
        "# FITNESS FOR A PARTICULAR PURPOSE AND NONINFRINGEMENT. IN NO EVENT SHALL\n",
        "# THE AUTHORS OR COPYRIGHT HOLDERS BE LIABLE FOR ANY CLAIM, DAMAGES OR OTHER\n",
        "# LIABILITY, WHETHER IN AN ACTION OF CONTRACT, TORT OR OTHERWISE, ARISING\n",
        "# FROM, OUT OF OR IN CONNECTION WITH THE SOFTWARE OR THE USE OR OTHER\n",
        "# DEALINGS IN THE SOFTWARE."
      ],
      "execution_count": 0,
      "outputs": []
    },
    {
      "metadata": {
        "id": "_9l4X1OSwN35",
        "colab_type": "code",
        "colab": {}
      },
      "cell_type": "code",
      "source": [
        ""
      ],
      "execution_count": 0,
      "outputs": []
    }
  ]
}