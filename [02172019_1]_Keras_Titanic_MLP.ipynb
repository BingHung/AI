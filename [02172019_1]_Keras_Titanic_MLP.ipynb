{
  "nbformat": 4,
  "nbformat_minor": 0,
  "metadata": {
    "colab": {
      "name": "[02172019-1] Keras-Titanic-MLP.ipynb",
      "version": "0.3.2",
      "provenance": [],
      "collapsed_sections": [],
      "include_colab_link": true
    },
    "kernelspec": {
      "name": "python3",
      "display_name": "Python 3"
    },
    "accelerator": "GPU"
  },
  "cells": [
    {
      "cell_type": "markdown",
      "metadata": {
        "id": "view-in-github",
        "colab_type": "text"
      },
      "source": [
        "<a href=\"https://colab.research.google.com/github/BingHung/AI/blob/master/%5B02172019_1%5D_Keras_Titanic_MLP.ipynb\" target=\"_parent\"><img src=\"https://colab.research.google.com/assets/colab-badge.svg\" alt=\"Open In Colab\"/></a>"
      ]
    },
    {
      "metadata": {
        "id": "gjWR_u-wFrab",
        "colab_type": "text"
      },
      "cell_type": "markdown",
      "source": [
        "# Preprocess"
      ]
    },
    {
      "metadata": {
        "id": "5m8d1BN6FduF",
        "colab_type": "code",
        "colab": {}
      },
      "cell_type": "code",
      "source": [
        "import urllib.request\n",
        "import os"
      ],
      "execution_count": 0,
      "outputs": []
    },
    {
      "metadata": {
        "id": "IaPpEsqxF0ff",
        "colab_type": "code",
        "colab": {
          "base_uri": "https://localhost:8080/",
          "height": 128
        },
        "outputId": "e8fef4dc-72cc-4346-cc6a-9efc74dbbdfe"
      },
      "cell_type": "code",
      "source": [
        "from google.colab import drive\n",
        "drive.mount('/content/gdrive')\n",
        "\n",
        "url='http://biostat.mc.vanderbilt.edu/wiki/pub/Main/DataSets/titanic3.xls'\n",
        "filepath = '/content/gdrive/My Drive/Keras/titanic3.xls'\n",
        "if not os.path.isfile(filepath):\n",
        "  result=urllib.request.urlretrieve(url,filepath)\n",
        "  print('download:',result)"
      ],
      "execution_count": 2,
      "outputs": [
        {
          "output_type": "stream",
          "text": [
            "Go to this URL in a browser: https://accounts.google.com/o/oauth2/auth?client_id=947318989803-6bn6qk8qdgf4n4g3pfee6491hc0brc4i.apps.googleusercontent.com&redirect_uri=urn%3Aietf%3Awg%3Aoauth%3A2.0%3Aoob&scope=email%20https%3A%2F%2Fwww.googleapis.com%2Fauth%2Fdocs.test%20https%3A%2F%2Fwww.googleapis.com%2Fauth%2Fdrive%20https%3A%2F%2Fwww.googleapis.com%2Fauth%2Fdrive.photos.readonly%20https%3A%2F%2Fwww.googleapis.com%2Fauth%2Fpeopleapi.readonly&response_type=code\n",
            "\n",
            "Enter your authorization code:\n",
            "··········\n",
            "Mounted at /content/gdrive\n"
          ],
          "name": "stdout"
        }
      ]
    },
    {
      "metadata": {
        "id": "cQM60rjVGlz1",
        "colab_type": "code",
        "colab": {}
      },
      "cell_type": "code",
      "source": [
        "import numpy\n",
        "import pandas as pd"
      ],
      "execution_count": 0,
      "outputs": []
    },
    {
      "metadata": {
        "id": "MxTpTOhDHAIE",
        "colab_type": "code",
        "colab": {}
      },
      "cell_type": "code",
      "source": [
        "all_df=pd.read_excel(filepath)"
      ],
      "execution_count": 0,
      "outputs": []
    },
    {
      "metadata": {
        "id": "BBxWc_MNHDoE",
        "colab_type": "code",
        "colab": {
          "base_uri": "https://localhost:8080/",
          "height": 198
        },
        "outputId": "f22b7180-a33b-4a88-dd92-69e40c50a382"
      },
      "cell_type": "code",
      "source": [
        "all_df[:5]"
      ],
      "execution_count": 5,
      "outputs": [
        {
          "output_type": "execute_result",
          "data": {
            "text/html": [
              "<div>\n",
              "<style scoped>\n",
              "    .dataframe tbody tr th:only-of-type {\n",
              "        vertical-align: middle;\n",
              "    }\n",
              "\n",
              "    .dataframe tbody tr th {\n",
              "        vertical-align: top;\n",
              "    }\n",
              "\n",
              "    .dataframe thead th {\n",
              "        text-align: right;\n",
              "    }\n",
              "</style>\n",
              "<table border=\"1\" class=\"dataframe\">\n",
              "  <thead>\n",
              "    <tr style=\"text-align: right;\">\n",
              "      <th></th>\n",
              "      <th>pclass</th>\n",
              "      <th>survived</th>\n",
              "      <th>name</th>\n",
              "      <th>sex</th>\n",
              "      <th>age</th>\n",
              "      <th>sibsp</th>\n",
              "      <th>parch</th>\n",
              "      <th>ticket</th>\n",
              "      <th>fare</th>\n",
              "      <th>cabin</th>\n",
              "      <th>embarked</th>\n",
              "      <th>boat</th>\n",
              "      <th>body</th>\n",
              "      <th>home.dest</th>\n",
              "    </tr>\n",
              "  </thead>\n",
              "  <tbody>\n",
              "    <tr>\n",
              "      <th>0</th>\n",
              "      <td>1</td>\n",
              "      <td>1</td>\n",
              "      <td>Allen, Miss. Elisabeth Walton</td>\n",
              "      <td>female</td>\n",
              "      <td>29.0000</td>\n",
              "      <td>0</td>\n",
              "      <td>0</td>\n",
              "      <td>24160</td>\n",
              "      <td>211.3375</td>\n",
              "      <td>B5</td>\n",
              "      <td>S</td>\n",
              "      <td>2</td>\n",
              "      <td>NaN</td>\n",
              "      <td>St Louis, MO</td>\n",
              "    </tr>\n",
              "    <tr>\n",
              "      <th>1</th>\n",
              "      <td>1</td>\n",
              "      <td>1</td>\n",
              "      <td>Allison, Master. Hudson Trevor</td>\n",
              "      <td>male</td>\n",
              "      <td>0.9167</td>\n",
              "      <td>1</td>\n",
              "      <td>2</td>\n",
              "      <td>113781</td>\n",
              "      <td>151.5500</td>\n",
              "      <td>C22 C26</td>\n",
              "      <td>S</td>\n",
              "      <td>11</td>\n",
              "      <td>NaN</td>\n",
              "      <td>Montreal, PQ / Chesterville, ON</td>\n",
              "    </tr>\n",
              "    <tr>\n",
              "      <th>2</th>\n",
              "      <td>1</td>\n",
              "      <td>0</td>\n",
              "      <td>Allison, Miss. Helen Loraine</td>\n",
              "      <td>female</td>\n",
              "      <td>2.0000</td>\n",
              "      <td>1</td>\n",
              "      <td>2</td>\n",
              "      <td>113781</td>\n",
              "      <td>151.5500</td>\n",
              "      <td>C22 C26</td>\n",
              "      <td>S</td>\n",
              "      <td>NaN</td>\n",
              "      <td>NaN</td>\n",
              "      <td>Montreal, PQ / Chesterville, ON</td>\n",
              "    </tr>\n",
              "    <tr>\n",
              "      <th>3</th>\n",
              "      <td>1</td>\n",
              "      <td>0</td>\n",
              "      <td>Allison, Mr. Hudson Joshua Creighton</td>\n",
              "      <td>male</td>\n",
              "      <td>30.0000</td>\n",
              "      <td>1</td>\n",
              "      <td>2</td>\n",
              "      <td>113781</td>\n",
              "      <td>151.5500</td>\n",
              "      <td>C22 C26</td>\n",
              "      <td>S</td>\n",
              "      <td>NaN</td>\n",
              "      <td>135.0</td>\n",
              "      <td>Montreal, PQ / Chesterville, ON</td>\n",
              "    </tr>\n",
              "    <tr>\n",
              "      <th>4</th>\n",
              "      <td>1</td>\n",
              "      <td>0</td>\n",
              "      <td>Allison, Mrs. Hudson J C (Bessie Waldo Daniels)</td>\n",
              "      <td>female</td>\n",
              "      <td>25.0000</td>\n",
              "      <td>1</td>\n",
              "      <td>2</td>\n",
              "      <td>113781</td>\n",
              "      <td>151.5500</td>\n",
              "      <td>C22 C26</td>\n",
              "      <td>S</td>\n",
              "      <td>NaN</td>\n",
              "      <td>NaN</td>\n",
              "      <td>Montreal, PQ / Chesterville, ON</td>\n",
              "    </tr>\n",
              "  </tbody>\n",
              "</table>\n",
              "</div>"
            ],
            "text/plain": [
              "   pclass  survived                                             name     sex  \\\n",
              "0       1         1                    Allen, Miss. Elisabeth Walton  female   \n",
              "1       1         1                   Allison, Master. Hudson Trevor    male   \n",
              "2       1         0                     Allison, Miss. Helen Loraine  female   \n",
              "3       1         0             Allison, Mr. Hudson Joshua Creighton    male   \n",
              "4       1         0  Allison, Mrs. Hudson J C (Bessie Waldo Daniels)  female   \n",
              "\n",
              "       age  sibsp  parch  ticket      fare    cabin embarked boat   body  \\\n",
              "0  29.0000      0      0   24160  211.3375       B5        S    2    NaN   \n",
              "1   0.9167      1      2  113781  151.5500  C22 C26        S   11    NaN   \n",
              "2   2.0000      1      2  113781  151.5500  C22 C26        S  NaN    NaN   \n",
              "3  30.0000      1      2  113781  151.5500  C22 C26        S  NaN  135.0   \n",
              "4  25.0000      1      2  113781  151.5500  C22 C26        S  NaN    NaN   \n",
              "\n",
              "                         home.dest  \n",
              "0                     St Louis, MO  \n",
              "1  Montreal, PQ / Chesterville, ON  \n",
              "2  Montreal, PQ / Chesterville, ON  \n",
              "3  Montreal, PQ / Chesterville, ON  \n",
              "4  Montreal, PQ / Chesterville, ON  "
            ]
          },
          "metadata": {
            "tags": []
          },
          "execution_count": 5
        }
      ]
    },
    {
      "metadata": {
        "id": "gfeHJjh4HGYE",
        "colab_type": "code",
        "colab": {}
      },
      "cell_type": "code",
      "source": [
        "cols=['survived','name','pclass','sex','age','sibsp','parch','fare','embarked']\n",
        "all_df=all_df[cols]"
      ],
      "execution_count": 0,
      "outputs": []
    },
    {
      "metadata": {
        "id": "fibsZJRZHmlL",
        "colab_type": "code",
        "colab": {
          "base_uri": "https://localhost:8080/",
          "height": 198
        },
        "outputId": "b4d00a5f-3c7d-4088-fdc5-b2ad910a69f2"
      },
      "cell_type": "code",
      "source": [
        "all_df[:5]"
      ],
      "execution_count": 7,
      "outputs": [
        {
          "output_type": "execute_result",
          "data": {
            "text/html": [
              "<div>\n",
              "<style scoped>\n",
              "    .dataframe tbody tr th:only-of-type {\n",
              "        vertical-align: middle;\n",
              "    }\n",
              "\n",
              "    .dataframe tbody tr th {\n",
              "        vertical-align: top;\n",
              "    }\n",
              "\n",
              "    .dataframe thead th {\n",
              "        text-align: right;\n",
              "    }\n",
              "</style>\n",
              "<table border=\"1\" class=\"dataframe\">\n",
              "  <thead>\n",
              "    <tr style=\"text-align: right;\">\n",
              "      <th></th>\n",
              "      <th>survived</th>\n",
              "      <th>name</th>\n",
              "      <th>pclass</th>\n",
              "      <th>sex</th>\n",
              "      <th>age</th>\n",
              "      <th>sibsp</th>\n",
              "      <th>parch</th>\n",
              "      <th>fare</th>\n",
              "      <th>embarked</th>\n",
              "    </tr>\n",
              "  </thead>\n",
              "  <tbody>\n",
              "    <tr>\n",
              "      <th>0</th>\n",
              "      <td>1</td>\n",
              "      <td>Allen, Miss. Elisabeth Walton</td>\n",
              "      <td>1</td>\n",
              "      <td>female</td>\n",
              "      <td>29.0000</td>\n",
              "      <td>0</td>\n",
              "      <td>0</td>\n",
              "      <td>211.3375</td>\n",
              "      <td>S</td>\n",
              "    </tr>\n",
              "    <tr>\n",
              "      <th>1</th>\n",
              "      <td>1</td>\n",
              "      <td>Allison, Master. Hudson Trevor</td>\n",
              "      <td>1</td>\n",
              "      <td>male</td>\n",
              "      <td>0.9167</td>\n",
              "      <td>1</td>\n",
              "      <td>2</td>\n",
              "      <td>151.5500</td>\n",
              "      <td>S</td>\n",
              "    </tr>\n",
              "    <tr>\n",
              "      <th>2</th>\n",
              "      <td>0</td>\n",
              "      <td>Allison, Miss. Helen Loraine</td>\n",
              "      <td>1</td>\n",
              "      <td>female</td>\n",
              "      <td>2.0000</td>\n",
              "      <td>1</td>\n",
              "      <td>2</td>\n",
              "      <td>151.5500</td>\n",
              "      <td>S</td>\n",
              "    </tr>\n",
              "    <tr>\n",
              "      <th>3</th>\n",
              "      <td>0</td>\n",
              "      <td>Allison, Mr. Hudson Joshua Creighton</td>\n",
              "      <td>1</td>\n",
              "      <td>male</td>\n",
              "      <td>30.0000</td>\n",
              "      <td>1</td>\n",
              "      <td>2</td>\n",
              "      <td>151.5500</td>\n",
              "      <td>S</td>\n",
              "    </tr>\n",
              "    <tr>\n",
              "      <th>4</th>\n",
              "      <td>0</td>\n",
              "      <td>Allison, Mrs. Hudson J C (Bessie Waldo Daniels)</td>\n",
              "      <td>1</td>\n",
              "      <td>female</td>\n",
              "      <td>25.0000</td>\n",
              "      <td>1</td>\n",
              "      <td>2</td>\n",
              "      <td>151.5500</td>\n",
              "      <td>S</td>\n",
              "    </tr>\n",
              "  </tbody>\n",
              "</table>\n",
              "</div>"
            ],
            "text/plain": [
              "   survived                                             name  pclass     sex  \\\n",
              "0         1                    Allen, Miss. Elisabeth Walton       1  female   \n",
              "1         1                   Allison, Master. Hudson Trevor       1    male   \n",
              "2         0                     Allison, Miss. Helen Loraine       1  female   \n",
              "3         0             Allison, Mr. Hudson Joshua Creighton       1    male   \n",
              "4         0  Allison, Mrs. Hudson J C (Bessie Waldo Daniels)       1  female   \n",
              "\n",
              "       age  sibsp  parch      fare embarked  \n",
              "0  29.0000      0      0  211.3375        S  \n",
              "1   0.9167      1      2  151.5500        S  \n",
              "2   2.0000      1      2  151.5500        S  \n",
              "3  30.0000      1      2  151.5500        S  \n",
              "4  25.0000      1      2  151.5500        S  "
            ]
          },
          "metadata": {
            "tags": []
          },
          "execution_count": 7
        }
      ]
    },
    {
      "metadata": {
        "id": "WPjqwlgQHpYb",
        "colab_type": "code",
        "colab": {}
      },
      "cell_type": "code",
      "source": [
        "# survived - 0:NO 1:YES\n",
        "# pclass - 1:first 2:business 3:economy\n",
        "# sibsp - number of wife, husband, siblings\n",
        "# parch - number of parents, children\n",
        "# embarked - C/Q/S\n",
        "\n",
        "df=all_df.drop(['name'],axis=1)"
      ],
      "execution_count": 0,
      "outputs": []
    },
    {
      "metadata": {
        "id": "kk7pgyxiIhFy",
        "colab_type": "code",
        "colab": {
          "base_uri": "https://localhost:8080/",
          "height": 198
        },
        "outputId": "6f75d51a-2e28-4f28-9521-2762789b81bd"
      },
      "cell_type": "code",
      "source": [
        "df[:5]"
      ],
      "execution_count": 9,
      "outputs": [
        {
          "output_type": "execute_result",
          "data": {
            "text/html": [
              "<div>\n",
              "<style scoped>\n",
              "    .dataframe tbody tr th:only-of-type {\n",
              "        vertical-align: middle;\n",
              "    }\n",
              "\n",
              "    .dataframe tbody tr th {\n",
              "        vertical-align: top;\n",
              "    }\n",
              "\n",
              "    .dataframe thead th {\n",
              "        text-align: right;\n",
              "    }\n",
              "</style>\n",
              "<table border=\"1\" class=\"dataframe\">\n",
              "  <thead>\n",
              "    <tr style=\"text-align: right;\">\n",
              "      <th></th>\n",
              "      <th>survived</th>\n",
              "      <th>pclass</th>\n",
              "      <th>sex</th>\n",
              "      <th>age</th>\n",
              "      <th>sibsp</th>\n",
              "      <th>parch</th>\n",
              "      <th>fare</th>\n",
              "      <th>embarked</th>\n",
              "    </tr>\n",
              "  </thead>\n",
              "  <tbody>\n",
              "    <tr>\n",
              "      <th>0</th>\n",
              "      <td>1</td>\n",
              "      <td>1</td>\n",
              "      <td>female</td>\n",
              "      <td>29.0000</td>\n",
              "      <td>0</td>\n",
              "      <td>0</td>\n",
              "      <td>211.3375</td>\n",
              "      <td>S</td>\n",
              "    </tr>\n",
              "    <tr>\n",
              "      <th>1</th>\n",
              "      <td>1</td>\n",
              "      <td>1</td>\n",
              "      <td>male</td>\n",
              "      <td>0.9167</td>\n",
              "      <td>1</td>\n",
              "      <td>2</td>\n",
              "      <td>151.5500</td>\n",
              "      <td>S</td>\n",
              "    </tr>\n",
              "    <tr>\n",
              "      <th>2</th>\n",
              "      <td>0</td>\n",
              "      <td>1</td>\n",
              "      <td>female</td>\n",
              "      <td>2.0000</td>\n",
              "      <td>1</td>\n",
              "      <td>2</td>\n",
              "      <td>151.5500</td>\n",
              "      <td>S</td>\n",
              "    </tr>\n",
              "    <tr>\n",
              "      <th>3</th>\n",
              "      <td>0</td>\n",
              "      <td>1</td>\n",
              "      <td>male</td>\n",
              "      <td>30.0000</td>\n",
              "      <td>1</td>\n",
              "      <td>2</td>\n",
              "      <td>151.5500</td>\n",
              "      <td>S</td>\n",
              "    </tr>\n",
              "    <tr>\n",
              "      <th>4</th>\n",
              "      <td>0</td>\n",
              "      <td>1</td>\n",
              "      <td>female</td>\n",
              "      <td>25.0000</td>\n",
              "      <td>1</td>\n",
              "      <td>2</td>\n",
              "      <td>151.5500</td>\n",
              "      <td>S</td>\n",
              "    </tr>\n",
              "  </tbody>\n",
              "</table>\n",
              "</div>"
            ],
            "text/plain": [
              "   survived  pclass     sex      age  sibsp  parch      fare embarked\n",
              "0         1       1  female  29.0000      0      0  211.3375        S\n",
              "1         1       1    male   0.9167      1      2  151.5500        S\n",
              "2         0       1  female   2.0000      1      2  151.5500        S\n",
              "3         0       1    male  30.0000      1      2  151.5500        S\n",
              "4         0       1  female  25.0000      1      2  151.5500        S"
            ]
          },
          "metadata": {
            "tags": []
          },
          "execution_count": 9
        }
      ]
    },
    {
      "metadata": {
        "id": "G_gQokq4ImAp",
        "colab_type": "code",
        "colab": {
          "base_uri": "https://localhost:8080/",
          "height": 199
        },
        "outputId": "c8a805ac-4e8c-4cee-90f2-906f55647857"
      },
      "cell_type": "code",
      "source": [
        "  all_df.isnull().sum()"
      ],
      "execution_count": 10,
      "outputs": [
        {
          "output_type": "execute_result",
          "data": {
            "text/plain": [
              "survived      0\n",
              "name          0\n",
              "pclass        0\n",
              "sex           0\n",
              "age         263\n",
              "sibsp         0\n",
              "parch         0\n",
              "fare          1\n",
              "embarked      2\n",
              "dtype: int64"
            ]
          },
          "metadata": {
            "tags": []
          },
          "execution_count": 10
        }
      ]
    },
    {
      "metadata": {
        "id": "cgBQGeMuIuRB",
        "colab_type": "code",
        "colab": {}
      },
      "cell_type": "code",
      "source": [
        "age_mean=df['age'].mean()\n",
        "df['age']=df['age'].fillna(age_mean)"
      ],
      "execution_count": 0,
      "outputs": []
    },
    {
      "metadata": {
        "id": "fU5dcdn7JHqp",
        "colab_type": "code",
        "colab": {}
      },
      "cell_type": "code",
      "source": [
        "fare_mean=df['fare'].mean()\n",
        "df['fare']=df['fare'].fillna(fare_mean)"
      ],
      "execution_count": 0,
      "outputs": []
    },
    {
      "metadata": {
        "id": "7eSd6Z-7JSLh",
        "colab_type": "code",
        "colab": {}
      },
      "cell_type": "code",
      "source": [
        "df['sex']=df['sex'].map({'female':0,'male':1}).astype(int)"
      ],
      "execution_count": 0,
      "outputs": []
    },
    {
      "metadata": {
        "id": "Oo3Ug31CJcRI",
        "colab_type": "code",
        "colab": {
          "base_uri": "https://localhost:8080/",
          "height": 198
        },
        "outputId": "7a979f46-8446-43ca-a692-62b08bef54c3"
      },
      "cell_type": "code",
      "source": [
        "x_OneHot_df=pd.get_dummies(data=df,columns=['embarked'])\n",
        "x_OneHot_df[:5]"
      ],
      "execution_count": 14,
      "outputs": [
        {
          "output_type": "execute_result",
          "data": {
            "text/html": [
              "<div>\n",
              "<style scoped>\n",
              "    .dataframe tbody tr th:only-of-type {\n",
              "        vertical-align: middle;\n",
              "    }\n",
              "\n",
              "    .dataframe tbody tr th {\n",
              "        vertical-align: top;\n",
              "    }\n",
              "\n",
              "    .dataframe thead th {\n",
              "        text-align: right;\n",
              "    }\n",
              "</style>\n",
              "<table border=\"1\" class=\"dataframe\">\n",
              "  <thead>\n",
              "    <tr style=\"text-align: right;\">\n",
              "      <th></th>\n",
              "      <th>survived</th>\n",
              "      <th>pclass</th>\n",
              "      <th>sex</th>\n",
              "      <th>age</th>\n",
              "      <th>sibsp</th>\n",
              "      <th>parch</th>\n",
              "      <th>fare</th>\n",
              "      <th>embarked_C</th>\n",
              "      <th>embarked_Q</th>\n",
              "      <th>embarked_S</th>\n",
              "    </tr>\n",
              "  </thead>\n",
              "  <tbody>\n",
              "    <tr>\n",
              "      <th>0</th>\n",
              "      <td>1</td>\n",
              "      <td>1</td>\n",
              "      <td>0</td>\n",
              "      <td>29.0000</td>\n",
              "      <td>0</td>\n",
              "      <td>0</td>\n",
              "      <td>211.3375</td>\n",
              "      <td>0</td>\n",
              "      <td>0</td>\n",
              "      <td>1</td>\n",
              "    </tr>\n",
              "    <tr>\n",
              "      <th>1</th>\n",
              "      <td>1</td>\n",
              "      <td>1</td>\n",
              "      <td>1</td>\n",
              "      <td>0.9167</td>\n",
              "      <td>1</td>\n",
              "      <td>2</td>\n",
              "      <td>151.5500</td>\n",
              "      <td>0</td>\n",
              "      <td>0</td>\n",
              "      <td>1</td>\n",
              "    </tr>\n",
              "    <tr>\n",
              "      <th>2</th>\n",
              "      <td>0</td>\n",
              "      <td>1</td>\n",
              "      <td>0</td>\n",
              "      <td>2.0000</td>\n",
              "      <td>1</td>\n",
              "      <td>2</td>\n",
              "      <td>151.5500</td>\n",
              "      <td>0</td>\n",
              "      <td>0</td>\n",
              "      <td>1</td>\n",
              "    </tr>\n",
              "    <tr>\n",
              "      <th>3</th>\n",
              "      <td>0</td>\n",
              "      <td>1</td>\n",
              "      <td>1</td>\n",
              "      <td>30.0000</td>\n",
              "      <td>1</td>\n",
              "      <td>2</td>\n",
              "      <td>151.5500</td>\n",
              "      <td>0</td>\n",
              "      <td>0</td>\n",
              "      <td>1</td>\n",
              "    </tr>\n",
              "    <tr>\n",
              "      <th>4</th>\n",
              "      <td>0</td>\n",
              "      <td>1</td>\n",
              "      <td>0</td>\n",
              "      <td>25.0000</td>\n",
              "      <td>1</td>\n",
              "      <td>2</td>\n",
              "      <td>151.5500</td>\n",
              "      <td>0</td>\n",
              "      <td>0</td>\n",
              "      <td>1</td>\n",
              "    </tr>\n",
              "  </tbody>\n",
              "</table>\n",
              "</div>"
            ],
            "text/plain": [
              "   survived  pclass  sex      age  sibsp  parch      fare  embarked_C  \\\n",
              "0         1       1    0  29.0000      0      0  211.3375           0   \n",
              "1         1       1    1   0.9167      1      2  151.5500           0   \n",
              "2         0       1    0   2.0000      1      2  151.5500           0   \n",
              "3         0       1    1  30.0000      1      2  151.5500           0   \n",
              "4         0       1    0  25.0000      1      2  151.5500           0   \n",
              "\n",
              "   embarked_Q  embarked_S  \n",
              "0           0           1  \n",
              "1           0           1  \n",
              "2           0           1  \n",
              "3           0           1  \n",
              "4           0           1  "
            ]
          },
          "metadata": {
            "tags": []
          },
          "execution_count": 14
        }
      ]
    },
    {
      "metadata": {
        "id": "C9gxdcrMJroX",
        "colab_type": "code",
        "colab": {
          "base_uri": "https://localhost:8080/",
          "height": 145
        },
        "outputId": "df8ae565-2d61-44ab-8098-9e1b88842706"
      },
      "cell_type": "code",
      "source": [
        "ndarray=x_OneHot_df.values\n",
        "print(ndarray)"
      ],
      "execution_count": 15,
      "outputs": [
        {
          "output_type": "stream",
          "text": [
            "[[1. 1. 0. ... 0. 0. 1.]\n",
            " [1. 1. 1. ... 0. 0. 1.]\n",
            " [0. 1. 0. ... 0. 0. 1.]\n",
            " ...\n",
            " [0. 3. 1. ... 1. 0. 0.]\n",
            " [0. 3. 1. ... 1. 0. 0.]\n",
            " [0. 3. 1. ... 0. 0. 1.]]\n"
          ],
          "name": "stdout"
        }
      ]
    },
    {
      "metadata": {
        "id": "qpuzK-B1J0gH",
        "colab_type": "code",
        "colab": {
          "base_uri": "https://localhost:8080/",
          "height": 35
        },
        "outputId": "e962bbe0-1667-454e-ab4d-493ef284876d"
      },
      "cell_type": "code",
      "source": [
        "ndarray.shape"
      ],
      "execution_count": 16,
      "outputs": [
        {
          "output_type": "execute_result",
          "data": {
            "text/plain": [
              "(1309, 10)"
            ]
          },
          "metadata": {
            "tags": []
          },
          "execution_count": 16
        }
      ]
    },
    {
      "metadata": {
        "id": "RMpVvxgDJ7N_",
        "colab_type": "code",
        "colab": {
          "base_uri": "https://localhost:8080/",
          "height": 199
        },
        "outputId": "23448ded-07c5-4d73-ded0-bf009c8ad16f"
      },
      "cell_type": "code",
      "source": [
        "ndarray[:5]"
      ],
      "execution_count": 17,
      "outputs": [
        {
          "output_type": "execute_result",
          "data": {
            "text/plain": [
              "array([[  1.    ,   1.    ,   0.    ,  29.    ,   0.    ,   0.    ,\n",
              "        211.3375,   0.    ,   0.    ,   1.    ],\n",
              "       [  1.    ,   1.    ,   1.    ,   0.9167,   1.    ,   2.    ,\n",
              "        151.55  ,   0.    ,   0.    ,   1.    ],\n",
              "       [  0.    ,   1.    ,   0.    ,   2.    ,   1.    ,   2.    ,\n",
              "        151.55  ,   0.    ,   0.    ,   1.    ],\n",
              "       [  0.    ,   1.    ,   1.    ,  30.    ,   1.    ,   2.    ,\n",
              "        151.55  ,   0.    ,   0.    ,   1.    ],\n",
              "       [  0.    ,   1.    ,   0.    ,  25.    ,   1.    ,   2.    ,\n",
              "        151.55  ,   0.    ,   0.    ,   1.    ]])"
            ]
          },
          "metadata": {
            "tags": []
          },
          "execution_count": 17
        }
      ]
    },
    {
      "metadata": {
        "id": "GmbywhBOKEt_",
        "colab_type": "code",
        "colab": {}
      },
      "cell_type": "code",
      "source": [
        "Label = ndarray[:,0]\n",
        "Features = ndarray[:,1:]"
      ],
      "execution_count": 0,
      "outputs": []
    },
    {
      "metadata": {
        "id": "vcFbiA4IKOy2",
        "colab_type": "code",
        "colab": {
          "base_uri": "https://localhost:8080/",
          "height": 35
        },
        "outputId": "7e053b0b-41ee-4177-ca01-b7b59db34b51"
      },
      "cell_type": "code",
      "source": [
        "Label[:5]"
      ],
      "execution_count": 19,
      "outputs": [
        {
          "output_type": "execute_result",
          "data": {
            "text/plain": [
              "array([1., 1., 0., 0., 0.])"
            ]
          },
          "metadata": {
            "tags": []
          },
          "execution_count": 19
        }
      ]
    },
    {
      "metadata": {
        "id": "5A8dAPUxKWv_",
        "colab_type": "code",
        "colab": {
          "base_uri": "https://localhost:8080/",
          "height": 199
        },
        "outputId": "03437825-c09e-41b8-db39-2168852a872e"
      },
      "cell_type": "code",
      "source": [
        "Features[:5]"
      ],
      "execution_count": 20,
      "outputs": [
        {
          "output_type": "execute_result",
          "data": {
            "text/plain": [
              "array([[  1.    ,   0.    ,  29.    ,   0.    ,   0.    , 211.3375,\n",
              "          0.    ,   0.    ,   1.    ],\n",
              "       [  1.    ,   1.    ,   0.9167,   1.    ,   2.    , 151.55  ,\n",
              "          0.    ,   0.    ,   1.    ],\n",
              "       [  1.    ,   0.    ,   2.    ,   1.    ,   2.    , 151.55  ,\n",
              "          0.    ,   0.    ,   1.    ],\n",
              "       [  1.    ,   1.    ,  30.    ,   1.    ,   2.    , 151.55  ,\n",
              "          0.    ,   0.    ,   1.    ],\n",
              "       [  1.    ,   0.    ,  25.    ,   1.    ,   2.    , 151.55  ,\n",
              "          0.    ,   0.    ,   1.    ]])"
            ]
          },
          "metadata": {
            "tags": []
          },
          "execution_count": 20
        }
      ]
    },
    {
      "metadata": {
        "id": "sh1hV_E7KdKP",
        "colab_type": "code",
        "colab": {}
      },
      "cell_type": "code",
      "source": [
        "from sklearn import preprocessing"
      ],
      "execution_count": 0,
      "outputs": []
    },
    {
      "metadata": {
        "id": "nyMgvtWgKmGm",
        "colab_type": "code",
        "colab": {}
      },
      "cell_type": "code",
      "source": [
        "minmax_scale = preprocessing.MinMaxScaler(feature_range=(0,1))\n",
        "scaledFeatures=minmax_scale.fit_transform(Features)"
      ],
      "execution_count": 0,
      "outputs": []
    },
    {
      "metadata": {
        "id": "jWN-ToE7K0Su",
        "colab_type": "code",
        "colab": {
          "base_uri": "https://localhost:8080/",
          "height": 199
        },
        "outputId": "7ae74b0a-df51-4bb2-8427-84cf70f2d65b"
      },
      "cell_type": "code",
      "source": [
        "scaledFeatures[:5]"
      ],
      "execution_count": 23,
      "outputs": [
        {
          "output_type": "execute_result",
          "data": {
            "text/plain": [
              "array([[0.        , 0.        , 0.36116884, 0.        , 0.        ,\n",
              "        0.41250333, 0.        , 0.        , 1.        ],\n",
              "       [0.        , 1.        , 0.00939458, 0.125     , 0.22222222,\n",
              "        0.2958059 , 0.        , 0.        , 1.        ],\n",
              "       [0.        , 0.        , 0.0229641 , 0.125     , 0.22222222,\n",
              "        0.2958059 , 0.        , 0.        , 1.        ],\n",
              "       [0.        , 1.        , 0.37369494, 0.125     , 0.22222222,\n",
              "        0.2958059 , 0.        , 0.        , 1.        ],\n",
              "       [0.        , 0.        , 0.31106443, 0.125     , 0.22222222,\n",
              "        0.2958059 , 0.        , 0.        , 1.        ]])"
            ]
          },
          "metadata": {
            "tags": []
          },
          "execution_count": 23
        }
      ]
    },
    {
      "metadata": {
        "id": "h9Sqqd9iK6Q1",
        "colab_type": "code",
        "colab": {
          "base_uri": "https://localhost:8080/",
          "height": 272
        },
        "outputId": "59cc5f3e-0afa-4aef-8503-ffff46956709"
      },
      "cell_type": "code",
      "source": [
        "# Preprocess Summary\n",
        "numpy.random.seed(10)\n",
        "msk = numpy.random.rand(len(all_df))<0.8\n",
        "print(msk)\n",
        "print(all_df[:5])\n",
        "train_df = all_df[msk]\n",
        "test_df = all_df[~msk]"
      ],
      "execution_count": 24,
      "outputs": [
        {
          "output_type": "stream",
          "text": [
            "[ True  True  True ...  True  True  True]\n",
            "   survived                                             name  pclass     sex  \\\n",
            "0         1                    Allen, Miss. Elisabeth Walton       1  female   \n",
            "1         1                   Allison, Master. Hudson Trevor       1    male   \n",
            "2         0                     Allison, Miss. Helen Loraine       1  female   \n",
            "3         0             Allison, Mr. Hudson Joshua Creighton       1    male   \n",
            "4         0  Allison, Mrs. Hudson J C (Bessie Waldo Daniels)       1  female   \n",
            "\n",
            "       age  sibsp  parch      fare embarked  \n",
            "0  29.0000      0      0  211.3375        S  \n",
            "1   0.9167      1      2  151.5500        S  \n",
            "2   2.0000      1      2  151.5500        S  \n",
            "3  30.0000      1      2  151.5500        S  \n",
            "4  25.0000      1      2  151.5500        S  \n"
          ],
          "name": "stdout"
        }
      ]
    },
    {
      "metadata": {
        "id": "PwNh5QPlLOmU",
        "colab_type": "code",
        "colab": {
          "base_uri": "https://localhost:8080/",
          "height": 35
        },
        "outputId": "24e773fd-a3ef-4db1-c085-9c26c51528fb"
      },
      "cell_type": "code",
      "source": [
        "print('total:',len(all_df),'train:',len(train_df),'test:',len(test_df))"
      ],
      "execution_count": 25,
      "outputs": [
        {
          "output_type": "stream",
          "text": [
            "total: 1309 train: 1034 test: 275\n"
          ],
          "name": "stdout"
        }
      ]
    },
    {
      "metadata": {
        "id": "3Zn_dJaeRstW",
        "colab_type": "code",
        "colab": {}
      },
      "cell_type": "code",
      "source": [
        "def PreprocessData(raw_df):\n",
        "  df=raw_df.drop(['name'],axis=1)\n",
        "  age_mean=df['age'].mean()\n",
        "  df['age']=df['age'].fillna(age_mean)\n",
        "  fare_mean=df['fare'].mean()\n",
        "  df['fare']=df['fare'].fillna(fare_mean)\n",
        "  df['sex']=df['sex'].map({'female':0,'male':1}).astype(int)\n",
        "  x_OneHot_df=pd.get_dummies(data=df,columns=['embarked'])\n",
        "  ndarray=x_OneHot_df.values\n",
        "  Label = ndarray[:,0]\n",
        "  Features = ndarray[:,1:]\n",
        "  \n",
        "  minmax_scale = preprocessing.MinMaxScaler(feature_range=(0,1))\n",
        "  scaledFeatures=minmax_scale.fit_transform(Features)\n",
        "  \n",
        "  return scaledFeatures,Label\n",
        "\n",
        "train_Features,train_Label=PreprocessData(train_df)\n",
        "test_Features,test_Label = PreprocessData(test_df)"
      ],
      "execution_count": 0,
      "outputs": []
    },
    {
      "metadata": {
        "id": "evCV7NVFOEoO",
        "colab_type": "text"
      },
      "cell_type": "markdown",
      "source": [
        "# Model Construction"
      ]
    },
    {
      "metadata": {
        "id": "rM1mKsDTL6Xb",
        "colab_type": "code",
        "colab": {
          "base_uri": "https://localhost:8080/",
          "height": 35
        },
        "outputId": "e6716140-afb1-4237-d7bd-24e85b5fb443"
      },
      "cell_type": "code",
      "source": [
        "from keras.models import Sequential\n",
        "from keras.layers import Dense,Dropout"
      ],
      "execution_count": 27,
      "outputs": [
        {
          "output_type": "stream",
          "text": [
            "Using TensorFlow backend.\n"
          ],
          "name": "stderr"
        }
      ]
    },
    {
      "metadata": {
        "id": "kVpDm3UAOe4a",
        "colab_type": "code",
        "colab": {}
      },
      "cell_type": "code",
      "source": [
        "model = Sequential()"
      ],
      "execution_count": 0,
      "outputs": []
    },
    {
      "metadata": {
        "id": "WXpd9rd3Og_i",
        "colab_type": "code",
        "colab": {
          "base_uri": "https://localhost:8080/",
          "height": 72
        },
        "outputId": "e4a49809-e975-40dc-9b99-38bef588a2d5"
      },
      "cell_type": "code",
      "source": [
        "model.add(Dense(units=40,input_dim=9,kernel_initializer='uniform',activation='relu'))\n",
        "model.add(Dense(units=30,kernel_initializer='uniform',activation='relu'))\n",
        "model.add(Dense(units=1,kernel_initializer='uniform',activation='sigmoid'))"
      ],
      "execution_count": 29,
      "outputs": [
        {
          "output_type": "stream",
          "text": [
            "WARNING:tensorflow:From /usr/local/lib/python3.6/dist-packages/tensorflow/python/framework/op_def_library.py:263: colocate_with (from tensorflow.python.framework.ops) is deprecated and will be removed in a future version.\n",
            "Instructions for updating:\n",
            "Colocations handled automatically by placer.\n"
          ],
          "name": "stdout"
        }
      ]
    },
    {
      "metadata": {
        "id": "XwftNi41O6R_",
        "colab_type": "code",
        "colab": {
          "base_uri": "https://localhost:8080/",
          "height": 272
        },
        "outputId": "b1de699d-0acd-4191-fca3-bf7de2201f7f"
      },
      "cell_type": "code",
      "source": [
        "print(model.summary())"
      ],
      "execution_count": 30,
      "outputs": [
        {
          "output_type": "stream",
          "text": [
            "_________________________________________________________________\n",
            "Layer (type)                 Output Shape              Param #   \n",
            "=================================================================\n",
            "dense_1 (Dense)              (None, 40)                400       \n",
            "_________________________________________________________________\n",
            "dense_2 (Dense)              (None, 30)                1230      \n",
            "_________________________________________________________________\n",
            "dense_3 (Dense)              (None, 1)                 31        \n",
            "=================================================================\n",
            "Total params: 1,661\n",
            "Trainable params: 1,661\n",
            "Non-trainable params: 0\n",
            "_________________________________________________________________\n",
            "None\n"
          ],
          "name": "stdout"
        }
      ]
    },
    {
      "metadata": {
        "id": "mNn34xrjPdNp",
        "colab_type": "text"
      },
      "cell_type": "markdown",
      "source": [
        "# Training"
      ]
    },
    {
      "metadata": {
        "id": "dTB2sDzvPWKm",
        "colab_type": "code",
        "colab": {}
      },
      "cell_type": "code",
      "source": [
        "model.compile(loss=\"binary_crossentropy\",optimizer='adam',metrics=['accuracy'])"
      ],
      "execution_count": 0,
      "outputs": []
    },
    {
      "metadata": {
        "id": "vnG2zWnBPrSd",
        "colab_type": "code",
        "colab": {
          "base_uri": "https://localhost:8080/",
          "height": 1181
        },
        "outputId": "2258b319-10ac-41a2-ea53-c6413abc907f"
      },
      "cell_type": "code",
      "source": [
        "train_history=model.fit(train_Features,train_Label,validation_split=0.1,epochs=30,batch_size=30,verbose=2)"
      ],
      "execution_count": 32,
      "outputs": [
        {
          "output_type": "stream",
          "text": [
            "WARNING:tensorflow:From /usr/local/lib/python3.6/dist-packages/tensorflow/python/ops/math_ops.py:3066: to_int32 (from tensorflow.python.ops.math_ops) is deprecated and will be removed in a future version.\n",
            "Instructions for updating:\n",
            "Use tf.cast instead.\n",
            "Train on 930 samples, validate on 104 samples\n",
            "Epoch 1/30\n",
            " - 2s - loss: 0.6899 - acc: 0.5774 - val_loss: 0.6706 - val_acc: 0.7885\n",
            "Epoch 2/30\n",
            " - 0s - loss: 0.6678 - acc: 0.5968 - val_loss: 0.5918 - val_acc: 0.7885\n",
            "Epoch 3/30\n",
            " - 0s - loss: 0.6103 - acc: 0.6667 - val_loss: 0.4945 - val_acc: 0.8173\n",
            "Epoch 4/30\n",
            " - 0s - loss: 0.5462 - acc: 0.7634 - val_loss: 0.4624 - val_acc: 0.7596\n",
            "Epoch 5/30\n",
            " - 0s - loss: 0.5066 - acc: 0.7591 - val_loss: 0.4540 - val_acc: 0.7885\n",
            "Epoch 6/30\n",
            " - 0s - loss: 0.4909 - acc: 0.7634 - val_loss: 0.4398 - val_acc: 0.7788\n",
            "Epoch 7/30\n",
            " - 0s - loss: 0.4821 - acc: 0.7591 - val_loss: 0.4423 - val_acc: 0.7885\n",
            "Epoch 8/30\n",
            " - 0s - loss: 0.4786 - acc: 0.7591 - val_loss: 0.4344 - val_acc: 0.7885\n",
            "Epoch 9/30\n",
            " - 0s - loss: 0.4730 - acc: 0.7634 - val_loss: 0.4276 - val_acc: 0.7981\n",
            "Epoch 10/30\n",
            " - 0s - loss: 0.4695 - acc: 0.7774 - val_loss: 0.4255 - val_acc: 0.7981\n",
            "Epoch 11/30\n",
            " - 0s - loss: 0.4654 - acc: 0.7634 - val_loss: 0.4223 - val_acc: 0.8173\n",
            "Epoch 12/30\n",
            " - 0s - loss: 0.4637 - acc: 0.7731 - val_loss: 0.4190 - val_acc: 0.8365\n",
            "Epoch 13/30\n",
            " - 0s - loss: 0.4621 - acc: 0.7796 - val_loss: 0.4190 - val_acc: 0.8365\n",
            "Epoch 14/30\n",
            " - 0s - loss: 0.4605 - acc: 0.7731 - val_loss: 0.4190 - val_acc: 0.8365\n",
            "Epoch 15/30\n",
            " - 0s - loss: 0.4626 - acc: 0.7839 - val_loss: 0.4200 - val_acc: 0.8269\n",
            "Epoch 16/30\n",
            " - 0s - loss: 0.4563 - acc: 0.7817 - val_loss: 0.4168 - val_acc: 0.8365\n",
            "Epoch 17/30\n",
            " - 0s - loss: 0.4549 - acc: 0.7849 - val_loss: 0.4168 - val_acc: 0.8365\n",
            "Epoch 18/30\n",
            " - 0s - loss: 0.4539 - acc: 0.7882 - val_loss: 0.4120 - val_acc: 0.7981\n",
            "Epoch 19/30\n",
            " - 0s - loss: 0.4537 - acc: 0.7968 - val_loss: 0.4212 - val_acc: 0.8077\n",
            "Epoch 20/30\n",
            " - 0s - loss: 0.4508 - acc: 0.7903 - val_loss: 0.4124 - val_acc: 0.8173\n",
            "Epoch 21/30\n",
            " - 0s - loss: 0.4506 - acc: 0.7957 - val_loss: 0.4128 - val_acc: 0.8173\n",
            "Epoch 22/30\n",
            " - 0s - loss: 0.4493 - acc: 0.7968 - val_loss: 0.4136 - val_acc: 0.8365\n",
            "Epoch 23/30\n",
            " - 0s - loss: 0.4522 - acc: 0.7849 - val_loss: 0.4152 - val_acc: 0.8269\n",
            "Epoch 24/30\n",
            " - 0s - loss: 0.4486 - acc: 0.7860 - val_loss: 0.4161 - val_acc: 0.8269\n",
            "Epoch 25/30\n",
            " - 0s - loss: 0.4488 - acc: 0.7914 - val_loss: 0.4195 - val_acc: 0.8269\n",
            "Epoch 26/30\n",
            " - 0s - loss: 0.4501 - acc: 0.7957 - val_loss: 0.4182 - val_acc: 0.8269\n",
            "Epoch 27/30\n",
            " - 0s - loss: 0.4457 - acc: 0.7989 - val_loss: 0.4142 - val_acc: 0.8077\n",
            "Epoch 28/30\n",
            " - 0s - loss: 0.4498 - acc: 0.7882 - val_loss: 0.4135 - val_acc: 0.8077\n",
            "Epoch 29/30\n",
            " - 0s - loss: 0.4456 - acc: 0.7946 - val_loss: 0.4175 - val_acc: 0.8173\n",
            "Epoch 30/30\n",
            " - 0s - loss: 0.4524 - acc: 0.7914 - val_loss: 0.4167 - val_acc: 0.8173\n"
          ],
          "name": "stdout"
        }
      ]
    },
    {
      "metadata": {
        "id": "BZq5RG2AUTtm",
        "colab_type": "code",
        "colab": {
          "base_uri": "https://localhost:8080/",
          "height": 735
        },
        "outputId": "375049f1-f7b8-4bd9-f5a3-826439d291f8"
      },
      "cell_type": "code",
      "source": [
        "import matplotlib.pyplot as plt\n",
        "def show_train_history(train_history,train,validation):\n",
        "  plt.plot(train_history.history[train])\n",
        "  plt.plot(train_history.history[validation])\n",
        "  plt.title('Train History')\n",
        "  plt.ylabel(train)\n",
        "  plt.xlabel('Epoch')\n",
        "  plt.legend(['train','validation'],loc='upper left')\n",
        "  plt.show()\n",
        "\n",
        "show_train_history(train_history,'acc','val_acc')\n",
        "show_train_history(train_history,'loss','val_loss')"
      ],
      "execution_count": 33,
      "outputs": [
        {
          "output_type": "display_data",
          "data": {
            "image/png": "[encoded data removed]",
            "text/plain": [
              "<Figure size 576x396 with 1 Axes>"
            ]
          },
          "metadata": {
            "tags": []
          }
        },
        {
          "output_type": "display_data",
          "data": {
            "image/png": "[encoded data removed]",
            "text/plain": [
              "<Figure size 576x396 with 1 Axes>"
            ]
          },
          "metadata": {
            "tags": []
          }
        }
      ]
    },
    {
      "metadata": {
        "id": "N6es_7nXV7FQ",
        "colab_type": "text"
      },
      "cell_type": "markdown",
      "source": [
        "# Prediction"
      ]
    },
    {
      "metadata": {
        "id": "81NIi0suUngl",
        "colab_type": "code",
        "colab": {
          "base_uri": "https://localhost:8080/",
          "height": 54
        },
        "outputId": "939c0b1c-8937-413c-adec-df0f1034bce4"
      },
      "cell_type": "code",
      "source": [
        "scores = model.evaluate(test_Features,test_Label)\n",
        "scores[1]"
      ],
      "execution_count": 35,
      "outputs": [
        {
          "output_type": "stream",
          "text": [
            "275/275 [==============================] - 0s 81us/step\n"
          ],
          "name": "stdout"
        },
        {
          "output_type": "execute_result",
          "data": {
            "text/plain": [
              "0.8109090913425793"
            ]
          },
          "metadata": {
            "tags": []
          },
          "execution_count": 35
        }
      ]
    },
    {
      "metadata": {
        "id": "QJj8_WltWDpa",
        "colab_type": "code",
        "colab": {}
      },
      "cell_type": "code",
      "source": [
        "Jack = pd.Series([0,'Jack',3,'male',23,1,0,5.0000,'S'])\n",
        "Rose = pd.Series([1,'Rose',1,'female',20,1,0,100.0000,'S'])"
      ],
      "execution_count": 0,
      "outputs": []
    },
    {
      "metadata": {
        "id": "fj2s43kwWsL6",
        "colab_type": "code",
        "colab": {}
      },
      "cell_type": "code",
      "source": [
        "JR_df=pd.DataFrame([list(Jack),list(Rose)],columns=['survived','name','pclass','sex','age','sibsp','parch','fare','embarked'])"
      ],
      "execution_count": 0,
      "outputs": []
    },
    {
      "metadata": {
        "id": "hylp-4EsXCYP",
        "colab_type": "code",
        "colab": {}
      },
      "cell_type": "code",
      "source": [
        "all_df=pd.concat([all_df,JR_df])"
      ],
      "execution_count": 0,
      "outputs": []
    },
    {
      "metadata": {
        "id": "ZX1xUXJOXIcX",
        "colab_type": "code",
        "colab": {
          "base_uri": "https://localhost:8080/",
          "height": 108
        },
        "outputId": "d407493f-f485-4a90-825a-34ee6445d87a"
      },
      "cell_type": "code",
      "source": [
        "all_df[-2:]"
      ],
      "execution_count": 39,
      "outputs": [
        {
          "output_type": "execute_result",
          "data": {
            "text/html": [
              "<div>\n",
              "<style scoped>\n",
              "    .dataframe tbody tr th:only-of-type {\n",
              "        vertical-align: middle;\n",
              "    }\n",
              "\n",
              "    .dataframe tbody tr th {\n",
              "        vertical-align: top;\n",
              "    }\n",
              "\n",
              "    .dataframe thead th {\n",
              "        text-align: right;\n",
              "    }\n",
              "</style>\n",
              "<table border=\"1\" class=\"dataframe\">\n",
              "  <thead>\n",
              "    <tr style=\"text-align: right;\">\n",
              "      <th></th>\n",
              "      <th>survived</th>\n",
              "      <th>name</th>\n",
              "      <th>pclass</th>\n",
              "      <th>sex</th>\n",
              "      <th>age</th>\n",
              "      <th>sibsp</th>\n",
              "      <th>parch</th>\n",
              "      <th>fare</th>\n",
              "      <th>embarked</th>\n",
              "    </tr>\n",
              "  </thead>\n",
              "  <tbody>\n",
              "    <tr>\n",
              "      <th>0</th>\n",
              "      <td>0</td>\n",
              "      <td>Jack</td>\n",
              "      <td>3</td>\n",
              "      <td>male</td>\n",
              "      <td>23.0</td>\n",
              "      <td>1</td>\n",
              "      <td>0</td>\n",
              "      <td>5.0</td>\n",
              "      <td>S</td>\n",
              "    </tr>\n",
              "    <tr>\n",
              "      <th>1</th>\n",
              "      <td>1</td>\n",
              "      <td>Rose</td>\n",
              "      <td>1</td>\n",
              "      <td>female</td>\n",
              "      <td>20.0</td>\n",
              "      <td>1</td>\n",
              "      <td>0</td>\n",
              "      <td>100.0</td>\n",
              "      <td>S</td>\n",
              "    </tr>\n",
              "  </tbody>\n",
              "</table>\n",
              "</div>"
            ],
            "text/plain": [
              "   survived  name  pclass     sex   age  sibsp  parch   fare embarked\n",
              "0         0  Jack       3    male  23.0      1      0    5.0        S\n",
              "1         1  Rose       1  female  20.0      1      0  100.0        S"
            ]
          },
          "metadata": {
            "tags": []
          },
          "execution_count": 39
        }
      ]
    },
    {
      "metadata": {
        "id": "YgXl8iw_XLKJ",
        "colab_type": "code",
        "colab": {}
      },
      "cell_type": "code",
      "source": [
        "all_Features,Label=PreprocessData(all_df)"
      ],
      "execution_count": 0,
      "outputs": []
    },
    {
      "metadata": {
        "id": "DcqJgApcXSvp",
        "colab_type": "code",
        "colab": {}
      },
      "cell_type": "code",
      "source": [
        "all_probability=model.predict(all_Features)"
      ],
      "execution_count": 0,
      "outputs": []
    },
    {
      "metadata": {
        "id": "tULEEepQXZi_",
        "colab_type": "code",
        "colab": {
          "base_uri": "https://localhost:8080/",
          "height": 199
        },
        "outputId": "4b1b98ca-aef1-4609-9787-f2953a65f5a5"
      },
      "cell_type": "code",
      "source": [
        "all_probability[:10]"
      ],
      "execution_count": 42,
      "outputs": [
        {
          "output_type": "execute_result",
          "data": {
            "text/plain": [
              "array([[0.97684413],\n",
              "       [0.61249447],\n",
              "       [0.972198  ],\n",
              "       [0.40797216],\n",
              "       [0.97133696],\n",
              "       [0.27127424],\n",
              "       [0.95048106],\n",
              "       [0.3258856 ],\n",
              "       [0.9485353 ],\n",
              "       [0.28959227]], dtype=float32)"
            ]
          },
          "metadata": {
            "tags": []
          },
          "execution_count": 42
        }
      ]
    },
    {
      "metadata": {
        "id": "3RU1Xa6MXcOf",
        "colab_type": "code",
        "colab": {}
      },
      "cell_type": "code",
      "source": [
        "pd=all_df\n",
        "pd.insert(len(all_df.columns),'probability',all_probability)"
      ],
      "execution_count": 0,
      "outputs": []
    },
    {
      "metadata": {
        "id": "U6TwhdGiXlEf",
        "colab_type": "code",
        "colab": {
          "base_uri": "https://localhost:8080/",
          "height": 108
        },
        "outputId": "744c4f29-31b1-4f55-8e5c-4d7d4810c8dd"
      },
      "cell_type": "code",
      "source": [
        "pd[-2:]"
      ],
      "execution_count": 46,
      "outputs": [
        {
          "output_type": "execute_result",
          "data": {
            "text/html": [
              "<div>\n",
              "<style scoped>\n",
              "    .dataframe tbody tr th:only-of-type {\n",
              "        vertical-align: middle;\n",
              "    }\n",
              "\n",
              "    .dataframe tbody tr th {\n",
              "        vertical-align: top;\n",
              "    }\n",
              "\n",
              "    .dataframe thead th {\n",
              "        text-align: right;\n",
              "    }\n",
              "</style>\n",
              "<table border=\"1\" class=\"dataframe\">\n",
              "  <thead>\n",
              "    <tr style=\"text-align: right;\">\n",
              "      <th></th>\n",
              "      <th>survived</th>\n",
              "      <th>name</th>\n",
              "      <th>pclass</th>\n",
              "      <th>sex</th>\n",
              "      <th>age</th>\n",
              "      <th>sibsp</th>\n",
              "      <th>parch</th>\n",
              "      <th>fare</th>\n",
              "      <th>embarked</th>\n",
              "      <th>probability</th>\n",
              "    </tr>\n",
              "  </thead>\n",
              "  <tbody>\n",
              "    <tr>\n",
              "      <th>0</th>\n",
              "      <td>0</td>\n",
              "      <td>Jack</td>\n",
              "      <td>3</td>\n",
              "      <td>male</td>\n",
              "      <td>23.0</td>\n",
              "      <td>1</td>\n",
              "      <td>0</td>\n",
              "      <td>5.0</td>\n",
              "      <td>S</td>\n",
              "      <td>0.151111</td>\n",
              "    </tr>\n",
              "    <tr>\n",
              "      <th>1</th>\n",
              "      <td>1</td>\n",
              "      <td>Rose</td>\n",
              "      <td>1</td>\n",
              "      <td>female</td>\n",
              "      <td>20.0</td>\n",
              "      <td>1</td>\n",
              "      <td>0</td>\n",
              "      <td>100.0</td>\n",
              "      <td>S</td>\n",
              "      <td>0.969567</td>\n",
              "    </tr>\n",
              "  </tbody>\n",
              "</table>\n",
              "</div>"
            ],
            "text/plain": [
              "   survived  name  pclass     sex   age  sibsp  parch   fare embarked  \\\n",
              "0         0  Jack       3    male  23.0      1      0    5.0        S   \n",
              "1         1  Rose       1  female  20.0      1      0  100.0        S   \n",
              "\n",
              "   probability  \n",
              "0     0.151111  \n",
              "1     0.969567  "
            ]
          },
          "metadata": {
            "tags": []
          },
          "execution_count": 46
        }
      ]
    },
    {
      "metadata": {
        "id": "KNgQVisqXpPY",
        "colab_type": "code",
        "colab": {
          "base_uri": "https://localhost:8080/",
          "height": 198
        },
        "outputId": "ccc8f92d-6c3c-4fc0-9678-93e9decf3179"
      },
      "cell_type": "code",
      "source": [
        "pd[(pd['survived']==0)&(pd['probability']>0.9)]"
      ],
      "execution_count": 51,
      "outputs": [
        {
          "output_type": "execute_result",
          "data": {
            "text/html": [
              "<div>\n",
              "<style scoped>\n",
              "    .dataframe tbody tr th:only-of-type {\n",
              "        vertical-align: middle;\n",
              "    }\n",
              "\n",
              "    .dataframe tbody tr th {\n",
              "        vertical-align: top;\n",
              "    }\n",
              "\n",
              "    .dataframe thead th {\n",
              "        text-align: right;\n",
              "    }\n",
              "</style>\n",
              "<table border=\"1\" class=\"dataframe\">\n",
              "  <thead>\n",
              "    <tr style=\"text-align: right;\">\n",
              "      <th></th>\n",
              "      <th>survived</th>\n",
              "      <th>name</th>\n",
              "      <th>pclass</th>\n",
              "      <th>sex</th>\n",
              "      <th>age</th>\n",
              "      <th>sibsp</th>\n",
              "      <th>parch</th>\n",
              "      <th>fare</th>\n",
              "      <th>embarked</th>\n",
              "      <th>probability</th>\n",
              "    </tr>\n",
              "  </thead>\n",
              "  <tbody>\n",
              "    <tr>\n",
              "      <th>2</th>\n",
              "      <td>0</td>\n",
              "      <td>Allison, Miss. Helen Loraine</td>\n",
              "      <td>1</td>\n",
              "      <td>female</td>\n",
              "      <td>2.0</td>\n",
              "      <td>1</td>\n",
              "      <td>2</td>\n",
              "      <td>151.5500</td>\n",
              "      <td>S</td>\n",
              "      <td>0.972198</td>\n",
              "    </tr>\n",
              "    <tr>\n",
              "      <th>4</th>\n",
              "      <td>0</td>\n",
              "      <td>Allison, Mrs. Hudson J C (Bessie Waldo Daniels)</td>\n",
              "      <td>1</td>\n",
              "      <td>female</td>\n",
              "      <td>25.0</td>\n",
              "      <td>1</td>\n",
              "      <td>2</td>\n",
              "      <td>151.5500</td>\n",
              "      <td>S</td>\n",
              "      <td>0.971337</td>\n",
              "    </tr>\n",
              "    <tr>\n",
              "      <th>105</th>\n",
              "      <td>0</td>\n",
              "      <td>Evans, Miss. Edith Corse</td>\n",
              "      <td>1</td>\n",
              "      <td>female</td>\n",
              "      <td>36.0</td>\n",
              "      <td>0</td>\n",
              "      <td>0</td>\n",
              "      <td>31.6792</td>\n",
              "      <td>C</td>\n",
              "      <td>0.978579</td>\n",
              "    </tr>\n",
              "    <tr>\n",
              "      <th>169</th>\n",
              "      <td>0</td>\n",
              "      <td>Isham, Miss. Ann Elizabeth</td>\n",
              "      <td>1</td>\n",
              "      <td>female</td>\n",
              "      <td>50.0</td>\n",
              "      <td>0</td>\n",
              "      <td>0</td>\n",
              "      <td>28.7125</td>\n",
              "      <td>C</td>\n",
              "      <td>0.976815</td>\n",
              "    </tr>\n",
              "    <tr>\n",
              "      <th>286</th>\n",
              "      <td>0</td>\n",
              "      <td>Straus, Mrs. Isidor (Rosalie Ida Blun)</td>\n",
              "      <td>1</td>\n",
              "      <td>female</td>\n",
              "      <td>63.0</td>\n",
              "      <td>1</td>\n",
              "      <td>0</td>\n",
              "      <td>221.7792</td>\n",
              "      <td>S</td>\n",
              "      <td>0.964464</td>\n",
              "    </tr>\n",
              "  </tbody>\n",
              "</table>\n",
              "</div>"
            ],
            "text/plain": [
              "     survived                                             name  pclass  \\\n",
              "2           0                     Allison, Miss. Helen Loraine       1   \n",
              "4           0  Allison, Mrs. Hudson J C (Bessie Waldo Daniels)       1   \n",
              "105         0                         Evans, Miss. Edith Corse       1   \n",
              "169         0                       Isham, Miss. Ann Elizabeth       1   \n",
              "286         0           Straus, Mrs. Isidor (Rosalie Ida Blun)       1   \n",
              "\n",
              "        sex   age  sibsp  parch      fare embarked  probability  \n",
              "2    female   2.0      1      2  151.5500        S     0.972198  \n",
              "4    female  25.0      1      2  151.5500        S     0.971337  \n",
              "105  female  36.0      0      0   31.6792        C     0.978579  \n",
              "169  female  50.0      0      0   28.7125        C     0.976815  \n",
              "286  female  63.0      1      0  221.7792        S     0.964464  "
            ]
          },
          "metadata": {
            "tags": []
          },
          "execution_count": 51
        }
      ]
    },
    {
      "metadata": {
        "id": "xXhyUmebX-t_",
        "colab_type": "code",
        "colab": {
          "base_uri": "https://localhost:8080/",
          "height": 198
        },
        "outputId": "ba64747c-5076-455a-97df-46b9cf442ba4"
      },
      "cell_type": "code",
      "source": [
        "pd[:5]"
      ],
      "execution_count": 52,
      "outputs": [
        {
          "output_type": "execute_result",
          "data": {
            "text/html": [
              "<div>\n",
              "<style scoped>\n",
              "    .dataframe tbody tr th:only-of-type {\n",
              "        vertical-align: middle;\n",
              "    }\n",
              "\n",
              "    .dataframe tbody tr th {\n",
              "        vertical-align: top;\n",
              "    }\n",
              "\n",
              "    .dataframe thead th {\n",
              "        text-align: right;\n",
              "    }\n",
              "</style>\n",
              "<table border=\"1\" class=\"dataframe\">\n",
              "  <thead>\n",
              "    <tr style=\"text-align: right;\">\n",
              "      <th></th>\n",
              "      <th>survived</th>\n",
              "      <th>name</th>\n",
              "      <th>pclass</th>\n",
              "      <th>sex</th>\n",
              "      <th>age</th>\n",
              "      <th>sibsp</th>\n",
              "      <th>parch</th>\n",
              "      <th>fare</th>\n",
              "      <th>embarked</th>\n",
              "      <th>probability</th>\n",
              "    </tr>\n",
              "  </thead>\n",
              "  <tbody>\n",
              "    <tr>\n",
              "      <th>0</th>\n",
              "      <td>1</td>\n",
              "      <td>Allen, Miss. Elisabeth Walton</td>\n",
              "      <td>1</td>\n",
              "      <td>female</td>\n",
              "      <td>29.0000</td>\n",
              "      <td>0</td>\n",
              "      <td>0</td>\n",
              "      <td>211.3375</td>\n",
              "      <td>S</td>\n",
              "      <td>0.976844</td>\n",
              "    </tr>\n",
              "    <tr>\n",
              "      <th>1</th>\n",
              "      <td>1</td>\n",
              "      <td>Allison, Master. Hudson Trevor</td>\n",
              "      <td>1</td>\n",
              "      <td>male</td>\n",
              "      <td>0.9167</td>\n",
              "      <td>1</td>\n",
              "      <td>2</td>\n",
              "      <td>151.5500</td>\n",
              "      <td>S</td>\n",
              "      <td>0.612494</td>\n",
              "    </tr>\n",
              "    <tr>\n",
              "      <th>2</th>\n",
              "      <td>0</td>\n",
              "      <td>Allison, Miss. Helen Loraine</td>\n",
              "      <td>1</td>\n",
              "      <td>female</td>\n",
              "      <td>2.0000</td>\n",
              "      <td>1</td>\n",
              "      <td>2</td>\n",
              "      <td>151.5500</td>\n",
              "      <td>S</td>\n",
              "      <td>0.972198</td>\n",
              "    </tr>\n",
              "    <tr>\n",
              "      <th>3</th>\n",
              "      <td>0</td>\n",
              "      <td>Allison, Mr. Hudson Joshua Creighton</td>\n",
              "      <td>1</td>\n",
              "      <td>male</td>\n",
              "      <td>30.0000</td>\n",
              "      <td>1</td>\n",
              "      <td>2</td>\n",
              "      <td>151.5500</td>\n",
              "      <td>S</td>\n",
              "      <td>0.407972</td>\n",
              "    </tr>\n",
              "    <tr>\n",
              "      <th>4</th>\n",
              "      <td>0</td>\n",
              "      <td>Allison, Mrs. Hudson J C (Bessie Waldo Daniels)</td>\n",
              "      <td>1</td>\n",
              "      <td>female</td>\n",
              "      <td>25.0000</td>\n",
              "      <td>1</td>\n",
              "      <td>2</td>\n",
              "      <td>151.5500</td>\n",
              "      <td>S</td>\n",
              "      <td>0.971337</td>\n",
              "    </tr>\n",
              "  </tbody>\n",
              "</table>\n",
              "</div>"
            ],
            "text/plain": [
              "   survived                                             name  pclass     sex  \\\n",
              "0         1                    Allen, Miss. Elisabeth Walton       1  female   \n",
              "1         1                   Allison, Master. Hudson Trevor       1    male   \n",
              "2         0                     Allison, Miss. Helen Loraine       1  female   \n",
              "3         0             Allison, Mr. Hudson Joshua Creighton       1    male   \n",
              "4         0  Allison, Mrs. Hudson J C (Bessie Waldo Daniels)       1  female   \n",
              "\n",
              "       age  sibsp  parch      fare embarked  probability  \n",
              "0  29.0000      0      0  211.3375        S     0.976844  \n",
              "1   0.9167      1      2  151.5500        S     0.612494  \n",
              "2   2.0000      1      2  151.5500        S     0.972198  \n",
              "3  30.0000      1      2  151.5500        S     0.407972  \n",
              "4  25.0000      1      2  151.5500        S     0.971337  "
            ]
          },
          "metadata": {
            "tags": []
          },
          "execution_count": 52
        }
      ]
    },
    {
      "metadata": {
        "id": "a7EDVxyjYgCW",
        "colab_type": "code",
        "colab": {}
      },
      "cell_type": "code",
      "source": [
        ""
      ],
      "execution_count": 0,
      "outputs": []
    }
  ]
}