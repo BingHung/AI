{
  "nbformat": 4,
  "nbformat_minor": 0,
  "metadata": {
    "colab": {
      "name": "[02242019-4] Python-L4 Function.ipynb",
      "version": "0.3.2",
      "provenance": [],
      "collapsed_sections": [],
      "include_colab_link": true
    },
    "kernelspec": {
      "name": "python3",
      "display_name": "Python 3"
    },
    "accelerator": "GPU"
  },
  "cells": [
    {
      "cell_type": "markdown",
      "metadata": {
        "id": "view-in-github",
        "colab_type": "text"
      },
      "source": [
        "<a href=\"https://colab.research.google.com/github/BingHung/AI/blob/master/%5B02242019_4%5D_Python_L4_Function.ipynb\" target=\"_parent\"><img src=\"https://colab.research.google.com/assets/colab-badge.svg\" alt=\"Open In Colab\"/></a>"
      ]
    },
    {
      "metadata": {
        "id": "rlrjsyFegKXe",
        "colab_type": "text"
      },
      "cell_type": "markdown",
      "source": [
        "Function is a group of related statements that perform a specific task.\n",
        "\n",
        "Functions help break our program into smaller and modular chunks.\n",
        "As our program grows larger and larger, functions make it more organized and manageable.\n",
        "\n",
        "Furthermore, it avoids repetition and makes code reusable."
      ]
    },
    {
      "metadata": {
        "id": "iU9XmhOkf3nf",
        "colab_type": "code",
        "colab": {}
      },
      "cell_type": "code",
      "source": [
        "def function_name(parameters):  \n",
        "    statement(s)"
      ],
      "execution_count": 0,
      "outputs": []
    },
    {
      "metadata": {
        "id": "p3MkKh-YgRam",
        "colab_type": "text"
      },
      "cell_type": "markdown",
      "source": [
        "**def** - marks the start of function header.  \n",
        "**function name** - to uniquely identify it.  \n",
        "**parameters** - through which we pass values to a function. (optional)  \n",
        "**colon (:)** - to mark the end of function header.  \n",
        "**return statement** - to return a value from the function. (optional)"
      ]
    },
    {
      "metadata": {
        "id": "oMjVRW-OgOzC",
        "colab_type": "code",
        "colab": {}
      },
      "cell_type": "code",
      "source": [
        "# define function without parameters\n",
        "def greet():\n",
        "    print(\"Hello!\")"
      ],
      "execution_count": 0,
      "outputs": []
    },
    {
      "metadata": {
        "id": "hyV2c7AWgTkz",
        "colab_type": "code",
        "colab": {
          "base_uri": "https://localhost:8080/",
          "height": 35
        },
        "outputId": "e6e0b5e1-41bb-4242-82e8-0c2adb38118c"
      },
      "cell_type": "code",
      "source": [
        "# call function\n",
        "greet()"
      ],
      "execution_count": 3,
      "outputs": [
        {
          "output_type": "stream",
          "text": [
            "Hello!\n"
          ],
          "name": "stdout"
        }
      ]
    },
    {
      "metadata": {
        "id": "zvnw0U9NgXor",
        "colab_type": "code",
        "colab": {}
      },
      "cell_type": "code",
      "source": [
        "# define function with parameter\n",
        "def greet(name):\n",
        "    print(\"Hello\", name + \", nice to meet you\")"
      ],
      "execution_count": 0,
      "outputs": []
    },
    {
      "metadata": {
        "id": "ZmadwLYHgZd7",
        "colab_type": "code",
        "colab": {
          "base_uri": "https://localhost:8080/",
          "height": 35
        },
        "outputId": "5faacf7a-8b0b-414f-99eb-3a0cba3ecf6f"
      },
      "cell_type": "code",
      "source": [
        "greet(\"Felix\")"
      ],
      "execution_count": 5,
      "outputs": [
        {
          "output_type": "stream",
          "text": [
            "Hello Felix, nice to meet you\n"
          ],
          "name": "stdout"
        }
      ]
    },
    {
      "metadata": {
        "id": "XXX0H4Obgar7",
        "colab_type": "code",
        "colab": {
          "base_uri": "https://localhost:8080/",
          "height": 72
        },
        "outputId": "2c7ae501-4de7-415e-bfb4-d459fd6af0e4"
      },
      "cell_type": "code",
      "source": [
        "# repetition\n",
        "\n",
        "# print(\"Hello Adam, nice to meet you\")\n",
        "# print(\"Hello Bruce, nice to meet you\")\n",
        "# print(\"Hello Cate, nice to meet you\")\n",
        "\n",
        "greet(\"Adam\")\n",
        "greet(\"Bruce\")\n",
        "greet(\"Cate\")"
      ],
      "execution_count": 6,
      "outputs": [
        {
          "output_type": "stream",
          "text": [
            "Hello Adam, nice to meet you\n",
            "Hello Bruce, nice to meet you\n",
            "Hello Cate, nice to meet you\n"
          ],
          "name": "stdout"
        }
      ]
    },
    {
      "metadata": {
        "id": "WZjWxS7fgcGD",
        "colab_type": "code",
        "colab": {
          "base_uri": "https://localhost:8080/",
          "height": 35
        },
        "outputId": "0794afc4-6203-4a0f-d225-1309b093ebdf"
      },
      "cell_type": "code",
      "source": [
        "# return statement\n",
        "\n",
        "# None\n",
        "def greet():\n",
        "    print(\"Hello\")\n",
        "\n",
        "# One \n",
        "def add_two_nums(arg1, arg2):\n",
        "   sum = arg1 + arg2\n",
        "   return sum;\n",
        "\n",
        "result = add_two_nums(10, 20)\n",
        "print(result)"
      ],
      "execution_count": 7,
      "outputs": [
        {
          "output_type": "stream",
          "text": [
            "30\n"
          ],
          "name": "stdout"
        }
      ]
    },
    {
      "metadata": {
        "id": "9PLS0qZ-gd9z",
        "colab_type": "code",
        "colab": {
          "base_uri": "https://localhost:8080/",
          "height": 72
        },
        "outputId": "416536ff-f4e4-4684-ae89-33e1594f079d"
      },
      "cell_type": "code",
      "source": [
        "# Multiple return values\n",
        "# Python has the ability to return multiple values from a function call\n",
        "\n",
        "# constructs a tuple and returns this to the caller\n",
        "def square(x,y):\n",
        "    return x*x, y*y\n",
        "\n",
        "result = square(2,3)\n",
        "print(result)  # Produces (4,9)\n",
        "\n",
        "\n",
        "# \"unwrap\" the tuple into the variables directly by specifying the same number of variables\n",
        "def square(x,y):\n",
        "    return x*x, y*y\n",
        "\n",
        "res_x, res_y = square(2,3)\n",
        "print(res_x)  # Prints 4\n",
        "print(res_y)  # Prints 9 "
      ],
      "execution_count": 8,
      "outputs": [
        {
          "output_type": "stream",
          "text": [
            "(4, 9)\n",
            "4\n",
            "9\n"
          ],
          "name": "stdout"
        }
      ]
    },
    {
      "metadata": {
        "id": "Y9SH54CEgijY",
        "colab_type": "text"
      },
      "cell_type": "markdown",
      "source": [
        "### QuickSort (Just explanation the code reusable , please don't spend time to read the detail code.)"
      ]
    },
    {
      "metadata": {
        "id": "YjFgY3CkgfeD",
        "colab_type": "code",
        "colab": {}
      },
      "cell_type": "code",
      "source": [
        "def quickSort(alist):\n",
        "    quickSortHelper(alist, 0, len(alist)-1)\n",
        "\n",
        "def quickSortHelper(alist, first, last):\n",
        "    if first<last:\n",
        "        splitpoint = partition(alist, first, last)\n",
        "        \n",
        "        quickSortHelper(alist, first, splitpoint-1)\n",
        "        quickSortHelper(alist, splitpoint+1, last)\n",
        "\n",
        "def partition(alist,first,last):\n",
        "    pivotvalue = alist[first]\n",
        "    \n",
        "    leftmark = first + 1\n",
        "    rightmark = last\n",
        "\n",
        "    done = False\n",
        "    while not done:\n",
        "        while leftmark <= rightmark and alist[leftmark] <= pivotvalue:\n",
        "            leftmark = leftmark + 1\n",
        "\n",
        "        while alist[rightmark] >= pivotvalue and rightmark >= leftmark:\n",
        "            rightmark = rightmark - 1\n",
        "\n",
        "        if rightmark < leftmark:\n",
        "            done = True\n",
        "        else:\n",
        "            temp = alist[leftmark]\n",
        "            alist[leftmark] = alist[rightmark]\n",
        "            alist[rightmark] = temp\n",
        "\n",
        "    temp = alist[first]\n",
        "    alist[first] = alist[rightmark]\n",
        "    alist[rightmark] = temp\n",
        "\n",
        "    return rightmark"
      ],
      "execution_count": 0,
      "outputs": []
    },
    {
      "metadata": {
        "id": "oMqN9iBLgqQK",
        "colab_type": "code",
        "colab": {
          "base_uri": "https://localhost:8080/",
          "height": 54
        },
        "outputId": "c94d8431-187a-4eea-9516-0b88c979731b"
      },
      "cell_type": "code",
      "source": [
        "# reuse the sort function, do not recode\n",
        "a_list = [9, 5, 3, 4, 1, 8, 7, 6, 2]\n",
        "quickSort(a_list)\n",
        "print(a_list)\n",
        "\n",
        "## Built-in sorted\n",
        "built_in_sort = sorted(a_list)\n",
        "print(built_in_sort)"
      ],
      "execution_count": 10,
      "outputs": [
        {
          "output_type": "stream",
          "text": [
            "[1, 2, 3, 4, 5, 6, 7, 8, 9]\n",
            "[1, 2, 3, 4, 5, 6, 7, 8, 9]\n"
          ],
          "name": "stdout"
        }
      ]
    },
    {
      "metadata": {
        "id": "lGDY6rfIgsgO",
        "colab_type": "text"
      },
      "cell_type": "markdown",
      "source": [
        "### Anonymous Function - Lambda \n",
        "Anonymous function is a function that is defined without a name. </br>\n",
        "While normal functions are defined using the def keyword, in Python anonymous functions are defined using the lambda keyword. </br>\n",
        "Lambda forms can take any number of arguments but return just one value in the form of an expression. </br>\n",
        "They cannot contain assign variables or multiple expressions."
      ]
    },
    {
      "metadata": {
        "id": "Ma11-q4dgrj6",
        "colab_type": "code",
        "colab": {
          "base_uri": "https://localhost:8080/",
          "height": 35
        },
        "outputId": "ddeb8873-0f82-4334-fbc4-a7fa98352a6e"
      },
      "cell_type": "code",
      "source": [
        "# Lambda functions can have only one expression. \n",
        "# The expression is evaluated and returned. \n",
        "\n",
        "double = lambda x: x * 2\n",
        "\n",
        "# Output: 10\n",
        "print(double(5))\n",
        "\n",
        "# is nearly the same as\n",
        "def double(x):\n",
        "    return x * 2"
      ],
      "execution_count": 11,
      "outputs": [
        {
          "output_type": "stream",
          "text": [
            "10\n"
          ],
          "name": "stdout"
        }
      ]
    },
    {
      "metadata": {
        "id": "1pyJd-Avg-ni",
        "colab_type": "code",
        "colab": {
          "base_uri": "https://localhost:8080/",
          "height": 35
        },
        "outputId": "15658a4d-a992-4970-ed06-ca78ce53abee"
      },
      "cell_type": "code",
      "source": [
        "# Lambda functions can have any number of arguments\n",
        "double = lambda x, y: x * 2 + y\n",
        "\n",
        "# Output: 12\n",
        "print(double(5,2))\n",
        "\n",
        "# is nearly the same as\n",
        "def double(x, y):\n",
        "    return x * 2 + y"
      ],
      "execution_count": 12,
      "outputs": [
        {
          "output_type": "stream",
          "text": [
            "12\n"
          ],
          "name": "stdout"
        }
      ]
    },
    {
      "metadata": {
        "id": "xwgEf1_DhGXW",
        "colab_type": "text"
      },
      "cell_type": "markdown",
      "source": [
        "### Map function"
      ]
    },
    {
      "metadata": {
        "id": "wFHPw30Ng_5C",
        "colab_type": "code",
        "colab": {
          "base_uri": "https://localhost:8080/",
          "height": 54
        },
        "outputId": "43684157-b926-4322-9fbd-eb0257cd66f3"
      },
      "cell_type": "code",
      "source": [
        "# map(function, iterable)\n",
        "# Apply function to every item of iterable and return a list of the results.\n",
        "\n",
        "items = [1, 2, 3, 4, 5]\n",
        "\n",
        "# for - one-by-one and collect the output\n",
        "squares = []\n",
        "for i in items:\n",
        "    squares.append(i**2)\n",
        "\n",
        "print(squares)\n",
        "    \n",
        "    \n",
        "# map - simpler and nicer way\n",
        "squares = list(map(lambda x: x**2, items))\n",
        "print(squares)"
      ],
      "execution_count": 13,
      "outputs": [
        {
          "output_type": "stream",
          "text": [
            "[1, 4, 9, 16, 25]\n",
            "[1, 4, 9, 16, 25]\n"
          ],
          "name": "stdout"
        }
      ]
    },
    {
      "metadata": {
        "id": "p_Qt7o7whMut",
        "colab_type": "text"
      },
      "cell_type": "markdown",
      "source": [
        "### Global, Local variables "
      ]
    },
    {
      "metadata": {
        "id": "ar-dk0W3hKw5",
        "colab_type": "code",
        "colab": {
          "base_uri": "https://localhost:8080/",
          "height": 35
        },
        "outputId": "625c4e86-643c-4bcd-ff32-88b8624077ef"
      },
      "cell_type": "code",
      "source": [
        "# global\n",
        "x = \"global\"\n",
        "\n",
        "def foo():\n",
        "    y = x + \"_variable\"\n",
        "    print(y)\n",
        "foo()"
      ],
      "execution_count": 14,
      "outputs": [
        {
          "output_type": "stream",
          "text": [
            "global_variable\n"
          ],
          "name": "stdout"
        }
      ]
    },
    {
      "metadata": {
        "id": "3OTI3FIyhN3x",
        "colab_type": "code",
        "colab": {}
      },
      "cell_type": "code",
      "source": [
        "# local\n",
        "def foo():\n",
        "    z = \"local\"\n",
        "\n",
        "# NameError: name 'z' is not defined\n",
        "# print(z)"
      ],
      "execution_count": 0,
      "outputs": []
    },
    {
      "metadata": {
        "id": "Cp-4f_IQiFrV",
        "colab_type": "text"
      },
      "cell_type": "markdown",
      "source": [
        "### Generators\n",
        "\n",
        "Python generators are a simple way of creating iterators.\n",
        "\n",
        "It is as easy as defining a normal function with yield statement instead of a return statement.\n",
        "\n",
        "If a function contains at least one yield statement (it may contain other yield or return statements), it becomes a generator function. Both yield and return will return some value from a function.\n",
        "\n",
        "The difference is that, while a return statement terminates a function entirely, yield statement pauses the function saving all its states and later continues from there on successive calls."
      ]
    },
    {
      "metadata": {
        "id": "bjzyc8IWiIDs",
        "colab_type": "code",
        "colab": {
          "base_uri": "https://localhost:8080/",
          "height": 54
        },
        "outputId": "48563ae1-969b-4dcb-eb50-93820790b662"
      },
      "cell_type": "code",
      "source": [
        "# with for loop\n",
        "def generator_example():\n",
        "    a = 1\n",
        "    yield print(a)    # 1\n",
        "    a += 1\n",
        "    yield print(a)    # 2\n",
        "    return\n",
        "\n",
        "for i in generator_example():\n",
        "    continue  "
      ],
      "execution_count": 25,
      "outputs": [
        {
          "output_type": "stream",
          "text": [
            "1\n",
            "2\n"
          ],
          "name": "stdout"
        }
      ]
    },
    {
      "metadata": {
        "id": "xj9wRKXdisrv",
        "colab_type": "text"
      },
      "cell_type": "markdown",
      "source": [
        "Benefits: no need to create a complete list, which saves a lot of memory space."
      ]
    },
    {
      "metadata": {
        "id": "lmWVKHC2iuQ0",
        "colab_type": "code",
        "colab": {}
      },
      "cell_type": "code",
      "source": [
        "# 利用 list 迭代  \n",
        "range_num = 10\n",
        "for i in [x*x for x in range(range_num)]:\n",
        "    # do something\n",
        "    pass\n",
        "\n",
        "# 利用 generator 迭代  \n",
        "for i in (x*x for x in range(range_num)):\n",
        "    # do something\n",
        "    pass"
      ],
      "execution_count": 0,
      "outputs": []
    },
    {
      "metadata": {
        "id": "s8FehBwdiy2c",
        "colab_type": "code",
        "colab": {
          "base_uri": "https://localhost:8080/",
          "height": 72
        },
        "outputId": "b90e80e2-3958-4c31-ad8c-2c886d2d0484"
      },
      "cell_type": "code",
      "source": [
        "import psutil\n",
        "\n",
        "before_used = psutil.virtual_memory().used  # expressed in bytes\n",
        "after_used = 0\n",
        "\n",
        "print(\"before:\", before_used)\n",
        "\n",
        "range_num = 1000000 \n",
        "for i in [x*x for x in range(range_num)]: # 第一種方法：對 list 進行迭代\n",
        "    if i == (range_num - 1) * (range_num - 1):\n",
        "        after_used = psutil.virtual_memory().used\n",
        "        print(\"after:\", after_used)\n",
        "    \n",
        "print(\"used memory:\", (after_used - before_used))"
      ],
      "execution_count": 29,
      "outputs": [
        {
          "output_type": "stream",
          "text": [
            "before: 433762304\n",
            "after: 483565568\n",
            "used memory: 49803264\n"
          ],
          "name": "stdout"
        }
      ]
    },
    {
      "metadata": {
        "id": "j9xJBaGVi4Nk",
        "colab_type": "code",
        "colab": {
          "base_uri": "https://localhost:8080/",
          "height": 72
        },
        "outputId": "b0cd5c9d-3238-4b45-9076-3f4c28b4fae8"
      },
      "cell_type": "code",
      "source": [
        "import psutil\n",
        "\n",
        "before_used = psutil.virtual_memory().used  # expressed in bytes\n",
        "after_used = 0\n",
        "\n",
        "print(\"before:\", before_used)\n",
        "\n",
        "range_num = 1000000 \n",
        "for i in (x*x for x in range(range_num)): # 第二種方法：對 generator 進行迭代\n",
        "    if i == (range_num - 1) * (range_num - 1):\n",
        "        after_used = psutil.virtual_memory().used\n",
        "        print(\"after:\", after_used)\n",
        "    \n",
        "print(\"used memory:\", (after_used - before_used))"
      ],
      "execution_count": 30,
      "outputs": [
        {
          "output_type": "stream",
          "text": [
            "before: 451317760\n",
            "after: 451493888\n",
            "used memory: 176128\n"
          ],
          "name": "stdout"
        }
      ]
    },
    {
      "metadata": {
        "id": "xzxewr8GhVav",
        "colab_type": "text"
      },
      "cell_type": "markdown",
      "source": [
        "## Practice\n",
        "\n",
        "Q1. 請寫出一個函式，將列表中的數字相乘。\n",
        "Sample List : [1, 2, 3, 4, 5] \n",
        "Expected Result : 120\n",
        "\n",
        "\n",
        "Q2. 請寫⼀個函式，輸入一字串，返回反轉全部字元的字串。 \n",
        "func(\"test\")\n",
        "Expected Result : \"tset\" \n",
        "\n",
        "\n",
        "Q3. 請寫⼀個函式把裡⾯的字串，每個單字本⾝做反轉，但是單字的順序不變。 (Optional)\n",
        "func(\"it is a test string\")\n",
        "Expected Result : \"string tset a is it\"  "
      ]
    },
    {
      "metadata": {
        "id": "hW2sHMb0hO6a",
        "colab_type": "code",
        "colab": {
          "base_uri": "https://localhost:8080/",
          "height": 35
        },
        "outputId": "3762e7a0-be36-4ae2-be8d-ef59ac809095"
      },
      "cell_type": "code",
      "source": [
        "# Q1\n",
        "\n",
        "def multiply(num):  \n",
        "    total = 1\n",
        "    for x in num:\n",
        "        total *= x  \n",
        "    return total  \n",
        "\n",
        "\n",
        "  print(multiply([1, 2, 3, 4, 5]))"
      ],
      "execution_count": 16,
      "outputs": [
        {
          "output_type": "stream",
          "text": [
            "120\n"
          ],
          "name": "stdout"
        }
      ]
    },
    {
      "metadata": {
        "id": "fD8pyDLUhcc7",
        "colab_type": "code",
        "colab": {}
      },
      "cell_type": "code",
      "source": [
        "# Q2 - easy\n",
        "def reverse_easy(string):\n",
        "    return string[::-1]\n",
        "  \n",
        "# Q2 - standard\n",
        "def reverse(string):\n",
        "    temp = list(string)\n",
        "\n",
        "    left = 0\n",
        "    right = len(temp)-1\n",
        "\n",
        "    while left <= right:\n",
        "        temp[left], temp[right] = temp[right], temp[left]\n",
        "        left += 1\n",
        "        right -= 1\n",
        "\n",
        "    result = ''.join(temp)\n",
        "\n",
        "    return result"
      ],
      "execution_count": 0,
      "outputs": []
    },
    {
      "metadata": {
        "id": "2wLCSwPuho05",
        "colab_type": "code",
        "colab": {}
      },
      "cell_type": "code",
      "source": [
        "# Q3 \n",
        "def reverse_sentence(sentence):\n",
        "    if sentence is None or len(sentence) == 0:\n",
        "        return \"\"\n",
        "        \n",
        "    temp_list = sentence.split(\" \")\n",
        "\n",
        "    for i in range(len(temp_list)):\n",
        "        temp_list[i] = reverse(temp_list[i])\n",
        "\n",
        "    result = ' '.join(temp_list)\n",
        "\n",
        "    return result"
      ],
      "execution_count": 0,
      "outputs": []
    },
    {
      "metadata": {
        "id": "ZrnqX_DShvER",
        "colab_type": "code",
        "colab": {
          "base_uri": "https://localhost:8080/",
          "height": 72
        },
        "outputId": "fe7998f7-da6c-4443-ec55-25897835fffa"
      },
      "cell_type": "code",
      "source": [
        "print(reverse_easy(\"tset\"))\n",
        "print(reverse(\"tset\"))\n",
        "print(reverse_sentence(\"it is a test string\"))"
      ],
      "execution_count": 21,
      "outputs": [
        {
          "output_type": "stream",
          "text": [
            "test\n",
            "test\n",
            "ti si a tset gnirts\n"
          ],
          "name": "stdout"
        }
      ]
    },
    {
      "metadata": {
        "id": "qgND_aFOhw0x",
        "colab_type": "code",
        "colab": {}
      },
      "cell_type": "code",
      "source": [
        ""
      ],
      "execution_count": 0,
      "outputs": []
    }
  ]
}