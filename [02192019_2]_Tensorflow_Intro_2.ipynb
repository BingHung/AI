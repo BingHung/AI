{
  "nbformat": 4,
  "nbformat_minor": 0,
  "metadata": {
    "colab": {
      "name": "[02192019-2] Tensorflow Intro-2.ipynb",
      "version": "0.3.2",
      "provenance": [],
      "collapsed_sections": [],
      "include_colab_link": true
    },
    "kernelspec": {
      "name": "python3",
      "display_name": "Python 3"
    }
  },
  "cells": [
    {
      "cell_type": "markdown",
      "metadata": {
        "id": "view-in-github",
        "colab_type": "text"
      },
      "source": [
        "<a href=\"https://colab.research.google.com/github/BingHung/AI/blob/master/%5B02192019_2%5D_Tensorflow_Intro_2.ipynb\" target=\"_parent\"><img src=\"https://colab.research.google.com/assets/colab-badge.svg\" alt=\"Open In Colab\"/></a>"
      ]
    },
    {
      "metadata": {
        "id": "LwAV76sjAJtr",
        "colab_type": "code",
        "outputId": "b01df580-d3c9-4984-a7b2-3cfce076a4f9",
        "colab": {
          "base_uri": "https://localhost:8080/",
          "height": 51
        }
      },
      "cell_type": "code",
      "source": [
        "# Activation Function - ReLu\n",
        "import tensorflow as tf\n",
        "X=tf.Variable([[0.4,0.2,0.4]])\n",
        "W=tf.Variable([[-0.5,-0.2],\n",
        "              [-0.3,0.4],\n",
        "              [-0.5,0.2]])\n",
        "b = tf.Variable([[0.1,0.2]])\n",
        "XWb=tf.matmul(X,W)+b\n",
        "y=tf.nn.relu(XWb)\n",
        "with tf.Session() as sess:\n",
        "  init = tf.global_variables_initializer()\n",
        "  sess.run(init)\n",
        "  print(sess.run(XWb))\n",
        "  print(sess.run(y))"
      ],
      "execution_count": 0,
      "outputs": [
        {
          "output_type": "stream",
          "text": [
            "[[-0.36000004  0.28      ]]\n",
            "[[0.   0.28]]\n"
          ],
          "name": "stdout"
        }
      ]
    },
    {
      "metadata": {
        "id": "KdCX55ypBK0F",
        "colab_type": "code",
        "outputId": "ace1b9a7-38d7-46f8-c674-7c5b440825e3",
        "colab": {
          "base_uri": "https://localhost:8080/",
          "height": 51
        }
      },
      "cell_type": "code",
      "source": [
        "# Activation Function - Sigmoid\n",
        "import tensorflow as tf\n",
        "X=tf.Variable([[0.4,0.2,0.4]])\n",
        "W=tf.Variable([[-0.5,-0.2],\n",
        "              [-0.3,0.4],\n",
        "              [-0.5,0.2]])\n",
        "b = tf.Variable([[0.1,0.2]])\n",
        "XWb=tf.matmul(X,W)+b\n",
        "y=tf.nn.sigmoid(XWb)\n",
        "with tf.Session() as sess:\n",
        "  init = tf.global_variables_initializer()\n",
        "  sess.run(init)\n",
        "  print(sess.run(XWb))\n",
        "  print(sess.run(y))"
      ],
      "execution_count": 0,
      "outputs": [
        {
          "output_type": "stream",
          "text": [
            "[[-0.36000004  0.28      ]]\n",
            "[[0.41095954 0.5695462 ]]\n"
          ],
          "name": "stdout"
        }
      ]
    },
    {
      "metadata": {
        "id": "6AdzaXf52O11",
        "colab_type": "code",
        "outputId": "2b699059-d85c-4bad-8ff1-43192278c8bc",
        "colab": {
          "base_uri": "https://localhost:8080/",
          "height": 102
        }
      },
      "cell_type": "code",
      "source": [
        "W=tf.Variable(tf.random_normal([3,2]))\n",
        "b=tf.Variable(tf.random_normal([1,2]))\n",
        "X=tf.Variable([[0.4,0.2,0.4]])\n",
        "y=tf.nn.relu(tf.matmul(X,W)+b)\n",
        "with tf.Session() as sess:\n",
        "  init = tf.global_variables_initializer()\n",
        "  sess.run(init)\n",
        "  print('b',sess.run(b))\n",
        "  print('W',sess.run(W))\n",
        "  print('y',sess.run(y))"
      ],
      "execution_count": 0,
      "outputs": [
        {
          "output_type": "stream",
          "text": [
            "b [[0.26465708 1.0333039 ]]\n",
            "W [[-0.6039851   0.11012251]\n",
            " [-1.2429202   0.40135637]\n",
            " [ 1.8823415  -2.0640914 ]]\n",
            "y [[0.52741563 0.33198756]]\n"
          ],
          "name": "stdout"
        }
      ]
    },
    {
      "metadata": {
        "id": "MhtPXIsE3Azr",
        "colab_type": "code",
        "outputId": "2207dfa8-96fd-47d8-e08a-f7bf531f8d6e",
        "colab": {
          "base_uri": "https://localhost:8080/",
          "height": 102
        }
      },
      "cell_type": "code",
      "source": [
        "W=tf.Variable(tf.random_normal([3,2]))\n",
        "b=tf.Variable(tf.random_normal([1,2]))\n",
        "X=tf.Variable([[0.4,0.2,0.4]])\n",
        "y=tf.nn.relu(tf.matmul(X,W)+b)\n",
        "with tf.Session() as sess:\n",
        "  init = tf.global_variables_initializer()\n",
        "  sess.run(init)\n",
        "  (_b,_W,_y)=sess.run((b,W,y))\n",
        "  print('b',_b)\n",
        "  print('W',_W)\n",
        "  print('y',_y)"
      ],
      "execution_count": 0,
      "outputs": [
        {
          "output_type": "stream",
          "text": [
            "b [[0.7964451  0.01408898]]\n",
            "W [[-0.16333356 -0.52103585]\n",
            " [ 1.1957899   0.5607855 ]\n",
            " [ 0.16757287 -0.8515427 ]]\n",
            "y [[1.0372988 0.       ]]\n"
          ],
          "name": "stdout"
        }
      ]
    },
    {
      "metadata": {
        "id": "9iw9-0L-3Xn2",
        "colab_type": "code",
        "outputId": "e59b78bd-1976-4846-9594-72e103cc84dd",
        "colab": {
          "base_uri": "https://localhost:8080/",
          "height": 51
        }
      },
      "cell_type": "code",
      "source": [
        "ts_norm = tf.random_normal([1000])\n",
        "with tf.Session() as session:\n",
        "  norm_data=ts_norm.eval()\n",
        "print(norm_data[:5])\n",
        "print(norm_data.shape)"
      ],
      "execution_count": 0,
      "outputs": [
        {
          "output_type": "stream",
          "text": [
            "[ 0.24018088 -0.5553535  -1.3912125  -0.3841453  -0.16658594]\n",
            "(1000,)\n"
          ],
          "name": "stdout"
        }
      ]
    },
    {
      "metadata": {
        "id": "_iWw0aN93yR3",
        "colab_type": "code",
        "outputId": "f4ff3784-6f3c-4e70-94c1-5f85124b4d66",
        "colab": {
          "base_uri": "https://localhost:8080/",
          "height": 347
        }
      },
      "cell_type": "code",
      "source": [
        "import matplotlib.pyplot as plt\n",
        "plt.hist(norm_data)\n",
        "plt.show()"
      ],
      "execution_count": 0,
      "outputs": [
        {
          "output_type": "display_data",
          "data": {
            "image/png": "[encoded data removed]",
            "text/plain": [
              "<Figure size 576x396 with 1 Axes>"
            ]
          },
          "metadata": {
            "tags": []
          }
        }
      ]
    },
    {
      "metadata": {
        "id": "jmZYs4av6sUq",
        "colab_type": "code",
        "outputId": "cac78551-2af5-4188-d206-e51f6f54f65a",
        "colab": {
          "base_uri": "https://localhost:8080/",
          "height": 119
        }
      },
      "cell_type": "code",
      "source": [
        "import numpy as np\n",
        "\n",
        "W=tf.Variable(tf.random_normal([3,2]))\n",
        "b=tf.Variable(tf.random_normal([1,2]))\n",
        "X=tf.placeholder('float',[None,3])\n",
        "y=tf.nn.relu(tf.matmul(X,W)+b)\n",
        "with tf.Session() as sess:\n",
        "  init = tf.global_variables_initializer()\n",
        "  sess.run(init)\n",
        "  X_array=np.array([[0.4,0.2,0.4]])\n",
        "  (_b,_W,_X,_y)=sess.run((b,W,X,y),feed_dict ={X:X_array})\n",
        "  print('b',_b)\n",
        "  print('W',_W)\n",
        "  print('X',_X)\n",
        "  print('y',_y)"
      ],
      "execution_count": 0,
      "outputs": [
        {
          "output_type": "stream",
          "text": [
            "b [[ 1.1581337 -1.5345973]]\n",
            "W [[ 0.32514098 -0.45332602]\n",
            " [ 0.37178674 -0.3162016 ]\n",
            " [ 0.3107249  -0.70922023]]\n",
            "X [[0.4 0.2 0.4]]\n",
            "y [[1.4868374 0.       ]]\n"
          ],
          "name": "stdout"
        }
      ]
    },
    {
      "metadata": {
        "id": "tZJ-rmW776nY",
        "colab_type": "code",
        "outputId": "c90570b2-5744-4079-9e8d-20ef2c4281bc",
        "colab": {
          "base_uri": "https://localhost:8080/",
          "height": 187
        }
      },
      "cell_type": "code",
      "source": [
        "W=tf.Variable(tf.random_normal([3,2]))\n",
        "b=tf.Variable(tf.random_normal([1,2]))\n",
        "X=tf.placeholder('float',[None,3])\n",
        "y=tf.nn.relu(tf.matmul(X,W)+b)\n",
        "with tf.Session() as sess:\n",
        "  init = tf.global_variables_initializer()\n",
        "  sess.run(init)\n",
        "  X_array=np.array([[0.4,0.2,0.4],\n",
        "                   [0.3,0.4,0.5],\n",
        "                   [0.3,-0.4,0.5]])\n",
        "  (_b,_W,_X,_y)=sess.run((b,W,X,y),feed_dict ={X:X_array})\n",
        "  print('b',_b)\n",
        "  print('W',_W)\n",
        "  print('X',_X)\n",
        "  print('y',_y)"
      ],
      "execution_count": 0,
      "outputs": [
        {
          "output_type": "stream",
          "text": [
            "b [[ 0.73516285 -0.00957461]]\n",
            "W [[-0.33225957  0.66506517]\n",
            " [-2.1494374  -1.6883054 ]\n",
            " [ 1.4116973  -1.0871944 ]]\n",
            "X [[ 0.4  0.2  0.4]\n",
            " [ 0.3  0.4  0.5]\n",
            " [ 0.3 -0.4  0.5]]\n",
            "y [[0.7370504  0.        ]\n",
            " [0.48155862 0.        ]\n",
            " [2.2011085  0.3216699 ]]\n"
          ],
          "name": "stdout"
        }
      ]
    },
    {
      "metadata": {
        "id": "NuWkM8CmF0E7",
        "colab_type": "text"
      },
      "cell_type": "markdown",
      "source": [
        "# MLP Implement V1\n"
      ]
    },
    {
      "metadata": {
        "id": "lX1hTEY89Lov",
        "colab_type": "code",
        "colab": {}
      },
      "cell_type": "code",
      "source": [
        "def layer(output_dim,input_dim,inputs,activation=None):\n",
        "  W=tf.Variable(tf.random_normal([input_dim,output_dim]))\n",
        "  b=tf.Variable(tf.random_normal([1,output_dim]))\n",
        "  XWb=tf.matmul(inputs,W)+b\n",
        "  if activation is None:\n",
        "    outputs = XWb\n",
        "  else:\n",
        "    outputs=activation(XWb)\n",
        "  return outputs"
      ],
      "execution_count": 0,
      "outputs": []
    },
    {
      "metadata": {
        "id": "AxqJJ4VWF16U",
        "colab_type": "code",
        "outputId": "3fd18783-fa00-49ef-c473-227566fa5b86",
        "colab": {
          "base_uri": "https://localhost:8080/",
          "height": 68
        }
      },
      "cell_type": "code",
      "source": [
        "X=tf.placeholder(\"float\",[None,4])\n",
        "h=layer(output_dim=3,input_dim=4,inputs=X,activation=tf.nn.relu)\n",
        "y=layer(output_dim=2,input_dim=3,inputs=h)\n",
        "\n",
        "with tf.Session() as sess:\n",
        "  init = tf.global_variables_initializer()\n",
        "  sess.run(init)\n",
        "  X_array=np.array([[0.4,0.2,0.4,0.5]])\n",
        "  (layer_X,layer_h,layer_y)=sess.run((X,h,y),feed_dict ={X:X_array})\n",
        "  print('input layer X:',layer_X)\n",
        "  print('input layer h:',layer_h)\n",
        "  print('input layer y:',layer_y)"
      ],
      "execution_count": 0,
      "outputs": [
        {
          "output_type": "stream",
          "text": [
            "input layer X: [[0.4 0.2 0.4 0.5]]\n",
            "input layer h: [[0.         0.51765585 0.5633921 ]]\n",
            "input layer y: [[-1.1506873  1.6201   ]]\n"
          ],
          "name": "stdout"
        }
      ]
    },
    {
      "metadata": {
        "id": "anZioxpNHq31",
        "colab_type": "text"
      },
      "cell_type": "markdown",
      "source": [
        "# MLP Implement V2"
      ]
    },
    {
      "metadata": {
        "id": "mij8_EyrG0jw",
        "colab_type": "code",
        "colab": {}
      },
      "cell_type": "code",
      "source": [
        "def layer(output_dim,input_dim,inputs,activation=None):\n",
        "  W=tf.Variable(tf.random_normal([input_dim,output_dim]))\n",
        "  b=tf.Variable(tf.random_normal([1,output_dim]))\n",
        "  XWb=tf.matmul(inputs,W)+b\n",
        "  if activation is None:\n",
        "    outputs = XWb\n",
        "  else:\n",
        "    outputs=activation(XWb)\n",
        "  return outputs,W,b"
      ],
      "execution_count": 0,
      "outputs": []
    },
    {
      "metadata": {
        "id": "YnsMGBrGHwAK",
        "colab_type": "code",
        "outputId": "bc7c07d9-1938-48a8-d1b8-aa009526d43d",
        "colab": {
          "base_uri": "https://localhost:8080/",
          "height": 340
        }
      },
      "cell_type": "code",
      "source": [
        "X=tf.placeholder(\"float\",[None,4])\n",
        "h,W1,b1=layer(output_dim=3,input_dim=4,inputs=X,activation=tf.nn.relu)\n",
        "y,W2,b2=layer(output_dim=2,input_dim=3,inputs=h)\n",
        "\n",
        "with tf.Session() as sess:\n",
        "  init = tf.global_variables_initializer()\n",
        "  sess.run(init)\n",
        "  X_array=np.array([[0.4,0.2,0.4,0.5]])\n",
        "  (layer_X,layer_h,layer_y,W1,b1,W2,b2)=sess.run((X,h,y,W1,b1,W2,b2),feed_dict ={X:X_array})\n",
        "  print('input layer X:'),print(layer_X)\n",
        "  print('W1:'),print(W1)\n",
        "  print('b1:'),print(b1)\n",
        "  print('input layer h:'),print(layer_h)\n",
        "  print('W1:'),print(W2)\n",
        "  print('b1:'),print(b2)\n",
        "  print('input layer y:'),print(layer_y)"
      ],
      "execution_count": 0,
      "outputs": [
        {
          "output_type": "stream",
          "text": [
            "input layer X:\n",
            "[[0.4 0.2 0.4 0.5]]\n",
            "W1:\n",
            "[[-0.08329075 -2.209836   -1.6038718 ]\n",
            " [ 0.5023623   0.78758204  0.05365906]\n",
            " [-0.53270847  1.0173655   2.2033465 ]\n",
            " [-0.5643595  -0.68804467 -1.4821205 ]]\n",
            "b1:\n",
            "[[ 0.84495664  0.4825831  -0.09876706]]\n",
            "input layer h:\n",
            "[[0.41684967 0.         0.        ]]\n",
            "W1:\n",
            "[[ 0.15367742 -0.43727764]\n",
            " [-0.07475688 -0.52951527]\n",
            " [ 1.088608    2.2846086 ]]\n",
            "b1:\n",
            "[[0.6759675  0.53916687]]\n",
            "input layer y:\n",
            "[[0.7400279  0.35688782]]\n"
          ],
          "name": "stdout"
        }
      ]
    },
    {
      "metadata": {
        "id": "yzrOMlxNIJrz",
        "colab_type": "code",
        "outputId": "c31a2bd0-6f4b-4bc6-d015-b7868ec136a5",
        "colab": {
          "base_uri": "https://localhost:8080/",
          "height": 34
        }
      },
      "cell_type": "code",
      "source": [
        "0.41684967* 0.15367742+0.6759675"
      ],
      "execution_count": 0,
      "outputs": [
        {
          "output_type": "execute_result",
          "data": {
            "text/plain": [
              "0.7400278818134515"
            ]
          },
          "metadata": {
            "tags": []
          },
          "execution_count": 54
        }
      ]
    },
    {
      "metadata": {
        "id": "W9MTJE5BI6SC",
        "colab_type": "code",
        "outputId": "908248d1-87d8-4071-ea67-fa915c45dfa2",
        "colab": {
          "base_uri": "https://localhost:8080/",
          "height": 34
        }
      },
      "cell_type": "code",
      "source": [
        "0.41684967*-0.43727764+0.53916687"
      ],
      "execution_count": 0,
      "outputs": [
        {
          "output_type": "execute_result",
          "data": {
            "text/plain": [
              "0.35688783006762115"
            ]
          },
          "metadata": {
            "tags": []
          },
          "execution_count": 55
        }
      ]
    },
    {
      "metadata": {
        "id": "StKw57WxJBum",
        "colab_type": "code",
        "colab": {}
      },
      "cell_type": "code",
      "source": [
        ""
      ],
      "execution_count": 0,
      "outputs": []
    }
  ]
}