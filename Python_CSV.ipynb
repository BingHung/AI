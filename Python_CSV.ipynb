{
  "nbformat": 4,
  "nbformat_minor": 0,
  "metadata": {
    "colab": {
      "provenance": [],
      "authorship_tag": "ABX9TyN6TehCaPqDJH6OL6FK+tNj",
      "include_colab_link": true
    },
    "kernelspec": {
      "name": "python3",
      "display_name": "Python 3"
    },
    "language_info": {
      "name": "python"
    }
  },
  "cells": [
    {
      "cell_type": "markdown",
      "metadata": {
        "id": "view-in-github",
        "colab_type": "text"
      },
      "source": [
        "<a href=\"https://colab.research.google.com/github/BingHung/AI/blob/master/Python_CSV.ipynb\" target=\"_parent\"><img src=\"https://colab.research.google.com/assets/colab-badge.svg\" alt=\"Open In Colab\"/></a>"
      ]
    },
    {
      "cell_type": "code",
      "execution_count": 1,
      "metadata": {
        "colab": {
          "base_uri": "https://localhost:8080/"
        },
        "id": "-uNhNImGacT4",
        "outputId": "1a7967e9-f30f-4953-c96b-2f43515e26b8"
      },
      "outputs": [
        {
          "output_type": "stream",
          "name": "stdout",
          "text": [
            "[['Name', 'Year', 'Product', 'Price', 'Quantity', 'Revenue', 'Location'], ['Diana', '2015', 'Black Tea', '10', '600', '6000', 'New York'], ['Diana', '2015', 'Green Tea', '7', '660', '4620', 'New York'], ['Diana', '2016', 'Black Tea', '10', '750', '7500', 'New York'], ['Diana', '2016', 'Green Tea', '7', '900', '6300', 'New York'], ['Julia', '2015', 'Black Tea', '10', '1200', '12000', 'New York'], ['Julia', '2016', 'Black Tea', '10', '1260', '12600', 'New York'], ['Steve', '2015', 'Black Tea', '10', '1170', '11700', 'Chicago'], ['Steve', '2015', 'Green Tea', '7', '1260', '8820', 'Chicago'], ['Steve', '2016', 'Black Tea', '10', '1350', '13500', 'Chicago'], ['Steve', '2016', 'Green Tea', '7', '1440', '10080', 'Chicago']]\n"
          ]
        }
      ],
      "source": [
        "import csv\n",
        "fn = 'csvReport.csv'\n",
        "with open(fn) as csvFile:\n",
        "  csvReader = csv.reader(csvFile)\n",
        "  listReport = list(csvReader) #將csvReader專成list\n",
        "print(listReport)"
      ]
    },
    {
      "cell_type": "code",
      "source": [
        "import csv\n",
        "fn = 'csvReport.csv'\n",
        "with open(fn) as csvFile:\n",
        "  csvReader = csv.reader(csvFile)\n",
        "  for row in csvReader: #用for列出Reader\n",
        "    print(\"Row %s = \" % csvReader.line_num, row)"
      ],
      "metadata": {
        "colab": {
          "base_uri": "https://localhost:8080/"
        },
        "id": "VI9kJBkcefLt",
        "outputId": "98da5890-ca97-4795-8cae-d17acd504ce7"
      },
      "execution_count": 2,
      "outputs": [
        {
          "output_type": "stream",
          "name": "stdout",
          "text": [
            "Row 1 =  ['Name', 'Year', 'Product', 'Price', 'Quantity', 'Revenue', 'Location']\n",
            "Row 2 =  ['Diana', '2015', 'Black Tea', '10', '600', '6000', 'New York']\n",
            "Row 3 =  ['Diana', '2015', 'Green Tea', '7', '660', '4620', 'New York']\n",
            "Row 4 =  ['Diana', '2016', 'Black Tea', '10', '750', '7500', 'New York']\n",
            "Row 5 =  ['Diana', '2016', 'Green Tea', '7', '900', '6300', 'New York']\n",
            "Row 6 =  ['Julia', '2015', 'Black Tea', '10', '1200', '12000', 'New York']\n",
            "Row 7 =  ['Julia', '2016', 'Black Tea', '10', '1260', '12600', 'New York']\n",
            "Row 8 =  ['Steve', '2015', 'Black Tea', '10', '1170', '11700', 'Chicago']\n",
            "Row 9 =  ['Steve', '2015', 'Green Tea', '7', '1260', '8820', 'Chicago']\n",
            "Row 10 =  ['Steve', '2016', 'Black Tea', '10', '1350', '13500', 'Chicago']\n",
            "Row 11 =  ['Steve', '2016', 'Green Tea', '7', '1440', '10080', 'Chicago']\n"
          ]
        }
      ]
    },
    {
      "cell_type": "code",
      "source": [
        "import csv\n",
        "fn = 'csvReport.csv'\n",
        "with open(fn) as csvFile:\n",
        "  csvReader = csv.reader(csvFile)\n",
        "  listReport = list(csvReader)\n",
        "for row in listReport: #\n",
        "  print(row)"
      ],
      "metadata": {
        "colab": {
          "base_uri": "https://localhost:8080/"
        },
        "id": "vd9KkAQ-gAyt",
        "outputId": "ec24094a-43bb-4969-93a4-e6f0da43b338"
      },
      "execution_count": 3,
      "outputs": [
        {
          "output_type": "stream",
          "name": "stdout",
          "text": [
            "['Name', 'Year', 'Product', 'Price', 'Quantity', 'Revenue', 'Location']\n",
            "['Diana', '2015', 'Black Tea', '10', '600', '6000', 'New York']\n",
            "['Diana', '2015', 'Green Tea', '7', '660', '4620', 'New York']\n",
            "['Diana', '2016', 'Black Tea', '10', '750', '7500', 'New York']\n",
            "['Diana', '2016', 'Green Tea', '7', '900', '6300', 'New York']\n",
            "['Julia', '2015', 'Black Tea', '10', '1200', '12000', 'New York']\n",
            "['Julia', '2016', 'Black Tea', '10', '1260', '12600', 'New York']\n",
            "['Steve', '2015', 'Black Tea', '10', '1170', '11700', 'Chicago']\n",
            "['Steve', '2015', 'Green Tea', '7', '1260', '8820', 'Chicago']\n",
            "['Steve', '2016', 'Black Tea', '10', '1350', '13500', 'Chicago']\n",
            "['Steve', '2016', 'Green Tea', '7', '1440', '10080', 'Chicago']\n"
          ]
        }
      ]
    },
    {
      "cell_type": "code",
      "source": [
        "print(listReport[0][1])"
      ],
      "metadata": {
        "colab": {
          "base_uri": "https://localhost:8080/"
        },
        "id": "jZkE5ry1gdii",
        "outputId": "c7af7ce4-ec98-4991-b41f-e625c010b2a2"
      },
      "execution_count": 4,
      "outputs": [
        {
          "output_type": "stream",
          "name": "stdout",
          "text": [
            "Year\n"
          ]
        }
      ]
    },
    {
      "cell_type": "code",
      "source": [
        "print(listReport[0][1],listReport[2][3])"
      ],
      "metadata": {
        "colab": {
          "base_uri": "https://localhost:8080/"
        },
        "id": "Dc5hKzt5giAZ",
        "outputId": "59a3df20-df93-49b6-cd68-5ecae58578f9"
      },
      "execution_count": 5,
      "outputs": [
        {
          "output_type": "stream",
          "name": "stdout",
          "text": [
            "Year 7\n"
          ]
        }
      ]
    },
    {
      "cell_type": "code",
      "source": [
        "import csv\n",
        "\n",
        "fn = 'csvPeople.csv'\n",
        "with open(fn) as csvFile:\n",
        "  csvDictReader = csv.DictReader(csvFile) #DictReader\n",
        "  for row in csvDictReader:\n",
        "    print(row)\n",
        "    print(row['first_name'],row['last_name'])\n",
        "    print('-----------------------------------------------------------------------------------------------')\n",
        ""
      ],
      "metadata": {
        "colab": {
          "base_uri": "https://localhost:8080/"
        },
        "id": "EDrrRJ1ZhZ0F",
        "outputId": "8d33e2eb-8e5c-4fd2-b32a-3e8ed8a81b32"
      },
      "execution_count": 10,
      "outputs": [
        {
          "output_type": "stream",
          "name": "stdout",
          "text": [
            "{'first_name': 'Eli', 'last_name': 'Manning', 'city': 'New York'}\n",
            "Eli Manning\n",
            "-----------------------------------------------------------------------------------------------\n",
            "{'first_name': 'Kevin ', 'last_name': 'James', 'city': 'Cleveland'}\n",
            "Kevin  James\n",
            "-----------------------------------------------------------------------------------------------\n",
            "{'first_name': 'Mike', 'last_name': 'Jordon', 'city': 'Chicago'}\n",
            "Mike Jordon\n",
            "-----------------------------------------------------------------------------------------------\n"
          ]
        }
      ]
    },
    {
      "cell_type": "code",
      "source": [
        "import csv\n",
        "\n",
        "fn = 'out_writerow.csv'\n",
        "with open(fn, 'w',newline='')as csvFile:\n",
        "  csvWriter = csv.writer(csvFile) #Writer\n",
        "  csvWriter.writerow(['Name','Age','City'])\n",
        "  csvWriter.writerow(['BH','25','KHH'])"
      ],
      "metadata": {
        "id": "g-rUljgcjMZe"
      },
      "execution_count": 16,
      "outputs": []
    },
    {
      "cell_type": "code",
      "source": [
        "import csv\n",
        "\n",
        "fn = 'out_writerow1.csv'\n",
        "with open(fn, 'w',newline='')as csvFile:\n",
        "  csvWriter = csv.writer(csvFile, delimiter='\\t') #delimiter\n",
        "  csvWriter.writerow(['Name','Age','City'])\n",
        "  csvWriter.writerow(['BH','25','KHH'])"
      ],
      "metadata": {
        "id": "KR4XPEm_qzma"
      },
      "execution_count": 17,
      "outputs": []
    },
    {
      "cell_type": "code",
      "source": [
        "import csv #Read csv and wirte in another csv\n",
        "infn = 'csvReport.csv'\n",
        "outfn = 'out_writerow2.csv'\n",
        "with open(infn) as csvRFile:\n",
        "  csvReader = csv.reader(csvRFile)\n",
        "  listReport = list(csvReader)\n",
        "print(listReport)\n",
        "\n",
        "with open(outfn, 'w',newline='')as csvOFile:\n",
        "  csvWriter = csv.writer(csvOFile)\n",
        "  for row in listReport:\n",
        "    csvWriter.writerow(row)"
      ],
      "metadata": {
        "colab": {
          "base_uri": "https://localhost:8080/"
        },
        "id": "2GqeryOZkJPi",
        "outputId": "817692c3-3af5-47bd-9a62-7378574532f2"
      },
      "execution_count": 24,
      "outputs": [
        {
          "output_type": "stream",
          "name": "stdout",
          "text": [
            "[['Name', 'Year', 'Product', 'Price', 'Quantity', 'Revenue', 'Location'], ['Diana', '2015', 'Black Tea', '10', '600', '6000', 'New York'], ['Diana', '2015', 'Green Tea', '7', '660', '4620', 'New York'], ['Diana', '2016', 'Black Tea', '10', '750', '7500', 'New York'], ['Diana', '2016', 'Green Tea', '7', '900', '6300', 'New York'], ['Julia', '2015', 'Black Tea', '10', '1200', '12000', 'New York'], ['Julia', '2016', 'Black Tea', '10', '1260', '12600', 'New York'], ['Steve', '2015', 'Black Tea', '10', '1170', '11700', 'Chicago'], ['Steve', '2015', 'Green Tea', '7', '1260', '8820', 'Chicago'], ['Steve', '2016', 'Black Tea', '10', '1350', '13500', 'Chicago'], ['Steve', '2016', 'Green Tea', '7', '1440', '10080', 'Chicago']]\n"
          ]
        }
      ]
    },
    {
      "cell_type": "code",
      "source": [
        "import csv\n",
        "\n",
        "fn = 'out_writerow3.csv'\n",
        "with open(fn,'w',newline='') as csvFile:\n",
        "  fields =['Name','Age','City']\n",
        "  dictWriter = csv.DictWriter(csvFile, fieldnames=fields) #DictWriter\n",
        "\n",
        "  dictWriter.writeheader()\n",
        "  dictWriter.writerow({'Name':'LT','Age':'30','City':'TPE'})"
      ],
      "metadata": {
        "id": "Q097_zf_rcHG"
      },
      "execution_count": 20,
      "outputs": []
    },
    {
      "cell_type": "code",
      "source": [
        "import csv\n",
        "\n",
        "dictlist =[{'Name':'LT','Age':'30','City':'TPE'},{'Name':'BH','Age':'25','City':'KHH'}]\n",
        "\n",
        "fn = 'out_writerow4.csv'\n",
        "with open(fn,'w',newline='') as csvFile:\n",
        "  fields =['Name','Age','City']\n",
        "  dictWriter = csv.DictWriter(csvFile, fieldnames=fields)\n",
        "  dictWriter.writeheader()\n",
        "  for row in dictlist:\n",
        "    dictWriter.writerow(row)"
      ],
      "metadata": {
        "id": "eNwW-yzDtf-L"
      },
      "execution_count": 27,
      "outputs": []
    },
    {
      "cell_type": "markdown",
      "source": [
        "**Project - Weather Report**"
      ],
      "metadata": {
        "id": "12cmAh3AuEna"
      }
    },
    {
      "cell_type": "code",
      "source": [],
      "metadata": {
        "id": "Vr053LDBuTpJ"
      },
      "execution_count": null,
      "outputs": []
    }
  ]
}