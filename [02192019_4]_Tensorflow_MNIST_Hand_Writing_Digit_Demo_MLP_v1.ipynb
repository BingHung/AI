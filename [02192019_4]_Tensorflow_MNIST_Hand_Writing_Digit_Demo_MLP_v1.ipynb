{
  "nbformat": 4,
  "nbformat_minor": 0,
  "metadata": {
    "colab": {
      "name": "[02192019_4]_Tensorflow_MNIST_Hand_Writing_Digit_Demo_MLP-v1.ipynb",
      "version": "0.3.2",
      "provenance": [],
      "collapsed_sections": [],
      "include_colab_link": true
    },
    "kernelspec": {
      "name": "python3",
      "display_name": "Python 3"
    },
    "accelerator": "GPU"
  },
  "cells": [
    {
      "cell_type": "markdown",
      "metadata": {
        "id": "view-in-github",
        "colab_type": "text"
      },
      "source": [
        "<a href=\"https://colab.research.google.com/github/BingHung/AI/blob/master/%5B02192019_4%5D_Tensorflow_MNIST_Hand_Writing_Digit_Demo_MLP_v1.ipynb\" target=\"_parent\"><img src=\"https://colab.research.google.com/assets/colab-badge.svg\" alt=\"Open In Colab\"/></a>"
      ]
    },
    {
      "metadata": {
        "id": "KlIhj505ChNY",
        "colab_type": "text"
      },
      "cell_type": "markdown",
      "source": [
        "# Preprocess"
      ]
    },
    {
      "metadata": {
        "id": "CWPnSSGSB9E6",
        "colab_type": "code",
        "outputId": "636d6d3b-052a-4783-bae4-5c84e8bad6e8",
        "colab": {
          "base_uri": "https://localhost:8080/",
          "height": 565
        }
      },
      "cell_type": "code",
      "source": [
        "import tensorflow as tf\n",
        "import tensorflow.examples.tutorials.mnist.input_data as input_data\n",
        "mnist = input_data.read_data_sets(\"official/mnist/dataset.py\",one_hot=True)"
      ],
      "execution_count": 1,
      "outputs": [
        {
          "output_type": "stream",
          "text": [
            "WARNING:tensorflow:From <ipython-input-1-6f4d2a047951>:3: read_data_sets (from tensorflow.contrib.learn.python.learn.datasets.mnist) is deprecated and will be removed in a future version.\n",
            "Instructions for updating:\n",
            "Please use alternatives such as official/mnist/dataset.py from tensorflow/models.\n",
            "WARNING:tensorflow:From /usr/local/lib/python3.6/dist-packages/tensorflow/contrib/learn/python/learn/datasets/mnist.py:260: maybe_download (from tensorflow.contrib.learn.python.learn.datasets.base) is deprecated and will be removed in a future version.\n",
            "Instructions for updating:\n",
            "Please write your own downloading logic.\n",
            "WARNING:tensorflow:From /usr/local/lib/python3.6/dist-packages/tensorflow/contrib/learn/python/learn/datasets/base.py:252: _internal_retry.<locals>.wrap.<locals>.wrapped_fn (from tensorflow.contrib.learn.python.learn.datasets.base) is deprecated and will be removed in a future version.\n",
            "Instructions for updating:\n",
            "Please use urllib or similar directly.\n",
            "Successfully downloaded train-images-idx3-ubyte.gz 9912422 bytes.\n",
            "WARNING:tensorflow:From /usr/local/lib/python3.6/dist-packages/tensorflow/contrib/learn/python/learn/datasets/mnist.py:262: extract_images (from tensorflow.contrib.learn.python.learn.datasets.mnist) is deprecated and will be removed in a future version.\n",
            "Instructions for updating:\n",
            "Please use tf.data to implement this functionality.\n",
            "Extracting official/mnist/dataset.py/train-images-idx3-ubyte.gz\n",
            "Successfully downloaded train-labels-idx1-ubyte.gz 28881 bytes.\n",
            "WARNING:tensorflow:From /usr/local/lib/python3.6/dist-packages/tensorflow/contrib/learn/python/learn/datasets/mnist.py:267: extract_labels (from tensorflow.contrib.learn.python.learn.datasets.mnist) is deprecated and will be removed in a future version.\n",
            "Instructions for updating:\n",
            "Please use tf.data to implement this functionality.\n",
            "Extracting official/mnist/dataset.py/train-labels-idx1-ubyte.gz\n",
            "WARNING:tensorflow:From /usr/local/lib/python3.6/dist-packages/tensorflow/contrib/learn/python/learn/datasets/mnist.py:110: dense_to_one_hot (from tensorflow.contrib.learn.python.learn.datasets.mnist) is deprecated and will be removed in a future version.\n",
            "Instructions for updating:\n",
            "Please use tf.one_hot on tensors.\n",
            "Successfully downloaded t10k-images-idx3-ubyte.gz 1648877 bytes.\n",
            "Extracting official/mnist/dataset.py/t10k-images-idx3-ubyte.gz\n",
            "Successfully downloaded t10k-labels-idx1-ubyte.gz 4542 bytes.\n",
            "Extracting official/mnist/dataset.py/t10k-labels-idx1-ubyte.gz\n",
            "WARNING:tensorflow:From /usr/local/lib/python3.6/dist-packages/tensorflow/contrib/learn/python/learn/datasets/mnist.py:290: DataSet.__init__ (from tensorflow.contrib.learn.python.learn.datasets.mnist) is deprecated and will be removed in a future version.\n",
            "Instructions for updating:\n",
            "Please use alternatives such as official/mnist/dataset.py from tensorflow/models.\n"
          ],
          "name": "stdout"
        }
      ]
    },
    {
      "metadata": {
        "id": "wRjYV5wzCHUB",
        "colab_type": "code",
        "outputId": "45696c14-e17d-463f-d937-cf227ee6a031",
        "colab": {
          "base_uri": "https://localhost:8080/",
          "height": 72
        }
      },
      "cell_type": "code",
      "source": [
        "print('train images :',mnist.train.images.shape,\n",
        "     'labels:',mnist.train.labels.shape)\n",
        "print('validation images :',mnist.validation.images.shape,\n",
        "     'labels:',mnist.validation.labels.shape)\n",
        "print('test images :',mnist.test.images.shape,\n",
        "     'labels:',mnist.test.labels.shape)"
      ],
      "execution_count": 2,
      "outputs": [
        {
          "output_type": "stream",
          "text": [
            "train images : (55000, 784) labels: (55000, 10)\n",
            "validation images : (5000, 784) labels: (5000, 10)\n",
            "test images : (10000, 784) labels: (10000, 10)\n"
          ],
          "name": "stdout"
        }
      ]
    },
    {
      "metadata": {
        "id": "6al0AJTlCjtS",
        "colab_type": "text"
      },
      "cell_type": "markdown",
      "source": [
        "# Model Construction"
      ]
    },
    {
      "metadata": {
        "id": "iTjMr-b1CVtV",
        "colab_type": "code",
        "colab": {}
      },
      "cell_type": "code",
      "source": [
        "def layer(output_dim,input_dim,inputs,activation=None):\n",
        "  W=tf.Variable(tf.random_normal([input_dim,output_dim]))\n",
        "  b=tf.Variable(tf.random_normal([1,output_dim]))\n",
        "  XWb=tf.matmul(inputs,W)+b\n",
        "  if activation is None:\n",
        "    outputs = XWb\n",
        "  else:\n",
        "    outputs=activation(XWb)\n",
        "  return outputs"
      ],
      "execution_count": 0,
      "outputs": []
    },
    {
      "metadata": {
        "id": "DRWnm86PCrq8",
        "colab_type": "code",
        "colab": {
          "base_uri": "https://localhost:8080/",
          "height": 72
        },
        "outputId": "5f994ce8-f34c-4db4-bfbb-98ff9d752b77"
      },
      "cell_type": "code",
      "source": [
        "'''\n",
        "x=tf.placeholder(\"float\",[None,784])\n",
        "h1=layer(output_dim=256,input_dim=784,inputs=x,activation=tf.nn.relu)\n",
        "y_predict=layer(output_dim=10,input_dim=256,inputs=h1,activation=None)\n",
        "\n",
        "'''\n",
        "x=tf.placeholder(\"float\",[None,784])\n",
        "h1=layer(output_dim=1000,input_dim=784,inputs=x,activation=tf.nn.relu)\n",
        "h2=layer(output_dim=1000,input_dim=1000,inputs=h1,activation=tf.nn.relu)\n",
        "y_predict=layer(output_dim=10,input_dim=1000,inputs=h1,activation=None)\n"
      ],
      "execution_count": 4,
      "outputs": [
        {
          "output_type": "stream",
          "text": [
            "WARNING:tensorflow:From /usr/local/lib/python3.6/dist-packages/tensorflow/python/framework/op_def_library.py:263: colocate_with (from tensorflow.python.framework.ops) is deprecated and will be removed in a future version.\n",
            "Instructions for updating:\n",
            "Colocations handled automatically by placer.\n"
          ],
          "name": "stdout"
        }
      ]
    },
    {
      "metadata": {
        "id": "7BoJ1EOYCzCD",
        "colab_type": "code",
        "colab": {}
      },
      "cell_type": "code",
      "source": [
        "y_label = tf.placeholder('float',[None,10])"
      ],
      "execution_count": 0,
      "outputs": []
    },
    {
      "metadata": {
        "id": "Pp-UHsm3G79Q",
        "colab_type": "code",
        "colab": {
          "base_uri": "https://localhost:8080/",
          "height": 163
        },
        "outputId": "8129ca75-cbf8-4271-8858-c19bad96298c"
      },
      "cell_type": "code",
      "source": [
        "loss_function=tf.reduce_mean(tf.nn.softmax_cross_entropy_with_logits(logits=y_predict,labels=y_label))"
      ],
      "execution_count": 6,
      "outputs": [
        {
          "output_type": "stream",
          "text": [
            "WARNING:tensorflow:From <ipython-input-6-4072f0b2c3e0>:1: softmax_cross_entropy_with_logits (from tensorflow.python.ops.nn_ops) is deprecated and will be removed in a future version.\n",
            "Instructions for updating:\n",
            "\n",
            "Future major versions of TensorFlow will allow gradients to flow\n",
            "into the labels input on backprop by default.\n",
            "\n",
            "See `tf.nn.softmax_cross_entropy_with_logits_v2`.\n",
            "\n"
          ],
          "name": "stdout"
        }
      ]
    },
    {
      "metadata": {
        "id": "F_j2soQlHPG0",
        "colab_type": "code",
        "colab": {}
      },
      "cell_type": "code",
      "source": [
        "optimizer=tf.train.AdamOptimizer(learning_rate=0.001).minimize(loss_function)"
      ],
      "execution_count": 0,
      "outputs": []
    },
    {
      "metadata": {
        "id": "-xmvTSkKHdrM",
        "colab_type": "code",
        "colab": {}
      },
      "cell_type": "code",
      "source": [
        "correct_prediction = tf.equal(tf.argmax(y_label,1),tf.argmax(y_predict,1))"
      ],
      "execution_count": 0,
      "outputs": []
    },
    {
      "metadata": {
        "id": "ApPJiCLkH37T",
        "colab_type": "code",
        "colab": {}
      },
      "cell_type": "code",
      "source": [
        "accuracy=tf.reduce_mean(tf.cast(correct_prediction,'float'))"
      ],
      "execution_count": 0,
      "outputs": []
    },
    {
      "metadata": {
        "id": "ksIer3FJGzbT",
        "colab_type": "text"
      },
      "cell_type": "markdown",
      "source": [
        "# Training"
      ]
    },
    {
      "metadata": {
        "id": "jM8frQ04IA_b",
        "colab_type": "code",
        "colab": {}
      },
      "cell_type": "code",
      "source": [
        "trainEpochs = 15\n",
        "batchSize = 100\n",
        "totalBatchs =int(mnist.train.num_examples/batchSize)\n",
        "loss_list=[];epoch_list=[];accuracy_list=[]\n",
        "from time import time\n",
        "startTime=time()\n",
        "\n",
        "sess=tf.Session()\n",
        "sess.run(tf.global_variables_initializer())"
      ],
      "execution_count": 0,
      "outputs": []
    },
    {
      "metadata": {
        "id": "LaUSBUI-IuAf",
        "colab_type": "code",
        "outputId": "cf91303f-531a-484e-ebe7-d5704c290536",
        "colab": {
          "base_uri": "https://localhost:8080/",
          "height": 308
        }
      },
      "cell_type": "code",
      "source": [
        "for epoch in range(trainEpochs):\n",
        "  for i in range(totalBatchs):\n",
        "    batch_x,batch_y=mnist.train.next_batch(batchSize)\n",
        "    sess.run(optimizer,feed_dict={x:batch_x,y_label:batch_y})\n",
        "    \n",
        "  loss,acc=sess.run([loss_function,accuracy],feed_dict={x:mnist.validation.images,y_label:mnist.validation.labels})\n",
        "  \n",
        "  epoch_list.append(epoch)\n",
        "  loss_list.append(loss)\n",
        "  accuracy_list.append(acc)\n",
        "  print('Train Epoch:',  '%02d' % (epoch+1), 'Loss=', '{:.9f}'.format(loss),'Accuracy=',acc)\n",
        "  \n",
        "duration =time()-startTime\n",
        "print(\"Train Finished takes :\",duration)"
      ],
      "execution_count": 11,
      "outputs": [
        {
          "output_type": "stream",
          "text": [
            "Train Epoch: 01 Loss= 9.587373734 Accuracy= 0.8828\n",
            "Train Epoch: 02 Loss= 6.622679710 Accuracy= 0.9104\n",
            "Train Epoch: 03 Loss= 4.781264782 Accuracy= 0.9318\n",
            "Train Epoch: 04 Loss= 4.182820320 Accuracy= 0.9392\n",
            "Train Epoch: 05 Loss= 3.523008585 Accuracy= 0.9434\n",
            "Train Epoch: 06 Loss= 3.472052813 Accuracy= 0.942\n",
            "Train Epoch: 07 Loss= 3.364296198 Accuracy= 0.9418\n",
            "Train Epoch: 08 Loss= 2.985414028 Accuracy= 0.9512\n",
            "Train Epoch: 09 Loss= 2.847352743 Accuracy= 0.952\n",
            "Train Epoch: 10 Loss= 2.716128826 Accuracy= 0.9522\n",
            "Train Epoch: 11 Loss= 2.740349054 Accuracy= 0.9518\n",
            "Train Epoch: 12 Loss= 2.883555651 Accuracy= 0.949\n",
            "Train Epoch: 13 Loss= 2.619930029 Accuracy= 0.9544\n",
            "Train Epoch: 14 Loss= 2.585843086 Accuracy= 0.9574\n",
            "Train Epoch: 15 Loss= 2.397513390 Accuracy= 0.9572\n",
            "Train Finished takes : 27.81316041946411\n"
          ],
          "name": "stdout"
        }
      ]
    },
    {
      "metadata": {
        "id": "v3I4OWP_Htg3",
        "colab_type": "text"
      },
      "cell_type": "markdown",
      "source": [
        "# Evaluation"
      ]
    },
    {
      "metadata": {
        "id": "T3xuCDDrFEBl",
        "colab_type": "code",
        "outputId": "8fddc2bb-0ff4-4685-b7d9-f0c4a70a9347",
        "colab": {
          "base_uri": "https://localhost:8080/",
          "height": 353
        }
      },
      "cell_type": "code",
      "source": [
        "#%matplotlib inline\n",
        "import matplotlib.pyplot as plt\n",
        "\n",
        "fig = plt.gcf()\n",
        "fig.set_size_inches(10,5)\n",
        "plt.plot(epoch_list,loss_list,label='loss')\n",
        "plt.ylabel('loss')\n",
        "plt.xlabel('epoch')\n",
        "plt.legend(['loss'],loc='upper left')"
      ],
      "execution_count": 12,
      "outputs": [
        {
          "output_type": "execute_result",
          "data": {
            "text/plain": [
              "<matplotlib.legend.Legend at 0x7f3160055d30>"
            ]
          },
          "metadata": {
            "tags": []
          },
          "execution_count": 12
        },
        {
          "output_type": "display_data",
          "data": {
            "image/png": "[encoded data removed]",
            "text/plain": [
              "<Figure size 720x360 with 1 Axes>"
            ]
          },
          "metadata": {
            "tags": []
          }
        }
      ]
    },
    {
      "metadata": {
        "id": "hBOpZijWF3Ls",
        "colab_type": "code",
        "outputId": "429bcead-374a-40d8-b204-c3023ab2770d",
        "colab": {
          "base_uri": "https://localhost:8080/",
          "height": 356
        }
      },
      "cell_type": "code",
      "source": [
        "fig = plt.gcf()\n",
        "fig.set_size_inches(10,5)\n",
        "plt.plot(epoch_list,accuracy_list,label='accuracy')\n",
        "plt.ylabel('accuracy')\n",
        "plt.xlabel('epoch')\n",
        "plt.ylim(0.8,1)\n",
        "plt.legend(['accuracy'],loc='upper left')"
      ],
      "execution_count": 13,
      "outputs": [
        {
          "output_type": "execute_result",
          "data": {
            "text/plain": [
              "<matplotlib.legend.Legend at 0x7f316545d588>"
            ]
          },
          "metadata": {
            "tags": []
          },
          "execution_count": 13
        },
        {
          "output_type": "display_data",
          "data": {
            "image/png": "[encoded data removed]",
            "text/plain": [
              "<Figure size 720x360 with 1 Axes>"
            ]
          },
          "metadata": {
            "tags": []
          }
        }
      ]
    },
    {
      "metadata": {
        "id": "5YzxN2VUGe1n",
        "colab_type": "code",
        "outputId": "14a126e3-b79b-4614-b3c7-67d170847d41",
        "colab": {
          "base_uri": "https://localhost:8080/",
          "height": 35
        }
      },
      "cell_type": "code",
      "source": [
        "print(\"Accuracy:\",sess.run(accuracy,feed_dict={x:mnist.test.images,y_label:mnist.test.labels}))"
      ],
      "execution_count": 14,
      "outputs": [
        {
          "output_type": "stream",
          "text": [
            "Accuracy: 0.9548\n"
          ],
          "name": "stdout"
        }
      ]
    },
    {
      "metadata": {
        "id": "zxRKxaYAQ1Ci",
        "colab_type": "text"
      },
      "cell_type": "markdown",
      "source": [
        "# Prediction"
      ]
    },
    {
      "metadata": {
        "id": "UaWdOqBBHJeB",
        "colab_type": "code",
        "outputId": "d117b9f9-1b98-467e-ebc9-bf9412c34b95",
        "colab": {
          "base_uri": "https://localhost:8080/",
          "height": 54
        }
      },
      "cell_type": "code",
      "source": [
        "print(y_predict[:10])\n",
        "prediction_result=sess.run(tf.argmax(y_predict,1),feed_dict={x:mnist.test.images})\n",
        "prediction_result[:10]"
      ],
      "execution_count": 15,
      "outputs": [
        {
          "output_type": "stream",
          "text": [
            "Tensor(\"strided_slice:0\", shape=(?, 10), dtype=float32)\n"
          ],
          "name": "stdout"
        },
        {
          "output_type": "execute_result",
          "data": {
            "text/plain": [
              "array([7, 2, 1, 0, 4, 1, 4, 9, 6, 9])"
            ]
          },
          "metadata": {
            "tags": []
          },
          "execution_count": 15
        }
      ]
    },
    {
      "metadata": {
        "id": "EkCLa4YXR5lM",
        "colab_type": "code",
        "outputId": "7c79a2a1-d5a3-4321-f654-fd724ab316e6",
        "colab": {
          "base_uri": "https://localhost:8080/",
          "height": 318
        }
      },
      "cell_type": "code",
      "source": [
        "import numpy as np\n",
        "\n",
        "def plot_images_labels_prediction(images,labels,prediction,idx,num=10):\n",
        "  fig=plt.gcf()\n",
        "  fig.set_size_inches(12,14)\n",
        "  if num>25: num=25\n",
        "  for i in range(0,num):\n",
        "    ax=plt.subplot(5,5,1+i)\n",
        "    ax.imshow(np.reshape(images[idx],(28,28)),cmap='binary')\n",
        "    title='label='+str(np.argmax(labels[idx]))\n",
        "    if len(prediction)>0:\n",
        "      title+='prediction='+str(prediction[idx])\n",
        "      \n",
        "    ax.set_title(title,fontsize=10)\n",
        "    ax.set_xticks([]);ax.set_yticks([])\n",
        "    idx+=1\n",
        "  plt.show()\n",
        "\n",
        "plot_images_labels_prediction(mnist.test.images,mnist.test.labels,prediction_result,0)"
      ],
      "execution_count": 16,
      "outputs": [
        {
          "output_type": "display_data",
          "data": {
            "image/png": "[encoded data removed]",
            "text/plain": [
              "<Figure size 864x1008 with 10 Axes>"
            ]
          },
          "metadata": {
            "tags": []
          }
        }
      ]
    },
    {
      "metadata": {
        "id": "bxYveKh2Skr1",
        "colab_type": "code",
        "colab": {}
      },
      "cell_type": "code",
      "source": [
        ""
      ],
      "execution_count": 0,
      "outputs": []
    }
  ]
}