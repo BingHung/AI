{
  "nbformat": 4,
  "nbformat_minor": 0,
  "metadata": {
    "colab": {
      "name": "[02192019_4]_Tensorflow_MNIST_Hand_Writing_Digit_Demo_MLP-v1.ipynb",
      "version": "0.3.2",
      "provenance": [],
      "collapsed_sections": [],
      "include_colab_link": true
    },
    "kernelspec": {
      "name": "python3",
      "display_name": "Python 3"
    },
    "accelerator": "GPU"
  },
  "cells": [
    {
      "cell_type": "markdown",
      "metadata": {
        "id": "view-in-github",
        "colab_type": "text"
      },
      "source": [
        "<a href=\"https://colab.research.google.com/github/BingHung/AI/blob/master/%5B02192019_4%5D_Tensorflow_MNIST_Hand_Writing_Digit_Demo_MLP_v1.ipynb\" target=\"_parent\"><img src=\"https://colab.research.google.com/assets/colab-badge.svg\" alt=\"Open In Colab\"/></a>"
      ]
    },
    {
      "metadata": {
        "id": "KlIhj505ChNY",
        "colab_type": "text"
      },
      "cell_type": "markdown",
      "source": [
        "# Preprocess"
      ]
    },
    {
      "metadata": {
        "id": "CWPnSSGSB9E6",
        "colab_type": "code",
        "colab": {
          "base_uri": "https://localhost:8080/",
          "height": 90
        },
        "outputId": "74f11a5a-4720-453b-99c3-4708ac76804f"
      },
      "cell_type": "code",
      "source": [
        "import tensorflow as tf\n",
        "import tensorflow.examples.tutorials.mnist.input_data as input_data\n",
        "mnist = input_data.read_data_sets(\"official/mnist/dataset.py\",one_hot=True)"
      ],
      "execution_count": 2,
      "outputs": [
        {
          "output_type": "stream",
          "text": [
            "Extracting official/mnist/dataset.py/train-images-idx3-ubyte.gz\n",
            "Extracting official/mnist/dataset.py/train-labels-idx1-ubyte.gz\n",
            "Extracting official/mnist/dataset.py/t10k-images-idx3-ubyte.gz\n",
            "Extracting official/mnist/dataset.py/t10k-labels-idx1-ubyte.gz\n"
          ],
          "name": "stdout"
        }
      ]
    },
    {
      "metadata": {
        "id": "wRjYV5wzCHUB",
        "colab_type": "code",
        "colab": {
          "base_uri": "https://localhost:8080/",
          "height": 72
        },
        "outputId": "9b2f5ad0-99b0-4f63-a747-0d66b663f83d"
      },
      "cell_type": "code",
      "source": [
        "print('train images :',mnist.train.images.shape,\n",
        "     'labels:',mnist.train.labels.shape)\n",
        "print('validation images :',mnist.validation.images.shape,\n",
        "     'labels:',mnist.validation.labels.shape)\n",
        "print('test images :',mnist.test.images.shape,\n",
        "     'labels:',mnist.test.labels.shape)"
      ],
      "execution_count": 3,
      "outputs": [
        {
          "output_type": "stream",
          "text": [
            "train images : (55000, 784) labels: (55000, 10)\n",
            "validation images : (5000, 784) labels: (5000, 10)\n",
            "test images : (10000, 784) labels: (10000, 10)\n"
          ],
          "name": "stdout"
        }
      ]
    },
    {
      "metadata": {
        "id": "6al0AJTlCjtS",
        "colab_type": "text"
      },
      "cell_type": "markdown",
      "source": [
        "# Model Construction"
      ]
    },
    {
      "metadata": {
        "id": "iTjMr-b1CVtV",
        "colab_type": "code",
        "colab": {}
      },
      "cell_type": "code",
      "source": [
        "def layer(output_dim,input_dim,inputs,activation=None):\n",
        "  W=tf.Variable(tf.random_normal([input_dim,output_dim]))\n",
        "  b=tf.Variable(tf.random_normal([1,output_dim]))\n",
        "  XWb=tf.matmul(inputs,W)+b\n",
        "  if activation is None:\n",
        "    outputs = XWb\n",
        "  else:\n",
        "    outputs=activation(XWb)\n",
        "  return outputs"
      ],
      "execution_count": 0,
      "outputs": []
    },
    {
      "metadata": {
        "id": "DRWnm86PCrq8",
        "colab_type": "code",
        "colab": {}
      },
      "cell_type": "code",
      "source": [
        "x=tf.placeholder(\"float\",[None,784])\n",
        "h1=layer(output_dim=256,input_dim=784,inputs=x,activation=tf.nn.relu)\n",
        "y_predict=layer(output_dim=10,input_dim=256,inputs=h1,activation=None)"
      ],
      "execution_count": 0,
      "outputs": []
    },
    {
      "metadata": {
        "id": "7BoJ1EOYCzCD",
        "colab_type": "code",
        "colab": {}
      },
      "cell_type": "code",
      "source": [
        "y_label = tf.placeholder('float',[None,10])"
      ],
      "execution_count": 0,
      "outputs": []
    },
    {
      "metadata": {
        "id": "Pp-UHsm3G79Q",
        "colab_type": "code",
        "colab": {}
      },
      "cell_type": "code",
      "source": [
        "loss_function=tf.reduce_mean(tf.nn.softmax_cross_entropy_with_logits(logits=y_predict,labels=y_label))"
      ],
      "execution_count": 0,
      "outputs": []
    },
    {
      "metadata": {
        "id": "F_j2soQlHPG0",
        "colab_type": "code",
        "colab": {}
      },
      "cell_type": "code",
      "source": [
        "optimizer=tf.train.AdamOptimizer(learning_rate=0.001).minimize(loss_function)"
      ],
      "execution_count": 0,
      "outputs": []
    },
    {
      "metadata": {
        "id": "-xmvTSkKHdrM",
        "colab_type": "code",
        "colab": {}
      },
      "cell_type": "code",
      "source": [
        "correct_prediction = tf.equal(tf.argmax(y_label,1),tf.argmax(y_predict,1))"
      ],
      "execution_count": 0,
      "outputs": []
    },
    {
      "metadata": {
        "id": "ApPJiCLkH37T",
        "colab_type": "code",
        "colab": {}
      },
      "cell_type": "code",
      "source": [
        "accuracy=tf.reduce_mean(tf.cast(correct_prediction,'float'))"
      ],
      "execution_count": 0,
      "outputs": []
    },
    {
      "metadata": {
        "id": "ksIer3FJGzbT",
        "colab_type": "text"
      },
      "cell_type": "markdown",
      "source": [
        "# Training"
      ]
    },
    {
      "metadata": {
        "id": "jM8frQ04IA_b",
        "colab_type": "code",
        "colab": {}
      },
      "cell_type": "code",
      "source": [
        "trainEpochs = 15\n",
        "batchSize = 100\n",
        "totalBatchs =int(mnist.train.num_examples/batchSize)\n",
        "loss_list=[];epoch_list=[];accuracy_list=[]\n",
        "from time import time\n",
        "startTime=time()\n",
        "\n",
        "sess=tf.Session()\n",
        "sess.run(tf.global_variables_initializer())"
      ],
      "execution_count": 0,
      "outputs": []
    },
    {
      "metadata": {
        "id": "LaUSBUI-IuAf",
        "colab_type": "code",
        "colab": {
          "base_uri": "https://localhost:8080/",
          "height": 308
        },
        "outputId": "162b078d-bf49-4de5-fe68-209edd3c48d4"
      },
      "cell_type": "code",
      "source": [
        "for epoch in range(trainEpochs):\n",
        "  for i in range(totalBatchs):\n",
        "    batch_x,batch_y=mnist.train.next_batch(batchSize)\n",
        "    sess.run(optimizer,feed_dict={x:batch_x,y_label:batch_y})\n",
        "    \n",
        "  loss,acc=sess.run([loss_function,accuracy],feed_dict={x:mnist.validation.images,y_label:mnist.validation.labels})\n",
        "  \n",
        "  epoch_list.append(epoch)\n",
        "  loss_list.append(loss)\n",
        "  accuracy_list.append(acc)\n",
        "  print('Train Epoch:',  '%02d' % (epoch+1), 'Loss=', '{:.9f}'.format(loss),'Accuracy=',acc)\n",
        "  \n",
        "duration =time()-startTime\n",
        "print(\"Train Finished takes :\",duration)"
      ],
      "execution_count": 29,
      "outputs": [
        {
          "output_type": "stream",
          "text": [
            "Train Epoch: 01 Loss= 7.103382111 Accuracy= 0.8406\n",
            "Train Epoch: 02 Loss= 4.612675190 Accuracy= 0.8806\n",
            "Train Epoch: 03 Loss= 3.492475510 Accuracy= 0.8996\n",
            "Train Epoch: 04 Loss= 2.913612366 Accuracy= 0.913\n",
            "Train Epoch: 05 Loss= 2.468233824 Accuracy= 0.915\n",
            "Train Epoch: 06 Loss= 2.279209375 Accuracy= 0.92\n",
            "Train Epoch: 07 Loss= 2.064138651 Accuracy= 0.926\n",
            "Train Epoch: 08 Loss= 1.954108953 Accuracy= 0.9282\n",
            "Train Epoch: 09 Loss= 1.781538725 Accuracy= 0.9306\n",
            "Train Epoch: 10 Loss= 1.748798609 Accuracy= 0.9332\n",
            "Train Epoch: 11 Loss= 1.633983254 Accuracy= 0.9372\n",
            "Train Epoch: 12 Loss= 1.532884359 Accuracy= 0.9378\n",
            "Train Epoch: 13 Loss= 1.528613448 Accuracy= 0.9384\n",
            "Train Epoch: 14 Loss= 1.511262059 Accuracy= 0.9398\n",
            "Train Epoch: 15 Loss= 1.457900763 Accuracy= 0.9406\n",
            "Train Finished takes : 19.843979120254517\n"
          ],
          "name": "stdout"
        }
      ]
    },
    {
      "metadata": {
        "id": "v3I4OWP_Htg3",
        "colab_type": "text"
      },
      "cell_type": "markdown",
      "source": [
        "# Evaluation"
      ]
    }
  ]
}