{
  "nbformat": 4,
  "nbformat_minor": 0,
  "metadata": {
    "colab": {
      "name": "[03052019-1] CoolProp Mixed Method Check.ipynb",
      "version": "0.3.2",
      "provenance": [],
      "collapsed_sections": [],
      "include_colab_link": true
    },
    "kernelspec": {
      "name": "python3",
      "display_name": "Python 3"
    },
    "accelerator": "GPU"
  },
  "cells": [
    {
      "cell_type": "markdown",
      "metadata": {
        "id": "view-in-github",
        "colab_type": "text"
      },
      "source": [
        "<a href=\"https://colab.research.google.com/github/BingHung/AI/blob/master/%5B03052019_1%5D_CoolProp_Mixed_Method_Check.ipynb\" target=\"_parent\"><img src=\"https://colab.research.google.com/assets/colab-badge.svg\" alt=\"Open In Colab\"/></a>"
      ]
    },
    {
      "metadata": {
        "id": "XHFWden2uvXg",
        "colab_type": "code",
        "outputId": "65ec5340-218d-4219-e171-d9c4f97b48be",
        "colab": {
          "base_uri": "https://localhost:8080/",
          "height": 122
        }
      },
      "cell_type": "code",
      "source": [
        "!pip install CoolProp"
      ],
      "execution_count": 0,
      "outputs": [
        {
          "output_type": "stream",
          "text": [
            "Collecting CoolProp\n",
            "\u001b[?25l  Downloading https://files.pythonhosted.org/packages/f4/a2/aab94f302d02d0bd53aba779b929fb5a06d48d9e63123252f7a0183f3170/CoolProp-6.2.1-cp36-cp36m-manylinux1_x86_64.whl (4.0MB)\n",
            "\u001b[K    100% |████████████████████████████████| 4.0MB 9.8MB/s \n",
            "\u001b[?25hInstalling collected packages: CoolProp\n",
            "Successfully installed CoolProp-6.2.1\n"
          ],
          "name": "stdout"
        }
      ]
    },
    {
      "metadata": {
        "id": "y_STbOLCvQWI",
        "colab_type": "code",
        "colab": {}
      },
      "cell_type": "code",
      "source": [
        "import CoolProp.CoolProp as CP\n",
        "from CoolProp.CoolProp import PropsSI"
      ],
      "execution_count": 0,
      "outputs": []
    },
    {
      "metadata": {
        "id": "7r-gj6CLvY1y",
        "colab_type": "code",
        "outputId": "54720ca6-93e2-45d7-d50e-f8146e808831",
        "colab": {
          "base_uri": "https://localhost:8080/",
          "height": 34
        }
      },
      "cell_type": "code",
      "source": [
        "CP.PropsSI('D','P',101325,'T',300,'Air.mix')"
      ],
      "execution_count": 0,
      "outputs": [
        {
          "output_type": "execute_result",
          "data": {
            "text/plain": [
              "1.1766922904316655"
            ]
          },
          "metadata": {
            "tags": []
          },
          "execution_count": 5
        }
      ]
    },
    {
      "metadata": {
        "id": "vfOi-xB7vcnm",
        "colab_type": "code",
        "outputId": "bc6aed29-be33-45d8-8699-d6ea181ebf5b",
        "colab": {
          "base_uri": "https://localhost:8080/",
          "height": 34
        }
      },
      "cell_type": "code",
      "source": [
        "CP.PropsSI('D','P',101325,'T',300,'Air')"
      ],
      "execution_count": 0,
      "outputs": [
        {
          "output_type": "execute_result",
          "data": {
            "text/plain": [
              "1.1769955883877592"
            ]
          },
          "metadata": {
            "tags": []
          },
          "execution_count": 6
        }
      ]
    },
    {
      "metadata": {
        "id": "paIYqAHAvkIA",
        "colab_type": "code",
        "outputId": "671ed317-eac6-4e18-e4b3-0978982d9461",
        "colab": {
          "base_uri": "https://localhost:8080/",
          "height": 34
        }
      },
      "cell_type": "code",
      "source": [
        "CP.PropsSI('D','T',300,'P',101325,'N2[0.78]&O2[0.21]&Ar[0.01]')"
      ],
      "execution_count": 0,
      "outputs": [
        {
          "output_type": "execute_result",
          "data": {
            "text/plain": [
              "1.1771456308137072"
            ]
          },
          "metadata": {
            "tags": []
          },
          "execution_count": 15
        }
      ]
    },
    {
      "metadata": {
        "id": "fjoG0bAXyMnN",
        "colab_type": "code",
        "outputId": "8d0d1936-5f5c-4e50-81e3-c4b683a6878b",
        "colab": {
          "base_uri": "https://localhost:8080/",
          "height": 34
        }
      },
      "cell_type": "code",
      "source": [
        "CP.PropsSI('D','T',300,'P',101325,'N2')"
      ],
      "execution_count": 0,
      "outputs": [
        {
          "output_type": "execute_result",
          "data": {
            "text/plain": [
              "1.1381646864624473"
            ]
          },
          "metadata": {
            "tags": []
          },
          "execution_count": 34
        }
      ]
    },
    {
      "metadata": {
        "id": "ZTAh6EebyP9n",
        "colab_type": "code",
        "outputId": "471ab9bd-7b8b-4474-e225-341d8c29a2ae",
        "colab": {
          "base_uri": "https://localhost:8080/",
          "height": 34
        }
      },
      "cell_type": "code",
      "source": [
        "CP.PropsSI('D','T',300,'P',101325,'O2')"
      ],
      "execution_count": 0,
      "outputs": [
        {
          "output_type": "execute_result",
          "data": {
            "text/plain": [
              "1.3006898082601743"
            ]
          },
          "metadata": {
            "tags": []
          },
          "execution_count": 35
        }
      ]
    },
    {
      "metadata": {
        "id": "0X09DBxJySM0",
        "colab_type": "code",
        "outputId": "2d898589-b852-4e4a-96f0-e45788cdc16f",
        "colab": {
          "base_uri": "https://localhost:8080/",
          "height": 34
        }
      },
      "cell_type": "code",
      "source": [
        "CP.PropsSI('D','T',300,'P',101325,'Ar')"
      ],
      "execution_count": 0,
      "outputs": [
        {
          "output_type": "execute_result",
          "data": {
            "text/plain": [
              "1.623757027351451"
            ]
          },
          "metadata": {
            "tags": []
          },
          "execution_count": 36
        }
      ]
    },
    {
      "metadata": {
        "id": "WzsKVM8YyU1K",
        "colab_type": "code",
        "outputId": "fc75dc93-aaac-46d7-f6bc-92e18318ff14",
        "colab": {
          "base_uri": "https://localhost:8080/",
          "height": 34
        }
      },
      "cell_type": "code",
      "source": [
        "1.1381646864624473*0.78+1.3006898082601743*0.21+1.623757027351451*0.01"
      ],
      "execution_count": 0,
      "outputs": [
        {
          "output_type": "execute_result",
          "data": {
            "text/plain": [
              "1.17715088544886"
            ]
          },
          "metadata": {
            "tags": []
          },
          "execution_count": 38
        }
      ]
    },
    {
      "metadata": {
        "id": "AHkhqMgxwIIq",
        "colab_type": "code",
        "outputId": "33a545a0-f628-4f17-8f31-841f040afde2",
        "colab": {
          "base_uri": "https://localhost:8080/",
          "height": 34
        }
      },
      "cell_type": "code",
      "source": [
        "CP.PropsSI('D','T',300,'P',101325,'water')"
      ],
      "execution_count": 0,
      "outputs": [
        {
          "output_type": "execute_result",
          "data": {
            "text/plain": [
              "996.5569352652021"
            ]
          },
          "metadata": {
            "tags": []
          },
          "execution_count": 27
        }
      ]
    },
    {
      "metadata": {
        "id": "7MzLh9lnwqTZ",
        "colab_type": "code",
        "outputId": "3afa6060-eb9f-44f3-ea10-1163f9d26154",
        "colab": {
          "base_uri": "https://localhost:8080/",
          "height": 34
        }
      },
      "cell_type": "code",
      "source": [
        "CP.PropsSI('D','T',300,'P',101325,'water[0.5]&Ar[0.5]')"
      ],
      "execution_count": 0,
      "outputs": [
        {
          "output_type": "execute_result",
          "data": {
            "text/plain": [
              "2.272302863253746"
            ]
          },
          "metadata": {
            "tags": []
          },
          "execution_count": 42
        }
      ]
    },
    {
      "metadata": {
        "id": "cS_JpilvxuCi",
        "colab_type": "code",
        "outputId": "be0e1d34-92cc-4715-e1a9-59f775432682",
        "colab": {
          "base_uri": "https://localhost:8080/",
          "height": 34
        }
      },
      "cell_type": "code",
      "source": [
        "996.5569352652021*0.5*+1.623757027351451*0.5"
      ],
      "execution_count": 0,
      "outputs": [
        {
          "output_type": "execute_result",
          "data": {
            "text/plain": [
              "499.0903461462768"
            ]
          },
          "metadata": {
            "tags": []
          },
          "execution_count": 43
        }
      ]
    },
    {
      "metadata": {
        "id": "REJuz0a944qt",
        "colab_type": "code",
        "colab": {}
      },
      "cell_type": "code",
      "source": [
        ""
      ],
      "execution_count": 0,
      "outputs": []
    }
  ]
}