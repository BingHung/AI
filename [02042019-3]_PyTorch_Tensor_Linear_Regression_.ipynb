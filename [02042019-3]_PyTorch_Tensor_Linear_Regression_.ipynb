{
  "nbformat": 4,
  "nbformat_minor": 0,
  "metadata": {
    "colab": {
      "name": "[20190204-3] PyTorch Tensor - Linear Regression .ipynb",
      "version": "0.3.2",
      "provenance": [],
      "collapsed_sections": [],
      "include_colab_link": true
    },
    "kernelspec": {
      "name": "python3",
      "display_name": "Python 3"
    }
  },
  "cells": [
    {
      "cell_type": "markdown",
      "metadata": {
        "id": "view-in-github",
        "colab_type": "text"
      },
      "source": [
        "<a href=\"https://colab.research.google.com/github/BingHung/AI/blob/master/%5B20190204_3%5D_PyTorch_Tensor_Linear_Regression_.ipynb\" target=\"_parent\"><img src=\"https://colab.research.google.com/assets/colab-badge.svg\" alt=\"Open In Colab\"/></a>"
      ]
    },
    {
      "metadata": {
        "id": "nWa5UfJyAS62",
        "colab_type": "text"
      },
      "cell_type": "markdown",
      "source": [
        "## PyTorch Official Document\n",
        "* https://pytorch.org/docs/stable/index.html\n",
        "\n",
        "## Code Reference\n",
        "*  https://github.com/chenyuntc/pytorch-book/blob/master/chapter3-Tensor%E5%92%8Cautograd/Tensor.ipynb\n"
      ]
    },
    {
      "metadata": {
        "id": "p4_ZLFn3Af9A",
        "colab_type": "code",
        "colab": {
          "base_uri": "https://localhost:8080/",
          "height": 34
        },
        "outputId": "9dab7fe6-408c-473a-f9a1-bbaef33cafad"
      },
      "cell_type": "code",
      "source": [
        "# Let's begin\n",
        "from __future__ import print_function\n",
        "import torch  as t\n",
        "t.__version__"
      ],
      "execution_count": 1,
      "outputs": [
        {
          "output_type": "execute_result",
          "data": {
            "text/plain": [
              "'1.0.0'"
            ]
          },
          "metadata": {
            "tags": []
          },
          "execution_count": 1
        }
      ]
    },
    {
      "metadata": {
        "id": "5PqYmSo7Bp89",
        "colab_type": "code",
        "colab": {}
      },
      "cell_type": "code",
      "source": [
        "import torch as t\n",
        "%matplotlib inline\n",
        "from matplotlib import pyplot as plt\n",
        "from IPython import display\n",
        "\n",
        "device = t.device('cpu') "
      ],
      "execution_count": 0,
      "outputs": []
    },
    {
      "metadata": {
        "id": "70Nn9QbbBuMM",
        "colab_type": "code",
        "colab": {}
      },
      "cell_type": "code",
      "source": [
        "# 设置随机数种子，保证在不同电脑上运行时下面的输出一致\n",
        "t.manual_seed(1000) \n",
        "\n",
        "def get_fake_data(batch_size=8):\n",
        "    ''' 产生随机数据：y=x*2+3，加上了一些噪声'''\n",
        "    x = t.rand(batch_size, 1, device=device) * 5\n",
        "    y = x * 2 + 3 +  t.randn(batch_size, 1, device=device)\n",
        "    return x, y"
      ],
      "execution_count": 0,
      "outputs": []
    },
    {
      "metadata": {
        "id": "rOkgRCKwBzad",
        "colab_type": "code",
        "colab": {
          "base_uri": "https://localhost:8080/",
          "height": 282
        },
        "outputId": "25818398-b642-4e56-bd13-2ddf1156c204"
      },
      "cell_type": "code",
      "source": [
        "# 来看看产生的x-y分布\n",
        "x, y = get_fake_data(batch_size=16)\n",
        "plt.scatter(x.squeeze().cpu().numpy(), y.squeeze().cpu().numpy())"
      ],
      "execution_count": 4,
      "outputs": [
        {
          "output_type": "execute_result",
          "data": {
            "text/plain": [
              "<matplotlib.collections.PathCollection at 0x7f1638a9e5c0>"
            ]
          },
          "metadata": {
            "tags": []
          },
          "execution_count": 4
        },
        {
          "output_type": "display_data",
          "data": {
            "image/png": "[encoded data removed]",
            "text/plain": [
              "<Figure size 432x288 with 1 Axes>"
            ]
          },
          "metadata": {
            "tags": []
          }
        }
      ]
    },
    {
      "metadata": {
        "id": "xWH-Ev43B4Sl",
        "colab_type": "code",
        "colab": {
          "base_uri": "https://localhost:8080/",
          "height": 282
        },
        "cellView": "both",
        "outputId": "5e293b92-ac5b-49de-f8a8-2a215e2ef7f4"
      },
      "cell_type": "code",
      "source": [
        "#@title\n",
        "t.set_default_tensor_type('torch.FloatTensor')\n",
        "\n",
        "# 随机初始化参数\n",
        "w = t.rand(1, 1).to(device)\n",
        "b = t.zeros(1, 1).to(device)\n",
        "\n",
        "lr =0.02 # 学习率\n",
        "\n",
        "for ii in range(500):\n",
        "    x, y = get_fake_data(batch_size=4)\n",
        "    \n",
        "    # forward：计算loss\n",
        "    w= w.type(t.FloatTensor)\n",
        "    y_pred = x.mm(w) + b.expand_as(y) # x@W等价于x.mm(w);for python3 only\n",
        "    \n",
        "    loss = 0.5 * (y_pred - y) ** 2 # 均方误差\n",
        "    loss = loss.mean()\n",
        "    \n",
        "    # backward：手动计算梯度\n",
        "    dloss = 1\n",
        "    dy_pred = dloss * (y_pred - y)\n",
        "    \n",
        "    dw = x.t().mm(dy_pred)\n",
        "    db = dy_pred.sum()\n",
        "    \n",
        "    # 更新参数\n",
        "    w.sub_(lr * dw)\n",
        "    b.sub_(lr * db)\n",
        "    \n",
        "    if ii%50 ==0:\n",
        "       \n",
        "        # 画图\n",
        "        #'''\n",
        "        display.clear_output(wait=True)\n",
        "        x = t.arange(0, 6).view(-1, 1)\n",
        "        \n",
        "        w= w.type(t.LongTensor)\n",
        "        #w= w.type(t.FloatTensor)\n",
        "        \n",
        "        y = x.mm(w)       \n",
        "        y= y.float()+ b.expand_as(x)\n",
        "        \n",
        "        plt.plot(x.cpu().numpy(), y.cpu().numpy()) # predicted\n",
        "        \n",
        "        x2, y2 = get_fake_data(batch_size=32) \n",
        "        plt.scatter(x2.numpy(), y2.numpy()) # true data\n",
        "        \n",
        "        plt.xlim(0, 5)\n",
        "        plt.ylim(0, 13)\n",
        "        plt.show()\n",
        "        plt.pause(0.5)\n",
        "        # '''\n",
        "        \n",
        "        \n",
        "print('w: ', w.item(), 'b: ', b.item())"
      ],
      "execution_count": 23,
      "outputs": [
        {
          "output_type": "display_data",
          "data": {
            "image/png": "[encoded data removed]",
            "text/plain": [
              "<Figure size 432x288 with 1 Axes>"
            ]
          },
          "metadata": {
            "tags": []
          }
        },
        {
          "output_type": "stream",
          "text": [
            "w:  1.9848859310150146 b:  3.0376648902893066\n"
          ],
          "name": "stdout"
        }
      ]
    },
    {
      "metadata": {
        "id": "MCypBPshI_kc",
        "colab_type": "text"
      },
      "cell_type": "markdown",
      "source": [
        "## Debug\n",
        "* Expected object of scalar type Long but got scalar type Float for argument #2 'mat2'\n",
        "*  Expected type torch.FloatTensor but got torch.LongTensor"
      ]
    },
    {
      "metadata": {
        "id": "tAU1Z-v1JB2b",
        "colab_type": "code",
        "colab": {}
      },
      "cell_type": "code",
      "source": [
        ""
      ],
      "execution_count": 0,
      "outputs": []
    }
  ]
}
