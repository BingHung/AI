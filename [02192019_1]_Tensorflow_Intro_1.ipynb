{
  "nbformat": 4,
  "nbformat_minor": 0,
  "metadata": {
    "colab": {
      "name": "[02192019-1] Tensorflow Intro-1.ipynb",
      "version": "0.3.2",
      "provenance": [],
      "collapsed_sections": [],
      "include_colab_link": true
    },
    "kernelspec": {
      "name": "python3",
      "display_name": "Python 3"
    }
  },
  "cells": [
    {
      "cell_type": "markdown",
      "metadata": {
        "id": "view-in-github",
        "colab_type": "text"
      },
      "source": [
        "<a href=\"https://colab.research.google.com/github/BingHung/AI/blob/master/%5B02192019_1%5D_Tensorflow_Intro_1.ipynb\" target=\"_parent\"><img src=\"https://colab.research.google.com/assets/colab-badge.svg\" alt=\"Open In Colab\"/></a>"
      ]
    },
    {
      "metadata": {
        "id": "JqHiqnMGEs_8",
        "colab_type": "code",
        "colab": {}
      },
      "cell_type": "code",
      "source": [
        "import tensorflow as tf"
      ],
      "execution_count": 0,
      "outputs": []
    },
    {
      "metadata": {
        "id": "KjpMY8WME1Ly",
        "colab_type": "code",
        "outputId": "724c114f-8c47-480e-e91c-eb3050d40972",
        "colab": {
          "base_uri": "https://localhost:8080/",
          "height": 34
        }
      },
      "cell_type": "code",
      "source": [
        "ts_c = tf.constant(2,name='ts_c')\n",
        "ts_c"
      ],
      "execution_count": 0,
      "outputs": [
        {
          "output_type": "execute_result",
          "data": {
            "text/plain": [
              "<tf.Tensor 'ts_c:0' shape=() dtype=int32>"
            ]
          },
          "metadata": {
            "tags": []
          },
          "execution_count": 2
        }
      ]
    },
    {
      "metadata": {
        "id": "KblfIXuzE-BL",
        "colab_type": "code",
        "outputId": "3c56652c-5f8e-4569-f147-00ff65aa9f6c",
        "colab": {
          "base_uri": "https://localhost:8080/",
          "height": 105
        }
      },
      "cell_type": "code",
      "source": [
        "ts_x=tf.Variable(ts_c+5,name='ts_x')\n",
        "ts_x"
      ],
      "execution_count": 0,
      "outputs": [
        {
          "output_type": "stream",
          "text": [
            "WARNING:tensorflow:From /usr/local/lib/python3.6/dist-packages/tensorflow/python/framework/op_def_library.py:263: colocate_with (from tensorflow.python.framework.ops) is deprecated and will be removed in a future version.\n",
            "Instructions for updating:\n",
            "Colocations handled automatically by placer.\n"
          ],
          "name": "stdout"
        },
        {
          "output_type": "execute_result",
          "data": {
            "text/plain": [
              "<tf.Variable 'ts_x:0' shape=() dtype=int32_ref>"
            ]
          },
          "metadata": {
            "tags": []
          },
          "execution_count": 3
        }
      ]
    },
    {
      "metadata": {
        "id": "z7PIXmtmFT1K",
        "colab_type": "code",
        "colab": {}
      },
      "cell_type": "code",
      "source": [
        "sess=tf.Session()"
      ],
      "execution_count": 0,
      "outputs": []
    },
    {
      "metadata": {
        "id": "_H4E4YS7FkGK",
        "colab_type": "code",
        "colab": {}
      },
      "cell_type": "code",
      "source": [
        "init=tf.global_variables_initializer()\n",
        "sess.run(init)"
      ],
      "execution_count": 0,
      "outputs": []
    },
    {
      "metadata": {
        "id": "zpuC8YEIFrsq",
        "colab_type": "code",
        "outputId": "9b51a555-6f5e-4669-bf2b-c4cc11b67861",
        "colab": {
          "base_uri": "https://localhost:8080/",
          "height": 34
        }
      },
      "cell_type": "code",
      "source": [
        "print('ts_c=',sess.run(ts_c))"
      ],
      "execution_count": 0,
      "outputs": [
        {
          "output_type": "stream",
          "text": [
            "ts_c= 2\n"
          ],
          "name": "stdout"
        }
      ]
    },
    {
      "metadata": {
        "id": "YtocjgYuFyca",
        "colab_type": "code",
        "outputId": "06efddef-4cea-4dd1-8fb0-73efbfa80c01",
        "colab": {
          "base_uri": "https://localhost:8080/",
          "height": 34
        }
      },
      "cell_type": "code",
      "source": [
        "print('ts_x',sess.run(ts_x))"
      ],
      "execution_count": 0,
      "outputs": [
        {
          "output_type": "stream",
          "text": [
            "ts_x 7\n"
          ],
          "name": "stdout"
        }
      ]
    },
    {
      "metadata": {
        "id": "d5BCbfPFF156",
        "colab_type": "code",
        "colab": {}
      },
      "cell_type": "code",
      "source": [
        "sess.close()"
      ],
      "execution_count": 0,
      "outputs": []
    },
    {
      "metadata": {
        "id": "RATZnesMGAAD",
        "colab_type": "code",
        "outputId": "8c72bf44-0625-489f-88ab-78bd585b9d5a",
        "colab": {
          "base_uri": "https://localhost:8080/",
          "height": 51
        }
      },
      "cell_type": "code",
      "source": [
        "# Automatically Close Sess, Since it leave the calc block\n",
        "a = tf.constant(2,name='a')\n",
        "b = tf.Variable(a+5,name='b')\n",
        "with tf.Session() as sess:\n",
        "  init=tf.global_variables_initializer()\n",
        "  print('a=',sess.run(a))\n",
        "  print('a=',sess.run(a+5))\n",
        "  #print('b=',sess.run(b))"
      ],
      "execution_count": 0,
      "outputs": [
        {
          "output_type": "stream",
          "text": [
            "a= 2\n",
            "a= 7\n"
          ],
          "name": "stdout"
        }
      ]
    },
    {
      "metadata": {
        "id": "NxtxPPskGlmR",
        "colab_type": "code",
        "colab": {}
      },
      "cell_type": "code",
      "source": [
        "width=tf.placeholder(\"int32\")\n",
        "height=tf.placeholder(\"int32\")\n",
        "area=tf.multiply(width,height)"
      ],
      "execution_count": 0,
      "outputs": []
    },
    {
      "metadata": {
        "id": "r-2cjeKh-oiW",
        "colab_type": "code",
        "outputId": "4b9e7fe5-71a8-4b20-a27e-1fc597315ffb",
        "colab": {
          "base_uri": "https://localhost:8080/",
          "height": 34
        }
      },
      "cell_type": "code",
      "source": [
        "sess=tf.Session()\n",
        "init = tf.global_variables_initializer()\n",
        "sess.run(init)\n",
        "print(\"area=\",sess.run(area,feed_dict={width:6, height:8}))\n",
        "sess.close()"
      ],
      "execution_count": 0,
      "outputs": [
        {
          "output_type": "stream",
          "text": [
            "area= 48\n"
          ],
          "name": "stdout"
        }
      ]
    },
    {
      "metadata": {
        "id": "jSIIt04t-_eT",
        "colab_type": "code",
        "outputId": "ef038d31-2d78-4b78-f573-f02492558b5a",
        "colab": {
          "base_uri": "https://localhost:8080/",
          "height": 34
        }
      },
      "cell_type": "code",
      "source": [
        "with tf.Session() as sess:\n",
        "  init = tf.global_variables_initializer()\n",
        "  sess.run(init)\n",
        "  print(\"area=\",sess.run(area,feed_dict={width:6, height:8}))"
      ],
      "execution_count": 0,
      "outputs": [
        {
          "output_type": "stream",
          "text": [
            "area= 48\n"
          ],
          "name": "stdout"
        }
      ]
    },
    {
      "metadata": {
        "id": "VTIlmchR_-l8",
        "colab_type": "code",
        "outputId": "e011996f-5a33-459f-eee3-e8ce3cc38268",
        "colab": {
          "base_uri": "https://localhost:8080/",
          "height": 34
        }
      },
      "cell_type": "code",
      "source": [
        "import tensorflow as tf\n",
        "width=tf.placeholder(\"int32\",name='width')\n",
        "height=tf.placeholder(\"int32\",name='height')\n",
        "area=tf.multiply(width,height,name='area')\n",
        "\n",
        "with tf.Session() as sess:\n",
        "  init = tf.global_variables_initializer()\n",
        "  sess.run(init)\n",
        "  print(\"area=\",sess.run(area,feed_dict={width:6, height:8}))\n",
        "  \n",
        "tf.summary.merge_all()\n",
        "train_writer = tf.summary.FileWriter('log/area',sess.graph)"
      ],
      "execution_count": 0,
      "outputs": [
        {
          "output_type": "stream",
          "text": [
            "area= 48\n"
          ],
          "name": "stdout"
        }
      ]
    },
    {
      "metadata": {
        "id": "4g2svHGZ2qlU",
        "colab_type": "code",
        "colab": {}
      },
      "cell_type": "code",
      "source": [
        "#tensorboard --logdir=log\\area"
      ],
      "execution_count": 0,
      "outputs": []
    },
    {
      "metadata": {
        "id": "vYgJ8nOF3Se9",
        "colab_type": "code",
        "outputId": "8684a0ff-66e8-4167-f51e-1cf33471055b",
        "colab": {
          "base_uri": "https://localhost:8080/",
          "height": 51
        }
      },
      "cell_type": "code",
      "source": [
        "ts_X=tf.Variable([0.4,0.2,0.4])\n",
        "with tf.Session() as sess:\n",
        "  init = tf.global_variables_initializer()\n",
        "  sess.run(init)\n",
        "  X=sess.run(ts_X)\n",
        "  print(X)\n",
        "  print(X.shape)"
      ],
      "execution_count": 0,
      "outputs": [
        {
          "output_type": "stream",
          "text": [
            "[0.4 0.2 0.4]\n",
            "(3,)\n"
          ],
          "name": "stdout"
        }
      ]
    },
    {
      "metadata": {
        "id": "e_xOxAzf31Gl",
        "colab_type": "code",
        "outputId": "5097d185-5382-4701-adc4-806cbfdb6e94",
        "colab": {
          "base_uri": "https://localhost:8080/",
          "height": 85
        }
      },
      "cell_type": "code",
      "source": [
        "W=tf.Variable([[-0.5,-0.2],\n",
        "              [-0.3,0.4],\n",
        "              [-0.5,0.2]])\n",
        "with tf.Session() as sess:\n",
        "  init = tf.global_variables_initializer()\n",
        "  sess.run(init)\n",
        "  W_array=sess.run(W)\n",
        "  print(W_array)\n",
        "  print(W_array.shape)"
      ],
      "execution_count": 0,
      "outputs": [
        {
          "output_type": "stream",
          "text": [
            "[[-0.5 -0.2]\n",
            " [-0.3  0.4]\n",
            " [-0.5  0.2]]\n",
            "(3, 2)\n"
          ],
          "name": "stdout"
        }
      ]
    },
    {
      "metadata": {
        "id": "h3NroYoH4Zf7",
        "colab_type": "code",
        "outputId": "ee6af680-e9d9-4e40-96ca-b39227168cb4",
        "colab": {
          "base_uri": "https://localhost:8080/",
          "height": 34
        }
      },
      "cell_type": "code",
      "source": [
        "X=tf.Variable([[0.4,0.2,0.4]])\n",
        "\n",
        "W=tf.Variable([[-0.5,-0.2],\n",
        "              [-0.3,0.4],\n",
        "              [-0.5,0.2]])\n",
        "\n",
        "XW = tf.matmul(X,W)\n",
        "\n",
        "with tf.Session() as sess:\n",
        "  init = tf.global_variables_initializer()\n",
        "  sess.run(init)\n",
        "  print(sess.run(XW))"
      ],
      "execution_count": 0,
      "outputs": [
        {
          "output_type": "stream",
          "text": [
            "[[-0.46000004  0.08      ]]\n"
          ],
          "name": "stdout"
        }
      ]
    },
    {
      "metadata": {
        "id": "5scQMXZ-4rlP",
        "colab_type": "code",
        "outputId": "b7d9b62a-25bd-4feb-d494-de5f261378b3",
        "colab": {
          "base_uri": "https://localhost:8080/",
          "height": 34
        }
      },
      "cell_type": "code",
      "source": [
        "b=tf.Variable([[0.46,-0.08]])\n",
        "\n",
        "Sum = XW + b\n",
        "with tf.Session() as sess:\n",
        "  init = tf.global_variables_initializer()\n",
        "  sess.run(init)\n",
        "  print(sess.run(Sum))"
      ],
      "execution_count": 0,
      "outputs": [
        {
          "output_type": "stream",
          "text": [
            "[[-2.9802322e-08  0.0000000e+00]]\n"
          ],
          "name": "stdout"
        }
      ]
    },
    {
      "metadata": {
        "id": "kzKDx9Pm5dA_",
        "colab_type": "code",
        "colab": {}
      },
      "cell_type": "code",
      "source": [
        ""
      ],
      "execution_count": 0,
      "outputs": []
    }
  ]
}