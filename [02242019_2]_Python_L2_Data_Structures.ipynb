{
  "nbformat": 4,
  "nbformat_minor": 0,
  "metadata": {
    "colab": {
      "name": "[02242019-2] Python-L2 Data Structures.ipynb",
      "version": "0.3.2",
      "provenance": [],
      "collapsed_sections": [],
      "include_colab_link": true
    },
    "kernelspec": {
      "name": "python3",
      "display_name": "Python 3"
    }
  },
  "cells": [
    {
      "cell_type": "markdown",
      "metadata": {
        "id": "view-in-github",
        "colab_type": "text"
      },
      "source": [
        "<a href=\"https://colab.research.google.com/github/BingHung/AI/blob/master/%5B02242019_2%5D_Python_L2_Data_Structures.ipynb\" target=\"_parent\"><img src=\"https://colab.research.google.com/assets/colab-badge.svg\" alt=\"Open In Colab\"/></a>"
      ]
    },
    {
      "metadata": {
        "id": "Rr9KXV_wHII2",
        "colab_type": "text"
      },
      "cell_type": "markdown",
      "source": [
        "## Data Structures\n",
        "\n",
        "Data structures are a way of organizing and storing data so that they can be accessed and worked with efficiently.  <br /> \n",
        "They define the relationship between the data, and the operations that can be performed on the data.  <br /> \n",
        "\n",
        "### Numbers\n",
        "\n",
        "Python supports integers, floating point numbers and complex numbers. <br /> \n",
        "They are defined as int, float and complex class in Python. <br /> \n",
        "\n",
        "###  Lists\n",
        "\n",
        "Lists are the most commonly used data structure.  <br /> \n",
        "Think of it as a sequence of data that is enclosed in square brackets and data are separated by a comma.  <br /> \n",
        "Each of these data can be accessed by calling it's index value.  <br /> \n",
        "A list is created by placing all the items (elements) inside a square bracket [ ], separated by commas.  <br /> \n",
        "\n",
        "\n",
        "*   list index \n",
        " *  We can use the index operator [ ] to access an item in a list. Index starts from 0. So, a list having 5 elements will have index from 0 to 4.\n",
        "*   Negative indexing\n",
        " * Python allows negative indexing for its sequences. The index of -1 refers to the last item, -2 to the second last item and so on.\n",
        "*  Slicing\n",
        " * Slicing is done by defining the index values of the first element and the last element from the parent list that is required in the sliced list.\n",
        "It is written as parentlist[ a : b ] where a, b are the index values from the parent list.\n",
        "* Built-in List Methods\n",
        " * Python includes the following list functions −\n",
        "More methods https://www.programiz.com/python-programming/methods/list\n",
        "\n",
        "### Tuples\n",
        "\n",
        "A tuple is similar to a list.   <br /> \n",
        "The difference between the two is that we cannot change the elements of a tuple once it is assigned whereas in a list, elements can be changed.  <br /> \n",
        "A tuple is created by placing all the items (elements) inside a parentheses ( ), separated by comma.  <br /> \n",
        "\n",
        "### Strings\n",
        "\n",
        "A string is a sequence of characters. <br /> \n",
        "In Python, string is a sequence of Unicode character.   <br /> \n",
        "Unicode was introduced to include every character in all languages and bring uniformity in encoding.  <br /> \n",
        "You can learn more about Unicode from here.  <br /> \n",
        "\n",
        "###  Sets\n",
        "\n",
        "A set is an unordered collection of items. <br /> \n",
        "Every element is unique (no duplicates) and must be immutable (which cannot be changed). <br /> \n",
        "Sets can be used to perform mathematical set operations like union, intersection, symmetric difference etc. <br /> \n",
        "\n",
        "### Dictionary\n",
        "\n",
        "Python dictionary is an unordered collection of items. <br /> \n",
        "While other compound data types have only value as an element, a dictionary has a key: value pair. <br /> \n",
        "Each key is separated from its value by a colon (:), the items are separated by commas, and the whole thing is enclosed in curly braces. An empty dictionary  <br /> without any items is written with just two curly braces, like this: {}.<br /> \n",
        "More methods - https://www.programiz.com/python-programming/methods/dictionary"
      ]
    },
    {
      "metadata": {
        "id": "2i_5E4OkG7k3",
        "colab_type": "code",
        "colab": {
          "base_uri": "https://localhost:8080/",
          "height": 72
        },
        "outputId": "8a68b033-5fda-4cba-de22-1957a4dc102e"
      },
      "cell_type": "code",
      "source": [
        "# Output: <class 'int'>\n",
        "print(type(5))\n",
        "\n",
        "# Output: <class 'float'>\n",
        "print(type(5.0))\n",
        "\n",
        "# Output: <class 'complex'>\n",
        "c = 5 + 3j\n",
        "print(type(c))"
      ],
      "execution_count": 1,
      "outputs": [
        {
          "output_type": "stream",
          "text": [
            "<class 'int'>\n",
            "<class 'float'>\n",
            "<class 'complex'>\n"
          ],
          "name": "stdout"
        }
      ]
    },
    {
      "metadata": {
        "id": "O77XKJhJIA1z",
        "colab_type": "code",
        "colab": {}
      },
      "cell_type": "code",
      "source": [
        "# empty list\n",
        "my_list = []\n",
        "\n",
        "# list of integers\n",
        "my_list = [1, 2, 3]\n",
        "\n",
        "# list with mixed datatypes\n",
        "my_list = [1, \"Hello\", 2.3]\n",
        "\n",
        "# nested list\n",
        "my_list = [\"mouse\", [8, 4, 6]]"
      ],
      "execution_count": 0,
      "outputs": []
    },
    {
      "metadata": {
        "id": "IsXMD4TsIFko",
        "colab_type": "code",
        "colab": {
          "base_uri": "https://localhost:8080/",
          "height": 72
        },
        "outputId": "6e1a853d-2019-454b-84d1-a8d0f15087e5"
      },
      "cell_type": "code",
      "source": [
        "my_list = ['h','e','l','l','o']\n",
        "# Output: h\n",
        "print(my_list[0])\n",
        "\n",
        "# Output: e\n",
        "print(my_list[1])\n",
        "\n",
        "# Error! Only integer can be used for indexing\n",
        "# my_list[5.0]\n",
        "\n",
        "# Nested List\n",
        "n_list = [\"Happy\", [2,0,1,8]]\n",
        "\n",
        "# Output: 8\n",
        "print(n_list[1][3])"
      ],
      "execution_count": 3,
      "outputs": [
        {
          "output_type": "stream",
          "text": [
            "h\n",
            "e\n",
            "8\n"
          ],
          "name": "stdout"
        }
      ]
    },
    {
      "metadata": {
        "id": "bznh5wvqIJOg",
        "colab_type": "code",
        "colab": {
          "base_uri": "https://localhost:8080/",
          "height": 54
        },
        "outputId": "e4403869-54da-418f-d835-c5256099111a"
      },
      "cell_type": "code",
      "source": [
        "my_list = ['p','r','o','b','e']\n",
        "\n",
        "# Output: e\n",
        "print(my_list[-1])\n",
        "\n",
        "# Output: p\n",
        "print(my_list[-5])"
      ],
      "execution_count": 4,
      "outputs": [
        {
          "output_type": "stream",
          "text": [
            "e\n",
            "p\n"
          ],
          "name": "stdout"
        }
      ]
    },
    {
      "metadata": {
        "id": "95S6qt7fILtA",
        "colab_type": "code",
        "colab": {
          "base_uri": "https://localhost:8080/",
          "height": 108
        },
        "outputId": "9e2c1743-f3e4-42a4-f618-da44aa730be7"
      },
      "cell_type": "code",
      "source": [
        "my_list = [0, 1, 2, 3, 4, 5, 6, 7, 8]\n",
        "# elements 3rd to 5th\n",
        "print(my_list[2:5])\n",
        "\n",
        "# elements beginning to 4th\n",
        "print(my_list[:-5])\n",
        "\n",
        "# elements 6th to end\n",
        "print(my_list[5:])\n",
        "\n",
        "# elements beginning to end\n",
        "print(my_list[:])\n",
        "\n",
        "# slice a parent list with a fixed length or step length.\n",
        "print(my_list[::3])"
      ],
      "execution_count": 5,
      "outputs": [
        {
          "output_type": "stream",
          "text": [
            "[2, 3, 4]\n",
            "[0, 1, 2, 3]\n",
            "[5, 6, 7, 8]\n",
            "[0, 1, 2, 3, 4, 5, 6, 7, 8]\n",
            "[0, 3, 6]\n"
          ],
          "name": "stdout"
        }
      ]
    },
    {
      "metadata": {
        "id": "aaq-Z4YfINig",
        "colab_type": "code",
        "colab": {
          "base_uri": "https://localhost:8080/",
          "height": 54
        },
        "outputId": "0af5ad8a-76f9-4e42-9d58-342e1a278ef3"
      },
      "cell_type": "code",
      "source": [
        "num_list = [0, 0, 1, 2, 3, 4, 5, 6, 7, 8]\n",
        "\n",
        "# append() is used to add an element at the end of the list.\n",
        "num_list.append(9)\n",
        "\n",
        "# remove() takes a single element as an argument and removes it from the list.\n",
        "num_list.remove(9)\n",
        "\n",
        "# index() is used to find the index value of a particular element. \n",
        "num_list.index(5)\n",
        "\n",
        "# pop() takes a single argument (index) and removes the element present at that index from the list.\n",
        "result = num_list.pop(7)\n",
        "print(result)\n",
        "print(num_list)"
      ],
      "execution_count": 6,
      "outputs": [
        {
          "output_type": "stream",
          "text": [
            "6\n",
            "[0, 0, 1, 2, 3, 4, 5, 7, 8]\n"
          ],
          "name": "stdout"
        }
      ]
    },
    {
      "metadata": {
        "id": "faKJYX0dIPnn",
        "colab_type": "code",
        "colab": {
          "base_uri": "https://localhost:8080/",
          "height": 54
        },
        "outputId": "f0fae48a-8c47-465c-adc2-e7aa2f128185"
      },
      "cell_type": "code",
      "source": [
        "# empty tuple\n",
        "# Output: ()\n",
        "my_tuple = ()\n",
        "print(my_tuple)\n",
        "\n",
        "# tuple having integers\n",
        "# Output: (1, 2, 3)\n",
        "my_tuple = (1, 2, 3)\n",
        "print(my_tuple)"
      ],
      "execution_count": 7,
      "outputs": [
        {
          "output_type": "stream",
          "text": [
            "()\n",
            "(1, 2, 3)\n"
          ],
          "name": "stdout"
        }
      ]
    },
    {
      "metadata": {
        "id": "MDaPxooKI3BX",
        "colab_type": "code",
        "colab": {
          "base_uri": "https://localhost:8080/",
          "height": 54
        },
        "outputId": "7a9cb670-de70-41f0-8aa9-5c22d36c1c6b"
      },
      "cell_type": "code",
      "source": [
        "# all of the following are equivalent\n",
        "my_string = 'Hello'\n",
        "print(my_string)\n",
        "\n",
        "my_string = \"Hello\"\n",
        "print(my_string)"
      ],
      "execution_count": 8,
      "outputs": [
        {
          "output_type": "stream",
          "text": [
            "Hello\n",
            "Hello\n"
          ],
          "name": "stdout"
        }
      ]
    },
    {
      "metadata": {
        "id": "f-kAJ_OKI5K-",
        "colab_type": "code",
        "colab": {
          "base_uri": "https://localhost:8080/",
          "height": 90
        },
        "outputId": "ee2b4544-c4d4-445c-ac24-54771ff48001"
      },
      "cell_type": "code",
      "source": [
        "my_str = 'Hello World!'\n",
        "print('my_str = ', my_str)\n",
        "\n",
        "# first character\n",
        "print('my_str[0] = ', my_str[0])\n",
        "\n",
        "# last character\n",
        "print('my_str[-1] = ', my_str[-1])\n",
        "\n",
        "# slicing 3nd to 5th character\n",
        "print('my_str[2:5] = ', my_str[2:5])"
      ],
      "execution_count": 9,
      "outputs": [
        {
          "output_type": "stream",
          "text": [
            "my_str =  Hello World!\n",
            "my_str[0] =  H\n",
            "my_str[-1] =  !\n",
            "my_str[2:5] =  llo\n"
          ],
          "name": "stdout"
        }
      ]
    },
    {
      "metadata": {
        "id": "lm7XBneFI6j3",
        "colab_type": "code",
        "colab": {
          "base_uri": "https://localhost:8080/",
          "height": 54
        },
        "outputId": "127048a2-284e-46e5-9b27-f19bcf22c0b6"
      },
      "cell_type": "code",
      "source": [
        "str1 = 'Hello'\n",
        "str2 = 'World!'\n",
        "\n",
        "# using +\n",
        "print('str1 + str2 = ', str1 + str2)\n",
        "\n",
        "# using *\n",
        "print('str1 * 3 =', str1 * 3)"
      ],
      "execution_count": 10,
      "outputs": [
        {
          "output_type": "stream",
          "text": [
            "str1 + str2 =  HelloWorld!\n",
            "str1 * 3 = HelloHelloHello\n"
          ],
          "name": "stdout"
        }
      ]
    },
    {
      "metadata": {
        "id": "oZWuJZH9I8M_",
        "colab_type": "code",
        "colab": {
          "base_uri": "https://localhost:8080/",
          "height": 126
        },
        "outputId": "e9db8f95-821d-47ef-8dbc-38207f15dadf"
      },
      "cell_type": "code",
      "source": [
        "my_string = \"hello world\"\n",
        "\n",
        "# Output: 0\n",
        "print(my_string.find(\"he\"))\n",
        "\n",
        "# Output: Hello world\n",
        "print(my_string.capitalize())\n",
        "\n",
        "# Output: HELLO WORLD\n",
        "print(my_string.upper())\n",
        "\n",
        "# Output: True\n",
        "print(my_string.endswith(\"d\"))\n",
        "\n",
        "# Output: ['hello', 'world']\n",
        "print(my_string.split(\" \"))\n",
        "\n",
        "# Output: Nihao word\n",
        "print(my_string.replace(\"hello\", \"Nihao\"))"
      ],
      "execution_count": 11,
      "outputs": [
        {
          "output_type": "stream",
          "text": [
            "0\n",
            "Hello world\n",
            "HELLO WORLD\n",
            "True\n",
            "['hello', 'world']\n",
            "Nihao world\n"
          ],
          "name": "stdout"
        }
      ]
    },
    {
      "metadata": {
        "id": "CW0XkIK6JAnu",
        "colab_type": "code",
        "colab": {
          "base_uri": "https://localhost:8080/",
          "height": 54
        },
        "outputId": "d5886091-ad89-4962-fe2b-6e851e03ff92"
      },
      "cell_type": "code",
      "source": [
        "# set of integers\n",
        "my_set = {1, 2, 3}\n",
        "print(my_set)\n",
        "\n",
        "# set of mixed datatypes\n",
        "my_set = {1.0, \"Hello\", (1, 2, 3)}\n",
        "print(my_set)"
      ],
      "execution_count": 12,
      "outputs": [
        {
          "output_type": "stream",
          "text": [
            "{1, 2, 3}\n",
            "{1.0, 'Hello', (1, 2, 3)}\n"
          ],
          "name": "stdout"
        }
      ]
    },
    {
      "metadata": {
        "id": "ZqUE9aaeJCcG",
        "colab_type": "code",
        "colab": {
          "base_uri": "https://localhost:8080/",
          "height": 72
        },
        "outputId": "795ea8d2-cc9e-470d-ae12-16c70b3d8d3e"
      },
      "cell_type": "code",
      "source": [
        "# mathematical set operations\n",
        "\n",
        "set_1 = set(['s', 'p', 'a','m'])\n",
        "set_2 = set(['h','a','m'])  \n",
        "  \n",
        "# union  \n",
        "print(set_1 | set_2)\n",
        "    \n",
        "# intersection  \n",
        "print(set_1 & set_2)\n",
        "  \n",
        "# symmetric difference  \n",
        "print(set_1 - set_2)"
      ],
      "execution_count": 13,
      "outputs": [
        {
          "output_type": "stream",
          "text": [
            "{'s', 'p', 'm', 'a', 'h'}\n",
            "{'a', 'm'}\n",
            "{'s', 'p'}\n"
          ],
          "name": "stdout"
        }
      ]
    },
    {
      "metadata": {
        "id": "a_UZ3VisJErf",
        "colab_type": "code",
        "colab": {}
      },
      "cell_type": "code",
      "source": [
        "# empty dictionary\n",
        "my_dict = {}\n",
        "\n",
        "# dictionary with integer keys\n",
        "my_dict = {1: 'a', 2: 'b'}\n",
        "\n",
        "# dictionary with mixed keys\n",
        "my_dict = {'name': 'Tom', 1: 23}"
      ],
      "execution_count": 0,
      "outputs": []
    },
    {
      "metadata": {
        "id": "yeLRVfxBJGpX",
        "colab_type": "code",
        "colab": {
          "base_uri": "https://localhost:8080/",
          "height": 72
        },
        "outputId": "15be1ebb-96ce-4fd8-e3d9-48ea33a260ac"
      },
      "cell_type": "code",
      "source": [
        "# Another define a dictionary - dict()\n",
        "my_dict = dict()\n",
        "\n",
        "# add elements\n",
        "my_dict['One'] = '1'\n",
        "my_dict['OneTwo'] = 12\n",
        "print (my_dict)\n",
        "\n",
        "# update value\n",
        "my_dict['One'] = 111\n",
        "print (my_dict)\n",
        "\n",
        "# Merge two lists to a dictionary.\n",
        "names = ['One', 'Two', 'Three', 'Four', 'Five']\n",
        "numbers = [1, 2, 3, 4, 5]\n",
        "merged_dict = dict(zip(names, numbers))\n",
        "print(merged_dict)"
      ],
      "execution_count": 15,
      "outputs": [
        {
          "output_type": "stream",
          "text": [
            "{'One': '1', 'OneTwo': 12}\n",
            "{'One': 111, 'OneTwo': 12}\n",
            "{'One': 1, 'Two': 2, 'Three': 3, 'Four': 4, 'Five': 5}\n"
          ],
          "name": "stdout"
        }
      ]
    },
    {
      "metadata": {
        "id": "onXrzWaVJIMG",
        "colab_type": "code",
        "colab": {
          "base_uri": "https://localhost:8080/",
          "height": 108
        },
        "outputId": "386476ac-f92a-4a55-9e59-b06240baf0dd"
      },
      "cell_type": "code",
      "source": [
        "my_dict = {'name':'Jack', 'age': 16, 'gender':'man'}\n",
        "\n",
        "# remove a particular item\n",
        "print(my_dict.pop('gender'))\n",
        "print(my_dict)\n",
        "\n",
        "# Returns view of dictionary's (key, value) pair\n",
        "print(my_dict.items())\n",
        "\n",
        "# Return a new view of the dictionary's keys.\n",
        "print(my_dict.keys())\n",
        "\n",
        "# remove all items\n",
        "my_dict.clear()\n",
        "print(my_dict)"
      ],
      "execution_count": 16,
      "outputs": [
        {
          "output_type": "stream",
          "text": [
            "man\n",
            "{'name': 'Jack', 'age': 16}\n",
            "dict_items([('name', 'Jack'), ('age', 16)])\n",
            "dict_keys(['name', 'age'])\n",
            "{}\n"
          ],
          "name": "stdout"
        }
      ]
    },
    {
      "metadata": {
        "id": "l1vTIk7fJOmU",
        "colab_type": "text"
      },
      "cell_type": "markdown",
      "source": [
        "## Practice"
      ]
    },
    {
      "metadata": {
        "id": "PQbYdXJLJSgb",
        "colab_type": "text"
      },
      "cell_type": "markdown",
      "source": [
        "Q1. 給定一個 a_list = [3, 7, 6, 2, 9, 4, 1]，請列印出下列結果：  \n",
        "    (1) 第2個元素  \n",
        "    (2) 最後一個元素  \n",
        "    (3) 第3到第5個元素的列表"
      ]
    },
    {
      "metadata": {
        "id": "SMT88vz7JKp_",
        "colab_type": "code",
        "colab": {
          "base_uri": "https://localhost:8080/",
          "height": 72
        },
        "outputId": "0ef32272-90df-4f34-98b5-33ed837bd083"
      },
      "cell_type": "code",
      "source": [
        "a_list = [3, 7, 6, 2, 9, 4, 1]\n",
        "print('second element in a_list :',a_list[1])\n",
        "print('last element in a_list :',a_list[-1])\n",
        "print('the third to fifth element in a_list :',a_list[2:5])"
      ],
      "execution_count": 19,
      "outputs": [
        {
          "output_type": "stream",
          "text": [
            "second element in a_list : 7\n",
            "last element in a_list : 1\n",
            "the third to fifth element in a_list : [6, 2, 9]\n"
          ],
          "name": "stdout"
        }
      ]
    },
    {
      "metadata": {
        "id": "mbCaEbjGJUbr",
        "colab_type": "text"
      },
      "cell_type": "markdown",
      "source": [
        "Q2. \n",
        "\n",
        "| 編號 | 姓名|\n",
        "|---|---|\n",
        "|s1|John|\n",
        "|s2|Tom|\n",
        "|s3|Lisa|\n",
        "\n",
        "(1) 將上述表格資料，存成 Dictionary 的資料結構。 (key = 編號， value = 姓名)  \n",
        "(2) 列印出該 key 為 s2 的 value 的值  \n",
        "(3) 添加人員 編號 s4, 姓名 Mana\n",
        "(4) 刪除人員 John"
      ]
    },
    {
      "metadata": {
        "id": "iZeBito0JV9-",
        "colab_type": "code",
        "colab": {
          "base_uri": "https://localhost:8080/",
          "height": 54
        },
        "outputId": "dca539f4-e484-45d0-e633-6097e3ad306a"
      },
      "cell_type": "code",
      "source": [
        "Dic = {\"s1\":\"John\", \"s2\":\"Tom\", \"s3\":\"Lisa\"}\n",
        "print(Dic[\"s2\"])\n",
        "Dic[\"s4\"]='Mana'\n",
        "Dic.pop('s1')\n",
        "print(Dic)"
      ],
      "execution_count": 20,
      "outputs": [
        {
          "output_type": "stream",
          "text": [
            "Tom\n",
            "{'s2': 'Tom', 's3': 'Lisa', 's4': 'Mana'}\n"
          ],
          "name": "stdout"
        }
      ]
    },
    {
      "metadata": {
        "id": "WTYbIeLFKUy-",
        "colab_type": "code",
        "colab": {}
      },
      "cell_type": "code",
      "source": [
        ""
      ],
      "execution_count": 0,
      "outputs": []
    }
  ]
}