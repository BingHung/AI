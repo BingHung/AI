{
  "nbformat": 4,
  "nbformat_minor": 0,
  "metadata": {
    "colab": {
      "name": "[20190204-1] PyTorch Get Start .ipynb",
      "version": "0.3.2",
      "provenance": [],
      "collapsed_sections": [],
      "toc_visible": true,
      "include_colab_link": true
    },
    "kernelspec": {
      "name": "python3",
      "display_name": "Python 3"
    },
    "accelerator": "GPU"
  },
  "cells": [
    {
      "cell_type": "markdown",
      "metadata": {
        "id": "view-in-github",
        "colab_type": "text"
      },
      "source": [
        "<a href=\"https://colab.research.google.com/github/BingHung/AI/blob/master/%5B20190204_1%5D_PyTorch_Get_Start_.ipynb\" target=\"_parent\"><img src=\"https://colab.research.google.com/assets/colab-badge.svg\" alt=\"Open In Colab\"/></a>"
      ]
    },
    {
      "metadata": {
        "id": "pQOXl2_UfKiY",
        "colab_type": "text"
      },
      "cell_type": "markdown",
      "source": [
        "##  Ptorch Tutorial Github\n",
        "* https://github.com/chenyuntc/pytorch-book/blob/master/chapter2-%E5%BF%AB%E9%80%9F%E5%85%A5%E9%97%A8/chapter2:%20PyTorch%E5%BF%AB%E9%80%9F%E5%85%A5%E9%97%A8.ipynb\n",
        "\n",
        "## Pytorch Official\n",
        "* https://pytorch.org/get-started/locally/"
      ]
    },
    {
      "metadata": {
        "id": "Ap9Mtsr4fhmh",
        "colab_type": "code",
        "colab": {}
      },
      "cell_type": "code",
      "source": [
        "from __future__ import print_function\n",
        "import torch as t"
      ],
      "execution_count": 0,
      "outputs": []
    },
    {
      "metadata": {
        "id": "KClD2R_HgArf",
        "colab_type": "code",
        "colab": {}
      },
      "cell_type": "code",
      "source": [
        "import torchvision as tv\n",
        "import torchvision.transforms as transforms\n",
        "from torchvision.transforms import ToPILImage\n",
        "show = ToPILImage() # 可以把Tensor转成Image，方便可视化"
      ],
      "execution_count": 0,
      "outputs": []
    },
    {
      "metadata": {
        "id": "O0byvT0QgCSu",
        "colab_type": "code",
        "colab": {
          "base_uri": "https://localhost:8080/",
          "height": 51
        },
        "outputId": "ff67378c-5d2c-411e-847e-51cc501e0fd0"
      },
      "cell_type": "code",
      "source": [
        "# 第一次运行程序torchvision会自动下载CIFAR-10数据集，\n",
        "# 大约100M，需花费一定的时间，\n",
        "# 如果已经下载有CIFAR-10，可通过root参数指定\n",
        "\n",
        "# 定义对数据的预处理\n",
        "transform = transforms.Compose([\n",
        "        transforms.ToTensor(), # 转为Tensor\n",
        "        transforms.Normalize((0.5, 0.5, 0.5), (0.5, 0.5, 0.5)), # 归一化\n",
        "                             ])\n",
        "\n",
        "# 训练集\n",
        "trainset = tv.datasets.CIFAR10(\n",
        "                    root='/home/cy/tmp/data/', \n",
        "                    train=True, \n",
        "                    download=True,\n",
        "                    transform=transform)\n",
        "\n",
        "trainloader = t.utils.data.DataLoader(\n",
        "                    trainset, \n",
        "                    batch_size=4,\n",
        "                    shuffle=True, \n",
        "                    num_workers=2)\n",
        "\n",
        "# 测试集\n",
        "testset = tv.datasets.CIFAR10(\n",
        "                    '/home/cy/tmp/data/',\n",
        "                    train=False, \n",
        "                    download=True, \n",
        "                    transform=transform)\n",
        "\n",
        "testloader = t.utils.data.DataLoader(\n",
        "                    testset,\n",
        "                    batch_size=4, \n",
        "                    shuffle=False,\n",
        "                    num_workers=2)\n",
        "\n",
        "classes = ('plane', 'car', 'bird', 'cat',\n",
        "           'deer', 'dog', 'frog', 'horse', 'ship', 'truck')"
      ],
      "execution_count": 10,
      "outputs": [
        {
          "output_type": "stream",
          "text": [
            "Downloading https://www.cs.toronto.edu/~kriz/cifar-10-python.tar.gz to /home/cy/tmp/data/cifar-10-python.tar.gz\n",
            "Files already downloaded and verified\n"
          ],
          "name": "stdout"
        }
      ]
    },
    {
      "metadata": {
        "id": "u6IzV9jDgEVH",
        "colab_type": "code",
        "colab": {
          "base_uri": "https://localhost:8080/",
          "height": 134
        },
        "outputId": "cc6bb8eb-f38b-4086-c564-97a31d3d704f"
      },
      "cell_type": "code",
      "source": [
        "(data, label) = trainset[100]\n",
        "print(classes[label])\n",
        "\n",
        "# (data + 1) / 2是为了还原被归一化的数据\n",
        "show((data + 1) / 2).resize((100, 100))"
      ],
      "execution_count": 11,
      "outputs": [
        {
          "output_type": "stream",
          "text": [
            "ship\n"
          ],
          "name": "stdout"
        },
        {
          "output_type": "execute_result",
          "data": {
            "image/png": "[encoded data removed]",
            "text/plain": [
              "<PIL.Image.Image image mode=RGB size=100x100 at 0x7FAC228F2B38>"
            ]
          },
          "metadata": {
            "tags": []
          },
          "execution_count": 11
        }
      ]
    },
    {
      "metadata": {
        "id": "CluZdAE6gXXi",
        "colab_type": "code",
        "colab": {
          "base_uri": "https://localhost:8080/",
          "height": 134
        },
        "outputId": "028688aa-9c18-41cc-fcd0-24c0671cc08f"
      },
      "cell_type": "code",
      "source": [
        "\n",
        "dataiter = iter(trainloader)\n",
        "images, labels = dataiter.next() # 返回4张图片及标签\n",
        "print(' '.join('%11s'%classes[labels[j]] for j in range(4)))\n",
        "show(tv.utils.make_grid((images+1)/2)).resize((400,100))"
      ],
      "execution_count": 12,
      "outputs": [
        {
          "output_type": "stream",
          "text": [
            "       ship        deer         cat       truck\n"
          ],
          "name": "stdout"
        },
        {
          "output_type": "execute_result",
          "data": {
            "image/png": "[encoded data removed]",
            "text/plain": [
              "<PIL.Image.Image image mode=RGB size=400x100 at 0x7FABB705B780>"
            ]
          },
          "metadata": {
            "tags": []
          },
          "execution_count": 12
        }
      ]
    },
    {
      "metadata": {
        "id": "AnIde99EgaGd",
        "colab_type": "code",
        "colab": {
          "base_uri": "https://localhost:8080/",
          "height": 136
        },
        "outputId": "edc344b1-63b8-4ade-caa2-570a7dcebe7a"
      },
      "cell_type": "code",
      "source": [
        "import torch.nn as nn\n",
        "import torch.nn.functional as F\n",
        "\n",
        "class Net(nn.Module):\n",
        "    def __init__(self):\n",
        "        super(Net, self).__init__()\n",
        "        self.conv1 = nn.Conv2d(3, 6, 5) \n",
        "        self.conv2 = nn.Conv2d(6, 16, 5)  \n",
        "        self.fc1   = nn.Linear(16*5*5, 120)  \n",
        "        self.fc2   = nn.Linear(120, 84)\n",
        "        self.fc3   = nn.Linear(84, 10)\n",
        "\n",
        "    def forward(self, x): \n",
        "        x = F.max_pool2d(F.relu(self.conv1(x)), (2, 2)) \n",
        "        x = F.max_pool2d(F.relu(self.conv2(x)), 2) \n",
        "        x = x.view(x.size()[0], -1) \n",
        "        x = F.relu(self.fc1(x))\n",
        "        x = F.relu(self.fc2(x))\n",
        "        x = self.fc3(x)        \n",
        "        return x\n",
        "\n",
        "\n",
        "net = Net()\n",
        "print(net)"
      ],
      "execution_count": 13,
      "outputs": [
        {
          "output_type": "stream",
          "text": [
            "Net(\n",
            "  (conv1): Conv2d(3, 6, kernel_size=(5, 5), stride=(1, 1))\n",
            "  (conv2): Conv2d(6, 16, kernel_size=(5, 5), stride=(1, 1))\n",
            "  (fc1): Linear(in_features=400, out_features=120, bias=True)\n",
            "  (fc2): Linear(in_features=120, out_features=84, bias=True)\n",
            "  (fc3): Linear(in_features=84, out_features=10, bias=True)\n",
            ")\n"
          ],
          "name": "stdout"
        }
      ]
    },
    {
      "metadata": {
        "id": "-Oc7Lc2AgcoG",
        "colab_type": "code",
        "colab": {}
      },
      "cell_type": "code",
      "source": [
        "from torch import optim\n",
        "criterion = nn.CrossEntropyLoss() # 交叉熵损失函数\n",
        "optimizer = optim.SGD(net.parameters(), lr=0.001, momentum=0.9)"
      ],
      "execution_count": 0,
      "outputs": []
    },
    {
      "metadata": {
        "id": "_7gVFoGBgeX2",
        "colab_type": "code",
        "colab": {
          "base_uri": "https://localhost:8080/",
          "height": 238
        },
        "outputId": "2af06001-eb22-4ec7-d8f0-8424265ae130"
      },
      "cell_type": "code",
      "source": [
        "t.set_num_threads(8)\n",
        "for epoch in range(2):  \n",
        "    \n",
        "    running_loss = 0.0\n",
        "    for i, data in enumerate(trainloader, 0):\n",
        "        \n",
        "        # 输入数据\n",
        "        inputs, labels = data\n",
        "        \n",
        "        # 梯度清零\n",
        "        optimizer.zero_grad()\n",
        "        \n",
        "        # forward + backward \n",
        "        outputs = net(inputs)\n",
        "        loss = criterion(outputs, labels)\n",
        "        loss.backward()   \n",
        "        \n",
        "        # 更新参数 \n",
        "        optimizer.step()\n",
        "        \n",
        "        # 打印log信息\n",
        "        # loss 是一个scalar,需要使用loss.item()来获取数值，不能使用loss[0]\n",
        "        running_loss += loss.item()\n",
        "        if i % 2000 == 1999: # 每2000个batch打印一下训练状态\n",
        "            print('[%d, %5d] loss: %.3f' \\\n",
        "                  % (epoch+1, i+1, running_loss / 2000))\n",
        "            running_loss = 0.0\n",
        "print('Finished Training')"
      ],
      "execution_count": 15,
      "outputs": [
        {
          "output_type": "stream",
          "text": [
            "[1,  2000] loss: 2.199\n",
            "[1,  4000] loss: 1.870\n",
            "[1,  6000] loss: 1.688\n",
            "[1,  8000] loss: 1.579\n",
            "[1, 10000] loss: 1.504\n",
            "[1, 12000] loss: 1.467\n",
            "[2,  2000] loss: 1.407\n",
            "[2,  4000] loss: 1.352\n",
            "[2,  6000] loss: 1.346\n",
            "[2,  8000] loss: 1.346\n",
            "[2, 10000] loss: 1.284\n",
            "[2, 12000] loss: 1.285\n",
            "Finished Training\n"
          ],
          "name": "stdout"
        }
      ]
    },
    {
      "metadata": {
        "id": "elPQ3_IIggO2",
        "colab_type": "code",
        "colab": {
          "base_uri": "https://localhost:8080/",
          "height": 134
        },
        "outputId": "b93db06f-dd7b-4740-cfc9-efb2d0d57066"
      },
      "cell_type": "code",
      "source": [
        "dataiter = iter(testloader)\n",
        "images, labels = dataiter.next() # 一个batch返回4张图片\n",
        "print('实际的label: ', ' '.join(\\\n",
        "            '%08s'%classes[labels[j]] for j in range(4)))\n",
        "show(tv.utils.make_grid(images / 2 - 0.5)).resize((400,100))"
      ],
      "execution_count": 16,
      "outputs": [
        {
          "output_type": "stream",
          "text": [
            "实际的label:       cat     ship     ship    plane\n"
          ],
          "name": "stdout"
        },
        {
          "output_type": "execute_result",
          "data": {
            "image/png": "[encoded data removed]",
            "text/plain": [
              "<PIL.Image.Image image mode=RGB size=400x100 at 0x7FABB6E85128>"
            ]
          },
          "metadata": {
            "tags": []
          },
          "execution_count": 16
        }
      ]
    },
    {
      "metadata": {
        "id": "d1qlOHzVjhsv",
        "colab_type": "code",
        "colab": {
          "base_uri": "https://localhost:8080/",
          "height": 34
        },
        "outputId": "386df4bb-2e9d-47f5-ee89-c72c494ccee0"
      },
      "cell_type": "code",
      "source": [
        "# 计算图片在每个类别上的分数\n",
        "outputs = net(images)\n",
        "# 得分最高的那个类\n",
        "_, predicted = t.max(outputs.data, 1)\n",
        "\n",
        "print('预测结果: ', ' '.join('%5s'\\\n",
        "            % classes[predicted[j]] for j in range(4)))"
      ],
      "execution_count": 17,
      "outputs": [
        {
          "output_type": "stream",
          "text": [
            "预测结果:    cat  ship  ship  ship\n"
          ],
          "name": "stdout"
        }
      ]
    },
    {
      "metadata": {
        "id": "VPAX--u4jnmZ",
        "colab_type": "code",
        "colab": {
          "base_uri": "https://localhost:8080/",
          "height": 34
        },
        "outputId": "232a5331-0180-4cca-963e-8751072d7519"
      },
      "cell_type": "code",
      "source": [
        "correct = 0 # 预测正确的图片数\n",
        "total = 0 # 总共的图片数\n",
        "\n",
        "\n",
        "# 由于测试的时候不需要求导，可以暂时关闭autograd，提高速度，节约内存\n",
        "with t.no_grad():\n",
        "    for data in testloader:\n",
        "        images, labels = data\n",
        "        outputs = net(images)\n",
        "        _, predicted = t.max(outputs, 1)\n",
        "        total += labels.size(0)\n",
        "        correct += (predicted == labels).sum()\n",
        "\n",
        "print('10000张测试集中的准确率为: %d %%' % (100 * correct / total))"
      ],
      "execution_count": 18,
      "outputs": [
        {
          "output_type": "stream",
          "text": [
            "10000张测试集中的准确率为: 55 %\n"
          ],
          "name": "stdout"
        }
      ]
    },
    {
      "metadata": {
        "id": "_eXtMKtZjsXn",
        "colab_type": "code",
        "colab": {}
      },
      "cell_type": "code",
      "source": [
        ""
      ],
      "execution_count": 0,
      "outputs": []
    }
  ]
}